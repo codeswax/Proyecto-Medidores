{
 "cells": [
  {
   "cell_type": "code",
   "execution_count": 1,
   "metadata": {
    "colab": {
     "base_uri": "https://localhost:8080/"
    },
    "collapsed": true,
    "id": "tcPTtOBPmy67",
    "outputId": "f28d10d4-0101-439e-c6fc-5b458330f19f"
   },
   "outputs": [
    {
     "name": "stdout",
     "output_type": "stream",
     "text": [
      "Defaulting to user installation because normal site-packages is not writeable\n",
      "Requirement already satisfied: opencv-python-headless in c:\\users\\hp\\appdata\\roaming\\python\\python312\\site-packages (4.10.0.84)\n",
      "Requirement already satisfied: numpy>=1.21.2 in c:\\users\\hp\\appdata\\roaming\\python\\python312\\site-packages (from opencv-python-headless) (1.26.4)\n",
      "Note: you may need to restart the kernel to use updated packages.\n"
     ]
    },
    {
     "name": "stderr",
     "output_type": "stream",
     "text": [
      "\n",
      "[notice] A new release of pip is available: 24.2 -> 24.3.1\n",
      "[notice] To update, run: python.exe -m pip install --upgrade pip\n"
     ]
    },
    {
     "name": "stdout",
     "output_type": "stream",
     "text": [
      "Defaulting to user installation because normal site-packages is not writeableNote: you may need to restart the kernel to use updated packages.\n",
      "\n",
      "Requirement already satisfied: pillow in c:\\users\\hp\\appdata\\roaming\\python\\python312\\site-packages (11.0.0)\n"
     ]
    },
    {
     "name": "stderr",
     "output_type": "stream",
     "text": [
      "\n",
      "[notice] A new release of pip is available: 24.2 -> 24.3.1\n",
      "[notice] To update, run: python.exe -m pip install --upgrade pip\n"
     ]
    },
    {
     "name": "stdout",
     "output_type": "stream",
     "text": [
      "Defaulting to user installation because normal site-packages is not writeable\n",
      "Requirement already satisfied: ultralytics in c:\\users\\hp\\appdata\\roaming\\python\\python312\\site-packages (8.3.47)\n",
      "Requirement already satisfied: numpy>=1.23.0 in c:\\users\\hp\\appdata\\roaming\\python\\python312\\site-packages (from ultralytics) (1.26.4)\n",
      "Requirement already satisfied: matplotlib>=3.3.0 in c:\\users\\hp\\appdata\\roaming\\python\\python312\\site-packages (from ultralytics) (3.9.3)\n",
      "Requirement already satisfied: opencv-python>=4.6.0 in c:\\users\\hp\\appdata\\roaming\\python\\python312\\site-packages (from ultralytics) (4.10.0.84)\n",
      "Requirement already satisfied: pillow>=7.1.2 in c:\\users\\hp\\appdata\\roaming\\python\\python312\\site-packages (from ultralytics) (11.0.0)\n",
      "Requirement already satisfied: pyyaml>=5.3.1 in c:\\users\\hp\\appdata\\roaming\\python\\python312\\site-packages (from ultralytics) (6.0.2)\n",
      "Requirement already satisfied: requests>=2.23.0 in c:\\users\\hp\\appdata\\roaming\\python\\python312\\site-packages (from ultralytics) (2.32.3)\n",
      "Requirement already satisfied: scipy>=1.4.1 in c:\\users\\hp\\appdata\\roaming\\python\\python312\\site-packages (from ultralytics) (1.14.1)\n",
      "Requirement already satisfied: torch>=1.8.0 in c:\\users\\hp\\appdata\\roaming\\python\\python312\\site-packages (from ultralytics) (2.5.1)\n",
      "Requirement already satisfied: torchvision>=0.9.0 in c:\\users\\hp\\appdata\\roaming\\python\\python312\\site-packages (from ultralytics) (0.20.1)\n",
      "Requirement already satisfied: tqdm>=4.64.0 in c:\\users\\hp\\appdata\\roaming\\python\\python312\\site-packages (from ultralytics) (4.67.1)\n",
      "Requirement already satisfied: psutil in c:\\users\\hp\\appdata\\roaming\\python\\python312\\site-packages (from ultralytics) (6.1.0)\n",
      "Requirement already satisfied: py-cpuinfo in c:\\users\\hp\\appdata\\roaming\\python\\python312\\site-packages (from ultralytics) (9.0.0)\n",
      "Requirement already satisfied: pandas>=1.1.4 in c:\\users\\hp\\appdata\\roaming\\python\\python312\\site-packages (from ultralytics) (2.2.3)\n",
      "Requirement already satisfied: seaborn>=0.11.0 in c:\\users\\hp\\appdata\\roaming\\python\\python312\\site-packages (from ultralytics) (0.13.2)\n",
      "Requirement already satisfied: ultralytics-thop>=2.0.0 in c:\\users\\hp\\appdata\\roaming\\python\\python312\\site-packages (from ultralytics) (2.0.13)\n",
      "Requirement already satisfied: contourpy>=1.0.1 in c:\\users\\hp\\appdata\\roaming\\python\\python312\\site-packages (from matplotlib>=3.3.0->ultralytics) (1.3.1)\n",
      "Requirement already satisfied: cycler>=0.10 in c:\\users\\hp\\appdata\\roaming\\python\\python312\\site-packages (from matplotlib>=3.3.0->ultralytics) (0.12.1)\n",
      "Requirement already satisfied: fonttools>=4.22.0 in c:\\users\\hp\\appdata\\roaming\\python\\python312\\site-packages (from matplotlib>=3.3.0->ultralytics) (4.55.2)\n",
      "Requirement already satisfied: kiwisolver>=1.3.1 in c:\\users\\hp\\appdata\\roaming\\python\\python312\\site-packages (from matplotlib>=3.3.0->ultralytics) (1.4.7)\n",
      "Requirement already satisfied: packaging>=20.0 in c:\\users\\hp\\appdata\\roaming\\python\\python312\\site-packages (from matplotlib>=3.3.0->ultralytics) (24.2)\n",
      "Requirement already satisfied: pyparsing>=2.3.1 in c:\\users\\hp\\appdata\\roaming\\python\\python312\\site-packages (from matplotlib>=3.3.0->ultralytics) (3.2.0)\n",
      "Requirement already satisfied: python-dateutil>=2.7 in c:\\users\\hp\\appdata\\roaming\\python\\python312\\site-packages (from matplotlib>=3.3.0->ultralytics) (2.9.0.post0)\n",
      "Requirement already satisfied: pytz>=2020.1 in c:\\users\\hp\\appdata\\roaming\\python\\python312\\site-packages (from pandas>=1.1.4->ultralytics) (2024.2)\n",
      "Requirement already satisfied: tzdata>=2022.7 in c:\\users\\hp\\appdata\\roaming\\python\\python312\\site-packages (from pandas>=1.1.4->ultralytics) (2024.2)\n",
      "Requirement already satisfied: charset-normalizer<4,>=2 in c:\\users\\hp\\appdata\\roaming\\python\\python312\\site-packages (from requests>=2.23.0->ultralytics) (3.4.0)\n",
      "Requirement already satisfied: idna<4,>=2.5 in c:\\users\\hp\\appdata\\roaming\\python\\python312\\site-packages (from requests>=2.23.0->ultralytics) (3.10)\n",
      "Requirement already satisfied: urllib3<3,>=1.21.1 in c:\\users\\hp\\appdata\\roaming\\python\\python312\\site-packages (from requests>=2.23.0->ultralytics) (2.2.3)\n",
      "Requirement already satisfied: certifi>=2017.4.17 in c:\\users\\hp\\appdata\\roaming\\python\\python312\\site-packages (from requests>=2.23.0->ultralytics) (2024.8.30)\n",
      "Requirement already satisfied: filelock in c:\\users\\hp\\appdata\\roaming\\python\\python312\\site-packages (from torch>=1.8.0->ultralytics) (3.16.1)\n",
      "Requirement already satisfied: typing-extensions>=4.8.0 in c:\\users\\hp\\appdata\\roaming\\python\\python312\\site-packages (from torch>=1.8.0->ultralytics) (4.12.2)\n",
      "Requirement already satisfied: networkx in c:\\users\\hp\\appdata\\roaming\\python\\python312\\site-packages (from torch>=1.8.0->ultralytics) (3.4.2)\n",
      "Requirement already satisfied: jinja2 in c:\\users\\hp\\appdata\\roaming\\python\\python312\\site-packages (from torch>=1.8.0->ultralytics) (3.1.4)\n",
      "Requirement already satisfied: fsspec in c:\\users\\hp\\appdata\\roaming\\python\\python312\\site-packages (from torch>=1.8.0->ultralytics) (2024.10.0)\n",
      "Requirement already satisfied: setuptools in c:\\users\\hp\\appdata\\roaming\\python\\python312\\site-packages (from torch>=1.8.0->ultralytics) (75.6.0)\n",
      "Requirement already satisfied: sympy==1.13.1 in c:\\users\\hp\\appdata\\roaming\\python\\python312\\site-packages (from torch>=1.8.0->ultralytics) (1.13.1)\n",
      "Requirement already satisfied: mpmath<1.4,>=1.1.0 in c:\\users\\hp\\appdata\\roaming\\python\\python312\\site-packages (from sympy==1.13.1->torch>=1.8.0->ultralytics) (1.3.0)\n",
      "Requirement already satisfied: colorama in c:\\users\\hp\\appdata\\roaming\\python\\python312\\site-packages (from tqdm>=4.64.0->ultralytics) (0.4.6)\n",
      "Requirement already satisfied: six>=1.5 in c:\\users\\hp\\appdata\\roaming\\python\\python312\\site-packages (from python-dateutil>=2.7->matplotlib>=3.3.0->ultralytics) (1.17.0)\n",
      "Requirement already satisfied: MarkupSafe>=2.0 in c:\\users\\hp\\appdata\\roaming\\python\\python312\\site-packages (from jinja2->torch>=1.8.0->ultralytics) (3.0.2)\n",
      "Note: you may need to restart the kernel to use updated packages.\n"
     ]
    },
    {
     "name": "stderr",
     "output_type": "stream",
     "text": [
      "\n",
      "[notice] A new release of pip is available: 24.2 -> 24.3.1\n",
      "[notice] To update, run: python.exe -m pip install --upgrade pip\n"
     ]
    },
    {
     "name": "stdout",
     "output_type": "stream",
     "text": [
      "Defaulting to user installation because normal site-packages is not writeable\n",
      "Requirement already satisfied: pandas in c:\\users\\hp\\appdata\\roaming\\python\\python312\\site-packages (2.2.3)\n",
      "Requirement already satisfied: numpy>=1.26.0 in c:\\users\\hp\\appdata\\roaming\\python\\python312\\site-packages (from pandas) (1.26.4)\n",
      "Requirement already satisfied: python-dateutil>=2.8.2 in c:\\users\\hp\\appdata\\roaming\\python\\python312\\site-packages (from pandas) (2.9.0.post0)\n",
      "Requirement already satisfied: pytz>=2020.1 in c:\\users\\hp\\appdata\\roaming\\python\\python312\\site-packages (from pandas) (2024.2)\n",
      "Requirement already satisfied: tzdata>=2022.7 in c:\\users\\hp\\appdata\\roaming\\python\\python312\\site-packages (from pandas) (2024.2)\n",
      "Requirement already satisfied: six>=1.5 in c:\\users\\hp\\appdata\\roaming\\python\\python312\\site-packages (from python-dateutil>=2.8.2->pandas) (1.17.0)\n",
      "Note: you may need to restart the kernel to use updated packages.\n"
     ]
    },
    {
     "name": "stderr",
     "output_type": "stream",
     "text": [
      "\n",
      "[notice] A new release of pip is available: 24.2 -> 24.3.1\n",
      "[notice] To update, run: python.exe -m pip install --upgrade pip\n"
     ]
    },
    {
     "name": "stdout",
     "output_type": "stream",
     "text": [
      "Defaulting to user installation because normal site-packages is not writeable\n",
      "Requirement already satisfied: matplotlib in c:\\users\\hp\\appdata\\roaming\\python\\python312\\site-packages (3.9.3)\n",
      "Requirement already satisfied: contourpy>=1.0.1 in c:\\users\\hp\\appdata\\roaming\\python\\python312\\site-packages (from matplotlib) (1.3.1)\n",
      "Requirement already satisfied: cycler>=0.10 in c:\\users\\hp\\appdata\\roaming\\python\\python312\\site-packages (from matplotlib) (0.12.1)\n",
      "Requirement already satisfied: fonttools>=4.22.0 in c:\\users\\hp\\appdata\\roaming\\python\\python312\\site-packages (from matplotlib) (4.55.2)\n",
      "Requirement already satisfied: kiwisolver>=1.3.1 in c:\\users\\hp\\appdata\\roaming\\python\\python312\\site-packages (from matplotlib) (1.4.7)\n",
      "Requirement already satisfied: numpy>=1.23 in c:\\users\\hp\\appdata\\roaming\\python\\python312\\site-packages (from matplotlib) (1.26.4)\n",
      "Requirement already satisfied: packaging>=20.0 in c:\\users\\hp\\appdata\\roaming\\python\\python312\\site-packages (from matplotlib) (24.2)\n",
      "Requirement already satisfied: pillow>=8 in c:\\users\\hp\\appdata\\roaming\\python\\python312\\site-packages (from matplotlib) (11.0.0)\n",
      "Requirement already satisfied: pyparsing>=2.3.1 in c:\\users\\hp\\appdata\\roaming\\python\\python312\\site-packages (from matplotlib) (3.2.0)\n",
      "Requirement already satisfied: python-dateutil>=2.7 in c:\\users\\hp\\appdata\\roaming\\python\\python312\\site-packages (from matplotlib) (2.9.0.post0)\n",
      "Requirement already satisfied: six>=1.5 in c:\\users\\hp\\appdata\\roaming\\python\\python312\\site-packages (from python-dateutil>=2.7->matplotlib) (1.17.0)\n",
      "Note: you may need to restart the kernel to use updated packages.\n"
     ]
    },
    {
     "name": "stderr",
     "output_type": "stream",
     "text": [
      "\n",
      "[notice] A new release of pip is available: 24.2 -> 24.3.1\n",
      "[notice] To update, run: python.exe -m pip install --upgrade pip\n"
     ]
    },
    {
     "name": "stdout",
     "output_type": "stream",
     "text": [
      "Defaulting to user installation because normal site-packages is not writeable\n",
      "Requirement already satisfied: numpy in c:\\users\\hp\\appdata\\roaming\\python\\python312\\site-packages (1.26.4)\n",
      "Note: you may need to restart the kernel to use updated packages.\n"
     ]
    },
    {
     "name": "stderr",
     "output_type": "stream",
     "text": [
      "\n",
      "[notice] A new release of pip is available: 24.2 -> 24.3.1\n",
      "[notice] To update, run: python.exe -m pip install --upgrade pip\n"
     ]
    },
    {
     "name": "stdout",
     "output_type": "stream",
     "text": [
      "Defaulting to user installation because normal site-packages is not writeable\n",
      "Requirement already satisfied: tensorflow in c:\\users\\hp\\appdata\\roaming\\python\\python312\\site-packages (2.18.0)\n",
      "Requirement already satisfied: tensorflow-intel==2.18.0 in c:\\users\\hp\\appdata\\roaming\\python\\python312\\site-packages (from tensorflow) (2.18.0)\n",
      "Requirement already satisfied: absl-py>=1.0.0 in c:\\users\\hp\\appdata\\roaming\\python\\python312\\site-packages (from tensorflow-intel==2.18.0->tensorflow) (2.1.0)\n",
      "Requirement already satisfied: astunparse>=1.6.0 in c:\\users\\hp\\appdata\\roaming\\python\\python312\\site-packages (from tensorflow-intel==2.18.0->tensorflow) (1.6.3)\n",
      "Requirement already satisfied: flatbuffers>=24.3.25 in c:\\users\\hp\\appdata\\roaming\\python\\python312\\site-packages (from tensorflow-intel==2.18.0->tensorflow) (24.3.25)\n",
      "Requirement already satisfied: gast!=0.5.0,!=0.5.1,!=0.5.2,>=0.2.1 in c:\\users\\hp\\appdata\\roaming\\python\\python312\\site-packages (from tensorflow-intel==2.18.0->tensorflow) (0.6.0)\n",
      "Requirement already satisfied: google-pasta>=0.1.1 in c:\\users\\hp\\appdata\\roaming\\python\\python312\\site-packages (from tensorflow-intel==2.18.0->tensorflow) (0.2.0)\n",
      "Requirement already satisfied: libclang>=13.0.0 in c:\\users\\hp\\appdata\\roaming\\python\\python312\\site-packages (from tensorflow-intel==2.18.0->tensorflow) (18.1.1)\n",
      "Requirement already satisfied: opt-einsum>=2.3.2 in c:\\users\\hp\\appdata\\roaming\\python\\python312\\site-packages (from tensorflow-intel==2.18.0->tensorflow) (3.3.0)\n",
      "Requirement already satisfied: packaging in c:\\users\\hp\\appdata\\roaming\\python\\python312\\site-packages (from tensorflow-intel==2.18.0->tensorflow) (24.2)\n",
      "Collecting protobuf!=4.21.0,!=4.21.1,!=4.21.2,!=4.21.3,!=4.21.4,!=4.21.5,<6.0.0dev,>=3.20.3 (from tensorflow-intel==2.18.0->tensorflow)\n",
      "  Using cached protobuf-5.29.2-cp310-abi3-win_amd64.whl.metadata (592 bytes)\n",
      "Requirement already satisfied: requests<3,>=2.21.0 in c:\\users\\hp\\appdata\\roaming\\python\\python312\\site-packages (from tensorflow-intel==2.18.0->tensorflow) (2.32.3)\n",
      "Requirement already satisfied: setuptools in c:\\users\\hp\\appdata\\roaming\\python\\python312\\site-packages (from tensorflow-intel==2.18.0->tensorflow) (75.6.0)\n",
      "Requirement already satisfied: six>=1.12.0 in c:\\users\\hp\\appdata\\roaming\\python\\python312\\site-packages (from tensorflow-intel==2.18.0->tensorflow) (1.17.0)\n",
      "Requirement already satisfied: termcolor>=1.1.0 in c:\\users\\hp\\appdata\\roaming\\python\\python312\\site-packages (from tensorflow-intel==2.18.0->tensorflow) (2.5.0)\n",
      "Requirement already satisfied: typing-extensions>=3.6.6 in c:\\users\\hp\\appdata\\roaming\\python\\python312\\site-packages (from tensorflow-intel==2.18.0->tensorflow) (4.12.2)\n",
      "Requirement already satisfied: wrapt>=1.11.0 in c:\\users\\hp\\appdata\\roaming\\python\\python312\\site-packages (from tensorflow-intel==2.18.0->tensorflow) (1.17.0)\n",
      "Requirement already satisfied: grpcio<2.0,>=1.24.3 in c:\\users\\hp\\appdata\\roaming\\python\\python312\\site-packages (from tensorflow-intel==2.18.0->tensorflow) (1.68.1)\n",
      "Requirement already satisfied: tensorboard<2.19,>=2.18 in c:\\users\\hp\\appdata\\roaming\\python\\python312\\site-packages (from tensorflow-intel==2.18.0->tensorflow) (2.18.0)\n",
      "Requirement already satisfied: keras>=3.5.0 in c:\\users\\hp\\appdata\\roaming\\python\\python312\\site-packages (from tensorflow-intel==2.18.0->tensorflow) (3.7.0)\n",
      "Requirement already satisfied: numpy<2.1.0,>=1.26.0 in c:\\users\\hp\\appdata\\roaming\\python\\python312\\site-packages (from tensorflow-intel==2.18.0->tensorflow) (1.26.4)\n",
      "Requirement already satisfied: h5py>=3.11.0 in c:\\users\\hp\\appdata\\roaming\\python\\python312\\site-packages (from tensorflow-intel==2.18.0->tensorflow) (3.12.1)\n",
      "Requirement already satisfied: ml-dtypes<0.5.0,>=0.4.0 in c:\\users\\hp\\appdata\\roaming\\python\\python312\\site-packages (from tensorflow-intel==2.18.0->tensorflow) (0.4.1)\n",
      "Requirement already satisfied: wheel<1.0,>=0.23.0 in c:\\users\\hp\\appdata\\roaming\\python\\python312\\site-packages (from astunparse>=1.6.0->tensorflow-intel==2.18.0->tensorflow) (0.45.1)\n",
      "Requirement already satisfied: rich in c:\\users\\hp\\appdata\\roaming\\python\\python312\\site-packages (from keras>=3.5.0->tensorflow-intel==2.18.0->tensorflow) (13.9.4)\n",
      "Requirement already satisfied: namex in c:\\users\\hp\\appdata\\roaming\\python\\python312\\site-packages (from keras>=3.5.0->tensorflow-intel==2.18.0->tensorflow) (0.0.8)\n",
      "Requirement already satisfied: optree in c:\\users\\hp\\appdata\\roaming\\python\\python312\\site-packages (from keras>=3.5.0->tensorflow-intel==2.18.0->tensorflow) (0.13.1)\n",
      "Requirement already satisfied: charset-normalizer<4,>=2 in c:\\users\\hp\\appdata\\roaming\\python\\python312\\site-packages (from requests<3,>=2.21.0->tensorflow-intel==2.18.0->tensorflow) (3.4.0)\n",
      "Requirement already satisfied: idna<4,>=2.5 in c:\\users\\hp\\appdata\\roaming\\python\\python312\\site-packages (from requests<3,>=2.21.0->tensorflow-intel==2.18.0->tensorflow) (3.10)\n",
      "Requirement already satisfied: urllib3<3,>=1.21.1 in c:\\users\\hp\\appdata\\roaming\\python\\python312\\site-packages (from requests<3,>=2.21.0->tensorflow-intel==2.18.0->tensorflow) (2.2.3)\n",
      "Requirement already satisfied: certifi>=2017.4.17 in c:\\users\\hp\\appdata\\roaming\\python\\python312\\site-packages (from requests<3,>=2.21.0->tensorflow-intel==2.18.0->tensorflow) (2024.8.30)\n",
      "Requirement already satisfied: markdown>=2.6.8 in c:\\users\\hp\\appdata\\roaming\\python\\python312\\site-packages (from tensorboard<2.19,>=2.18->tensorflow-intel==2.18.0->tensorflow) (3.7)\n",
      "Requirement already satisfied: tensorboard-data-server<0.8.0,>=0.7.0 in c:\\users\\hp\\appdata\\roaming\\python\\python312\\site-packages (from tensorboard<2.19,>=2.18->tensorflow-intel==2.18.0->tensorflow) (0.7.2)\n",
      "Requirement already satisfied: werkzeug>=1.0.1 in c:\\users\\hp\\appdata\\roaming\\python\\python312\\site-packages (from tensorboard<2.19,>=2.18->tensorflow-intel==2.18.0->tensorflow) (3.1.3)\n",
      "Requirement already satisfied: MarkupSafe>=2.1.1 in c:\\users\\hp\\appdata\\roaming\\python\\python312\\site-packages (from werkzeug>=1.0.1->tensorboard<2.19,>=2.18->tensorflow-intel==2.18.0->tensorflow) (3.0.2)\n",
      "Requirement already satisfied: markdown-it-py>=2.2.0 in c:\\users\\hp\\appdata\\roaming\\python\\python312\\site-packages (from rich->keras>=3.5.0->tensorflow-intel==2.18.0->tensorflow) (3.0.0)\n",
      "Requirement already satisfied: pygments<3.0.0,>=2.13.0 in c:\\users\\hp\\appdata\\roaming\\python\\python312\\site-packages (from rich->keras>=3.5.0->tensorflow-intel==2.18.0->tensorflow) (2.18.0)\n",
      "Requirement already satisfied: mdurl~=0.1 in c:\\users\\hp\\appdata\\roaming\\python\\python312\\site-packages (from markdown-it-py>=2.2.0->rich->keras>=3.5.0->tensorflow-intel==2.18.0->tensorflow) (0.1.2)\n",
      "Using cached protobuf-5.29.2-cp310-abi3-win_amd64.whl (434 kB)\n",
      "Installing collected packages: protobuf\n",
      "  Attempting uninstall: protobuf\n",
      "    Found existing installation: protobuf 3.20.2\n",
      "    Uninstalling protobuf-3.20.2:\n",
      "      Successfully uninstalled protobuf-3.20.2\n",
      "Successfully installed protobuf-5.29.2\n",
      "Note: you may need to restart the kernel to use updated packages.\n"
     ]
    },
    {
     "name": "stderr",
     "output_type": "stream",
     "text": [
      "ERROR: pip's dependency resolver does not currently take into account all the packages that are installed. This behaviour is the source of the following dependency conflicts.\n",
      "paddlepaddle 2.6.2 requires protobuf<=3.20.2,>=3.1.0; platform_system == \"Windows\", but you have protobuf 5.29.2 which is incompatible.\n",
      "\n",
      "[notice] A new release of pip is available: 24.2 -> 24.3.1\n",
      "[notice] To update, run: python.exe -m pip install --upgrade pip\n"
     ]
    },
    {
     "name": "stdout",
     "output_type": "stream",
     "text": [
      "Defaulting to user installation because normal site-packages is not writeable\n",
      "Requirement already satisfied: paddlepaddle in c:\\users\\hp\\appdata\\roaming\\python\\python312\\site-packages (2.6.2)\n",
      "Requirement already satisfied: paddleocr>=2.0.1 in c:\\users\\hp\\appdata\\roaming\\python\\python312\\site-packages (2.9.1)\n",
      "Requirement already satisfied: httpx in c:\\users\\hp\\appdata\\roaming\\python\\python312\\site-packages (from paddlepaddle) (0.28.1)\n",
      "Requirement already satisfied: numpy>=1.13 in c:\\users\\hp\\appdata\\roaming\\python\\python312\\site-packages (from paddlepaddle) (1.26.4)\n",
      "Requirement already satisfied: Pillow in c:\\users\\hp\\appdata\\roaming\\python\\python312\\site-packages (from paddlepaddle) (11.0.0)\n",
      "Requirement already satisfied: decorator in c:\\users\\hp\\appdata\\roaming\\python\\python312\\site-packages (from paddlepaddle) (5.1.1)\n",
      "Requirement already satisfied: astor in c:\\users\\hp\\appdata\\roaming\\python\\python312\\site-packages (from paddlepaddle) (0.8.1)\n",
      "Requirement already satisfied: opt-einsum==3.3.0 in c:\\users\\hp\\appdata\\roaming\\python\\python312\\site-packages (from paddlepaddle) (3.3.0)\n",
      "Collecting protobuf<=3.20.2,>=3.1.0 (from paddlepaddle)\n",
      "  Using cached protobuf-3.20.2-py2.py3-none-any.whl.metadata (720 bytes)\n",
      "Requirement already satisfied: shapely in c:\\users\\hp\\appdata\\roaming\\python\\python312\\site-packages (from paddleocr>=2.0.1) (2.0.6)\n",
      "Requirement already satisfied: scikit-image in c:\\users\\hp\\appdata\\roaming\\python\\python312\\site-packages (from paddleocr>=2.0.1) (0.24.0)\n",
      "Requirement already satisfied: imgaug in c:\\users\\hp\\appdata\\roaming\\python\\python312\\site-packages (from paddleocr>=2.0.1) (0.4.0)\n",
      "Requirement already satisfied: pyclipper in c:\\users\\hp\\appdata\\roaming\\python\\python312\\site-packages (from paddleocr>=2.0.1) (1.3.0.post6)\n",
      "Requirement already satisfied: lmdb in c:\\users\\hp\\appdata\\roaming\\python\\python312\\site-packages (from paddleocr>=2.0.1) (1.5.1)\n",
      "Requirement already satisfied: tqdm in c:\\users\\hp\\appdata\\roaming\\python\\python312\\site-packages (from paddleocr>=2.0.1) (4.67.1)\n",
      "Requirement already satisfied: rapidfuzz in c:\\users\\hp\\appdata\\roaming\\python\\python312\\site-packages (from paddleocr>=2.0.1) (3.10.1)\n",
      "Requirement already satisfied: opencv-python in c:\\users\\hp\\appdata\\roaming\\python\\python312\\site-packages (from paddleocr>=2.0.1) (4.10.0.84)\n",
      "Requirement already satisfied: opencv-contrib-python in c:\\users\\hp\\appdata\\roaming\\python\\python312\\site-packages (from paddleocr>=2.0.1) (4.10.0.84)\n",
      "Requirement already satisfied: cython in c:\\users\\hp\\appdata\\roaming\\python\\python312\\site-packages (from paddleocr>=2.0.1) (3.0.11)\n",
      "Requirement already satisfied: pyyaml in c:\\users\\hp\\appdata\\roaming\\python\\python312\\site-packages (from paddleocr>=2.0.1) (6.0.2)\n",
      "Requirement already satisfied: python-docx in c:\\users\\hp\\appdata\\roaming\\python\\python312\\site-packages (from paddleocr>=2.0.1) (1.1.2)\n",
      "Requirement already satisfied: beautifulsoup4 in c:\\users\\hp\\appdata\\roaming\\python\\python312\\site-packages (from paddleocr>=2.0.1) (4.12.3)\n",
      "Requirement already satisfied: fonttools>=4.24.0 in c:\\users\\hp\\appdata\\roaming\\python\\python312\\site-packages (from paddleocr>=2.0.1) (4.55.2)\n",
      "Requirement already satisfied: fire>=0.3.0 in c:\\users\\hp\\appdata\\roaming\\python\\python312\\site-packages (from paddleocr>=2.0.1) (0.7.0)\n",
      "Requirement already satisfied: requests in c:\\users\\hp\\appdata\\roaming\\python\\python312\\site-packages (from paddleocr>=2.0.1) (2.32.3)\n",
      "Requirement already satisfied: albumentations==1.4.10 in c:\\users\\hp\\appdata\\roaming\\python\\python312\\site-packages (from paddleocr>=2.0.1) (1.4.10)\n",
      "Requirement already satisfied: albucore==0.0.13 in c:\\users\\hp\\appdata\\roaming\\python\\python312\\site-packages (from paddleocr>=2.0.1) (0.0.13)\n",
      "Requirement already satisfied: tomli>=2.0.1 in c:\\users\\hp\\appdata\\roaming\\python\\python312\\site-packages (from albucore==0.0.13->paddleocr>=2.0.1) (2.2.1)\n",
      "Requirement already satisfied: typing-extensions>=4.9.0 in c:\\users\\hp\\appdata\\roaming\\python\\python312\\site-packages (from albucore==0.0.13->paddleocr>=2.0.1) (4.12.2)\n",
      "Requirement already satisfied: opencv-python-headless>=4.9.0.80 in c:\\users\\hp\\appdata\\roaming\\python\\python312\\site-packages (from albucore==0.0.13->paddleocr>=2.0.1) (4.10.0.84)\n",
      "Requirement already satisfied: scipy>=1.10.0 in c:\\users\\hp\\appdata\\roaming\\python\\python312\\site-packages (from albumentations==1.4.10->paddleocr>=2.0.1) (1.14.1)\n",
      "Requirement already satisfied: scikit-learn>=1.3.2 in c:\\users\\hp\\appdata\\roaming\\python\\python312\\site-packages (from albumentations==1.4.10->paddleocr>=2.0.1) (1.6.0)\n",
      "Requirement already satisfied: pydantic>=2.7.0 in c:\\users\\hp\\appdata\\roaming\\python\\python312\\site-packages (from albumentations==1.4.10->paddleocr>=2.0.1) (2.10.3)\n",
      "Requirement already satisfied: termcolor in c:\\users\\hp\\appdata\\roaming\\python\\python312\\site-packages (from fire>=0.3.0->paddleocr>=2.0.1) (2.5.0)\n",
      "Requirement already satisfied: networkx>=2.8 in c:\\users\\hp\\appdata\\roaming\\python\\python312\\site-packages (from scikit-image->paddleocr>=2.0.1) (3.4.2)\n",
      "Requirement already satisfied: imageio>=2.33 in c:\\users\\hp\\appdata\\roaming\\python\\python312\\site-packages (from scikit-image->paddleocr>=2.0.1) (2.36.1)\n",
      "Requirement already satisfied: tifffile>=2022.8.12 in c:\\users\\hp\\appdata\\roaming\\python\\python312\\site-packages (from scikit-image->paddleocr>=2.0.1) (2024.9.20)\n",
      "Requirement already satisfied: packaging>=21 in c:\\users\\hp\\appdata\\roaming\\python\\python312\\site-packages (from scikit-image->paddleocr>=2.0.1) (24.2)\n",
      "Requirement already satisfied: lazy-loader>=0.4 in c:\\users\\hp\\appdata\\roaming\\python\\python312\\site-packages (from scikit-image->paddleocr>=2.0.1) (0.4)\n",
      "Requirement already satisfied: soupsieve>1.2 in c:\\users\\hp\\appdata\\roaming\\python\\python312\\site-packages (from beautifulsoup4->paddleocr>=2.0.1) (2.6)\n",
      "Requirement already satisfied: anyio in c:\\users\\hp\\appdata\\roaming\\python\\python312\\site-packages (from httpx->paddlepaddle) (4.7.0)\n",
      "Requirement already satisfied: certifi in c:\\users\\hp\\appdata\\roaming\\python\\python312\\site-packages (from httpx->paddlepaddle) (2024.8.30)\n",
      "Requirement already satisfied: httpcore==1.* in c:\\users\\hp\\appdata\\roaming\\python\\python312\\site-packages (from httpx->paddlepaddle) (1.0.7)\n",
      "Requirement already satisfied: idna in c:\\users\\hp\\appdata\\roaming\\python\\python312\\site-packages (from httpx->paddlepaddle) (3.10)\n",
      "Requirement already satisfied: h11<0.15,>=0.13 in c:\\users\\hp\\appdata\\roaming\\python\\python312\\site-packages (from httpcore==1.*->httpx->paddlepaddle) (0.14.0)\n",
      "Requirement already satisfied: six in c:\\users\\hp\\appdata\\roaming\\python\\python312\\site-packages (from imgaug->paddleocr>=2.0.1) (1.17.0)\n",
      "Requirement already satisfied: matplotlib in c:\\users\\hp\\appdata\\roaming\\python\\python312\\site-packages (from imgaug->paddleocr>=2.0.1) (3.9.3)\n",
      "Requirement already satisfied: lxml>=3.1.0 in c:\\users\\hp\\appdata\\roaming\\python\\python312\\site-packages (from python-docx->paddleocr>=2.0.1) (5.3.0)\n",
      "Requirement already satisfied: charset-normalizer<4,>=2 in c:\\users\\hp\\appdata\\roaming\\python\\python312\\site-packages (from requests->paddleocr>=2.0.1) (3.4.0)\n",
      "Requirement already satisfied: urllib3<3,>=1.21.1 in c:\\users\\hp\\appdata\\roaming\\python\\python312\\site-packages (from requests->paddleocr>=2.0.1) (2.2.3)\n",
      "Requirement already satisfied: colorama in c:\\users\\hp\\appdata\\roaming\\python\\python312\\site-packages (from tqdm->paddleocr>=2.0.1) (0.4.6)\n",
      "Requirement already satisfied: annotated-types>=0.6.0 in c:\\users\\hp\\appdata\\roaming\\python\\python312\\site-packages (from pydantic>=2.7.0->albumentations==1.4.10->paddleocr>=2.0.1) (0.7.0)\n",
      "Requirement already satisfied: pydantic-core==2.27.1 in c:\\users\\hp\\appdata\\roaming\\python\\python312\\site-packages (from pydantic>=2.7.0->albumentations==1.4.10->paddleocr>=2.0.1) (2.27.1)\n",
      "Requirement already satisfied: joblib>=1.2.0 in c:\\users\\hp\\appdata\\roaming\\python\\python312\\site-packages (from scikit-learn>=1.3.2->albumentations==1.4.10->paddleocr>=2.0.1) (1.4.2)\n",
      "Requirement already satisfied: threadpoolctl>=3.1.0 in c:\\users\\hp\\appdata\\roaming\\python\\python312\\site-packages (from scikit-learn>=1.3.2->albumentations==1.4.10->paddleocr>=2.0.1) (3.5.0)\n",
      "Requirement already satisfied: sniffio>=1.1 in c:\\users\\hp\\appdata\\roaming\\python\\python312\\site-packages (from anyio->httpx->paddlepaddle) (1.3.1)\n",
      "Requirement already satisfied: contourpy>=1.0.1 in c:\\users\\hp\\appdata\\roaming\\python\\python312\\site-packages (from matplotlib->imgaug->paddleocr>=2.0.1) (1.3.1)\n",
      "Requirement already satisfied: cycler>=0.10 in c:\\users\\hp\\appdata\\roaming\\python\\python312\\site-packages (from matplotlib->imgaug->paddleocr>=2.0.1) (0.12.1)\n",
      "Requirement already satisfied: kiwisolver>=1.3.1 in c:\\users\\hp\\appdata\\roaming\\python\\python312\\site-packages (from matplotlib->imgaug->paddleocr>=2.0.1) (1.4.7)\n",
      "Requirement already satisfied: pyparsing>=2.3.1 in c:\\users\\hp\\appdata\\roaming\\python\\python312\\site-packages (from matplotlib->imgaug->paddleocr>=2.0.1) (3.2.0)\n",
      "Requirement already satisfied: python-dateutil>=2.7 in c:\\users\\hp\\appdata\\roaming\\python\\python312\\site-packages (from matplotlib->imgaug->paddleocr>=2.0.1) (2.9.0.post0)\n",
      "Using cached protobuf-3.20.2-py2.py3-none-any.whl (162 kB)\n",
      "Installing collected packages: protobuf\n",
      "  Attempting uninstall: protobuf\n",
      "    Found existing installation: protobuf 5.29.2\n",
      "    Uninstalling protobuf-5.29.2:\n",
      "      Successfully uninstalled protobuf-5.29.2\n",
      "Successfully installed protobuf-3.20.2\n",
      "Note: you may need to restart the kernel to use updated packages.\n"
     ]
    },
    {
     "name": "stderr",
     "output_type": "stream",
     "text": [
      "ERROR: pip's dependency resolver does not currently take into account all the packages that are installed. This behaviour is the source of the following dependency conflicts.\n",
      "tensorflow-intel 2.18.0 requires protobuf!=4.21.0,!=4.21.1,!=4.21.2,!=4.21.3,!=4.21.4,!=4.21.5,<6.0.0dev,>=3.20.3, but you have protobuf 3.20.2 which is incompatible.\n",
      "\n",
      "[notice] A new release of pip is available: 24.2 -> 24.3.1\n",
      "[notice] To update, run: python.exe -m pip install --upgrade pip\n"
     ]
    }
   ],
   "source": [
    "# Dependencies installation\n",
    "%pip install opencv-python-headless\n",
    "%pip install pillow\n",
    "%pip install ultralytics\n",
    "%pip install pandas\n",
    "%pip install matplotlib\n",
    "%pip install numpy\n",
    "%pip install tensorflow\n",
    "%pip install paddlepaddle \"paddleocr>=2.0.1\""
   ]
  },
  {
   "cell_type": "code",
   "execution_count": 2,
   "metadata": {
    "colab": {
     "base_uri": "https://localhost:8080/"
    },
    "id": "zuKpkZ5rw8JY",
    "outputId": "a88501b5-73d6-4831-a08d-2a6fda8a2a80"
   },
   "outputs": [],
   "source": [
    "# Imports\n",
    "from ultralytics import YOLO\n",
    "import os\n",
    "import cv2\n",
    "import json\n",
    "import numpy as np\n",
    "from pathlib import Path\n",
    "import random\n",
    "import shutil\n",
    "import csv\n",
    "from paddleocr import PaddleOCR"
   ]
  },
  {
   "cell_type": "code",
   "execution_count": null,
   "metadata": {},
   "outputs": [],
   "source": [
    "# Constants\n",
    "CURRENT_PATH = os.getcwd()\n",
    "CSV_FILE = os.path.join(CURRENT_PATH, 'WaterMeters', 'data.csv')\n",
    "LABELS_DIR = os.path.join(CURRENT_PATH, 'etiquetas')\n",
    "CLASS_ID = 0"
   ]
  },
  {
   "cell_type": "code",
   "execution_count": 3,
   "metadata": {},
   "outputs": [
    {
     "ename": "NameError",
     "evalue": "name 'LABELS_DIR' is not defined",
     "output_type": "error",
     "traceback": [
      "\u001b[1;31m---------------------------------------------------------------------------\u001b[0m",
      "\u001b[1;31mNameError\u001b[0m                                 Traceback (most recent call last)",
      "Cell \u001b[1;32mIn[3], line 2\u001b[0m\n\u001b[0;32m      1\u001b[0m \u001b[38;5;66;03m# Crear directorio de salida si no existe\u001b[39;00m\n\u001b[1;32m----> 2\u001b[0m os\u001b[38;5;241m.\u001b[39mmakedirs(\u001b[43mLABELS_DIR\u001b[49m, exist_ok\u001b[38;5;241m=\u001b[39m\u001b[38;5;28;01mTrue\u001b[39;00m)\n\u001b[0;32m      4\u001b[0m \u001b[38;5;66;03m# Leer el archivo CSV\u001b[39;00m\n\u001b[0;32m      5\u001b[0m \u001b[38;5;28;01mwith\u001b[39;00m \u001b[38;5;28mopen\u001b[39m(CSV_FILE, \u001b[38;5;124m'\u001b[39m\u001b[38;5;124mr\u001b[39m\u001b[38;5;124m'\u001b[39m) \u001b[38;5;28;01mas\u001b[39;00m file:\n",
      "\u001b[1;31mNameError\u001b[0m: name 'LABELS_DIR' is not defined"
     ]
    }
   ],
   "source": [
    "# Crear directorio de salida si no existe\n",
    "os.makedirs(LABELS_DIR, exist_ok=True)\n",
    "\n",
    "# Leer el archivo CSV\n",
    "with open(CSV_FILE, 'r') as file:\n",
    "    reader = csv.reader(file)\n",
    "    next(reader)\n",
    "    for row in reader:\n",
    "        image_name = row[0].split('.')[0]  # Obtener el nombre sin extensión\n",
    "        \n",
    "        # Reemplazar comillas simples por comillas dobles para formato JSON válido\n",
    "        try:\n",
    "            fixed_data = row[2].replace(\"'\", '\"')\n",
    "            polygon_data = json.loads(fixed_data)['data']\n",
    "        except (json.JSONDecodeError, KeyError) as e:\n",
    "            print(f\"Error al procesar la fila {row[0]}: {e}\")\n",
    "            continue\n",
    "\n",
    "        # Extraer coordenadas normalizadas\n",
    "        coords = []\n",
    "        for point in polygon_data:\n",
    "            coords.append(str(point['x']))\n",
    "            coords.append(str(point['y']))\n",
    "\n",
    "        # Crear el archivo de etiqueta\n",
    "        output_path = os.path.join(LABELS_DIR, f\"{image_name}.txt\")\n",
    "        with open(output_path, 'w') as out_file:\n",
    "            out_file.write(f\"{CLASS_ID} \" + ' '.join(coords))\n",
    "\n",
    "print(f\"Conversión completada. Archivos guardados en: {LABELS_DIR}\")"
   ]
  },
  {
   "cell_type": "code",
   "execution_count": null,
   "metadata": {},
   "outputs": [
    {
     "name": "stdout",
     "output_type": "stream",
     "text": [
      "Imágenes y etiquetas divididas correctamente en train, val y test.\n"
     ]
    }
   ],
   "source": [
    "source_images =  os.path.join(CURRENT_PATH, 'WaterMeters/images')\n",
    "source_labels =  os.path.join(CURRENT_PATH, 'etiquetas')  # Ajusta según tu ruta de etiquetas\n",
    "output_dir = os.path.join(CURRENT_PATH, 'data')  # Salida de los datos organizados\n",
    "\n",
    "# Directorios para train, val y test\n",
    "train_images = os.path.join(output_dir, 'images/train')\n",
    "val_images = os.path.join(output_dir, 'images/val')\n",
    "test_images = os.path.join(output_dir, 'images/test')\n",
    "train_labels = os.path.join(output_dir, 'labels/train')\n",
    "val_labels = os.path.join(output_dir, 'labels/val')\n",
    "test_labels = os.path.join(output_dir, 'labels/test')\n",
    "\n",
    "# Crear directorios si no existen\n",
    "os.makedirs(train_images, exist_ok=True)\n",
    "os.makedirs(val_images, exist_ok=True)\n",
    "os.makedirs(test_images, exist_ok=True)\n",
    "os.makedirs(train_labels, exist_ok=True)\n",
    "os.makedirs(val_labels, exist_ok=True)\n",
    "os.makedirs(test_labels, exist_ok=True)\n",
    "\n",
    "# Listar las imágenes (.jpg) y verificar si existen\n",
    "image_files = [f for f in os.listdir(source_images) if f.endswith('.jpg')]\n",
    "\n",
    "# Si no hay imágenes en el directorio de origen, imprimir un error\n",
    "if len(image_files) == 0:\n",
    "    print(\"Error: No se encontraron imágenes en la carpeta de origen.\")\n",
    "else:\n",
    "    # Dividir las imágenes en 80% para entrenamiento, 10% para validación y 10% para prueba\n",
    "    random.shuffle(image_files)\n",
    "    train_files = image_files[:int(0.8 * len(image_files))]\n",
    "    val_files = image_files[int(0.8 * len(image_files)):int(0.9 * len(image_files))]\n",
    "    test_files = image_files[int(0.9 * len(image_files)):]\n",
    "\n",
    "    # Mover las imágenes y sus etiquetas correspondientes\n",
    "    for file in train_files:\n",
    "        img_src = os.path.join(source_images, file)\n",
    "        img_dst = os.path.join(train_images, file)\n",
    "        label_src = os.path.join(source_labels, file.replace('.jpg', '.txt'))\n",
    "        label_dst = os.path.join(train_labels, file.replace('.jpg', '.txt'))\n",
    "\n",
    "        # Verificar si la imagen y la etiqueta existen antes de copiar\n",
    "        if os.path.exists(img_src) and os.path.exists(label_src):\n",
    "            shutil.copy(img_src, img_dst)  # Copiar imagen\n",
    "            shutil.copy(label_src, label_dst)  # Copiar etiqueta\n",
    "        else:\n",
    "            print(f\"Advertencia: No se encontró la etiqueta para {file} o la imagen no existe.\")\n",
    "\n",
    "    for file in val_files:\n",
    "        img_src = os.path.join(source_images, file)\n",
    "        img_dst = os.path.join(val_images, file)\n",
    "        label_src = os.path.join(source_labels, file.replace('.jpg', '.txt'))\n",
    "        label_dst = os.path.join(val_labels, file.replace('.jpg', '.txt'))\n",
    "\n",
    "        # Verificar si la imagen y la etiqueta existen antes de copiar\n",
    "        if os.path.exists(img_src) and os.path.exists(label_src):\n",
    "            shutil.copy(img_src, img_dst)  # Copiar imagen\n",
    "            shutil.copy(label_src, label_dst)  # Copiar etiqueta\n",
    "        else:\n",
    "            print(f\"Advertencia: No se encontró la etiqueta para {file} o la imagen no existe.\")\n",
    "\n",
    "    for file in test_files:\n",
    "        img_src = os.path.join(source_images, file)\n",
    "        img_dst = os.path.join(test_images, file)\n",
    "        label_src = os.path.join(source_labels, file.replace('.jpg', '.txt'))\n",
    "        label_dst = os.path.join(test_labels, file.replace('.jpg', '.txt'))\n",
    "\n",
    "        # Verificar si la imagen y la etiqueta existen antes de copiar\n",
    "        if os.path.exists(img_src) and os.path.exists(label_src):\n",
    "            shutil.copy(img_src, img_dst)  # Copiar imagen\n",
    "            shutil.copy(label_src, label_dst)  # Copiar etiqueta\n",
    "        else:\n",
    "            print(f\"Advertencia: No se encontró la etiqueta para {file} o la imagen no existe.\")\n",
    "\n",
    "    print(\"Imágenes y etiquetas divididas correctamente en train, val y test.\")"
   ]
  },
  {
   "cell_type": "code",
   "execution_count": 51,
   "metadata": {},
   "outputs": [
    {
     "name": "stdout",
     "output_type": "stream",
     "text": [
      "Archivo de configuración 'data.yaml' creado en: c:\\Users\\HP\\Desktop\\PM\\data\\data.yaml\n"
     ]
    }
   ],
   "source": [
    "output_dir = Path(CURRENT_PATH) / 'data' / 'data.yaml'\n",
    "train = Path(CURRENT_PATH) / 'data' / 'images' / 'train'\n",
    "val = Path(CURRENT_PATH) / 'data' / 'images' / 'val'\n",
    "test = Path(CURRENT_PATH) / 'data' / 'images' / 'test'\n",
    "\n",
    "# Definir el archivo de configuración\n",
    "data_yaml = f\"\"\"train: {train}\n",
    "val: {val}\n",
    "test: {test}\n",
    "\n",
    "nc: 1\n",
    "names:\n",
    "  ['medidor']  # Nombres de las clases\"\"\"\n",
    "\n",
    "# Crear el directorio si no existe\n",
    "os.makedirs(output_dir.parent, exist_ok=True)\n",
    "\n",
    "# Guardar el archivo YAML\n",
    "with open(output_dir, 'w') as f:\n",
    "    f.write(data_yaml)\n",
    "\n",
    "print(f\"Archivo de configuración 'data.yaml' creado en: {output_dir}\")\n"
   ]
  },
  {
   "cell_type": "code",
   "execution_count": null,
   "metadata": {},
   "outputs": [
    {
     "name": "stdout",
     "output_type": "stream",
     "text": [
      "New https://pypi.org/project/ultralytics/8.3.48 available  Update with 'pip install -U ultralytics'\n",
      "Ultralytics 8.3.47  Python-3.12.6 torch-2.5.1+cpu CPU (AMD Ryzen 5 2500U with Radeon Vega Mobile Gfx)\n",
      "\u001b[34m\u001b[1mengine\\trainer: \u001b[0mtask=segment, mode=train, model=c:\\Users\\HP\\Desktop\\PM\\yolo11n-seg.pt, data=c:\\Users\\HP\\Desktop\\PM\\data\\data.yaml, epochs=50, time=None, patience=100, batch=16, imgsz=640, save=True, save_period=-1, cache=False, device=None, workers=8, project=None, name=train, exist_ok=False, pretrained=True, optimizer=auto, verbose=True, seed=0, deterministic=True, single_cls=False, rect=False, cos_lr=False, close_mosaic=10, resume=False, amp=True, fraction=1.0, profile=False, freeze=None, multi_scale=False, overlap_mask=True, mask_ratio=4, dropout=0.0, val=True, split=val, save_json=False, save_hybrid=False, conf=None, iou=0.7, max_det=300, half=False, dnn=False, plots=True, source=None, vid_stride=1, stream_buffer=False, visualize=False, augment=False, agnostic_nms=False, classes=None, retina_masks=False, embed=None, show=False, save_frames=False, save_txt=False, save_conf=False, save_crop=False, show_labels=True, show_conf=True, show_boxes=True, line_width=None, format=torchscript, keras=False, optimize=False, int8=False, dynamic=False, simplify=True, opset=None, workspace=None, nms=False, lr0=0.01, lrf=0.01, momentum=0.937, weight_decay=0.0005, warmup_epochs=3.0, warmup_momentum=0.8, warmup_bias_lr=0.1, box=7.5, cls=0.5, dfl=1.5, pose=12.0, kobj=1.0, nbs=64, hsv_h=0.015, hsv_s=0.7, hsv_v=0.4, degrees=0.0, translate=0.1, scale=0.5, shear=0.0, perspective=0.0, flipud=0.0, fliplr=0.5, bgr=0.0, mosaic=1.0, mixup=0.0, copy_paste=0.0, copy_paste_mode=flip, auto_augment=randaugment, erasing=0.4, crop_fraction=1.0, cfg=None, tracker=botsort.yaml, save_dir=runs\\segment\\train\n",
      "Overriding model.yaml nc=80 with nc=1\n",
      "\n",
      "                   from  n    params  module                                       arguments                     \n",
      "  0                  -1  1       464  ultralytics.nn.modules.conv.Conv             [3, 16, 3, 2]                 \n",
      "  1                  -1  1      4672  ultralytics.nn.modules.conv.Conv             [16, 32, 3, 2]                \n",
      "  2                  -1  1      6640  ultralytics.nn.modules.block.C3k2            [32, 64, 1, False, 0.25]      \n",
      "  3                  -1  1     36992  ultralytics.nn.modules.conv.Conv             [64, 64, 3, 2]                \n",
      "  4                  -1  1     26080  ultralytics.nn.modules.block.C3k2            [64, 128, 1, False, 0.25]     \n",
      "  5                  -1  1    147712  ultralytics.nn.modules.conv.Conv             [128, 128, 3, 2]              \n",
      "  6                  -1  1     87040  ultralytics.nn.modules.block.C3k2            [128, 128, 1, True]           \n",
      "  7                  -1  1    295424  ultralytics.nn.modules.conv.Conv             [128, 256, 3, 2]              \n",
      "  8                  -1  1    346112  ultralytics.nn.modules.block.C3k2            [256, 256, 1, True]           \n",
      "  9                  -1  1    164608  ultralytics.nn.modules.block.SPPF            [256, 256, 5]                 \n",
      " 10                  -1  1    249728  ultralytics.nn.modules.block.C2PSA           [256, 256, 1]                 \n",
      " 11                  -1  1         0  torch.nn.modules.upsampling.Upsample         [None, 2, 'nearest']          \n",
      " 12             [-1, 6]  1         0  ultralytics.nn.modules.conv.Concat           [1]                           \n",
      " 13                  -1  1    111296  ultralytics.nn.modules.block.C3k2            [384, 128, 1, False]          \n",
      " 14                  -1  1         0  torch.nn.modules.upsampling.Upsample         [None, 2, 'nearest']          \n",
      " 15             [-1, 4]  1         0  ultralytics.nn.modules.conv.Concat           [1]                           \n",
      " 16                  -1  1     32096  ultralytics.nn.modules.block.C3k2            [256, 64, 1, False]           \n",
      " 17                  -1  1     36992  ultralytics.nn.modules.conv.Conv             [64, 64, 3, 2]                \n",
      " 18            [-1, 13]  1         0  ultralytics.nn.modules.conv.Concat           [1]                           \n",
      " 19                  -1  1     86720  ultralytics.nn.modules.block.C3k2            [192, 128, 1, False]          \n",
      " 20                  -1  1    147712  ultralytics.nn.modules.conv.Conv             [128, 128, 3, 2]              \n",
      " 21            [-1, 10]  1         0  ultralytics.nn.modules.conv.Concat           [1]                           \n",
      " 22                  -1  1    378880  ultralytics.nn.modules.block.C3k2            [384, 256, 1, True]           \n",
      " 23        [16, 19, 22]  1    683635  ultralytics.nn.modules.head.Segment          [1, 32, 64, [64, 128, 256]]   \n",
      "YOLO11n-seg summary: 355 layers, 2,842,803 parameters, 2,842,787 gradients, 10.4 GFLOPs\n",
      "\n",
      "Transferred 510/561 items from pretrained weights\n",
      "\u001b[34m\u001b[1mTensorBoard: \u001b[0mStart with 'tensorboard --logdir runs\\segment\\train', view at http://localhost:6006/\n",
      "Freezing layer 'model.23.dfl.conv.weight'\n"
     ]
    },
    {
     "name": "stderr",
     "output_type": "stream",
     "text": [
      "\u001b[34m\u001b[1mtrain: \u001b[0mScanning C:\\Users\\HP\\Desktop\\PM\\data\\labels\\train... 880 images, 0 backgrounds, 0 corrupt: 100%|██████████| 880/880 [00:04<00:00, 196.97it/s]\n"
     ]
    },
    {
     "name": "stdout",
     "output_type": "stream",
     "text": [
      "\u001b[34m\u001b[1mtrain: \u001b[0mNew cache created: C:\\Users\\HP\\Desktop\\PM\\data\\labels\\train.cache\n"
     ]
    },
    {
     "name": "stderr",
     "output_type": "stream",
     "text": [
      "\u001b[34m\u001b[1mval: \u001b[0mScanning C:\\Users\\HP\\Desktop\\PM\\data\\labels\\val... 110 images, 0 backgrounds, 0 corrupt: 100%|██████████| 110/110 [00:00<00:00, 182.50it/s]\n"
     ]
    },
    {
     "name": "stdout",
     "output_type": "stream",
     "text": [
      "\u001b[34m\u001b[1mval: \u001b[0mNew cache created: C:\\Users\\HP\\Desktop\\PM\\data\\labels\\val.cache\n",
      "Plotting labels to runs\\segment\\train\\labels.jpg... \n",
      "\u001b[34m\u001b[1moptimizer:\u001b[0m 'optimizer=auto' found, ignoring 'lr0=0.01' and 'momentum=0.937' and determining best 'optimizer', 'lr0' and 'momentum' automatically... \n",
      "\u001b[34m\u001b[1moptimizer:\u001b[0m AdamW(lr=0.002, momentum=0.9) with parameter groups 90 weight(decay=0.0), 101 weight(decay=0.0005), 100 bias(decay=0.0)\n",
      "\u001b[34m\u001b[1mTensorBoard: \u001b[0mmodel graph visualization added \n",
      "Image sizes 640 train, 640 val\n",
      "Using 0 dataloader workers\n",
      "Logging results to \u001b[1mruns\\segment\\train\u001b[0m\n",
      "Starting training for 50 epochs...\n",
      "\n",
      "      Epoch    GPU_mem   box_loss   seg_loss   cls_loss   dfl_loss  Instances       Size\n"
     ]
    },
    {
     "name": "stderr",
     "output_type": "stream",
     "text": [
      "       1/50         0G      1.281      1.513      2.454      1.129         32        640: 100%|██████████| 55/55 [19:33<00:00, 21.33s/it]\n",
      "                 Class     Images  Instances      Box(P          R      mAP50  mAP50-95)     Mask(P          R      mAP50  mAP50-95): 100%|██████████| 4/4 [00:51<00:00, 12.80s/it]"
     ]
    },
    {
     "name": "stdout",
     "output_type": "stream",
     "text": [
      "                   all        110        110      0.917      0.201      0.757      0.482      0.917      0.201      0.771      0.526\n"
     ]
    },
    {
     "name": "stderr",
     "output_type": "stream",
     "text": [
      "\n"
     ]
    },
    {
     "name": "stdout",
     "output_type": "stream",
     "text": [
      "\n",
      "      Epoch    GPU_mem   box_loss   seg_loss   cls_loss   dfl_loss  Instances       Size\n"
     ]
    },
    {
     "name": "stderr",
     "output_type": "stream",
     "text": [
      "       2/50         0G      1.228       1.07      1.581      1.055         25        640: 100%|██████████| 55/55 [24:49<00:00, 27.09s/it]\n",
      "                 Class     Images  Instances      Box(P          R      mAP50  mAP50-95)     Mask(P          R      mAP50  mAP50-95): 100%|██████████| 4/4 [00:54<00:00, 13.62s/it]\n"
     ]
    },
    {
     "name": "stdout",
     "output_type": "stream",
     "text": [
      "                   all        110        110       0.84      0.765      0.792      0.453      0.842      0.736      0.792      0.588\n",
      "\n",
      "      Epoch    GPU_mem   box_loss   seg_loss   cls_loss   dfl_loss  Instances       Size\n"
     ]
    },
    {
     "name": "stderr",
     "output_type": "stream",
     "text": [
      "       3/50         0G      1.244      1.025      1.373      1.069         37        640: 100%|██████████| 55/55 [23:58<00:00, 26.16s/it]\n",
      "                 Class     Images  Instances      Box(P          R      mAP50  mAP50-95)     Mask(P          R      mAP50  mAP50-95): 100%|██████████| 4/4 [00:48<00:00, 12.03s/it]"
     ]
    },
    {
     "name": "stdout",
     "output_type": "stream",
     "text": [
      "                   all        110        110      0.863       0.86      0.923      0.593      0.859      0.891      0.928      0.669\n"
     ]
    },
    {
     "name": "stderr",
     "output_type": "stream",
     "text": [
      "\n"
     ]
    },
    {
     "name": "stdout",
     "output_type": "stream",
     "text": [
      "\n",
      "      Epoch    GPU_mem   box_loss   seg_loss   cls_loss   dfl_loss  Instances       Size\n"
     ]
    },
    {
     "name": "stderr",
     "output_type": "stream",
     "text": [
      "       4/50         0G      1.173      1.028      1.173      1.047         31        640: 100%|██████████| 55/55 [20:00<00:00, 21.82s/it]\n",
      "                 Class     Images  Instances      Box(P          R      mAP50  mAP50-95)     Mask(P          R      mAP50  mAP50-95): 100%|██████████| 4/4 [00:45<00:00, 11.49s/it]"
     ]
    },
    {
     "name": "stdout",
     "output_type": "stream",
     "text": [
      "                   all        110        110      0.845      0.836      0.911      0.602      0.845      0.836      0.911      0.681\n"
     ]
    },
    {
     "name": "stderr",
     "output_type": "stream",
     "text": [
      "\n"
     ]
    },
    {
     "name": "stdout",
     "output_type": "stream",
     "text": [
      "\n",
      "      Epoch    GPU_mem   box_loss   seg_loss   cls_loss   dfl_loss  Instances       Size\n"
     ]
    },
    {
     "name": "stderr",
     "output_type": "stream",
     "text": [
      "       5/50         0G      1.197      1.015       1.07      1.065         27        640: 100%|██████████| 55/55 [17:15<00:00, 18.82s/it]\n",
      "                 Class     Images  Instances      Box(P          R      mAP50  mAP50-95)     Mask(P          R      mAP50  mAP50-95): 100%|██████████| 4/4 [00:44<00:00, 11.06s/it]"
     ]
    },
    {
     "name": "stdout",
     "output_type": "stream",
     "text": [
      "                   all        110        110      0.925      0.894      0.951       0.62      0.924      0.888      0.938      0.707\n"
     ]
    },
    {
     "name": "stderr",
     "output_type": "stream",
     "text": [
      "\n"
     ]
    },
    {
     "name": "stdout",
     "output_type": "stream",
     "text": [
      "\n",
      "      Epoch    GPU_mem   box_loss   seg_loss   cls_loss   dfl_loss  Instances       Size\n"
     ]
    },
    {
     "name": "stderr",
     "output_type": "stream",
     "text": [
      "       6/50         0G      1.133     0.9224     0.9605      1.045         35        640: 100%|██████████| 55/55 [16:45<00:00, 18.28s/it]\n",
      "                 Class     Images  Instances      Box(P          R      mAP50  mAP50-95)     Mask(P          R      mAP50  mAP50-95): 100%|██████████| 4/4 [00:42<00:00, 10.71s/it]"
     ]
    },
    {
     "name": "stdout",
     "output_type": "stream",
     "text": [
      "                   all        110        110      0.881      0.891      0.931      0.625      0.874      0.864      0.901      0.658\n"
     ]
    },
    {
     "name": "stderr",
     "output_type": "stream",
     "text": [
      "\n"
     ]
    },
    {
     "name": "stdout",
     "output_type": "stream",
     "text": [
      "\n",
      "      Epoch    GPU_mem   box_loss   seg_loss   cls_loss   dfl_loss  Instances       Size\n"
     ]
    },
    {
     "name": "stderr",
     "output_type": "stream",
     "text": [
      "       7/50         0G      1.097     0.8422     0.8763      1.038         32        640: 100%|██████████| 55/55 [16:41<00:00, 18.21s/it]\n",
      "                 Class     Images  Instances      Box(P          R      mAP50  mAP50-95)     Mask(P          R      mAP50  mAP50-95): 100%|██████████| 4/4 [00:41<00:00, 10.33s/it]"
     ]
    },
    {
     "name": "stdout",
     "output_type": "stream",
     "text": [
      "                   all        110        110      0.952      0.955      0.983      0.697      0.952      0.955      0.983      0.757\n"
     ]
    },
    {
     "name": "stderr",
     "output_type": "stream",
     "text": [
      "\n"
     ]
    },
    {
     "name": "stdout",
     "output_type": "stream",
     "text": [
      "\n",
      "      Epoch    GPU_mem   box_loss   seg_loss   cls_loss   dfl_loss  Instances       Size\n"
     ]
    },
    {
     "name": "stderr",
     "output_type": "stream",
     "text": [
      "       8/50         0G      1.068     0.8881     0.8138      1.011         25        640: 100%|██████████| 55/55 [17:19<00:00, 18.90s/it]\n",
      "                 Class     Images  Instances      Box(P          R      mAP50  mAP50-95)     Mask(P          R      mAP50  mAP50-95): 100%|██████████| 4/4 [00:39<00:00,  9.97s/it]"
     ]
    },
    {
     "name": "stdout",
     "output_type": "stream",
     "text": [
      "                   all        110        110      0.936      0.929      0.958       0.63      0.936      0.929      0.963      0.768\n"
     ]
    },
    {
     "name": "stderr",
     "output_type": "stream",
     "text": [
      "\n"
     ]
    },
    {
     "name": "stdout",
     "output_type": "stream",
     "text": [
      "\n",
      "      Epoch    GPU_mem   box_loss   seg_loss   cls_loss   dfl_loss  Instances       Size\n"
     ]
    },
    {
     "name": "stderr",
     "output_type": "stream",
     "text": [
      "       9/50         0G      1.049     0.8632     0.8068      1.013         34        640: 100%|██████████| 55/55 [16:46<00:00, 18.30s/it]\n",
      "                 Class     Images  Instances      Box(P          R      mAP50  mAP50-95)     Mask(P          R      mAP50  mAP50-95): 100%|██████████| 4/4 [00:39<00:00,  9.79s/it]"
     ]
    },
    {
     "name": "stdout",
     "output_type": "stream",
     "text": [
      "                   all        110        110      0.962       0.92      0.971      0.762      0.971      0.929      0.989      0.801\n"
     ]
    },
    {
     "name": "stderr",
     "output_type": "stream",
     "text": [
      "\n"
     ]
    },
    {
     "name": "stdout",
     "output_type": "stream",
     "text": [
      "\n",
      "      Epoch    GPU_mem   box_loss   seg_loss   cls_loss   dfl_loss  Instances       Size\n"
     ]
    },
    {
     "name": "stderr",
     "output_type": "stream",
     "text": [
      "      10/50         0G     0.9782     0.8004     0.7291     0.9895         26        640: 100%|██████████| 55/55 [16:40<00:00, 18.20s/it]\n",
      "                 Class     Images  Instances      Box(P          R      mAP50  mAP50-95)     Mask(P          R      mAP50  mAP50-95): 100%|██████████| 4/4 [00:39<00:00,  9.82s/it]"
     ]
    },
    {
     "name": "stdout",
     "output_type": "stream",
     "text": [
      "                   all        110        110      0.955      0.954      0.973      0.737      0.955      0.954      0.973      0.784\n"
     ]
    },
    {
     "name": "stderr",
     "output_type": "stream",
     "text": [
      "\n"
     ]
    },
    {
     "name": "stdout",
     "output_type": "stream",
     "text": [
      "\n",
      "      Epoch    GPU_mem   box_loss   seg_loss   cls_loss   dfl_loss  Instances       Size\n"
     ]
    },
    {
     "name": "stderr",
     "output_type": "stream",
     "text": [
      "      11/50         0G     0.9267     0.7494     0.6991     0.9751         29        640: 100%|██████████| 55/55 [16:42<00:00, 18.22s/it]\n",
      "                 Class     Images  Instances      Box(P          R      mAP50  mAP50-95)     Mask(P          R      mAP50  mAP50-95): 100%|██████████| 4/4 [00:39<00:00,  9.86s/it]"
     ]
    },
    {
     "name": "stdout",
     "output_type": "stream",
     "text": [
      "                   all        110        110      0.946      0.964      0.985      0.733      0.946      0.964      0.985        0.8\n"
     ]
    },
    {
     "name": "stderr",
     "output_type": "stream",
     "text": [
      "\n"
     ]
    },
    {
     "name": "stdout",
     "output_type": "stream",
     "text": [
      "\n",
      "      Epoch    GPU_mem   box_loss   seg_loss   cls_loss   dfl_loss  Instances       Size\n"
     ]
    },
    {
     "name": "stderr",
     "output_type": "stream",
     "text": [
      "      12/50         0G     0.9271     0.7558     0.7109     0.9731         29        640: 100%|██████████| 55/55 [16:41<00:00, 18.21s/it]\n",
      "                 Class     Images  Instances      Box(P          R      mAP50  mAP50-95)     Mask(P          R      mAP50  mAP50-95): 100%|██████████| 4/4 [00:38<00:00,  9.70s/it]"
     ]
    },
    {
     "name": "stdout",
     "output_type": "stream",
     "text": [
      "                   all        110        110      0.973      0.981      0.992      0.748      0.973      0.981      0.992      0.777\n"
     ]
    },
    {
     "name": "stderr",
     "output_type": "stream",
     "text": [
      "\n"
     ]
    },
    {
     "name": "stdout",
     "output_type": "stream",
     "text": [
      "\n",
      "      Epoch    GPU_mem   box_loss   seg_loss   cls_loss   dfl_loss  Instances       Size\n"
     ]
    },
    {
     "name": "stderr",
     "output_type": "stream",
     "text": [
      "      13/50         0G     0.8937     0.7677     0.6833     0.9536         34        640: 100%|██████████| 55/55 [16:36<00:00, 18.11s/it]\n",
      "                 Class     Images  Instances      Box(P          R      mAP50  mAP50-95)     Mask(P          R      mAP50  mAP50-95): 100%|██████████| 4/4 [00:38<00:00,  9.75s/it]"
     ]
    },
    {
     "name": "stdout",
     "output_type": "stream",
     "text": [
      "                   all        110        110      0.953      0.973       0.99      0.731      0.962      0.982      0.991      0.824\n"
     ]
    },
    {
     "name": "stderr",
     "output_type": "stream",
     "text": [
      "\n"
     ]
    },
    {
     "name": "stdout",
     "output_type": "stream",
     "text": [
      "\n",
      "      Epoch    GPU_mem   box_loss   seg_loss   cls_loss   dfl_loss  Instances       Size\n"
     ]
    },
    {
     "name": "stderr",
     "output_type": "stream",
     "text": [
      "      14/50         0G     0.8733     0.6991     0.6439     0.9485         28        640: 100%|██████████| 55/55 [16:36<00:00, 18.12s/it]\n",
      "                 Class     Images  Instances      Box(P          R      mAP50  mAP50-95)     Mask(P          R      mAP50  mAP50-95): 100%|██████████| 4/4 [00:39<00:00,  9.79s/it]"
     ]
    },
    {
     "name": "stdout",
     "output_type": "stream",
     "text": [
      "                   all        110        110      0.982      0.991      0.995      0.784      0.973      0.982      0.995      0.836\n"
     ]
    },
    {
     "name": "stderr",
     "output_type": "stream",
     "text": [
      "\n"
     ]
    },
    {
     "name": "stdout",
     "output_type": "stream",
     "text": [
      "\n",
      "      Epoch    GPU_mem   box_loss   seg_loss   cls_loss   dfl_loss  Instances       Size\n"
     ]
    },
    {
     "name": "stderr",
     "output_type": "stream",
     "text": [
      "      15/50         0G      0.885     0.6941     0.6538     0.9551         31        640: 100%|██████████| 55/55 [16:56<00:00, 18.49s/it]\n",
      "                 Class     Images  Instances      Box(P          R      mAP50  mAP50-95)     Mask(P          R      mAP50  mAP50-95): 100%|██████████| 4/4 [00:39<00:00,  9.76s/it]"
     ]
    },
    {
     "name": "stdout",
     "output_type": "stream",
     "text": [
      "                   all        110        110      0.968          1      0.992      0.752      0.968          1      0.992      0.759\n"
     ]
    },
    {
     "name": "stderr",
     "output_type": "stream",
     "text": [
      "\n"
     ]
    },
    {
     "name": "stdout",
     "output_type": "stream",
     "text": [
      "\n",
      "      Epoch    GPU_mem   box_loss   seg_loss   cls_loss   dfl_loss  Instances       Size\n"
     ]
    },
    {
     "name": "stderr",
     "output_type": "stream",
     "text": [
      "      16/50         0G     0.8476     0.7004     0.6257     0.9404         27        640: 100%|██████████| 55/55 [16:37<00:00, 18.14s/it]\n",
      "                 Class     Images  Instances      Box(P          R      mAP50  mAP50-95)     Mask(P          R      mAP50  mAP50-95): 100%|██████████| 4/4 [00:38<00:00,  9.73s/it]"
     ]
    },
    {
     "name": "stdout",
     "output_type": "stream",
     "text": [
      "                   all        110        110      0.972      0.982      0.994      0.824      0.972      0.982      0.994      0.845\n"
     ]
    },
    {
     "name": "stderr",
     "output_type": "stream",
     "text": [
      "\n"
     ]
    },
    {
     "name": "stdout",
     "output_type": "stream",
     "text": [
      "\n",
      "      Epoch    GPU_mem   box_loss   seg_loss   cls_loss   dfl_loss  Instances       Size\n"
     ]
    },
    {
     "name": "stderr",
     "output_type": "stream",
     "text": [
      "      17/50         0G     0.8645     0.7146     0.6376     0.9466         35        640: 100%|██████████| 55/55 [16:51<00:00, 18.40s/it]\n",
      "                 Class     Images  Instances      Box(P          R      mAP50  mAP50-95)     Mask(P          R      mAP50  mAP50-95): 100%|██████████| 4/4 [00:39<00:00,  9.79s/it]"
     ]
    },
    {
     "name": "stdout",
     "output_type": "stream",
     "text": [
      "                   all        110        110      0.993      0.973      0.995      0.782          1      0.987      0.995      0.834\n"
     ]
    },
    {
     "name": "stderr",
     "output_type": "stream",
     "text": [
      "\n"
     ]
    },
    {
     "name": "stdout",
     "output_type": "stream",
     "text": [
      "\n",
      "      Epoch    GPU_mem   box_loss   seg_loss   cls_loss   dfl_loss  Instances       Size\n"
     ]
    },
    {
     "name": "stderr",
     "output_type": "stream",
     "text": [
      "      18/50         0G     0.8762     0.7116     0.6251     0.9554         33        640: 100%|██████████| 55/55 [16:41<00:00, 18.22s/it]\n",
      "                 Class     Images  Instances      Box(P          R      mAP50  mAP50-95)     Mask(P          R      mAP50  mAP50-95): 100%|██████████| 4/4 [00:39<00:00,  9.82s/it]"
     ]
    },
    {
     "name": "stdout",
     "output_type": "stream",
     "text": [
      "                   all        110        110      0.991      0.972      0.994      0.796      0.991      0.972      0.994       0.81\n"
     ]
    },
    {
     "name": "stderr",
     "output_type": "stream",
     "text": [
      "\n"
     ]
    },
    {
     "name": "stdout",
     "output_type": "stream",
     "text": [
      "\n",
      "      Epoch    GPU_mem   box_loss   seg_loss   cls_loss   dfl_loss  Instances       Size\n"
     ]
    },
    {
     "name": "stderr",
     "output_type": "stream",
     "text": [
      "      19/50         0G     0.8272      0.666     0.6091     0.9372         34        640: 100%|██████████| 55/55 [16:50<00:00, 18.37s/it]\n",
      "                 Class     Images  Instances      Box(P          R      mAP50  mAP50-95)     Mask(P          R      mAP50  mAP50-95): 100%|██████████| 4/4 [00:38<00:00,  9.70s/it]"
     ]
    },
    {
     "name": "stdout",
     "output_type": "stream",
     "text": [
      "                   all        110        110      0.997      0.991      0.995      0.815      0.997      0.991      0.995      0.858\n"
     ]
    },
    {
     "name": "stderr",
     "output_type": "stream",
     "text": [
      "\n"
     ]
    },
    {
     "name": "stdout",
     "output_type": "stream",
     "text": [
      "\n",
      "      Epoch    GPU_mem   box_loss   seg_loss   cls_loss   dfl_loss  Instances       Size\n"
     ]
    },
    {
     "name": "stderr",
     "output_type": "stream",
     "text": [
      "      20/50         0G     0.8172     0.6751      0.586     0.9345         25        640: 100%|██████████| 55/55 [16:34<00:00, 18.08s/it]\n",
      "                 Class     Images  Instances      Box(P          R      mAP50  mAP50-95)     Mask(P          R      mAP50  mAP50-95): 100%|██████████| 4/4 [00:40<00:00, 10.11s/it]"
     ]
    },
    {
     "name": "stdout",
     "output_type": "stream",
     "text": [
      "                   all        110        110      0.965          1      0.984      0.815      0.965          1      0.984      0.829\n"
     ]
    },
    {
     "name": "stderr",
     "output_type": "stream",
     "text": [
      "\n"
     ]
    },
    {
     "name": "stdout",
     "output_type": "stream",
     "text": [
      "\n",
      "      Epoch    GPU_mem   box_loss   seg_loss   cls_loss   dfl_loss  Instances       Size\n"
     ]
    },
    {
     "name": "stderr",
     "output_type": "stream",
     "text": [
      "      21/50         0G     0.8096     0.6671     0.5898     0.9391         35        640: 100%|██████████| 55/55 [17:22<00:00, 18.95s/it]\n",
      "                 Class     Images  Instances      Box(P          R      mAP50  mAP50-95)     Mask(P          R      mAP50  mAP50-95): 100%|██████████| 4/4 [00:39<00:00,  9.95s/it]"
     ]
    },
    {
     "name": "stdout",
     "output_type": "stream",
     "text": [
      "                   all        110        110      0.977      0.991      0.995      0.843      0.977      0.991      0.995       0.83\n"
     ]
    },
    {
     "name": "stderr",
     "output_type": "stream",
     "text": [
      "\n"
     ]
    },
    {
     "name": "stdout",
     "output_type": "stream",
     "text": [
      "\n",
      "      Epoch    GPU_mem   box_loss   seg_loss   cls_loss   dfl_loss  Instances       Size\n"
     ]
    },
    {
     "name": "stderr",
     "output_type": "stream",
     "text": [
      "      22/50         0G     0.7589     0.6399     0.5533     0.9107         24        640: 100%|██████████| 55/55 [16:43<00:00, 18.24s/it]\n",
      "                 Class     Images  Instances      Box(P          R      mAP50  mAP50-95)     Mask(P          R      mAP50  mAP50-95): 100%|██████████| 4/4 [00:40<00:00, 10.00s/it]"
     ]
    },
    {
     "name": "stdout",
     "output_type": "stream",
     "text": [
      "                   all        110        110      0.972          1      0.994       0.84      0.972          1      0.994      0.844\n"
     ]
    },
    {
     "name": "stderr",
     "output_type": "stream",
     "text": [
      "\n"
     ]
    },
    {
     "name": "stdout",
     "output_type": "stream",
     "text": [
      "\n",
      "      Epoch    GPU_mem   box_loss   seg_loss   cls_loss   dfl_loss  Instances       Size\n"
     ]
    },
    {
     "name": "stderr",
     "output_type": "stream",
     "text": [
      "      23/50         0G     0.7822     0.6538     0.5749     0.9288         34        640: 100%|██████████| 55/55 [16:53<00:00, 18.42s/it]\n",
      "                 Class     Images  Instances      Box(P          R      mAP50  mAP50-95)     Mask(P          R      mAP50  mAP50-95): 100%|██████████| 4/4 [00:39<00:00,  9.96s/it]"
     ]
    },
    {
     "name": "stdout",
     "output_type": "stream",
     "text": [
      "                   all        110        110      0.999          1      0.995      0.835      0.999          1      0.995       0.84\n"
     ]
    },
    {
     "name": "stderr",
     "output_type": "stream",
     "text": [
      "\n"
     ]
    },
    {
     "name": "stdout",
     "output_type": "stream",
     "text": [
      "\n",
      "      Epoch    GPU_mem   box_loss   seg_loss   cls_loss   dfl_loss  Instances       Size\n"
     ]
    },
    {
     "name": "stderr",
     "output_type": "stream",
     "text": [
      "      24/50         0G     0.7543     0.6151     0.5547     0.9188         29        640: 100%|██████████| 55/55 [16:48<00:00, 18.33s/it]\n",
      "                 Class     Images  Instances      Box(P          R      mAP50  mAP50-95)     Mask(P          R      mAP50  mAP50-95): 100%|██████████| 4/4 [00:39<00:00,  9.79s/it]"
     ]
    },
    {
     "name": "stdout",
     "output_type": "stream",
     "text": [
      "                   all        110        110      0.985          1      0.993      0.819      0.985          1      0.993      0.862\n"
     ]
    },
    {
     "name": "stderr",
     "output_type": "stream",
     "text": [
      "\n"
     ]
    },
    {
     "name": "stdout",
     "output_type": "stream",
     "text": [
      "\n",
      "      Epoch    GPU_mem   box_loss   seg_loss   cls_loss   dfl_loss  Instances       Size\n"
     ]
    },
    {
     "name": "stderr",
     "output_type": "stream",
     "text": [
      "      25/50         0G     0.7536     0.6203     0.5453     0.9209         29        640: 100%|██████████| 55/55 [16:53<00:00, 18.43s/it]\n",
      "                 Class     Images  Instances      Box(P          R      mAP50  mAP50-95)     Mask(P          R      mAP50  mAP50-95): 100%|██████████| 4/4 [00:39<00:00,  9.89s/it]"
     ]
    },
    {
     "name": "stdout",
     "output_type": "stream",
     "text": [
      "                   all        110        110      0.981          1      0.995      0.857      0.981          1      0.995      0.851\n"
     ]
    },
    {
     "name": "stderr",
     "output_type": "stream",
     "text": [
      "\n"
     ]
    },
    {
     "name": "stdout",
     "output_type": "stream",
     "text": [
      "\n",
      "      Epoch    GPU_mem   box_loss   seg_loss   cls_loss   dfl_loss  Instances       Size\n"
     ]
    },
    {
     "name": "stderr",
     "output_type": "stream",
     "text": [
      "      26/50         0G     0.7426     0.5941     0.5322     0.9096         35        640: 100%|██████████| 55/55 [16:48<00:00, 18.33s/it]\n",
      "                 Class     Images  Instances      Box(P          R      mAP50  mAP50-95)     Mask(P          R      mAP50  mAP50-95): 100%|██████████| 4/4 [00:39<00:00,  9.76s/it]"
     ]
    },
    {
     "name": "stdout",
     "output_type": "stream",
     "text": [
      "                   all        110        110      0.965       0.99      0.992      0.845      0.973      0.999      0.993      0.858\n"
     ]
    },
    {
     "name": "stderr",
     "output_type": "stream",
     "text": [
      "\n"
     ]
    },
    {
     "name": "stdout",
     "output_type": "stream",
     "text": [
      "\n",
      "      Epoch    GPU_mem   box_loss   seg_loss   cls_loss   dfl_loss  Instances       Size\n"
     ]
    },
    {
     "name": "stderr",
     "output_type": "stream",
     "text": [
      "      27/50         0G     0.7343     0.5941     0.5206      0.912         27        640: 100%|██████████| 55/55 [16:41<00:00, 18.21s/it]\n",
      "                 Class     Images  Instances      Box(P          R      mAP50  mAP50-95)     Mask(P          R      mAP50  mAP50-95): 100%|██████████| 4/4 [00:39<00:00,  9.99s/it]"
     ]
    },
    {
     "name": "stdout",
     "output_type": "stream",
     "text": [
      "                   all        110        110      0.971          1      0.993      0.859      0.971          1      0.993      0.853\n"
     ]
    },
    {
     "name": "stderr",
     "output_type": "stream",
     "text": [
      "\n"
     ]
    },
    {
     "name": "stdout",
     "output_type": "stream",
     "text": [
      "\n",
      "      Epoch    GPU_mem   box_loss   seg_loss   cls_loss   dfl_loss  Instances       Size\n"
     ]
    },
    {
     "name": "stderr",
     "output_type": "stream",
     "text": [
      "      28/50         0G     0.7392     0.5764     0.5105     0.9077         31        640: 100%|██████████| 55/55 [17:16<00:00, 18.85s/it]\n",
      "                 Class     Images  Instances      Box(P          R      mAP50  mAP50-95)     Mask(P          R      mAP50  mAP50-95): 100%|██████████| 4/4 [00:40<00:00, 10.01s/it]"
     ]
    },
    {
     "name": "stdout",
     "output_type": "stream",
     "text": [
      "                   all        110        110      0.988      0.991      0.995      0.846      0.988      0.991      0.995      0.876\n"
     ]
    },
    {
     "name": "stderr",
     "output_type": "stream",
     "text": [
      "\n"
     ]
    },
    {
     "name": "stdout",
     "output_type": "stream",
     "text": [
      "\n",
      "      Epoch    GPU_mem   box_loss   seg_loss   cls_loss   dfl_loss  Instances       Size\n"
     ]
    },
    {
     "name": "stderr",
     "output_type": "stream",
     "text": [
      "      29/50         0G     0.7174     0.5988     0.5104     0.9021         24        640: 100%|██████████| 55/55 [16:19<00:00, 17.81s/it]\n",
      "                 Class     Images  Instances      Box(P          R      mAP50  mAP50-95)     Mask(P          R      mAP50  mAP50-95): 100%|██████████| 4/4 [00:39<00:00,  9.77s/it]"
     ]
    },
    {
     "name": "stdout",
     "output_type": "stream",
     "text": [
      "                   all        110        110      0.986          1      0.994      0.867      0.986          1      0.994      0.868\n"
     ]
    },
    {
     "name": "stderr",
     "output_type": "stream",
     "text": [
      "\n"
     ]
    },
    {
     "name": "stdout",
     "output_type": "stream",
     "text": [
      "\n",
      "      Epoch    GPU_mem   box_loss   seg_loss   cls_loss   dfl_loss  Instances       Size\n"
     ]
    },
    {
     "name": "stderr",
     "output_type": "stream",
     "text": [
      "      30/50         0G      0.701     0.6059     0.5071      0.907         33        640: 100%|██████████| 55/55 [16:21<00:00, 17.85s/it]\n",
      "                 Class     Images  Instances      Box(P          R      mAP50  mAP50-95)     Mask(P          R      mAP50  mAP50-95): 100%|██████████| 4/4 [00:39<00:00,  9.75s/it]"
     ]
    },
    {
     "name": "stdout",
     "output_type": "stream",
     "text": [
      "                   all        110        110      0.986          1      0.995      0.857      0.986          1      0.995      0.872\n"
     ]
    },
    {
     "name": "stderr",
     "output_type": "stream",
     "text": [
      "\n"
     ]
    },
    {
     "name": "stdout",
     "output_type": "stream",
     "text": [
      "\n",
      "      Epoch    GPU_mem   box_loss   seg_loss   cls_loss   dfl_loss  Instances       Size\n"
     ]
    },
    {
     "name": "stderr",
     "output_type": "stream",
     "text": [
      "      31/50         0G     0.6948     0.6041     0.4927     0.8973         34        640: 100%|██████████| 55/55 [16:17<00:00, 17.77s/it]\n",
      "                 Class     Images  Instances      Box(P          R      mAP50  mAP50-95)     Mask(P          R      mAP50  mAP50-95): 100%|██████████| 4/4 [00:38<00:00,  9.69s/it]"
     ]
    },
    {
     "name": "stdout",
     "output_type": "stream",
     "text": [
      "                   all        110        110       0.99          1      0.995       0.86       0.99          1      0.995      0.867\n"
     ]
    },
    {
     "name": "stderr",
     "output_type": "stream",
     "text": [
      "\n"
     ]
    },
    {
     "name": "stdout",
     "output_type": "stream",
     "text": [
      "\n",
      "      Epoch    GPU_mem   box_loss   seg_loss   cls_loss   dfl_loss  Instances       Size\n"
     ]
    },
    {
     "name": "stderr",
     "output_type": "stream",
     "text": [
      "      32/50         0G     0.6693     0.5427     0.4731     0.8879         34        640: 100%|██████████| 55/55 [16:21<00:00, 17.85s/it]\n",
      "                 Class     Images  Instances      Box(P          R      mAP50  mAP50-95)     Mask(P          R      mAP50  mAP50-95): 100%|██████████| 4/4 [00:38<00:00,  9.60s/it]"
     ]
    },
    {
     "name": "stdout",
     "output_type": "stream",
     "text": [
      "                   all        110        110          1          1      0.995      0.879          1          1      0.995      0.877\n"
     ]
    },
    {
     "name": "stderr",
     "output_type": "stream",
     "text": [
      "\n"
     ]
    },
    {
     "name": "stdout",
     "output_type": "stream",
     "text": [
      "\n",
      "      Epoch    GPU_mem   box_loss   seg_loss   cls_loss   dfl_loss  Instances       Size\n"
     ]
    },
    {
     "name": "stderr",
     "output_type": "stream",
     "text": [
      "      33/50         0G     0.6671     0.5639     0.4703     0.8899         26        640: 100%|██████████| 55/55 [15:59<00:00, 17.44s/it]\n",
      "                 Class     Images  Instances      Box(P          R      mAP50  mAP50-95)     Mask(P          R      mAP50  mAP50-95): 100%|██████████| 4/4 [00:38<00:00,  9.66s/it]"
     ]
    },
    {
     "name": "stdout",
     "output_type": "stream",
     "text": [
      "                   all        110        110          1      0.999      0.995      0.892          1      0.999      0.995      0.874\n"
     ]
    },
    {
     "name": "stderr",
     "output_type": "stream",
     "text": [
      "\n"
     ]
    },
    {
     "name": "stdout",
     "output_type": "stream",
     "text": [
      "\n",
      "      Epoch    GPU_mem   box_loss   seg_loss   cls_loss   dfl_loss  Instances       Size\n"
     ]
    },
    {
     "name": "stderr",
     "output_type": "stream",
     "text": [
      "      34/50         0G     0.6275     0.5572     0.4484     0.8946         29        640: 100%|██████████| 55/55 [16:15<00:00, 17.74s/it]\n",
      "                 Class     Images  Instances      Box(P          R      mAP50  mAP50-95)     Mask(P          R      mAP50  mAP50-95): 100%|██████████| 4/4 [00:38<00:00,  9.70s/it]"
     ]
    },
    {
     "name": "stdout",
     "output_type": "stream",
     "text": [
      "                   all        110        110      0.997          1      0.995      0.891      0.997          1      0.995      0.867\n"
     ]
    },
    {
     "name": "stderr",
     "output_type": "stream",
     "text": [
      "\n"
     ]
    },
    {
     "name": "stdout",
     "output_type": "stream",
     "text": [
      "\n",
      "      Epoch    GPU_mem   box_loss   seg_loss   cls_loss   dfl_loss  Instances       Size\n"
     ]
    },
    {
     "name": "stderr",
     "output_type": "stream",
     "text": [
      "      35/50         0G     0.6553      0.568       0.46     0.8859         31        640: 100%|██████████| 55/55 [16:18<00:00, 17.78s/it]\n",
      "                 Class     Images  Instances      Box(P          R      mAP50  mAP50-95)     Mask(P          R      mAP50  mAP50-95): 100%|██████████| 4/4 [00:38<00:00,  9.67s/it]"
     ]
    },
    {
     "name": "stdout",
     "output_type": "stream",
     "text": [
      "                   all        110        110      0.997          1      0.995      0.898      0.997          1      0.995      0.857\n"
     ]
    },
    {
     "name": "stderr",
     "output_type": "stream",
     "text": [
      "\n"
     ]
    },
    {
     "name": "stdout",
     "output_type": "stream",
     "text": [
      "\n",
      "      Epoch    GPU_mem   box_loss   seg_loss   cls_loss   dfl_loss  Instances       Size\n"
     ]
    },
    {
     "name": "stderr",
     "output_type": "stream",
     "text": [
      "      36/50         0G     0.6346     0.5364     0.4567     0.8872         31        640: 100%|██████████| 55/55 [16:28<00:00, 17.97s/it]\n",
      "                 Class     Images  Instances      Box(P          R      mAP50  mAP50-95)     Mask(P          R      mAP50  mAP50-95): 100%|██████████| 4/4 [00:38<00:00,  9.72s/it]"
     ]
    },
    {
     "name": "stdout",
     "output_type": "stream",
     "text": [
      "                   all        110        110      0.999      0.991      0.995      0.872      0.999      0.991      0.995      0.868\n"
     ]
    },
    {
     "name": "stderr",
     "output_type": "stream",
     "text": [
      "\n"
     ]
    },
    {
     "name": "stdout",
     "output_type": "stream",
     "text": [
      "\n",
      "      Epoch    GPU_mem   box_loss   seg_loss   cls_loss   dfl_loss  Instances       Size\n"
     ]
    },
    {
     "name": "stderr",
     "output_type": "stream",
     "text": [
      "      37/50         0G     0.6279      0.532     0.4533       0.89         28        640: 100%|██████████| 55/55 [16:19<00:00, 17.80s/it]\n",
      "                 Class     Images  Instances      Box(P          R      mAP50  mAP50-95)     Mask(P          R      mAP50  mAP50-95): 100%|██████████| 4/4 [00:38<00:00,  9.71s/it]"
     ]
    },
    {
     "name": "stdout",
     "output_type": "stream",
     "text": [
      "                   all        110        110          1      0.999      0.995      0.888          1      0.999      0.995      0.878\n"
     ]
    },
    {
     "name": "stderr",
     "output_type": "stream",
     "text": [
      "\n"
     ]
    },
    {
     "name": "stdout",
     "output_type": "stream",
     "text": [
      "\n",
      "      Epoch    GPU_mem   box_loss   seg_loss   cls_loss   dfl_loss  Instances       Size\n"
     ]
    },
    {
     "name": "stderr",
     "output_type": "stream",
     "text": [
      "      38/50         0G     0.6117     0.5087      0.455      0.877         27        640: 100%|██████████| 55/55 [16:37<00:00, 18.13s/it]\n",
      "                 Class     Images  Instances      Box(P          R      mAP50  mAP50-95)     Mask(P          R      mAP50  mAP50-95): 100%|██████████| 4/4 [00:39<00:00,  9.78s/it]"
     ]
    },
    {
     "name": "stdout",
     "output_type": "stream",
     "text": [
      "                   all        110        110      0.999          1      0.995      0.898      0.999          1      0.995      0.892\n"
     ]
    },
    {
     "name": "stderr",
     "output_type": "stream",
     "text": [
      "\n"
     ]
    },
    {
     "name": "stdout",
     "output_type": "stream",
     "text": [
      "\n",
      "      Epoch    GPU_mem   box_loss   seg_loss   cls_loss   dfl_loss  Instances       Size\n"
     ]
    },
    {
     "name": "stderr",
     "output_type": "stream",
     "text": [
      "      39/50         0G     0.6089     0.5417       0.44     0.8702         32        640: 100%|██████████| 55/55 [16:33<00:00, 18.07s/it]\n",
      "                 Class     Images  Instances      Box(P          R      mAP50  mAP50-95)     Mask(P          R      mAP50  mAP50-95): 100%|██████████| 4/4 [00:39<00:00,  9.75s/it]"
     ]
    },
    {
     "name": "stdout",
     "output_type": "stream",
     "text": [
      "                   all        110        110       0.99          1      0.992      0.892       0.99          1      0.992      0.865\n"
     ]
    },
    {
     "name": "stderr",
     "output_type": "stream",
     "text": [
      "\n"
     ]
    },
    {
     "name": "stdout",
     "output_type": "stream",
     "text": [
      "\n",
      "      Epoch    GPU_mem   box_loss   seg_loss   cls_loss   dfl_loss  Instances       Size\n"
     ]
    },
    {
     "name": "stderr",
     "output_type": "stream",
     "text": [
      "      40/50         0G     0.6069     0.5321     0.4371     0.8787         30        640: 100%|██████████| 55/55 [16:30<00:00, 18.01s/it]\n",
      "                 Class     Images  Instances      Box(P          R      mAP50  mAP50-95)     Mask(P          R      mAP50  mAP50-95): 100%|██████████| 4/4 [00:39<00:00,  9.79s/it]"
     ]
    },
    {
     "name": "stdout",
     "output_type": "stream",
     "text": [
      "                   all        110        110      0.982          1      0.994      0.886      0.982          1      0.994      0.873\n"
     ]
    },
    {
     "name": "stderr",
     "output_type": "stream",
     "text": [
      "\n"
     ]
    },
    {
     "name": "stdout",
     "output_type": "stream",
     "text": [
      "Closing dataloader mosaic\n",
      "\n",
      "      Epoch    GPU_mem   box_loss   seg_loss   cls_loss   dfl_loss  Instances       Size\n"
     ]
    },
    {
     "name": "stderr",
     "output_type": "stream",
     "text": [
      "      41/50         0G      0.476     0.4668     0.3605     0.8084         16        640: 100%|██████████| 55/55 [16:18<00:00, 17.78s/it]\n",
      "                 Class     Images  Instances      Box(P          R      mAP50  mAP50-95)     Mask(P          R      mAP50  mAP50-95): 100%|██████████| 4/4 [00:38<00:00,  9.69s/it]"
     ]
    },
    {
     "name": "stdout",
     "output_type": "stream",
     "text": [
      "                   all        110        110          1      0.991      0.995      0.899          1      0.991      0.995      0.895\n"
     ]
    },
    {
     "name": "stderr",
     "output_type": "stream",
     "text": [
      "\n"
     ]
    },
    {
     "name": "stdout",
     "output_type": "stream",
     "text": [
      "\n",
      "      Epoch    GPU_mem   box_loss   seg_loss   cls_loss   dfl_loss  Instances       Size\n"
     ]
    },
    {
     "name": "stderr",
     "output_type": "stream",
     "text": [
      "      42/50         0G     0.4803     0.4368     0.3597     0.8023         16        640: 100%|██████████| 55/55 [16:27<00:00, 17.95s/it]\n",
      "                 Class     Images  Instances      Box(P          R      mAP50  mAP50-95)     Mask(P          R      mAP50  mAP50-95): 100%|██████████| 4/4 [00:39<00:00,  9.76s/it]"
     ]
    },
    {
     "name": "stdout",
     "output_type": "stream",
     "text": [
      "                   all        110        110      0.991      0.999      0.994      0.902      0.991      0.999      0.994      0.881\n"
     ]
    },
    {
     "name": "stderr",
     "output_type": "stream",
     "text": [
      "\n"
     ]
    },
    {
     "name": "stdout",
     "output_type": "stream",
     "text": [
      "\n",
      "      Epoch    GPU_mem   box_loss   seg_loss   cls_loss   dfl_loss  Instances       Size\n"
     ]
    },
    {
     "name": "stderr",
     "output_type": "stream",
     "text": [
      "      43/50         0G     0.4606     0.4349     0.3398     0.8116         16        640: 100%|██████████| 55/55 [16:13<00:00, 17.71s/it]\n",
      "                 Class     Images  Instances      Box(P          R      mAP50  mAP50-95)     Mask(P          R      mAP50  mAP50-95): 100%|██████████| 4/4 [00:39<00:00,  9.80s/it]"
     ]
    },
    {
     "name": "stdout",
     "output_type": "stream",
     "text": [
      "                   all        110        110      0.991          1      0.995      0.895      0.991          1      0.995      0.889\n"
     ]
    },
    {
     "name": "stderr",
     "output_type": "stream",
     "text": [
      "\n"
     ]
    },
    {
     "name": "stdout",
     "output_type": "stream",
     "text": [
      "\n",
      "      Epoch    GPU_mem   box_loss   seg_loss   cls_loss   dfl_loss  Instances       Size\n"
     ]
    },
    {
     "name": "stderr",
     "output_type": "stream",
     "text": [
      "      44/50         0G     0.4472     0.4229     0.3322     0.8008         16        640: 100%|██████████| 55/55 [16:12<00:00, 17.68s/it]\n",
      "                 Class     Images  Instances      Box(P          R      mAP50  mAP50-95)     Mask(P          R      mAP50  mAP50-95): 100%|██████████| 4/4 [00:39<00:00,  9.83s/it]"
     ]
    },
    {
     "name": "stdout",
     "output_type": "stream",
     "text": [
      "                   all        110        110       0.99          1      0.995      0.892       0.99          1      0.995       0.88\n"
     ]
    },
    {
     "name": "stderr",
     "output_type": "stream",
     "text": [
      "\n"
     ]
    },
    {
     "name": "stdout",
     "output_type": "stream",
     "text": [
      "\n",
      "      Epoch    GPU_mem   box_loss   seg_loss   cls_loss   dfl_loss  Instances       Size\n"
     ]
    },
    {
     "name": "stderr",
     "output_type": "stream",
     "text": [
      "      45/50         0G     0.4414      0.444     0.3237      0.799         16        640: 100%|██████████| 55/55 [15:57<00:00, 17.41s/it]\n",
      "                 Class     Images  Instances      Box(P          R      mAP50  mAP50-95)     Mask(P          R      mAP50  mAP50-95): 100%|██████████| 4/4 [00:38<00:00,  9.70s/it]"
     ]
    },
    {
     "name": "stdout",
     "output_type": "stream",
     "text": [
      "                   all        110        110      0.997      0.991      0.995      0.902      0.997      0.991      0.995      0.891\n"
     ]
    },
    {
     "name": "stderr",
     "output_type": "stream",
     "text": [
      "\n"
     ]
    },
    {
     "name": "stdout",
     "output_type": "stream",
     "text": [
      "\n",
      "      Epoch    GPU_mem   box_loss   seg_loss   cls_loss   dfl_loss  Instances       Size\n"
     ]
    },
    {
     "name": "stderr",
     "output_type": "stream",
     "text": [
      "      46/50         0G     0.4371     0.4277      0.323     0.8009         16        640: 100%|██████████| 55/55 [16:07<00:00, 17.59s/it]\n",
      "                 Class     Images  Instances      Box(P          R      mAP50  mAP50-95)     Mask(P          R      mAP50  mAP50-95): 100%|██████████| 4/4 [00:39<00:00,  9.96s/it]"
     ]
    },
    {
     "name": "stdout",
     "output_type": "stream",
     "text": [
      "                   all        110        110       0.99          1      0.995      0.903       0.99          1      0.995      0.885\n"
     ]
    },
    {
     "name": "stderr",
     "output_type": "stream",
     "text": [
      "\n"
     ]
    },
    {
     "name": "stdout",
     "output_type": "stream",
     "text": [
      "\n",
      "      Epoch    GPU_mem   box_loss   seg_loss   cls_loss   dfl_loss  Instances       Size\n"
     ]
    },
    {
     "name": "stderr",
     "output_type": "stream",
     "text": [
      "      47/50         0G     0.4191       0.43     0.3152     0.7972         16        640: 100%|██████████| 55/55 [16:06<00:00, 17.58s/it]\n",
      "                 Class     Images  Instances      Box(P          R      mAP50  mAP50-95)     Mask(P          R      mAP50  mAP50-95): 100%|██████████| 4/4 [00:39<00:00,  9.84s/it]"
     ]
    },
    {
     "name": "stdout",
     "output_type": "stream",
     "text": [
      "                   all        110        110       0.99          1      0.995      0.897       0.99          1      0.995      0.885\n"
     ]
    },
    {
     "name": "stderr",
     "output_type": "stream",
     "text": [
      "\n"
     ]
    },
    {
     "name": "stdout",
     "output_type": "stream",
     "text": [
      "\n",
      "      Epoch    GPU_mem   box_loss   seg_loss   cls_loss   dfl_loss  Instances       Size\n"
     ]
    },
    {
     "name": "stderr",
     "output_type": "stream",
     "text": [
      "      48/50         0G     0.4208      0.424     0.3092     0.7954         16        640: 100%|██████████| 55/55 [16:34<00:00, 18.08s/it]\n",
      "                 Class     Images  Instances      Box(P          R      mAP50  mAP50-95)     Mask(P          R      mAP50  mAP50-95): 100%|██████████| 4/4 [00:39<00:00,  9.81s/it]"
     ]
    },
    {
     "name": "stdout",
     "output_type": "stream",
     "text": [
      "                   all        110        110       0.99          1      0.995      0.916       0.99          1      0.995      0.885\n"
     ]
    },
    {
     "name": "stderr",
     "output_type": "stream",
     "text": [
      "\n"
     ]
    },
    {
     "name": "stdout",
     "output_type": "stream",
     "text": [
      "\n",
      "      Epoch    GPU_mem   box_loss   seg_loss   cls_loss   dfl_loss  Instances       Size\n"
     ]
    },
    {
     "name": "stderr",
     "output_type": "stream",
     "text": [
      "      49/50         0G     0.4067     0.4151     0.3052     0.7948         16        640: 100%|██████████| 55/55 [16:21<00:00, 17.85s/it]\n",
      "                 Class     Images  Instances      Box(P          R      mAP50  mAP50-95)     Mask(P          R      mAP50  mAP50-95): 100%|██████████| 4/4 [00:39<00:00,  9.88s/it]"
     ]
    },
    {
     "name": "stdout",
     "output_type": "stream",
     "text": [
      "                   all        110        110       0.99          1      0.995      0.915       0.99          1      0.995      0.889\n"
     ]
    },
    {
     "name": "stderr",
     "output_type": "stream",
     "text": [
      "\n"
     ]
    },
    {
     "name": "stdout",
     "output_type": "stream",
     "text": [
      "\n",
      "      Epoch    GPU_mem   box_loss   seg_loss   cls_loss   dfl_loss  Instances       Size\n"
     ]
    },
    {
     "name": "stderr",
     "output_type": "stream",
     "text": [
      "      50/50         0G     0.3896     0.4237     0.2941     0.7934         16        640: 100%|██████████| 55/55 [16:12<00:00, 17.68s/it]\n",
      "                 Class     Images  Instances      Box(P          R      mAP50  mAP50-95)     Mask(P          R      mAP50  mAP50-95): 100%|██████████| 4/4 [00:38<00:00,  9.74s/it]"
     ]
    },
    {
     "name": "stdout",
     "output_type": "stream",
     "text": [
      "                   all        110        110          1      0.997      0.995      0.924          1      0.997      0.995      0.895\n"
     ]
    },
    {
     "name": "stderr",
     "output_type": "stream",
     "text": [
      "\n"
     ]
    },
    {
     "name": "stdout",
     "output_type": "stream",
     "text": [
      "\n",
      "50 epochs completed in 14.853 hours.\n",
      "Optimizer stripped from runs\\segment\\train\\weights\\last.pt, 6.0MB\n",
      "Optimizer stripped from runs\\segment\\train\\weights\\best.pt, 6.0MB\n",
      "\n",
      "Validating runs\\segment\\train\\weights\\best.pt...\n",
      "Ultralytics 8.3.47  Python-3.12.6 torch-2.5.1+cpu CPU (AMD Ryzen 5 2500U with Radeon Vega Mobile Gfx)\n",
      "YOLO11n-seg summary (fused): 265 layers, 2,834,763 parameters, 0 gradients, 10.2 GFLOPs\n"
     ]
    },
    {
     "name": "stderr",
     "output_type": "stream",
     "text": [
      "                 Class     Images  Instances      Box(P          R      mAP50  mAP50-95)     Mask(P          R      mAP50  mAP50-95): 100%|██████████| 4/4 [00:36<00:00,  9.03s/it]\n"
     ]
    },
    {
     "name": "stdout",
     "output_type": "stream",
     "text": [
      "                   all        110        110          1      0.997      0.995      0.924          1      0.997      0.995      0.895\n",
      "Speed: 2.7ms preprocess, 266.2ms inference, 0.0ms loss, 1.1ms postprocess per image\n",
      "Results saved to \u001b[1mruns\\segment\\train\u001b[0m\n"
     ]
    }
   ],
   "source": [
    "# Directorio del archivo YAML\n",
    "data_dir = Path(CURRENT_PATH) / 'data' / 'data.yaml'\n",
    "\n",
    "# Ruta del modelo, asegúrate de que el archivo esté en el directorio correcto\n",
    "model_path = Path(CURRENT_PATH) / 'yolo11n-seg.pt'\n",
    "\n",
    "# Cargar el modelo YOLOv11 de segmentación\n",
    "model = YOLO(model_path)\n",
    "\n",
    "# Continuar desde el último checkpoint\n",
    "train_results = model.train(\n",
    "    data=data_dir,         # Directorio con el archivo YAML\n",
    "    epochs=50,             # Número de épocas\n",
    "    imgsz=640,             # Tamaño de las imágenes\n",
    "    batch=16,              # Tamaño del batch\n",
    "    task='segmentation'    # Especificar que es una tarea de segmentación\n",
    ")"
   ]
  },
  {
   "cell_type": "code",
   "execution_count": 5,
   "metadata": {},
   "outputs": [
    {
     "name": "stdout",
     "output_type": "stream",
     "text": [
      "Ultralytics 8.3.47  Python-3.12.6 torch-2.5.1+cpu CPU (AMD Ryzen 5 2500U with Radeon Vega Mobile Gfx)\n",
      "YOLO11n-seg summary (fused): 265 layers, 2,834,763 parameters, 0 gradients, 10.2 GFLOPs\n"
     ]
    },
    {
     "name": "stderr",
     "output_type": "stream",
     "text": [
      "\u001b[34m\u001b[1mval: \u001b[0mScanning C:\\Users\\HP\\Desktop\\PM\\data\\labels\\val.cache... 110 images, 0 backgrounds, 0 corrupt: 100%|██████████| 110/110 [00:00<?, ?it/s]\n",
      "                 Class     Images  Instances      Box(P          R      mAP50  mAP50-95)     Mask(P          R      mAP50  mAP50-95): 100%|██████████| 7/7 [00:25<00:00,  3.68s/it]\n"
     ]
    },
    {
     "name": "stdout",
     "output_type": "stream",
     "text": [
      "                   all        110        110          1      0.997      0.995      0.924          1      0.997      0.995      0.894\n",
      "Speed: 3.0ms preprocess, 172.7ms inference, 0.0ms loss, 2.5ms postprocess per image\n",
      "Results saved to \u001b[1mruns\\segmentation\\val\u001b[0m\n",
      "Resultados de Validación:\n",
      "ultralytics.utils.metrics.SegmentMetrics object with attributes:\n",
      "\n",
      "ap_class_index: array([0])\n",
      "box: ultralytics.utils.metrics.Metric object\n",
      "confusion_matrix: <ultralytics.utils.metrics.ConfusionMatrix object at 0x000001DE65D81640>\n",
      "curves: ['Precision-Recall(B)', 'F1-Confidence(B)', 'Precision-Confidence(B)', 'Recall-Confidence(B)', 'Precision-Recall(M)', 'F1-Confidence(M)', 'Precision-Confidence(M)', 'Recall-Confidence(M)']\n",
      "curves_results: [[array([          0,    0.001001,    0.002002,    0.003003,    0.004004,    0.005005,    0.006006,    0.007007,    0.008008,    0.009009,     0.01001,    0.011011,    0.012012,    0.013013,    0.014014,    0.015015,    0.016016,    0.017017,    0.018018,    0.019019,     0.02002,    0.021021,    0.022022,    0.023023,\n",
      "          0.024024,    0.025025,    0.026026,    0.027027,    0.028028,    0.029029,     0.03003,    0.031031,    0.032032,    0.033033,    0.034034,    0.035035,    0.036036,    0.037037,    0.038038,    0.039039,     0.04004,    0.041041,    0.042042,    0.043043,    0.044044,    0.045045,    0.046046,    0.047047,\n",
      "          0.048048,    0.049049,     0.05005,    0.051051,    0.052052,    0.053053,    0.054054,    0.055055,    0.056056,    0.057057,    0.058058,    0.059059,     0.06006,    0.061061,    0.062062,    0.063063,    0.064064,    0.065065,    0.066066,    0.067067,    0.068068,    0.069069,     0.07007,    0.071071,\n",
      "          0.072072,    0.073073,    0.074074,    0.075075,    0.076076,    0.077077,    0.078078,    0.079079,     0.08008,    0.081081,    0.082082,    0.083083,    0.084084,    0.085085,    0.086086,    0.087087,    0.088088,    0.089089,     0.09009,    0.091091,    0.092092,    0.093093,    0.094094,    0.095095,\n",
      "          0.096096,    0.097097,    0.098098,    0.099099,      0.1001,      0.1011,      0.1021,      0.1031,      0.1041,     0.10511,     0.10611,     0.10711,     0.10811,     0.10911,     0.11011,     0.11111,     0.11211,     0.11311,     0.11411,     0.11512,     0.11612,     0.11712,     0.11812,     0.11912,\n",
      "           0.12012,     0.12112,     0.12212,     0.12312,     0.12412,     0.12513,     0.12613,     0.12713,     0.12813,     0.12913,     0.13013,     0.13113,     0.13213,     0.13313,     0.13413,     0.13514,     0.13614,     0.13714,     0.13814,     0.13914,     0.14014,     0.14114,     0.14214,     0.14314,\n",
      "           0.14414,     0.14515,     0.14615,     0.14715,     0.14815,     0.14915,     0.15015,     0.15115,     0.15215,     0.15315,     0.15415,     0.15516,     0.15616,     0.15716,     0.15816,     0.15916,     0.16016,     0.16116,     0.16216,     0.16316,     0.16416,     0.16517,     0.16617,     0.16717,\n",
      "           0.16817,     0.16917,     0.17017,     0.17117,     0.17217,     0.17317,     0.17417,     0.17518,     0.17618,     0.17718,     0.17818,     0.17918,     0.18018,     0.18118,     0.18218,     0.18318,     0.18418,     0.18519,     0.18619,     0.18719,     0.18819,     0.18919,     0.19019,     0.19119,\n",
      "           0.19219,     0.19319,     0.19419,      0.1952,      0.1962,      0.1972,      0.1982,      0.1992,      0.2002,      0.2012,      0.2022,      0.2032,      0.2042,     0.20521,     0.20621,     0.20721,     0.20821,     0.20921,     0.21021,     0.21121,     0.21221,     0.21321,     0.21421,     0.21522,\n",
      "           0.21622,     0.21722,     0.21822,     0.21922,     0.22022,     0.22122,     0.22222,     0.22322,     0.22422,     0.22523,     0.22623,     0.22723,     0.22823,     0.22923,     0.23023,     0.23123,     0.23223,     0.23323,     0.23423,     0.23524,     0.23624,     0.23724,     0.23824,     0.23924,\n",
      "           0.24024,     0.24124,     0.24224,     0.24324,     0.24424,     0.24525,     0.24625,     0.24725,     0.24825,     0.24925,     0.25025,     0.25125,     0.25225,     0.25325,     0.25425,     0.25526,     0.25626,     0.25726,     0.25826,     0.25926,     0.26026,     0.26126,     0.26226,     0.26326,\n",
      "           0.26426,     0.26527,     0.26627,     0.26727,     0.26827,     0.26927,     0.27027,     0.27127,     0.27227,     0.27327,     0.27427,     0.27528,     0.27628,     0.27728,     0.27828,     0.27928,     0.28028,     0.28128,     0.28228,     0.28328,     0.28428,     0.28529,     0.28629,     0.28729,\n",
      "           0.28829,     0.28929,     0.29029,     0.29129,     0.29229,     0.29329,     0.29429,      0.2953,      0.2963,      0.2973,      0.2983,      0.2993,      0.3003,      0.3013,      0.3023,      0.3033,      0.3043,     0.30531,     0.30631,     0.30731,     0.30831,     0.30931,     0.31031,     0.31131,\n",
      "           0.31231,     0.31331,     0.31431,     0.31532,     0.31632,     0.31732,     0.31832,     0.31932,     0.32032,     0.32132,     0.32232,     0.32332,     0.32432,     0.32533,     0.32633,     0.32733,     0.32833,     0.32933,     0.33033,     0.33133,     0.33233,     0.33333,     0.33433,     0.33534,\n",
      "           0.33634,     0.33734,     0.33834,     0.33934,     0.34034,     0.34134,     0.34234,     0.34334,     0.34434,     0.34535,     0.34635,     0.34735,     0.34835,     0.34935,     0.35035,     0.35135,     0.35235,     0.35335,     0.35435,     0.35536,     0.35636,     0.35736,     0.35836,     0.35936,\n",
      "           0.36036,     0.36136,     0.36236,     0.36336,     0.36436,     0.36537,     0.36637,     0.36737,     0.36837,     0.36937,     0.37037,     0.37137,     0.37237,     0.37337,     0.37437,     0.37538,     0.37638,     0.37738,     0.37838,     0.37938,     0.38038,     0.38138,     0.38238,     0.38338,\n",
      "           0.38438,     0.38539,     0.38639,     0.38739,     0.38839,     0.38939,     0.39039,     0.39139,     0.39239,     0.39339,     0.39439,      0.3954,      0.3964,      0.3974,      0.3984,      0.3994,      0.4004,      0.4014,      0.4024,      0.4034,      0.4044,     0.40541,     0.40641,     0.40741,\n",
      "           0.40841,     0.40941,     0.41041,     0.41141,     0.41241,     0.41341,     0.41441,     0.41542,     0.41642,     0.41742,     0.41842,     0.41942,     0.42042,     0.42142,     0.42242,     0.42342,     0.42442,     0.42543,     0.42643,     0.42743,     0.42843,     0.42943,     0.43043,     0.43143,\n",
      "           0.43243,     0.43343,     0.43443,     0.43544,     0.43644,     0.43744,     0.43844,     0.43944,     0.44044,     0.44144,     0.44244,     0.44344,     0.44444,     0.44545,     0.44645,     0.44745,     0.44845,     0.44945,     0.45045,     0.45145,     0.45245,     0.45345,     0.45445,     0.45546,\n",
      "           0.45646,     0.45746,     0.45846,     0.45946,     0.46046,     0.46146,     0.46246,     0.46346,     0.46446,     0.46547,     0.46647,     0.46747,     0.46847,     0.46947,     0.47047,     0.47147,     0.47247,     0.47347,     0.47447,     0.47548,     0.47648,     0.47748,     0.47848,     0.47948,\n",
      "           0.48048,     0.48148,     0.48248,     0.48348,     0.48448,     0.48549,     0.48649,     0.48749,     0.48849,     0.48949,     0.49049,     0.49149,     0.49249,     0.49349,     0.49449,      0.4955,      0.4965,      0.4975,      0.4985,      0.4995,      0.5005,      0.5015,      0.5025,      0.5035,\n",
      "            0.5045,     0.50551,     0.50651,     0.50751,     0.50851,     0.50951,     0.51051,     0.51151,     0.51251,     0.51351,     0.51451,     0.51552,     0.51652,     0.51752,     0.51852,     0.51952,     0.52052,     0.52152,     0.52252,     0.52352,     0.52452,     0.52553,     0.52653,     0.52753,\n",
      "           0.52853,     0.52953,     0.53053,     0.53153,     0.53253,     0.53353,     0.53453,     0.53554,     0.53654,     0.53754,     0.53854,     0.53954,     0.54054,     0.54154,     0.54254,     0.54354,     0.54454,     0.54555,     0.54655,     0.54755,     0.54855,     0.54955,     0.55055,     0.55155,\n",
      "           0.55255,     0.55355,     0.55455,     0.55556,     0.55656,     0.55756,     0.55856,     0.55956,     0.56056,     0.56156,     0.56256,     0.56356,     0.56456,     0.56557,     0.56657,     0.56757,     0.56857,     0.56957,     0.57057,     0.57157,     0.57257,     0.57357,     0.57457,     0.57558,\n",
      "           0.57658,     0.57758,     0.57858,     0.57958,     0.58058,     0.58158,     0.58258,     0.58358,     0.58458,     0.58559,     0.58659,     0.58759,     0.58859,     0.58959,     0.59059,     0.59159,     0.59259,     0.59359,     0.59459,      0.5956,      0.5966,      0.5976,      0.5986,      0.5996,\n",
      "            0.6006,      0.6016,      0.6026,      0.6036,      0.6046,     0.60561,     0.60661,     0.60761,     0.60861,     0.60961,     0.61061,     0.61161,     0.61261,     0.61361,     0.61461,     0.61562,     0.61662,     0.61762,     0.61862,     0.61962,     0.62062,     0.62162,     0.62262,     0.62362,\n",
      "           0.62462,     0.62563,     0.62663,     0.62763,     0.62863,     0.62963,     0.63063,     0.63163,     0.63263,     0.63363,     0.63463,     0.63564,     0.63664,     0.63764,     0.63864,     0.63964,     0.64064,     0.64164,     0.64264,     0.64364,     0.64464,     0.64565,     0.64665,     0.64765,\n",
      "           0.64865,     0.64965,     0.65065,     0.65165,     0.65265,     0.65365,     0.65465,     0.65566,     0.65666,     0.65766,     0.65866,     0.65966,     0.66066,     0.66166,     0.66266,     0.66366,     0.66466,     0.66567,     0.66667,     0.66767,     0.66867,     0.66967,     0.67067,     0.67167,\n",
      "           0.67267,     0.67367,     0.67467,     0.67568,     0.67668,     0.67768,     0.67868,     0.67968,     0.68068,     0.68168,     0.68268,     0.68368,     0.68468,     0.68569,     0.68669,     0.68769,     0.68869,     0.68969,     0.69069,     0.69169,     0.69269,     0.69369,     0.69469,      0.6957,\n",
      "            0.6967,      0.6977,      0.6987,      0.6997,      0.7007,      0.7017,      0.7027,      0.7037,      0.7047,     0.70571,     0.70671,     0.70771,     0.70871,     0.70971,     0.71071,     0.71171,     0.71271,     0.71371,     0.71471,     0.71572,     0.71672,     0.71772,     0.71872,     0.71972,\n",
      "           0.72072,     0.72172,     0.72272,     0.72372,     0.72472,     0.72573,     0.72673,     0.72773,     0.72873,     0.72973,     0.73073,     0.73173,     0.73273,     0.73373,     0.73473,     0.73574,     0.73674,     0.73774,     0.73874,     0.73974,     0.74074,     0.74174,     0.74274,     0.74374,\n",
      "           0.74474,     0.74575,     0.74675,     0.74775,     0.74875,     0.74975,     0.75075,     0.75175,     0.75275,     0.75375,     0.75475,     0.75576,     0.75676,     0.75776,     0.75876,     0.75976,     0.76076,     0.76176,     0.76276,     0.76376,     0.76476,     0.76577,     0.76677,     0.76777,\n",
      "           0.76877,     0.76977,     0.77077,     0.77177,     0.77277,     0.77377,     0.77477,     0.77578,     0.77678,     0.77778,     0.77878,     0.77978,     0.78078,     0.78178,     0.78278,     0.78378,     0.78478,     0.78579,     0.78679,     0.78779,     0.78879,     0.78979,     0.79079,     0.79179,\n",
      "           0.79279,     0.79379,     0.79479,      0.7958,      0.7968,      0.7978,      0.7988,      0.7998,      0.8008,      0.8018,      0.8028,      0.8038,      0.8048,     0.80581,     0.80681,     0.80781,     0.80881,     0.80981,     0.81081,     0.81181,     0.81281,     0.81381,     0.81481,     0.81582,\n",
      "           0.81682,     0.81782,     0.81882,     0.81982,     0.82082,     0.82182,     0.82282,     0.82382,     0.82482,     0.82583,     0.82683,     0.82783,     0.82883,     0.82983,     0.83083,     0.83183,     0.83283,     0.83383,     0.83483,     0.83584,     0.83684,     0.83784,     0.83884,     0.83984,\n",
      "           0.84084,     0.84184,     0.84284,     0.84384,     0.84484,     0.84585,     0.84685,     0.84785,     0.84885,     0.84985,     0.85085,     0.85185,     0.85285,     0.85385,     0.85485,     0.85586,     0.85686,     0.85786,     0.85886,     0.85986,     0.86086,     0.86186,     0.86286,     0.86386,\n",
      "           0.86486,     0.86587,     0.86687,     0.86787,     0.86887,     0.86987,     0.87087,     0.87187,     0.87287,     0.87387,     0.87487,     0.87588,     0.87688,     0.87788,     0.87888,     0.87988,     0.88088,     0.88188,     0.88288,     0.88388,     0.88488,     0.88589,     0.88689,     0.88789,\n",
      "           0.88889,     0.88989,     0.89089,     0.89189,     0.89289,     0.89389,     0.89489,      0.8959,      0.8969,      0.8979,      0.8989,      0.8999,      0.9009,      0.9019,      0.9029,      0.9039,      0.9049,     0.90591,     0.90691,     0.90791,     0.90891,     0.90991,     0.91091,     0.91191,\n",
      "           0.91291,     0.91391,     0.91491,     0.91592,     0.91692,     0.91792,     0.91892,     0.91992,     0.92092,     0.92192,     0.92292,     0.92392,     0.92492,     0.92593,     0.92693,     0.92793,     0.92893,     0.92993,     0.93093,     0.93193,     0.93293,     0.93393,     0.93493,     0.93594,\n",
      "           0.93694,     0.93794,     0.93894,     0.93994,     0.94094,     0.94194,     0.94294,     0.94394,     0.94494,     0.94595,     0.94695,     0.94795,     0.94895,     0.94995,     0.95095,     0.95195,     0.95295,     0.95395,     0.95495,     0.95596,     0.95696,     0.95796,     0.95896,     0.95996,\n",
      "           0.96096,     0.96196,     0.96296,     0.96396,     0.96496,     0.96597,     0.96697,     0.96797,     0.96897,     0.96997,     0.97097,     0.97197,     0.97297,     0.97397,     0.97497,     0.97598,     0.97698,     0.97798,     0.97898,     0.97998,     0.98098,     0.98198,     0.98298,     0.98398,\n",
      "           0.98498,     0.98599,     0.98699,     0.98799,     0.98899,     0.98999,     0.99099,     0.99199,     0.99299,     0.99399,     0.99499,       0.996,       0.997,       0.998,       0.999,           1]), array([[          1,           1,           1,           1,           1,           1,           1,           1,           1,           1,           1,           1,           1,           1,           1,           1,           1,           1,           1,           1,           1,           1,           1,\n",
      "                  1,           1,           1,           1,           1,           1,           1,           1,           1,           1,           1,           1,           1,           1,           1,           1,           1,           1,           1,           1,           1,           1,           1,\n",
      "                  1,           1,           1,           1,           1,           1,           1,           1,           1,           1,           1,           1,           1,           1,           1,           1,           1,           1,           1,           1,           1,           1,           1,\n",
      "                  1,           1,           1,           1,           1,           1,           1,           1,           1,           1,           1,           1,           1,           1,           1,           1,           1,           1,           1,           1,           1,           1,           1,\n",
      "                  1,           1,           1,           1,           1,           1,           1,           1,           1,           1,           1,           1,           1,           1,           1,           1,           1,           1,           1,           1,           1,           1,           1,\n",
      "                  1,           1,           1,           1,           1,           1,           1,           1,           1,           1,           1,           1,           1,           1,           1,           1,           1,           1,           1,           1,           1,           1,           1,\n",
      "                  1,           1,           1,           1,           1,           1,           1,           1,           1,           1,           1,           1,           1,           1,           1,           1,           1,           1,           1,           1,           1,           1,           1,\n",
      "                  1,           1,           1,           1,           1,           1,           1,           1,           1,           1,           1,           1,           1,           1,           1,           1,           1,           1,           1,           1,           1,           1,           1,\n",
      "                  1,           1,           1,           1,           1,           1,           1,           1,           1,           1,           1,           1,           1,           1,           1,           1,           1,           1,           1,           1,           1,           1,           1,\n",
      "                  1,           1,           1,           1,           1,           1,           1,           1,           1,           1,           1,           1,           1,           1,           1,           1,           1,           1,           1,           1,           1,           1,           1,\n",
      "                  1,           1,           1,           1,           1,           1,           1,           1,           1,           1,           1,           1,           1,           1,           1,           1,           1,           1,           1,           1,           1,           1,           1,\n",
      "                  1,           1,           1,           1,           1,           1,           1,           1,           1,           1,           1,           1,           1,           1,           1,           1,           1,           1,           1,           1,           1,           1,           1,\n",
      "                  1,           1,           1,           1,           1,           1,           1,           1,           1,           1,           1,           1,           1,           1,           1,           1,           1,           1,           1,           1,           1,           1,           1,\n",
      "                  1,           1,           1,           1,           1,           1,           1,           1,           1,           1,           1,           1,           1,           1,           1,           1,           1,           1,           1,           1,           1,           1,           1,\n",
      "                  1,           1,           1,           1,           1,           1,           1,           1,           1,           1,           1,           1,           1,           1,           1,           1,           1,           1,           1,           1,           1,           1,           1,\n",
      "                  1,           1,           1,           1,           1,           1,           1,           1,           1,           1,           1,           1,           1,           1,           1,           1,           1,           1,           1,           1,           1,           1,           1,\n",
      "                  1,           1,           1,           1,           1,           1,           1,           1,           1,           1,           1,           1,           1,           1,           1,           1,           1,           1,           1,           1,           1,           1,           1,\n",
      "                  1,           1,           1,           1,           1,           1,           1,           1,           1,           1,           1,           1,           1,           1,           1,           1,           1,           1,           1,           1,           1,           1,           1,\n",
      "                  1,           1,           1,           1,           1,           1,           1,           1,           1,           1,           1,           1,           1,           1,           1,           1,           1,           1,           1,           1,           1,           1,           1,\n",
      "                  1,           1,           1,           1,           1,           1,           1,           1,           1,           1,           1,           1,           1,           1,           1,           1,           1,           1,           1,           1,           1,           1,           1,\n",
      "                  1,           1,           1,           1,           1,           1,           1,           1,           1,           1,           1,           1,           1,           1,           1,           1,           1,           1,           1,           1,           1,           1,           1,\n",
      "                  1,           1,           1,           1,           1,           1,           1,           1,           1,           1,           1,           1,           1,           1,           1,           1,           1,           1,           1,           1,           1,           1,           1,\n",
      "                  1,           1,           1,           1,           1,           1,           1,           1,           1,           1,           1,           1,           1,           1,           1,           1,           1,           1,           1,           1,           1,           1,           1,\n",
      "                  1,           1,           1,           1,           1,           1,           1,           1,           1,           1,           1,           1,           1,           1,           1,           1,           1,           1,           1,           1,           1,           1,           1,\n",
      "                  1,           1,           1,           1,           1,           1,           1,           1,           1,           1,           1,           1,           1,           1,           1,           1,           1,           1,           1,           1,           1,           1,           1,\n",
      "                  1,           1,           1,           1,           1,           1,           1,           1,           1,           1,           1,           1,           1,           1,           1,           1,           1,           1,           1,           1,           1,           1,           1,\n",
      "                  1,           1,           1,           1,           1,           1,           1,           1,           1,           1,           1,           1,           1,           1,           1,           1,           1,           1,           1,           1,           1,           1,           1,\n",
      "                  1,           1,           1,           1,           1,           1,           1,           1,           1,           1,           1,           1,           1,           1,           1,           1,           1,           1,           1,           1,           1,           1,           1,\n",
      "                  1,           1,           1,           1,           1,           1,           1,           1,           1,           1,           1,           1,           1,           1,           1,           1,           1,           1,           1,           1,           1,           1,           1,\n",
      "                  1,           1,           1,           1,           1,           1,           1,           1,           1,           1,           1,           1,           1,           1,           1,           1,           1,           1,           1,           1,           1,           1,           1,\n",
      "                  1,           1,           1,           1,           1,           1,           1,           1,           1,           1,           1,           1,           1,           1,           1,           1,           1,           1,           1,           1,           1,           1,           1,\n",
      "                  1,           1,           1,           1,           1,           1,           1,           1,           1,           1,           1,           1,           1,           1,           1,           1,           1,           1,           1,           1,           1,           1,           1,\n",
      "                  1,           1,           1,           1,           1,           1,           1,           1,           1,           1,           1,           1,           1,           1,           1,           1,           1,           1,           1,           1,           1,           1,           1,\n",
      "                  1,           1,           1,           1,           1,           1,           1,           1,           1,           1,           1,           1,           1,           1,           1,           1,           1,           1,           1,           1,           1,           1,           1,\n",
      "                  1,           1,           1,           1,           1,           1,           1,           1,           1,           1,           1,           1,           1,           1,           1,           1,           1,           1,           1,           1,           1,           1,           1,\n",
      "                  1,           1,           1,           1,           1,           1,           1,           1,           1,           1,           1,           1,           1,           1,           1,           1,           1,           1,           1,           1,           1,           1,           1,\n",
      "                  1,           1,           1,           1,           1,           1,           1,           1,           1,           1,           1,           1,           1,           1,           1,           1,           1,           1,           1,           1,           1,           1,           1,\n",
      "                  1,           1,           1,           1,           1,           1,           1,           1,           1,           1,           1,           1,           1,           1,           1,           1,           1,           1,           1,           1,           1,           1,           1,\n",
      "                  1,           1,           1,           1,           1,           1,           1,           1,           1,           1,           1,           1,           1,           1,           1,           1,           1,           1,           1,           1,           1,           1,           1,\n",
      "                  1,           1,           1,           1,           1,           1,           1,           1,           1,           1,           1,           1,           1,           1,           1,           1,           1,           1,           1,           1,           1,           1,           1,\n",
      "                  1,           1,           1,           1,           1,           1,           1,           1,           1,           1,           1,           1,           1,           1,           1,           1,           1,           1,           1,           1,           1,           1,           1,\n",
      "                  1,           1,           1,           1,           1,           1,           1,           1,           1,           1,           1,           1,           1,           1,           1,           1,           1,           1,           1,           1,           1,           1,           1,\n",
      "                  1,           1,           1,           1,           1,           1,           1,           1,           1,           1,           1,           1,           1,           1,           1,           1,           1,           1,           1,           1,           1,           1,           1,\n",
      "                  1,           1,           1,           1,           1,           1,           1,           1,           1,           1,           0]]), 'Recall', 'Precision'], [array([          0,    0.001001,    0.002002,    0.003003,    0.004004,    0.005005,    0.006006,    0.007007,    0.008008,    0.009009,     0.01001,    0.011011,    0.012012,    0.013013,    0.014014,    0.015015,    0.016016,    0.017017,    0.018018,    0.019019,     0.02002,    0.021021,    0.022022,    0.023023,\n",
      "          0.024024,    0.025025,    0.026026,    0.027027,    0.028028,    0.029029,     0.03003,    0.031031,    0.032032,    0.033033,    0.034034,    0.035035,    0.036036,    0.037037,    0.038038,    0.039039,     0.04004,    0.041041,    0.042042,    0.043043,    0.044044,    0.045045,    0.046046,    0.047047,\n",
      "          0.048048,    0.049049,     0.05005,    0.051051,    0.052052,    0.053053,    0.054054,    0.055055,    0.056056,    0.057057,    0.058058,    0.059059,     0.06006,    0.061061,    0.062062,    0.063063,    0.064064,    0.065065,    0.066066,    0.067067,    0.068068,    0.069069,     0.07007,    0.071071,\n",
      "          0.072072,    0.073073,    0.074074,    0.075075,    0.076076,    0.077077,    0.078078,    0.079079,     0.08008,    0.081081,    0.082082,    0.083083,    0.084084,    0.085085,    0.086086,    0.087087,    0.088088,    0.089089,     0.09009,    0.091091,    0.092092,    0.093093,    0.094094,    0.095095,\n",
      "          0.096096,    0.097097,    0.098098,    0.099099,      0.1001,      0.1011,      0.1021,      0.1031,      0.1041,     0.10511,     0.10611,     0.10711,     0.10811,     0.10911,     0.11011,     0.11111,     0.11211,     0.11311,     0.11411,     0.11512,     0.11612,     0.11712,     0.11812,     0.11912,\n",
      "           0.12012,     0.12112,     0.12212,     0.12312,     0.12412,     0.12513,     0.12613,     0.12713,     0.12813,     0.12913,     0.13013,     0.13113,     0.13213,     0.13313,     0.13413,     0.13514,     0.13614,     0.13714,     0.13814,     0.13914,     0.14014,     0.14114,     0.14214,     0.14314,\n",
      "           0.14414,     0.14515,     0.14615,     0.14715,     0.14815,     0.14915,     0.15015,     0.15115,     0.15215,     0.15315,     0.15415,     0.15516,     0.15616,     0.15716,     0.15816,     0.15916,     0.16016,     0.16116,     0.16216,     0.16316,     0.16416,     0.16517,     0.16617,     0.16717,\n",
      "           0.16817,     0.16917,     0.17017,     0.17117,     0.17217,     0.17317,     0.17417,     0.17518,     0.17618,     0.17718,     0.17818,     0.17918,     0.18018,     0.18118,     0.18218,     0.18318,     0.18418,     0.18519,     0.18619,     0.18719,     0.18819,     0.18919,     0.19019,     0.19119,\n",
      "           0.19219,     0.19319,     0.19419,      0.1952,      0.1962,      0.1972,      0.1982,      0.1992,      0.2002,      0.2012,      0.2022,      0.2032,      0.2042,     0.20521,     0.20621,     0.20721,     0.20821,     0.20921,     0.21021,     0.21121,     0.21221,     0.21321,     0.21421,     0.21522,\n",
      "           0.21622,     0.21722,     0.21822,     0.21922,     0.22022,     0.22122,     0.22222,     0.22322,     0.22422,     0.22523,     0.22623,     0.22723,     0.22823,     0.22923,     0.23023,     0.23123,     0.23223,     0.23323,     0.23423,     0.23524,     0.23624,     0.23724,     0.23824,     0.23924,\n",
      "           0.24024,     0.24124,     0.24224,     0.24324,     0.24424,     0.24525,     0.24625,     0.24725,     0.24825,     0.24925,     0.25025,     0.25125,     0.25225,     0.25325,     0.25425,     0.25526,     0.25626,     0.25726,     0.25826,     0.25926,     0.26026,     0.26126,     0.26226,     0.26326,\n",
      "           0.26426,     0.26527,     0.26627,     0.26727,     0.26827,     0.26927,     0.27027,     0.27127,     0.27227,     0.27327,     0.27427,     0.27528,     0.27628,     0.27728,     0.27828,     0.27928,     0.28028,     0.28128,     0.28228,     0.28328,     0.28428,     0.28529,     0.28629,     0.28729,\n",
      "           0.28829,     0.28929,     0.29029,     0.29129,     0.29229,     0.29329,     0.29429,      0.2953,      0.2963,      0.2973,      0.2983,      0.2993,      0.3003,      0.3013,      0.3023,      0.3033,      0.3043,     0.30531,     0.30631,     0.30731,     0.30831,     0.30931,     0.31031,     0.31131,\n",
      "           0.31231,     0.31331,     0.31431,     0.31532,     0.31632,     0.31732,     0.31832,     0.31932,     0.32032,     0.32132,     0.32232,     0.32332,     0.32432,     0.32533,     0.32633,     0.32733,     0.32833,     0.32933,     0.33033,     0.33133,     0.33233,     0.33333,     0.33433,     0.33534,\n",
      "           0.33634,     0.33734,     0.33834,     0.33934,     0.34034,     0.34134,     0.34234,     0.34334,     0.34434,     0.34535,     0.34635,     0.34735,     0.34835,     0.34935,     0.35035,     0.35135,     0.35235,     0.35335,     0.35435,     0.35536,     0.35636,     0.35736,     0.35836,     0.35936,\n",
      "           0.36036,     0.36136,     0.36236,     0.36336,     0.36436,     0.36537,     0.36637,     0.36737,     0.36837,     0.36937,     0.37037,     0.37137,     0.37237,     0.37337,     0.37437,     0.37538,     0.37638,     0.37738,     0.37838,     0.37938,     0.38038,     0.38138,     0.38238,     0.38338,\n",
      "           0.38438,     0.38539,     0.38639,     0.38739,     0.38839,     0.38939,     0.39039,     0.39139,     0.39239,     0.39339,     0.39439,      0.3954,      0.3964,      0.3974,      0.3984,      0.3994,      0.4004,      0.4014,      0.4024,      0.4034,      0.4044,     0.40541,     0.40641,     0.40741,\n",
      "           0.40841,     0.40941,     0.41041,     0.41141,     0.41241,     0.41341,     0.41441,     0.41542,     0.41642,     0.41742,     0.41842,     0.41942,     0.42042,     0.42142,     0.42242,     0.42342,     0.42442,     0.42543,     0.42643,     0.42743,     0.42843,     0.42943,     0.43043,     0.43143,\n",
      "           0.43243,     0.43343,     0.43443,     0.43544,     0.43644,     0.43744,     0.43844,     0.43944,     0.44044,     0.44144,     0.44244,     0.44344,     0.44444,     0.44545,     0.44645,     0.44745,     0.44845,     0.44945,     0.45045,     0.45145,     0.45245,     0.45345,     0.45445,     0.45546,\n",
      "           0.45646,     0.45746,     0.45846,     0.45946,     0.46046,     0.46146,     0.46246,     0.46346,     0.46446,     0.46547,     0.46647,     0.46747,     0.46847,     0.46947,     0.47047,     0.47147,     0.47247,     0.47347,     0.47447,     0.47548,     0.47648,     0.47748,     0.47848,     0.47948,\n",
      "           0.48048,     0.48148,     0.48248,     0.48348,     0.48448,     0.48549,     0.48649,     0.48749,     0.48849,     0.48949,     0.49049,     0.49149,     0.49249,     0.49349,     0.49449,      0.4955,      0.4965,      0.4975,      0.4985,      0.4995,      0.5005,      0.5015,      0.5025,      0.5035,\n",
      "            0.5045,     0.50551,     0.50651,     0.50751,     0.50851,     0.50951,     0.51051,     0.51151,     0.51251,     0.51351,     0.51451,     0.51552,     0.51652,     0.51752,     0.51852,     0.51952,     0.52052,     0.52152,     0.52252,     0.52352,     0.52452,     0.52553,     0.52653,     0.52753,\n",
      "           0.52853,     0.52953,     0.53053,     0.53153,     0.53253,     0.53353,     0.53453,     0.53554,     0.53654,     0.53754,     0.53854,     0.53954,     0.54054,     0.54154,     0.54254,     0.54354,     0.54454,     0.54555,     0.54655,     0.54755,     0.54855,     0.54955,     0.55055,     0.55155,\n",
      "           0.55255,     0.55355,     0.55455,     0.55556,     0.55656,     0.55756,     0.55856,     0.55956,     0.56056,     0.56156,     0.56256,     0.56356,     0.56456,     0.56557,     0.56657,     0.56757,     0.56857,     0.56957,     0.57057,     0.57157,     0.57257,     0.57357,     0.57457,     0.57558,\n",
      "           0.57658,     0.57758,     0.57858,     0.57958,     0.58058,     0.58158,     0.58258,     0.58358,     0.58458,     0.58559,     0.58659,     0.58759,     0.58859,     0.58959,     0.59059,     0.59159,     0.59259,     0.59359,     0.59459,      0.5956,      0.5966,      0.5976,      0.5986,      0.5996,\n",
      "            0.6006,      0.6016,      0.6026,      0.6036,      0.6046,     0.60561,     0.60661,     0.60761,     0.60861,     0.60961,     0.61061,     0.61161,     0.61261,     0.61361,     0.61461,     0.61562,     0.61662,     0.61762,     0.61862,     0.61962,     0.62062,     0.62162,     0.62262,     0.62362,\n",
      "           0.62462,     0.62563,     0.62663,     0.62763,     0.62863,     0.62963,     0.63063,     0.63163,     0.63263,     0.63363,     0.63463,     0.63564,     0.63664,     0.63764,     0.63864,     0.63964,     0.64064,     0.64164,     0.64264,     0.64364,     0.64464,     0.64565,     0.64665,     0.64765,\n",
      "           0.64865,     0.64965,     0.65065,     0.65165,     0.65265,     0.65365,     0.65465,     0.65566,     0.65666,     0.65766,     0.65866,     0.65966,     0.66066,     0.66166,     0.66266,     0.66366,     0.66466,     0.66567,     0.66667,     0.66767,     0.66867,     0.66967,     0.67067,     0.67167,\n",
      "           0.67267,     0.67367,     0.67467,     0.67568,     0.67668,     0.67768,     0.67868,     0.67968,     0.68068,     0.68168,     0.68268,     0.68368,     0.68468,     0.68569,     0.68669,     0.68769,     0.68869,     0.68969,     0.69069,     0.69169,     0.69269,     0.69369,     0.69469,      0.6957,\n",
      "            0.6967,      0.6977,      0.6987,      0.6997,      0.7007,      0.7017,      0.7027,      0.7037,      0.7047,     0.70571,     0.70671,     0.70771,     0.70871,     0.70971,     0.71071,     0.71171,     0.71271,     0.71371,     0.71471,     0.71572,     0.71672,     0.71772,     0.71872,     0.71972,\n",
      "           0.72072,     0.72172,     0.72272,     0.72372,     0.72472,     0.72573,     0.72673,     0.72773,     0.72873,     0.72973,     0.73073,     0.73173,     0.73273,     0.73373,     0.73473,     0.73574,     0.73674,     0.73774,     0.73874,     0.73974,     0.74074,     0.74174,     0.74274,     0.74374,\n",
      "           0.74474,     0.74575,     0.74675,     0.74775,     0.74875,     0.74975,     0.75075,     0.75175,     0.75275,     0.75375,     0.75475,     0.75576,     0.75676,     0.75776,     0.75876,     0.75976,     0.76076,     0.76176,     0.76276,     0.76376,     0.76476,     0.76577,     0.76677,     0.76777,\n",
      "           0.76877,     0.76977,     0.77077,     0.77177,     0.77277,     0.77377,     0.77477,     0.77578,     0.77678,     0.77778,     0.77878,     0.77978,     0.78078,     0.78178,     0.78278,     0.78378,     0.78478,     0.78579,     0.78679,     0.78779,     0.78879,     0.78979,     0.79079,     0.79179,\n",
      "           0.79279,     0.79379,     0.79479,      0.7958,      0.7968,      0.7978,      0.7988,      0.7998,      0.8008,      0.8018,      0.8028,      0.8038,      0.8048,     0.80581,     0.80681,     0.80781,     0.80881,     0.80981,     0.81081,     0.81181,     0.81281,     0.81381,     0.81481,     0.81582,\n",
      "           0.81682,     0.81782,     0.81882,     0.81982,     0.82082,     0.82182,     0.82282,     0.82382,     0.82482,     0.82583,     0.82683,     0.82783,     0.82883,     0.82983,     0.83083,     0.83183,     0.83283,     0.83383,     0.83483,     0.83584,     0.83684,     0.83784,     0.83884,     0.83984,\n",
      "           0.84084,     0.84184,     0.84284,     0.84384,     0.84484,     0.84585,     0.84685,     0.84785,     0.84885,     0.84985,     0.85085,     0.85185,     0.85285,     0.85385,     0.85485,     0.85586,     0.85686,     0.85786,     0.85886,     0.85986,     0.86086,     0.86186,     0.86286,     0.86386,\n",
      "           0.86486,     0.86587,     0.86687,     0.86787,     0.86887,     0.86987,     0.87087,     0.87187,     0.87287,     0.87387,     0.87487,     0.87588,     0.87688,     0.87788,     0.87888,     0.87988,     0.88088,     0.88188,     0.88288,     0.88388,     0.88488,     0.88589,     0.88689,     0.88789,\n",
      "           0.88889,     0.88989,     0.89089,     0.89189,     0.89289,     0.89389,     0.89489,      0.8959,      0.8969,      0.8979,      0.8989,      0.8999,      0.9009,      0.9019,      0.9029,      0.9039,      0.9049,     0.90591,     0.90691,     0.90791,     0.90891,     0.90991,     0.91091,     0.91191,\n",
      "           0.91291,     0.91391,     0.91491,     0.91592,     0.91692,     0.91792,     0.91892,     0.91992,     0.92092,     0.92192,     0.92292,     0.92392,     0.92492,     0.92593,     0.92693,     0.92793,     0.92893,     0.92993,     0.93093,     0.93193,     0.93293,     0.93393,     0.93493,     0.93594,\n",
      "           0.93694,     0.93794,     0.93894,     0.93994,     0.94094,     0.94194,     0.94294,     0.94394,     0.94494,     0.94595,     0.94695,     0.94795,     0.94895,     0.94995,     0.95095,     0.95195,     0.95295,     0.95395,     0.95495,     0.95596,     0.95696,     0.95796,     0.95896,     0.95996,\n",
      "           0.96096,     0.96196,     0.96296,     0.96396,     0.96496,     0.96597,     0.96697,     0.96797,     0.96897,     0.96997,     0.97097,     0.97197,     0.97297,     0.97397,     0.97497,     0.97598,     0.97698,     0.97798,     0.97898,     0.97998,     0.98098,     0.98198,     0.98298,     0.98398,\n",
      "           0.98498,     0.98599,     0.98699,     0.98799,     0.98899,     0.98999,     0.99099,     0.99199,     0.99299,     0.99399,     0.99499,       0.996,       0.997,       0.998,       0.999,           1]), array([[    0.84615,     0.84615,     0.92824,     0.95256,     0.96684,     0.96984,     0.97146,     0.97308,       0.975,     0.97701,     0.97877,     0.98039,     0.98199,     0.98245,     0.98279,     0.98313,     0.98347,     0.98381,     0.98415,     0.98449,     0.98483,     0.98517,     0.98551,\n",
      "            0.98584,     0.98618,     0.98652,     0.98669,     0.98684,     0.98699,     0.98714,      0.9873,     0.98745,      0.9876,     0.98775,     0.98791,     0.98806,     0.98821,     0.98836,     0.98852,     0.98867,     0.98882,     0.98897,     0.98912,     0.98927,     0.98943,     0.98958,\n",
      "            0.98973,     0.98988,     0.99003,     0.99018,     0.99034,     0.99049,     0.99064,     0.99079,     0.99094,       0.991,       0.991,     0.99101,     0.99102,     0.99102,     0.99103,     0.99104,     0.99104,     0.99105,     0.99106,     0.99106,     0.99107,     0.99108,     0.99108,\n",
      "            0.99109,      0.9911,      0.9911,     0.99111,     0.99112,     0.99112,     0.99113,     0.99114,     0.99114,     0.99115,     0.99116,     0.99116,     0.99117,     0.99118,     0.99118,     0.99119,      0.9912,      0.9912,     0.99121,     0.99121,     0.99122,     0.99123,     0.99123,\n",
      "            0.99124,     0.99125,     0.99125,     0.99126,     0.99127,     0.99127,     0.99128,     0.99129,     0.99129,      0.9913,     0.99131,     0.99131,     0.99132,     0.99133,     0.99133,     0.99134,     0.99135,     0.99135,     0.99136,     0.99137,     0.99137,     0.99138,     0.99139,\n",
      "            0.99139,      0.9914,     0.99141,     0.99141,     0.99142,     0.99143,     0.99143,     0.99144,     0.99145,     0.99145,     0.99146,     0.99147,     0.99147,     0.99148,     0.99149,     0.99149,      0.9915,     0.99151,     0.99151,     0.99152,     0.99153,     0.99153,     0.99154,\n",
      "            0.99155,     0.99155,     0.99156,     0.99157,     0.99157,     0.99158,     0.99159,     0.99159,      0.9916,     0.99161,     0.99161,     0.99162,     0.99163,     0.99163,     0.99164,     0.99165,     0.99165,     0.99166,     0.99167,     0.99167,     0.99168,     0.99169,     0.99169,\n",
      "             0.9917,     0.99171,     0.99171,     0.99172,     0.99173,     0.99173,     0.99174,     0.99175,     0.99175,     0.99176,     0.99177,     0.99177,     0.99178,     0.99179,     0.99179,      0.9918,     0.99181,     0.99181,     0.99182,     0.99183,     0.99183,     0.99184,     0.99185,\n",
      "            0.99185,     0.99186,     0.99187,     0.99187,     0.99188,     0.99189,     0.99189,      0.9919,     0.99191,     0.99191,     0.99192,     0.99193,     0.99193,     0.99194,     0.99195,     0.99195,     0.99196,     0.99197,     0.99197,     0.99198,     0.99199,     0.99199,       0.992,\n",
      "            0.99201,     0.99201,     0.99202,     0.99203,     0.99203,     0.99204,     0.99205,     0.99205,     0.99206,     0.99207,     0.99207,     0.99208,     0.99209,     0.99209,      0.9921,     0.99211,     0.99211,     0.99212,     0.99213,     0.99213,     0.99214,     0.99215,     0.99215,\n",
      "            0.99216,     0.99217,     0.99217,     0.99218,     0.99218,     0.99219,      0.9922,      0.9922,     0.99221,     0.99222,     0.99222,     0.99223,     0.99224,     0.99224,     0.99225,     0.99226,     0.99226,     0.99227,     0.99228,     0.99228,     0.99229,      0.9923,      0.9923,\n",
      "            0.99231,     0.99232,     0.99232,     0.99233,     0.99234,     0.99234,     0.99235,     0.99236,     0.99236,     0.99237,     0.99238,     0.99238,     0.99239,      0.9924,      0.9924,     0.99241,     0.99242,     0.99242,     0.99243,     0.99244,     0.99244,     0.99245,     0.99246,\n",
      "            0.99246,     0.99247,     0.99248,     0.99248,     0.99249,      0.9925,      0.9925,     0.99251,     0.99252,     0.99252,     0.99253,     0.99254,     0.99254,     0.99255,     0.99256,     0.99256,     0.99257,     0.99258,     0.99258,     0.99259,      0.9926,      0.9926,     0.99261,\n",
      "            0.99262,     0.99262,     0.99263,     0.99264,     0.99264,     0.99265,     0.99266,     0.99266,     0.99267,     0.99268,     0.99268,     0.99269,      0.9927,      0.9927,     0.99271,     0.99272,     0.99272,     0.99273,     0.99274,     0.99274,     0.99275,     0.99276,     0.99276,\n",
      "            0.99277,     0.99278,     0.99278,     0.99279,      0.9928,      0.9928,     0.99281,     0.99282,     0.99282,     0.99283,     0.99283,     0.99284,     0.99285,     0.99285,     0.99286,     0.99287,     0.99287,     0.99288,     0.99289,     0.99289,      0.9929,     0.99291,     0.99291,\n",
      "            0.99292,     0.99293,     0.99293,     0.99294,     0.99295,     0.99295,     0.99296,     0.99297,     0.99297,     0.99298,     0.99299,     0.99299,       0.993,     0.99301,     0.99301,     0.99302,     0.99303,     0.99303,     0.99304,     0.99305,     0.99305,     0.99306,     0.99307,\n",
      "            0.99307,     0.99308,     0.99309,     0.99309,      0.9931,     0.99311,     0.99311,     0.99312,     0.99313,     0.99313,     0.99314,     0.99315,     0.99315,     0.99316,     0.99317,     0.99317,     0.99318,     0.99319,     0.99319,      0.9932,     0.99321,     0.99321,     0.99322,\n",
      "            0.99323,     0.99323,     0.99324,     0.99325,     0.99325,     0.99326,     0.99327,     0.99327,     0.99328,     0.99329,     0.99329,      0.9933,     0.99331,     0.99331,     0.99332,     0.99333,     0.99333,     0.99334,     0.99335,     0.99335,     0.99336,     0.99337,     0.99337,\n",
      "            0.99338,     0.99338,     0.99339,      0.9934,      0.9934,     0.99341,     0.99342,     0.99342,     0.99343,     0.99344,     0.99344,     0.99345,     0.99346,     0.99346,     0.99347,     0.99348,     0.99348,     0.99349,      0.9935,      0.9935,     0.99351,     0.99352,     0.99352,\n",
      "            0.99353,     0.99354,     0.99354,     0.99355,     0.99356,     0.99356,     0.99357,     0.99358,     0.99358,     0.99359,      0.9936,      0.9936,     0.99361,     0.99362,     0.99362,     0.99363,     0.99364,     0.99364,     0.99365,     0.99366,     0.99366,     0.99367,     0.99368,\n",
      "            0.99368,     0.99369,      0.9937,      0.9937,     0.99371,     0.99372,     0.99372,     0.99373,     0.99374,     0.99374,     0.99375,     0.99376,     0.99376,     0.99377,     0.99378,     0.99378,     0.99379,      0.9938,      0.9938,     0.99381,     0.99382,     0.99382,     0.99383,\n",
      "            0.99383,     0.99384,     0.99385,     0.99385,     0.99386,     0.99387,     0.99387,     0.99388,     0.99389,     0.99389,      0.9939,     0.99391,     0.99391,     0.99392,     0.99393,     0.99393,     0.99394,     0.99395,     0.99395,     0.99396,     0.99397,     0.99397,     0.99398,\n",
      "            0.99399,     0.99399,       0.994,     0.99401,     0.99401,     0.99402,     0.99403,     0.99403,     0.99404,     0.99405,     0.99405,     0.99406,     0.99407,     0.99407,     0.99408,     0.99409,     0.99409,      0.9941,     0.99411,     0.99411,     0.99412,     0.99413,     0.99413,\n",
      "            0.99414,     0.99415,     0.99415,     0.99416,     0.99417,     0.99417,     0.99418,     0.99419,     0.99419,      0.9942,     0.99421,     0.99421,     0.99422,     0.99423,     0.99423,     0.99424,     0.99424,     0.99425,     0.99426,     0.99426,     0.99427,     0.99428,     0.99428,\n",
      "            0.99429,      0.9943,      0.9943,     0.99431,     0.99432,     0.99432,     0.99433,     0.99434,     0.99434,     0.99435,     0.99436,     0.99436,     0.99437,     0.99438,     0.99438,     0.99439,      0.9944,      0.9944,     0.99441,     0.99442,     0.99442,     0.99443,     0.99444,\n",
      "            0.99444,     0.99445,     0.99446,     0.99446,     0.99447,     0.99448,     0.99448,     0.99449,      0.9945,      0.9945,     0.99451,     0.99452,     0.99452,     0.99453,     0.99454,     0.99454,     0.99455,     0.99456,     0.99456,     0.99457,     0.99458,     0.99458,     0.99459,\n",
      "             0.9946,      0.9946,     0.99461,     0.99461,     0.99462,     0.99463,     0.99463,     0.99464,     0.99465,     0.99465,     0.99466,     0.99467,     0.99467,     0.99468,     0.99469,     0.99469,      0.9947,     0.99471,     0.99471,     0.99472,     0.99473,     0.99473,     0.99474,\n",
      "            0.99475,     0.99475,     0.99476,     0.99477,     0.99477,     0.99478,     0.99479,     0.99479,      0.9948,     0.99481,     0.99481,     0.99482,     0.99483,     0.99483,     0.99484,     0.99485,     0.99485,     0.99486,     0.99487,     0.99487,     0.99488,     0.99489,     0.99489,\n",
      "             0.9949,     0.99491,     0.99491,     0.99492,     0.99493,     0.99493,     0.99494,     0.99495,     0.99495,     0.99496,     0.99496,     0.99497,     0.99498,     0.99498,     0.99499,       0.995,       0.995,     0.99501,     0.99502,     0.99502,     0.99503,     0.99504,     0.99504,\n",
      "            0.99505,     0.99506,     0.99506,     0.99507,     0.99508,     0.99508,     0.99509,      0.9951,      0.9951,     0.99511,     0.99512,     0.99512,     0.99513,     0.99514,     0.99514,     0.99515,     0.99516,     0.99516,     0.99517,     0.99518,     0.99518,     0.99519,      0.9952,\n",
      "             0.9952,     0.99521,     0.99522,     0.99522,     0.99523,     0.99524,     0.99524,     0.99525,     0.99526,     0.99526,     0.99527,     0.99528,     0.99528,     0.99529,     0.99529,      0.9953,     0.99531,     0.99531,     0.99532,     0.99533,     0.99533,     0.99534,     0.99535,\n",
      "            0.99535,     0.99536,     0.99537,     0.99537,     0.99538,     0.99539,     0.99539,      0.9954,     0.99541,     0.99541,     0.99542,     0.99543,     0.99543,     0.99544,     0.99545,     0.99545,     0.99546,     0.99547,     0.99547,     0.99561,     0.99582,     0.99602,     0.99623,\n",
      "            0.99643,     0.99664,     0.99684,     0.99705,     0.99726,     0.99746,     0.99766,     0.99787,     0.99807,     0.99828,     0.99848,     0.99869,     0.99889,      0.9991,      0.9993,      0.9995,     0.99971,     0.99991,     0.99997,     0.99991,     0.99985,      0.9998,     0.99974,\n",
      "            0.99968,     0.99962,     0.99957,     0.99951,     0.99945,      0.9994,     0.99934,     0.99928,     0.99922,     0.99917,     0.99911,     0.99905,       0.999,     0.99894,     0.99888,     0.99882,     0.99877,     0.99871,     0.99865,     0.99859,     0.99854,     0.99848,     0.99842,\n",
      "            0.99836,     0.99831,     0.99825,     0.99819,     0.99814,     0.99808,     0.99802,     0.99796,     0.99791,     0.99785,     0.99779,     0.99773,     0.99768,     0.99762,     0.99756,      0.9975,     0.99745,     0.99739,     0.99733,     0.99727,     0.99722,     0.99716,      0.9971,\n",
      "            0.99704,     0.99699,     0.99693,     0.99687,     0.99681,     0.99676,      0.9967,     0.99664,     0.99658,     0.99653,     0.99647,     0.99641,     0.99635,      0.9963,     0.99624,     0.99618,     0.99612,     0.99607,     0.99601,     0.99595,     0.99589,     0.99584,     0.99578,\n",
      "            0.99572,     0.99566,     0.99561,     0.99555,     0.99549,      0.9954,     0.99275,     0.99066,     0.99004,     0.98943,     0.98881,     0.98819,     0.98757,     0.98695,     0.98633,     0.98595,     0.98565,     0.98535,     0.98506,     0.98476,     0.98446,     0.98416,     0.98386,\n",
      "            0.98356,     0.98326,     0.98296,     0.98266,     0.98236,     0.98205,     0.98175,     0.98142,     0.98076,      0.9801,     0.97945,     0.97879,     0.97813,     0.97747,      0.9768,     0.97331,     0.96736,     0.96558,     0.96396,     0.96234,     0.95728,     0.95544,     0.95359,\n",
      "             0.9512,     0.94779,     0.94115,     0.93285,     0.92595,      0.9246,     0.92324,     0.92189,     0.92072,     0.91961,      0.9185,     0.91739,     0.91628,     0.91256,     0.90659,     0.89516,      0.8796,     0.87076,     0.85973,     0.85839,     0.85704,     0.85568,     0.85433,\n",
      "            0.83747,     0.83376,     0.83137,     0.82564,     0.82079,     0.81746,     0.80092,     0.78575,     0.78273,     0.78086,     0.77899,     0.76853,     0.76235,     0.75909,     0.75206,     0.72766,     0.69778,     0.68326,     0.65883,     0.63822,     0.62389,     0.60273,     0.58808,\n",
      "            0.58273,     0.56727,     0.55819,     0.53039,     0.50485,     0.47933,     0.43758,      0.4261,      0.4159,     0.38099,     0.36261,     0.34229,     0.32881,     0.31818,     0.30121,     0.28693,     0.24725,     0.21643,     0.20745,     0.20184,     0.19583,     0.18615,     0.17419,\n",
      "            0.14915,     0.14109,     0.13343,     0.12673,     0.11999,     0.10227,    0.095756,    0.089201,      0.0844,    0.080508,    0.076601,    0.072677,    0.057451,    0.050197,    0.046878,    0.043547,    0.040205,    0.036851,    0.034259,    0.032055,    0.029846,    0.027633,    0.025414,\n",
      "            0.02319,    0.020962,    0.018728,           0,           0,           0,           0,           0,           0,           0,           0,           0,           0,           0,           0,           0,           0,           0,           0,           0,           0,           0,           0,\n",
      "                  0,           0,           0,           0,           0,           0,           0,           0,           0,           0,           0]]), 'Confidence', 'F1'], [array([          0,    0.001001,    0.002002,    0.003003,    0.004004,    0.005005,    0.006006,    0.007007,    0.008008,    0.009009,     0.01001,    0.011011,    0.012012,    0.013013,    0.014014,    0.015015,    0.016016,    0.017017,    0.018018,    0.019019,     0.02002,    0.021021,    0.022022,    0.023023,\n",
      "          0.024024,    0.025025,    0.026026,    0.027027,    0.028028,    0.029029,     0.03003,    0.031031,    0.032032,    0.033033,    0.034034,    0.035035,    0.036036,    0.037037,    0.038038,    0.039039,     0.04004,    0.041041,    0.042042,    0.043043,    0.044044,    0.045045,    0.046046,    0.047047,\n",
      "          0.048048,    0.049049,     0.05005,    0.051051,    0.052052,    0.053053,    0.054054,    0.055055,    0.056056,    0.057057,    0.058058,    0.059059,     0.06006,    0.061061,    0.062062,    0.063063,    0.064064,    0.065065,    0.066066,    0.067067,    0.068068,    0.069069,     0.07007,    0.071071,\n",
      "          0.072072,    0.073073,    0.074074,    0.075075,    0.076076,    0.077077,    0.078078,    0.079079,     0.08008,    0.081081,    0.082082,    0.083083,    0.084084,    0.085085,    0.086086,    0.087087,    0.088088,    0.089089,     0.09009,    0.091091,    0.092092,    0.093093,    0.094094,    0.095095,\n",
      "          0.096096,    0.097097,    0.098098,    0.099099,      0.1001,      0.1011,      0.1021,      0.1031,      0.1041,     0.10511,     0.10611,     0.10711,     0.10811,     0.10911,     0.11011,     0.11111,     0.11211,     0.11311,     0.11411,     0.11512,     0.11612,     0.11712,     0.11812,     0.11912,\n",
      "           0.12012,     0.12112,     0.12212,     0.12312,     0.12412,     0.12513,     0.12613,     0.12713,     0.12813,     0.12913,     0.13013,     0.13113,     0.13213,     0.13313,     0.13413,     0.13514,     0.13614,     0.13714,     0.13814,     0.13914,     0.14014,     0.14114,     0.14214,     0.14314,\n",
      "           0.14414,     0.14515,     0.14615,     0.14715,     0.14815,     0.14915,     0.15015,     0.15115,     0.15215,     0.15315,     0.15415,     0.15516,     0.15616,     0.15716,     0.15816,     0.15916,     0.16016,     0.16116,     0.16216,     0.16316,     0.16416,     0.16517,     0.16617,     0.16717,\n",
      "           0.16817,     0.16917,     0.17017,     0.17117,     0.17217,     0.17317,     0.17417,     0.17518,     0.17618,     0.17718,     0.17818,     0.17918,     0.18018,     0.18118,     0.18218,     0.18318,     0.18418,     0.18519,     0.18619,     0.18719,     0.18819,     0.18919,     0.19019,     0.19119,\n",
      "           0.19219,     0.19319,     0.19419,      0.1952,      0.1962,      0.1972,      0.1982,      0.1992,      0.2002,      0.2012,      0.2022,      0.2032,      0.2042,     0.20521,     0.20621,     0.20721,     0.20821,     0.20921,     0.21021,     0.21121,     0.21221,     0.21321,     0.21421,     0.21522,\n",
      "           0.21622,     0.21722,     0.21822,     0.21922,     0.22022,     0.22122,     0.22222,     0.22322,     0.22422,     0.22523,     0.22623,     0.22723,     0.22823,     0.22923,     0.23023,     0.23123,     0.23223,     0.23323,     0.23423,     0.23524,     0.23624,     0.23724,     0.23824,     0.23924,\n",
      "           0.24024,     0.24124,     0.24224,     0.24324,     0.24424,     0.24525,     0.24625,     0.24725,     0.24825,     0.24925,     0.25025,     0.25125,     0.25225,     0.25325,     0.25425,     0.25526,     0.25626,     0.25726,     0.25826,     0.25926,     0.26026,     0.26126,     0.26226,     0.26326,\n",
      "           0.26426,     0.26527,     0.26627,     0.26727,     0.26827,     0.26927,     0.27027,     0.27127,     0.27227,     0.27327,     0.27427,     0.27528,     0.27628,     0.27728,     0.27828,     0.27928,     0.28028,     0.28128,     0.28228,     0.28328,     0.28428,     0.28529,     0.28629,     0.28729,\n",
      "           0.28829,     0.28929,     0.29029,     0.29129,     0.29229,     0.29329,     0.29429,      0.2953,      0.2963,      0.2973,      0.2983,      0.2993,      0.3003,      0.3013,      0.3023,      0.3033,      0.3043,     0.30531,     0.30631,     0.30731,     0.30831,     0.30931,     0.31031,     0.31131,\n",
      "           0.31231,     0.31331,     0.31431,     0.31532,     0.31632,     0.31732,     0.31832,     0.31932,     0.32032,     0.32132,     0.32232,     0.32332,     0.32432,     0.32533,     0.32633,     0.32733,     0.32833,     0.32933,     0.33033,     0.33133,     0.33233,     0.33333,     0.33433,     0.33534,\n",
      "           0.33634,     0.33734,     0.33834,     0.33934,     0.34034,     0.34134,     0.34234,     0.34334,     0.34434,     0.34535,     0.34635,     0.34735,     0.34835,     0.34935,     0.35035,     0.35135,     0.35235,     0.35335,     0.35435,     0.35536,     0.35636,     0.35736,     0.35836,     0.35936,\n",
      "           0.36036,     0.36136,     0.36236,     0.36336,     0.36436,     0.36537,     0.36637,     0.36737,     0.36837,     0.36937,     0.37037,     0.37137,     0.37237,     0.37337,     0.37437,     0.37538,     0.37638,     0.37738,     0.37838,     0.37938,     0.38038,     0.38138,     0.38238,     0.38338,\n",
      "           0.38438,     0.38539,     0.38639,     0.38739,     0.38839,     0.38939,     0.39039,     0.39139,     0.39239,     0.39339,     0.39439,      0.3954,      0.3964,      0.3974,      0.3984,      0.3994,      0.4004,      0.4014,      0.4024,      0.4034,      0.4044,     0.40541,     0.40641,     0.40741,\n",
      "           0.40841,     0.40941,     0.41041,     0.41141,     0.41241,     0.41341,     0.41441,     0.41542,     0.41642,     0.41742,     0.41842,     0.41942,     0.42042,     0.42142,     0.42242,     0.42342,     0.42442,     0.42543,     0.42643,     0.42743,     0.42843,     0.42943,     0.43043,     0.43143,\n",
      "           0.43243,     0.43343,     0.43443,     0.43544,     0.43644,     0.43744,     0.43844,     0.43944,     0.44044,     0.44144,     0.44244,     0.44344,     0.44444,     0.44545,     0.44645,     0.44745,     0.44845,     0.44945,     0.45045,     0.45145,     0.45245,     0.45345,     0.45445,     0.45546,\n",
      "           0.45646,     0.45746,     0.45846,     0.45946,     0.46046,     0.46146,     0.46246,     0.46346,     0.46446,     0.46547,     0.46647,     0.46747,     0.46847,     0.46947,     0.47047,     0.47147,     0.47247,     0.47347,     0.47447,     0.47548,     0.47648,     0.47748,     0.47848,     0.47948,\n",
      "           0.48048,     0.48148,     0.48248,     0.48348,     0.48448,     0.48549,     0.48649,     0.48749,     0.48849,     0.48949,     0.49049,     0.49149,     0.49249,     0.49349,     0.49449,      0.4955,      0.4965,      0.4975,      0.4985,      0.4995,      0.5005,      0.5015,      0.5025,      0.5035,\n",
      "            0.5045,     0.50551,     0.50651,     0.50751,     0.50851,     0.50951,     0.51051,     0.51151,     0.51251,     0.51351,     0.51451,     0.51552,     0.51652,     0.51752,     0.51852,     0.51952,     0.52052,     0.52152,     0.52252,     0.52352,     0.52452,     0.52553,     0.52653,     0.52753,\n",
      "           0.52853,     0.52953,     0.53053,     0.53153,     0.53253,     0.53353,     0.53453,     0.53554,     0.53654,     0.53754,     0.53854,     0.53954,     0.54054,     0.54154,     0.54254,     0.54354,     0.54454,     0.54555,     0.54655,     0.54755,     0.54855,     0.54955,     0.55055,     0.55155,\n",
      "           0.55255,     0.55355,     0.55455,     0.55556,     0.55656,     0.55756,     0.55856,     0.55956,     0.56056,     0.56156,     0.56256,     0.56356,     0.56456,     0.56557,     0.56657,     0.56757,     0.56857,     0.56957,     0.57057,     0.57157,     0.57257,     0.57357,     0.57457,     0.57558,\n",
      "           0.57658,     0.57758,     0.57858,     0.57958,     0.58058,     0.58158,     0.58258,     0.58358,     0.58458,     0.58559,     0.58659,     0.58759,     0.58859,     0.58959,     0.59059,     0.59159,     0.59259,     0.59359,     0.59459,      0.5956,      0.5966,      0.5976,      0.5986,      0.5996,\n",
      "            0.6006,      0.6016,      0.6026,      0.6036,      0.6046,     0.60561,     0.60661,     0.60761,     0.60861,     0.60961,     0.61061,     0.61161,     0.61261,     0.61361,     0.61461,     0.61562,     0.61662,     0.61762,     0.61862,     0.61962,     0.62062,     0.62162,     0.62262,     0.62362,\n",
      "           0.62462,     0.62563,     0.62663,     0.62763,     0.62863,     0.62963,     0.63063,     0.63163,     0.63263,     0.63363,     0.63463,     0.63564,     0.63664,     0.63764,     0.63864,     0.63964,     0.64064,     0.64164,     0.64264,     0.64364,     0.64464,     0.64565,     0.64665,     0.64765,\n",
      "           0.64865,     0.64965,     0.65065,     0.65165,     0.65265,     0.65365,     0.65465,     0.65566,     0.65666,     0.65766,     0.65866,     0.65966,     0.66066,     0.66166,     0.66266,     0.66366,     0.66466,     0.66567,     0.66667,     0.66767,     0.66867,     0.66967,     0.67067,     0.67167,\n",
      "           0.67267,     0.67367,     0.67467,     0.67568,     0.67668,     0.67768,     0.67868,     0.67968,     0.68068,     0.68168,     0.68268,     0.68368,     0.68468,     0.68569,     0.68669,     0.68769,     0.68869,     0.68969,     0.69069,     0.69169,     0.69269,     0.69369,     0.69469,      0.6957,\n",
      "            0.6967,      0.6977,      0.6987,      0.6997,      0.7007,      0.7017,      0.7027,      0.7037,      0.7047,     0.70571,     0.70671,     0.70771,     0.70871,     0.70971,     0.71071,     0.71171,     0.71271,     0.71371,     0.71471,     0.71572,     0.71672,     0.71772,     0.71872,     0.71972,\n",
      "           0.72072,     0.72172,     0.72272,     0.72372,     0.72472,     0.72573,     0.72673,     0.72773,     0.72873,     0.72973,     0.73073,     0.73173,     0.73273,     0.73373,     0.73473,     0.73574,     0.73674,     0.73774,     0.73874,     0.73974,     0.74074,     0.74174,     0.74274,     0.74374,\n",
      "           0.74474,     0.74575,     0.74675,     0.74775,     0.74875,     0.74975,     0.75075,     0.75175,     0.75275,     0.75375,     0.75475,     0.75576,     0.75676,     0.75776,     0.75876,     0.75976,     0.76076,     0.76176,     0.76276,     0.76376,     0.76476,     0.76577,     0.76677,     0.76777,\n",
      "           0.76877,     0.76977,     0.77077,     0.77177,     0.77277,     0.77377,     0.77477,     0.77578,     0.77678,     0.77778,     0.77878,     0.77978,     0.78078,     0.78178,     0.78278,     0.78378,     0.78478,     0.78579,     0.78679,     0.78779,     0.78879,     0.78979,     0.79079,     0.79179,\n",
      "           0.79279,     0.79379,     0.79479,      0.7958,      0.7968,      0.7978,      0.7988,      0.7998,      0.8008,      0.8018,      0.8028,      0.8038,      0.8048,     0.80581,     0.80681,     0.80781,     0.80881,     0.80981,     0.81081,     0.81181,     0.81281,     0.81381,     0.81481,     0.81582,\n",
      "           0.81682,     0.81782,     0.81882,     0.81982,     0.82082,     0.82182,     0.82282,     0.82382,     0.82482,     0.82583,     0.82683,     0.82783,     0.82883,     0.82983,     0.83083,     0.83183,     0.83283,     0.83383,     0.83483,     0.83584,     0.83684,     0.83784,     0.83884,     0.83984,\n",
      "           0.84084,     0.84184,     0.84284,     0.84384,     0.84484,     0.84585,     0.84685,     0.84785,     0.84885,     0.84985,     0.85085,     0.85185,     0.85285,     0.85385,     0.85485,     0.85586,     0.85686,     0.85786,     0.85886,     0.85986,     0.86086,     0.86186,     0.86286,     0.86386,\n",
      "           0.86486,     0.86587,     0.86687,     0.86787,     0.86887,     0.86987,     0.87087,     0.87187,     0.87287,     0.87387,     0.87487,     0.87588,     0.87688,     0.87788,     0.87888,     0.87988,     0.88088,     0.88188,     0.88288,     0.88388,     0.88488,     0.88589,     0.88689,     0.88789,\n",
      "           0.88889,     0.88989,     0.89089,     0.89189,     0.89289,     0.89389,     0.89489,      0.8959,      0.8969,      0.8979,      0.8989,      0.8999,      0.9009,      0.9019,      0.9029,      0.9039,      0.9049,     0.90591,     0.90691,     0.90791,     0.90891,     0.90991,     0.91091,     0.91191,\n",
      "           0.91291,     0.91391,     0.91491,     0.91592,     0.91692,     0.91792,     0.91892,     0.91992,     0.92092,     0.92192,     0.92292,     0.92392,     0.92492,     0.92593,     0.92693,     0.92793,     0.92893,     0.92993,     0.93093,     0.93193,     0.93293,     0.93393,     0.93493,     0.93594,\n",
      "           0.93694,     0.93794,     0.93894,     0.93994,     0.94094,     0.94194,     0.94294,     0.94394,     0.94494,     0.94595,     0.94695,     0.94795,     0.94895,     0.94995,     0.95095,     0.95195,     0.95295,     0.95395,     0.95495,     0.95596,     0.95696,     0.95796,     0.95896,     0.95996,\n",
      "           0.96096,     0.96196,     0.96296,     0.96396,     0.96496,     0.96597,     0.96697,     0.96797,     0.96897,     0.96997,     0.97097,     0.97197,     0.97297,     0.97397,     0.97497,     0.97598,     0.97698,     0.97798,     0.97898,     0.97998,     0.98098,     0.98198,     0.98298,     0.98398,\n",
      "           0.98498,     0.98599,     0.98699,     0.98799,     0.98899,     0.98999,     0.99099,     0.99199,     0.99299,     0.99399,     0.99499,       0.996,       0.997,       0.998,       0.999,           1]), array([[    0.73333,     0.73333,     0.86608,     0.90941,     0.93581,     0.94144,     0.94451,     0.94757,     0.95123,     0.95506,     0.95843,     0.96153,     0.96462,     0.96551,     0.96617,     0.96682,     0.96748,     0.96814,      0.9688,     0.96945,     0.97011,     0.97077,     0.97143,\n",
      "            0.97208,     0.97274,      0.9734,     0.97372,     0.97402,     0.97432,     0.97462,     0.97491,     0.97521,     0.97551,      0.9758,      0.9761,      0.9764,      0.9767,     0.97699,     0.97729,     0.97759,     0.97789,     0.97818,     0.97848,     0.97878,     0.97907,     0.97937,\n",
      "            0.97967,     0.97997,     0.98026,     0.98056,     0.98086,     0.98115,     0.98145,     0.98175,     0.98205,     0.98215,     0.98216,     0.98218,     0.98219,      0.9822,     0.98222,     0.98223,     0.98224,     0.98226,     0.98227,     0.98228,      0.9823,     0.98231,     0.98232,\n",
      "            0.98233,     0.98235,     0.98236,     0.98237,     0.98239,      0.9824,     0.98241,     0.98243,     0.98244,     0.98245,     0.98247,     0.98248,     0.98249,      0.9825,     0.98252,     0.98253,     0.98254,     0.98256,     0.98257,     0.98258,      0.9826,     0.98261,     0.98262,\n",
      "            0.98264,     0.98265,     0.98266,     0.98267,     0.98269,      0.9827,     0.98271,     0.98273,     0.98274,     0.98275,     0.98277,     0.98278,     0.98279,     0.98281,     0.98282,     0.98283,     0.98284,     0.98286,     0.98287,     0.98288,      0.9829,     0.98291,     0.98292,\n",
      "            0.98294,     0.98295,     0.98296,     0.98298,     0.98299,       0.983,     0.98301,     0.98303,     0.98304,     0.98305,     0.98307,     0.98308,     0.98309,     0.98311,     0.98312,     0.98313,     0.98314,     0.98316,     0.98317,     0.98318,      0.9832,     0.98321,     0.98322,\n",
      "            0.98324,     0.98325,     0.98326,     0.98328,     0.98329,      0.9833,     0.98331,     0.98333,     0.98334,     0.98335,     0.98337,     0.98338,     0.98339,     0.98341,     0.98342,     0.98343,     0.98345,     0.98346,     0.98347,     0.98348,      0.9835,     0.98351,     0.98352,\n",
      "            0.98354,     0.98355,     0.98356,     0.98358,     0.98359,      0.9836,     0.98362,     0.98363,     0.98364,     0.98365,     0.98367,     0.98368,     0.98369,     0.98371,     0.98372,     0.98373,     0.98375,     0.98376,     0.98377,     0.98379,      0.9838,     0.98381,     0.98382,\n",
      "            0.98384,     0.98385,     0.98386,     0.98388,     0.98389,      0.9839,     0.98392,     0.98393,     0.98394,     0.98396,     0.98397,     0.98398,     0.98399,     0.98401,     0.98402,     0.98403,     0.98405,     0.98406,     0.98407,     0.98409,      0.9841,     0.98411,     0.98413,\n",
      "            0.98414,     0.98415,     0.98416,     0.98418,     0.98419,      0.9842,     0.98422,     0.98423,     0.98424,     0.98426,     0.98427,     0.98428,      0.9843,     0.98431,     0.98432,     0.98433,     0.98435,     0.98436,     0.98437,     0.98439,      0.9844,     0.98441,     0.98443,\n",
      "            0.98444,     0.98445,     0.98446,     0.98448,     0.98449,      0.9845,     0.98452,     0.98453,     0.98454,     0.98456,     0.98457,     0.98458,      0.9846,     0.98461,     0.98462,     0.98463,     0.98465,     0.98466,     0.98467,     0.98469,      0.9847,     0.98471,     0.98473,\n",
      "            0.98474,     0.98475,     0.98477,     0.98478,     0.98479,      0.9848,     0.98482,     0.98483,     0.98484,     0.98486,     0.98487,     0.98488,      0.9849,     0.98491,     0.98492,     0.98494,     0.98495,     0.98496,     0.98497,     0.98499,       0.985,     0.98501,     0.98503,\n",
      "            0.98504,     0.98505,     0.98507,     0.98508,     0.98509,     0.98511,     0.98512,     0.98513,     0.98514,     0.98516,     0.98517,     0.98518,      0.9852,     0.98521,     0.98522,     0.98524,     0.98525,     0.98526,     0.98528,     0.98529,      0.9853,     0.98531,     0.98533,\n",
      "            0.98534,     0.98535,     0.98537,     0.98538,     0.98539,     0.98541,     0.98542,     0.98543,     0.98545,     0.98546,     0.98547,     0.98548,      0.9855,     0.98551,     0.98552,     0.98554,     0.98555,     0.98556,     0.98558,     0.98559,      0.9856,     0.98562,     0.98563,\n",
      "            0.98564,     0.98565,     0.98567,     0.98568,     0.98569,     0.98571,     0.98572,     0.98573,     0.98575,     0.98576,     0.98577,     0.98578,      0.9858,     0.98581,     0.98582,     0.98584,     0.98585,     0.98586,     0.98588,     0.98589,      0.9859,     0.98592,     0.98593,\n",
      "            0.98594,     0.98595,     0.98597,     0.98598,     0.98599,     0.98601,     0.98602,     0.98603,     0.98605,     0.98606,     0.98607,     0.98609,      0.9861,     0.98611,     0.98612,     0.98614,     0.98615,     0.98616,     0.98618,     0.98619,      0.9862,     0.98622,     0.98623,\n",
      "            0.98624,     0.98626,     0.98627,     0.98628,     0.98629,     0.98631,     0.98632,     0.98633,     0.98635,     0.98636,     0.98637,     0.98639,      0.9864,     0.98641,     0.98643,     0.98644,     0.98645,     0.98646,     0.98648,     0.98649,      0.9865,     0.98652,     0.98653,\n",
      "            0.98654,     0.98656,     0.98657,     0.98658,      0.9866,     0.98661,     0.98662,     0.98663,     0.98665,     0.98666,     0.98667,     0.98669,      0.9867,     0.98671,     0.98673,     0.98674,     0.98675,     0.98677,     0.98678,     0.98679,      0.9868,     0.98682,     0.98683,\n",
      "            0.98684,     0.98686,     0.98687,     0.98688,      0.9869,     0.98691,     0.98692,     0.98694,     0.98695,     0.98696,     0.98697,     0.98699,       0.987,     0.98701,     0.98703,     0.98704,     0.98705,     0.98707,     0.98708,     0.98709,      0.9871,     0.98712,     0.98713,\n",
      "            0.98714,     0.98716,     0.98717,     0.98718,      0.9872,     0.98721,     0.98722,     0.98724,     0.98725,     0.98726,     0.98727,     0.98729,      0.9873,     0.98731,     0.98733,     0.98734,     0.98735,     0.98737,     0.98738,     0.98739,     0.98741,     0.98742,     0.98743,\n",
      "            0.98744,     0.98746,     0.98747,     0.98748,      0.9875,     0.98751,     0.98752,     0.98754,     0.98755,     0.98756,     0.98758,     0.98759,      0.9876,     0.98761,     0.98763,     0.98764,     0.98765,     0.98767,     0.98768,     0.98769,     0.98771,     0.98772,     0.98773,\n",
      "            0.98775,     0.98776,     0.98777,     0.98778,      0.9878,     0.98781,     0.98782,     0.98784,     0.98785,     0.98786,     0.98788,     0.98789,      0.9879,     0.98792,     0.98793,     0.98794,     0.98795,     0.98797,     0.98798,     0.98799,     0.98801,     0.98802,     0.98803,\n",
      "            0.98805,     0.98806,     0.98807,     0.98809,      0.9881,     0.98811,     0.98812,     0.98814,     0.98815,     0.98816,     0.98818,     0.98819,      0.9882,     0.98822,     0.98823,     0.98824,     0.98826,     0.98827,     0.98828,     0.98829,     0.98831,     0.98832,     0.98833,\n",
      "            0.98835,     0.98836,     0.98837,     0.98839,      0.9884,     0.98841,     0.98843,     0.98844,     0.98845,     0.98846,     0.98848,     0.98849,      0.9885,     0.98852,     0.98853,     0.98854,     0.98856,     0.98857,     0.98858,     0.98859,     0.98861,     0.98862,     0.98863,\n",
      "            0.98865,     0.98866,     0.98867,     0.98869,      0.9887,     0.98871,     0.98873,     0.98874,     0.98875,     0.98876,     0.98878,     0.98879,      0.9888,     0.98882,     0.98883,     0.98884,     0.98886,     0.98887,     0.98888,      0.9889,     0.98891,     0.98892,     0.98893,\n",
      "            0.98895,     0.98896,     0.98897,     0.98899,       0.989,     0.98901,     0.98903,     0.98904,     0.98905,     0.98907,     0.98908,     0.98909,      0.9891,     0.98912,     0.98913,     0.98914,     0.98916,     0.98917,     0.98918,      0.9892,     0.98921,     0.98922,     0.98924,\n",
      "            0.98925,     0.98926,     0.98927,     0.98929,      0.9893,     0.98931,     0.98933,     0.98934,     0.98935,     0.98937,     0.98938,     0.98939,     0.98941,     0.98942,     0.98943,     0.98944,     0.98946,     0.98947,     0.98948,      0.9895,     0.98951,     0.98952,     0.98954,\n",
      "            0.98955,     0.98956,     0.98958,     0.98959,      0.9896,     0.98961,     0.98963,     0.98964,     0.98965,     0.98967,     0.98968,     0.98969,     0.98971,     0.98972,     0.98973,     0.98975,     0.98976,     0.98977,     0.98978,      0.9898,     0.98981,     0.98982,     0.98984,\n",
      "            0.98985,     0.98986,     0.98988,     0.98989,      0.9899,     0.98991,     0.98993,     0.98994,     0.98995,     0.98997,     0.98998,     0.98999,     0.99001,     0.99002,     0.99003,     0.99005,     0.99006,     0.99007,     0.99008,      0.9901,     0.99011,     0.99012,     0.99014,\n",
      "            0.99015,     0.99016,     0.99018,     0.99019,      0.9902,     0.99022,     0.99023,     0.99024,     0.99025,     0.99027,     0.99028,     0.99029,     0.99031,     0.99032,     0.99033,     0.99035,     0.99036,     0.99037,     0.99039,      0.9904,     0.99041,     0.99042,     0.99044,\n",
      "            0.99045,     0.99046,     0.99048,     0.99049,      0.9905,     0.99052,     0.99053,     0.99054,     0.99056,     0.99057,     0.99058,     0.99059,     0.99061,     0.99062,     0.99063,     0.99065,     0.99066,     0.99067,     0.99069,      0.9907,     0.99071,     0.99073,     0.99074,\n",
      "            0.99075,     0.99076,     0.99078,     0.99079,      0.9908,     0.99082,     0.99083,     0.99084,     0.99086,     0.99087,     0.99088,      0.9909,     0.99091,     0.99092,     0.99093,     0.99095,     0.99096,     0.99097,     0.99099,     0.99126,     0.99167,     0.99208,     0.99249,\n",
      "            0.99289,      0.9933,     0.99371,     0.99412,     0.99453,     0.99493,     0.99534,     0.99575,     0.99616,     0.99656,     0.99697,     0.99738,     0.99779,     0.99819,      0.9986,     0.99901,     0.99942,     0.99983,           1,           1,           1,           1,           1,\n",
      "                  1,           1,           1,           1,           1,           1,           1,           1,           1,           1,           1,           1,           1,           1,           1,           1,           1,           1,           1,           1,           1,           1,           1,\n",
      "                  1,           1,           1,           1,           1,           1,           1,           1,           1,           1,           1,           1,           1,           1,           1,           1,           1,           1,           1,           1,           1,           1,           1,\n",
      "                  1,           1,           1,           1,           1,           1,           1,           1,           1,           1,           1,           1,           1,           1,           1,           1,           1,           1,           1,           1,           1,           1,           1,\n",
      "                  1,           1,           1,           1,           1,           1,           1,           1,           1,           1,           1,           1,           1,           1,           1,           1,           1,           1,           1,           1,           1,           1,           1,\n",
      "                  1,           1,           1,           1,           1,           1,           1,           1,           1,           1,           1,           1,           1,           1,           1,           1,           1,           1,           1,           1,           1,           1,           1,\n",
      "                  1,           1,           1,           1,           1,           1,           1,           1,           1,           1,           1,           1,           1,           1,           1,           1,           1,           1,           1,           1,           1,           1,           1,\n",
      "                  1,           1,           1,           1,           1,           1,           1,           1,           1,           1,           1,           1,           1,           1,           1,           1,           1,           1,           1,           1,           1,           1,           1,\n",
      "                  1,           1,           1,           1,           1,           1,           1,           1,           1,           1,           1,           1,           1,           1,           1,           1,           1,           1,           1,           1,           1,           1,           1,\n",
      "                  1,           1,           1,           1,           1,           1,           1,           1,           1,           1,           1,           1,           1,           1,           1,           1,           1,           1,           1,           1,           1,           1,           1,\n",
      "                  1,           1,           1,           1,           1,           1,           1,           1,           1,           1,           1,           1,           1,           1,           1,           1,           1,           1,           1,           1,           1,           1,           1,\n",
      "                  1,           1,           1,           1,           1,           1,           1,           1,           1,           1,           1]]), 'Confidence', 'Precision'], [array([          0,    0.001001,    0.002002,    0.003003,    0.004004,    0.005005,    0.006006,    0.007007,    0.008008,    0.009009,     0.01001,    0.011011,    0.012012,    0.013013,    0.014014,    0.015015,    0.016016,    0.017017,    0.018018,    0.019019,     0.02002,    0.021021,    0.022022,    0.023023,\n",
      "          0.024024,    0.025025,    0.026026,    0.027027,    0.028028,    0.029029,     0.03003,    0.031031,    0.032032,    0.033033,    0.034034,    0.035035,    0.036036,    0.037037,    0.038038,    0.039039,     0.04004,    0.041041,    0.042042,    0.043043,    0.044044,    0.045045,    0.046046,    0.047047,\n",
      "          0.048048,    0.049049,     0.05005,    0.051051,    0.052052,    0.053053,    0.054054,    0.055055,    0.056056,    0.057057,    0.058058,    0.059059,     0.06006,    0.061061,    0.062062,    0.063063,    0.064064,    0.065065,    0.066066,    0.067067,    0.068068,    0.069069,     0.07007,    0.071071,\n",
      "          0.072072,    0.073073,    0.074074,    0.075075,    0.076076,    0.077077,    0.078078,    0.079079,     0.08008,    0.081081,    0.082082,    0.083083,    0.084084,    0.085085,    0.086086,    0.087087,    0.088088,    0.089089,     0.09009,    0.091091,    0.092092,    0.093093,    0.094094,    0.095095,\n",
      "          0.096096,    0.097097,    0.098098,    0.099099,      0.1001,      0.1011,      0.1021,      0.1031,      0.1041,     0.10511,     0.10611,     0.10711,     0.10811,     0.10911,     0.11011,     0.11111,     0.11211,     0.11311,     0.11411,     0.11512,     0.11612,     0.11712,     0.11812,     0.11912,\n",
      "           0.12012,     0.12112,     0.12212,     0.12312,     0.12412,     0.12513,     0.12613,     0.12713,     0.12813,     0.12913,     0.13013,     0.13113,     0.13213,     0.13313,     0.13413,     0.13514,     0.13614,     0.13714,     0.13814,     0.13914,     0.14014,     0.14114,     0.14214,     0.14314,\n",
      "           0.14414,     0.14515,     0.14615,     0.14715,     0.14815,     0.14915,     0.15015,     0.15115,     0.15215,     0.15315,     0.15415,     0.15516,     0.15616,     0.15716,     0.15816,     0.15916,     0.16016,     0.16116,     0.16216,     0.16316,     0.16416,     0.16517,     0.16617,     0.16717,\n",
      "           0.16817,     0.16917,     0.17017,     0.17117,     0.17217,     0.17317,     0.17417,     0.17518,     0.17618,     0.17718,     0.17818,     0.17918,     0.18018,     0.18118,     0.18218,     0.18318,     0.18418,     0.18519,     0.18619,     0.18719,     0.18819,     0.18919,     0.19019,     0.19119,\n",
      "           0.19219,     0.19319,     0.19419,      0.1952,      0.1962,      0.1972,      0.1982,      0.1992,      0.2002,      0.2012,      0.2022,      0.2032,      0.2042,     0.20521,     0.20621,     0.20721,     0.20821,     0.20921,     0.21021,     0.21121,     0.21221,     0.21321,     0.21421,     0.21522,\n",
      "           0.21622,     0.21722,     0.21822,     0.21922,     0.22022,     0.22122,     0.22222,     0.22322,     0.22422,     0.22523,     0.22623,     0.22723,     0.22823,     0.22923,     0.23023,     0.23123,     0.23223,     0.23323,     0.23423,     0.23524,     0.23624,     0.23724,     0.23824,     0.23924,\n",
      "           0.24024,     0.24124,     0.24224,     0.24324,     0.24424,     0.24525,     0.24625,     0.24725,     0.24825,     0.24925,     0.25025,     0.25125,     0.25225,     0.25325,     0.25425,     0.25526,     0.25626,     0.25726,     0.25826,     0.25926,     0.26026,     0.26126,     0.26226,     0.26326,\n",
      "           0.26426,     0.26527,     0.26627,     0.26727,     0.26827,     0.26927,     0.27027,     0.27127,     0.27227,     0.27327,     0.27427,     0.27528,     0.27628,     0.27728,     0.27828,     0.27928,     0.28028,     0.28128,     0.28228,     0.28328,     0.28428,     0.28529,     0.28629,     0.28729,\n",
      "           0.28829,     0.28929,     0.29029,     0.29129,     0.29229,     0.29329,     0.29429,      0.2953,      0.2963,      0.2973,      0.2983,      0.2993,      0.3003,      0.3013,      0.3023,      0.3033,      0.3043,     0.30531,     0.30631,     0.30731,     0.30831,     0.30931,     0.31031,     0.31131,\n",
      "           0.31231,     0.31331,     0.31431,     0.31532,     0.31632,     0.31732,     0.31832,     0.31932,     0.32032,     0.32132,     0.32232,     0.32332,     0.32432,     0.32533,     0.32633,     0.32733,     0.32833,     0.32933,     0.33033,     0.33133,     0.33233,     0.33333,     0.33433,     0.33534,\n",
      "           0.33634,     0.33734,     0.33834,     0.33934,     0.34034,     0.34134,     0.34234,     0.34334,     0.34434,     0.34535,     0.34635,     0.34735,     0.34835,     0.34935,     0.35035,     0.35135,     0.35235,     0.35335,     0.35435,     0.35536,     0.35636,     0.35736,     0.35836,     0.35936,\n",
      "           0.36036,     0.36136,     0.36236,     0.36336,     0.36436,     0.36537,     0.36637,     0.36737,     0.36837,     0.36937,     0.37037,     0.37137,     0.37237,     0.37337,     0.37437,     0.37538,     0.37638,     0.37738,     0.37838,     0.37938,     0.38038,     0.38138,     0.38238,     0.38338,\n",
      "           0.38438,     0.38539,     0.38639,     0.38739,     0.38839,     0.38939,     0.39039,     0.39139,     0.39239,     0.39339,     0.39439,      0.3954,      0.3964,      0.3974,      0.3984,      0.3994,      0.4004,      0.4014,      0.4024,      0.4034,      0.4044,     0.40541,     0.40641,     0.40741,\n",
      "           0.40841,     0.40941,     0.41041,     0.41141,     0.41241,     0.41341,     0.41441,     0.41542,     0.41642,     0.41742,     0.41842,     0.41942,     0.42042,     0.42142,     0.42242,     0.42342,     0.42442,     0.42543,     0.42643,     0.42743,     0.42843,     0.42943,     0.43043,     0.43143,\n",
      "           0.43243,     0.43343,     0.43443,     0.43544,     0.43644,     0.43744,     0.43844,     0.43944,     0.44044,     0.44144,     0.44244,     0.44344,     0.44444,     0.44545,     0.44645,     0.44745,     0.44845,     0.44945,     0.45045,     0.45145,     0.45245,     0.45345,     0.45445,     0.45546,\n",
      "           0.45646,     0.45746,     0.45846,     0.45946,     0.46046,     0.46146,     0.46246,     0.46346,     0.46446,     0.46547,     0.46647,     0.46747,     0.46847,     0.46947,     0.47047,     0.47147,     0.47247,     0.47347,     0.47447,     0.47548,     0.47648,     0.47748,     0.47848,     0.47948,\n",
      "           0.48048,     0.48148,     0.48248,     0.48348,     0.48448,     0.48549,     0.48649,     0.48749,     0.48849,     0.48949,     0.49049,     0.49149,     0.49249,     0.49349,     0.49449,      0.4955,      0.4965,      0.4975,      0.4985,      0.4995,      0.5005,      0.5015,      0.5025,      0.5035,\n",
      "            0.5045,     0.50551,     0.50651,     0.50751,     0.50851,     0.50951,     0.51051,     0.51151,     0.51251,     0.51351,     0.51451,     0.51552,     0.51652,     0.51752,     0.51852,     0.51952,     0.52052,     0.52152,     0.52252,     0.52352,     0.52452,     0.52553,     0.52653,     0.52753,\n",
      "           0.52853,     0.52953,     0.53053,     0.53153,     0.53253,     0.53353,     0.53453,     0.53554,     0.53654,     0.53754,     0.53854,     0.53954,     0.54054,     0.54154,     0.54254,     0.54354,     0.54454,     0.54555,     0.54655,     0.54755,     0.54855,     0.54955,     0.55055,     0.55155,\n",
      "           0.55255,     0.55355,     0.55455,     0.55556,     0.55656,     0.55756,     0.55856,     0.55956,     0.56056,     0.56156,     0.56256,     0.56356,     0.56456,     0.56557,     0.56657,     0.56757,     0.56857,     0.56957,     0.57057,     0.57157,     0.57257,     0.57357,     0.57457,     0.57558,\n",
      "           0.57658,     0.57758,     0.57858,     0.57958,     0.58058,     0.58158,     0.58258,     0.58358,     0.58458,     0.58559,     0.58659,     0.58759,     0.58859,     0.58959,     0.59059,     0.59159,     0.59259,     0.59359,     0.59459,      0.5956,      0.5966,      0.5976,      0.5986,      0.5996,\n",
      "            0.6006,      0.6016,      0.6026,      0.6036,      0.6046,     0.60561,     0.60661,     0.60761,     0.60861,     0.60961,     0.61061,     0.61161,     0.61261,     0.61361,     0.61461,     0.61562,     0.61662,     0.61762,     0.61862,     0.61962,     0.62062,     0.62162,     0.62262,     0.62362,\n",
      "           0.62462,     0.62563,     0.62663,     0.62763,     0.62863,     0.62963,     0.63063,     0.63163,     0.63263,     0.63363,     0.63463,     0.63564,     0.63664,     0.63764,     0.63864,     0.63964,     0.64064,     0.64164,     0.64264,     0.64364,     0.64464,     0.64565,     0.64665,     0.64765,\n",
      "           0.64865,     0.64965,     0.65065,     0.65165,     0.65265,     0.65365,     0.65465,     0.65566,     0.65666,     0.65766,     0.65866,     0.65966,     0.66066,     0.66166,     0.66266,     0.66366,     0.66466,     0.66567,     0.66667,     0.66767,     0.66867,     0.66967,     0.67067,     0.67167,\n",
      "           0.67267,     0.67367,     0.67467,     0.67568,     0.67668,     0.67768,     0.67868,     0.67968,     0.68068,     0.68168,     0.68268,     0.68368,     0.68468,     0.68569,     0.68669,     0.68769,     0.68869,     0.68969,     0.69069,     0.69169,     0.69269,     0.69369,     0.69469,      0.6957,\n",
      "            0.6967,      0.6977,      0.6987,      0.6997,      0.7007,      0.7017,      0.7027,      0.7037,      0.7047,     0.70571,     0.70671,     0.70771,     0.70871,     0.70971,     0.71071,     0.71171,     0.71271,     0.71371,     0.71471,     0.71572,     0.71672,     0.71772,     0.71872,     0.71972,\n",
      "           0.72072,     0.72172,     0.72272,     0.72372,     0.72472,     0.72573,     0.72673,     0.72773,     0.72873,     0.72973,     0.73073,     0.73173,     0.73273,     0.73373,     0.73473,     0.73574,     0.73674,     0.73774,     0.73874,     0.73974,     0.74074,     0.74174,     0.74274,     0.74374,\n",
      "           0.74474,     0.74575,     0.74675,     0.74775,     0.74875,     0.74975,     0.75075,     0.75175,     0.75275,     0.75375,     0.75475,     0.75576,     0.75676,     0.75776,     0.75876,     0.75976,     0.76076,     0.76176,     0.76276,     0.76376,     0.76476,     0.76577,     0.76677,     0.76777,\n",
      "           0.76877,     0.76977,     0.77077,     0.77177,     0.77277,     0.77377,     0.77477,     0.77578,     0.77678,     0.77778,     0.77878,     0.77978,     0.78078,     0.78178,     0.78278,     0.78378,     0.78478,     0.78579,     0.78679,     0.78779,     0.78879,     0.78979,     0.79079,     0.79179,\n",
      "           0.79279,     0.79379,     0.79479,      0.7958,      0.7968,      0.7978,      0.7988,      0.7998,      0.8008,      0.8018,      0.8028,      0.8038,      0.8048,     0.80581,     0.80681,     0.80781,     0.80881,     0.80981,     0.81081,     0.81181,     0.81281,     0.81381,     0.81481,     0.81582,\n",
      "           0.81682,     0.81782,     0.81882,     0.81982,     0.82082,     0.82182,     0.82282,     0.82382,     0.82482,     0.82583,     0.82683,     0.82783,     0.82883,     0.82983,     0.83083,     0.83183,     0.83283,     0.83383,     0.83483,     0.83584,     0.83684,     0.83784,     0.83884,     0.83984,\n",
      "           0.84084,     0.84184,     0.84284,     0.84384,     0.84484,     0.84585,     0.84685,     0.84785,     0.84885,     0.84985,     0.85085,     0.85185,     0.85285,     0.85385,     0.85485,     0.85586,     0.85686,     0.85786,     0.85886,     0.85986,     0.86086,     0.86186,     0.86286,     0.86386,\n",
      "           0.86486,     0.86587,     0.86687,     0.86787,     0.86887,     0.86987,     0.87087,     0.87187,     0.87287,     0.87387,     0.87487,     0.87588,     0.87688,     0.87788,     0.87888,     0.87988,     0.88088,     0.88188,     0.88288,     0.88388,     0.88488,     0.88589,     0.88689,     0.88789,\n",
      "           0.88889,     0.88989,     0.89089,     0.89189,     0.89289,     0.89389,     0.89489,      0.8959,      0.8969,      0.8979,      0.8989,      0.8999,      0.9009,      0.9019,      0.9029,      0.9039,      0.9049,     0.90591,     0.90691,     0.90791,     0.90891,     0.90991,     0.91091,     0.91191,\n",
      "           0.91291,     0.91391,     0.91491,     0.91592,     0.91692,     0.91792,     0.91892,     0.91992,     0.92092,     0.92192,     0.92292,     0.92392,     0.92492,     0.92593,     0.92693,     0.92793,     0.92893,     0.92993,     0.93093,     0.93193,     0.93293,     0.93393,     0.93493,     0.93594,\n",
      "           0.93694,     0.93794,     0.93894,     0.93994,     0.94094,     0.94194,     0.94294,     0.94394,     0.94494,     0.94595,     0.94695,     0.94795,     0.94895,     0.94995,     0.95095,     0.95195,     0.95295,     0.95395,     0.95495,     0.95596,     0.95696,     0.95796,     0.95896,     0.95996,\n",
      "           0.96096,     0.96196,     0.96296,     0.96396,     0.96496,     0.96597,     0.96697,     0.96797,     0.96897,     0.96997,     0.97097,     0.97197,     0.97297,     0.97397,     0.97497,     0.97598,     0.97698,     0.97798,     0.97898,     0.97998,     0.98098,     0.98198,     0.98298,     0.98398,\n",
      "           0.98498,     0.98599,     0.98699,     0.98799,     0.98899,     0.98999,     0.99099,     0.99199,     0.99299,     0.99399,     0.99499,       0.996,       0.997,       0.998,       0.999,           1]), array([[          1,           1,           1,           1,           1,           1,           1,           1,           1,           1,           1,           1,           1,           1,           1,           1,           1,           1,           1,           1,           1,           1,           1,\n",
      "                  1,           1,           1,           1,           1,           1,           1,           1,           1,           1,           1,           1,           1,           1,           1,           1,           1,           1,           1,           1,           1,           1,           1,\n",
      "                  1,           1,           1,           1,           1,           1,           1,           1,           1,           1,           1,           1,           1,           1,           1,           1,           1,           1,           1,           1,           1,           1,           1,\n",
      "                  1,           1,           1,           1,           1,           1,           1,           1,           1,           1,           1,           1,           1,           1,           1,           1,           1,           1,           1,           1,           1,           1,           1,\n",
      "                  1,           1,           1,           1,           1,           1,           1,           1,           1,           1,           1,           1,           1,           1,           1,           1,           1,           1,           1,           1,           1,           1,           1,\n",
      "                  1,           1,           1,           1,           1,           1,           1,           1,           1,           1,           1,           1,           1,           1,           1,           1,           1,           1,           1,           1,           1,           1,           1,\n",
      "                  1,           1,           1,           1,           1,           1,           1,           1,           1,           1,           1,           1,           1,           1,           1,           1,           1,           1,           1,           1,           1,           1,           1,\n",
      "                  1,           1,           1,           1,           1,           1,           1,           1,           1,           1,           1,           1,           1,           1,           1,           1,           1,           1,           1,           1,           1,           1,           1,\n",
      "                  1,           1,           1,           1,           1,           1,           1,           1,           1,           1,           1,           1,           1,           1,           1,           1,           1,           1,           1,           1,           1,           1,           1,\n",
      "                  1,           1,           1,           1,           1,           1,           1,           1,           1,           1,           1,           1,           1,           1,           1,           1,           1,           1,           1,           1,           1,           1,           1,\n",
      "                  1,           1,           1,           1,           1,           1,           1,           1,           1,           1,           1,           1,           1,           1,           1,           1,           1,           1,           1,           1,           1,           1,           1,\n",
      "                  1,           1,           1,           1,           1,           1,           1,           1,           1,           1,           1,           1,           1,           1,           1,           1,           1,           1,           1,           1,           1,           1,           1,\n",
      "                  1,           1,           1,           1,           1,           1,           1,           1,           1,           1,           1,           1,           1,           1,           1,           1,           1,           1,           1,           1,           1,           1,           1,\n",
      "                  1,           1,           1,           1,           1,           1,           1,           1,           1,           1,           1,           1,           1,           1,           1,           1,           1,           1,           1,           1,           1,           1,           1,\n",
      "                  1,           1,           1,           1,           1,           1,           1,           1,           1,           1,           1,           1,           1,           1,           1,           1,           1,           1,           1,           1,           1,           1,           1,\n",
      "                  1,           1,           1,           1,           1,           1,           1,           1,           1,           1,           1,           1,           1,           1,           1,           1,           1,           1,           1,           1,           1,           1,           1,\n",
      "                  1,           1,           1,           1,           1,           1,           1,           1,           1,           1,           1,           1,           1,           1,           1,           1,           1,           1,           1,           1,           1,           1,           1,\n",
      "                  1,           1,           1,           1,           1,           1,           1,           1,           1,           1,           1,           1,           1,           1,           1,           1,           1,           1,           1,           1,           1,           1,           1,\n",
      "                  1,           1,           1,           1,           1,           1,           1,           1,           1,           1,           1,           1,           1,           1,           1,           1,           1,           1,           1,           1,           1,           1,           1,\n",
      "                  1,           1,           1,           1,           1,           1,           1,           1,           1,           1,           1,           1,           1,           1,           1,           1,           1,           1,           1,           1,           1,           1,           1,\n",
      "                  1,           1,           1,           1,           1,           1,           1,           1,           1,           1,           1,           1,           1,           1,           1,           1,           1,           1,           1,           1,           1,           1,           1,\n",
      "                  1,           1,           1,           1,           1,           1,           1,           1,           1,           1,           1,           1,           1,           1,           1,           1,           1,           1,           1,           1,           1,           1,           1,\n",
      "                  1,           1,           1,           1,           1,           1,           1,           1,           1,           1,           1,           1,           1,           1,           1,           1,           1,           1,           1,           1,           1,           1,           1,\n",
      "                  1,           1,           1,           1,           1,           1,           1,           1,           1,           1,           1,           1,           1,           1,           1,           1,           1,           1,           1,           1,           1,           1,           1,\n",
      "                  1,           1,           1,           1,           1,           1,           1,           1,           1,           1,           1,           1,           1,           1,           1,           1,           1,           1,           1,           1,           1,           1,           1,\n",
      "                  1,           1,           1,           1,           1,           1,           1,           1,           1,           1,           1,           1,           1,           1,           1,           1,           1,           1,           1,           1,           1,           1,           1,\n",
      "                  1,           1,           1,           1,           1,           1,           1,           1,           1,           1,           1,           1,           1,           1,           1,           1,           1,           1,           1,           1,           1,           1,           1,\n",
      "                  1,           1,           1,           1,           1,           1,           1,           1,           1,           1,           1,           1,           1,           1,           1,           1,           1,           1,           1,           1,           1,           1,           1,\n",
      "                  1,           1,           1,           1,           1,           1,           1,           1,           1,           1,           1,           1,           1,           1,           1,           1,           1,           1,           1,           1,           1,           1,           1,\n",
      "                  1,           1,           1,           1,           1,           1,           1,           1,           1,           1,           1,           1,           1,           1,           1,           1,           1,           1,           1,           1,           1,           1,           1,\n",
      "                  1,           1,           1,           1,           1,           1,           1,           1,           1,           1,           1,           1,           1,           1,           1,           1,           1,           1,           1,           1,           1,           1,           1,\n",
      "                  1,           1,           1,           1,           1,           1,           1,           1,           1,           1,           1,           1,           1,           1,           1,           1,           1,           1,           1,           1,           1,           1,           1,\n",
      "                  1,           1,           1,           1,           1,           1,           1,           1,           1,           1,           1,           1,           1,           1,           1,           1,           1,           1,     0.99993,     0.99982,     0.99971,     0.99959,     0.99948,\n",
      "            0.99936,     0.99925,     0.99913,     0.99902,     0.99891,     0.99879,     0.99868,     0.99856,     0.99845,     0.99833,     0.99822,     0.99811,     0.99799,     0.99788,     0.99776,     0.99765,     0.99754,     0.99742,     0.99731,     0.99719,     0.99708,     0.99696,     0.99685,\n",
      "            0.99674,     0.99662,     0.99651,     0.99639,     0.99628,     0.99616,     0.99605,     0.99594,     0.99582,     0.99571,     0.99559,     0.99548,     0.99536,     0.99525,     0.99514,     0.99502,     0.99491,     0.99479,     0.99468,     0.99456,     0.99445,     0.99434,     0.99422,\n",
      "            0.99411,     0.99399,     0.99388,     0.99376,     0.99365,     0.99354,     0.99342,     0.99331,     0.99319,     0.99308,     0.99296,     0.99285,     0.99274,     0.99262,     0.99251,     0.99239,     0.99228,     0.99216,     0.99205,     0.99194,     0.99182,     0.99171,     0.99159,\n",
      "            0.99148,     0.99136,     0.99125,     0.99114,     0.99102,     0.99084,     0.98561,     0.98149,     0.98028,     0.97907,     0.97786,     0.97666,     0.97545,     0.97424,     0.97304,     0.97229,     0.97171,     0.97113,     0.97055,     0.96997,     0.96939,     0.96881,     0.96823,\n",
      "            0.96765,     0.96707,     0.96648,      0.9659,     0.96532,     0.96474,     0.96416,     0.96351,     0.96225,     0.96098,     0.95972,     0.95845,     0.95719,     0.95593,     0.95466,     0.94801,     0.93678,     0.93344,     0.93043,     0.92742,     0.91806,     0.91468,      0.9113,\n",
      "            0.90695,     0.90075,     0.88884,     0.87415,     0.86211,     0.85977,     0.85743,     0.85509,     0.85309,     0.85119,     0.84929,     0.84739,     0.84549,     0.83919,     0.82915,     0.81022,     0.78507,     0.77111,     0.75397,     0.75191,     0.74984,     0.74777,      0.7457,\n",
      "            0.72039,     0.71492,      0.7114,     0.70306,     0.69606,     0.69128,     0.66795,     0.64711,     0.64301,      0.6405,     0.63799,     0.62407,     0.61597,     0.61172,     0.60264,     0.57191,     0.53584,      0.5189,     0.49124,     0.46866,     0.45337,     0.43136,     0.41651,\n",
      "            0.41116,     0.39594,     0.38714,      0.3609,     0.33766,     0.31521,     0.28007,     0.27073,     0.26254,     0.23532,     0.22145,     0.20649,     0.19675,     0.18918,     0.17731,     0.16749,     0.14107,     0.12134,     0.11573,     0.11225,     0.10855,     0.10263,    0.095402,\n",
      "           0.080586,    0.075897,    0.071485,    0.067653,    0.063822,    0.053888,    0.050286,    0.046683,    0.044059,    0.041943,    0.039826,    0.037709,    0.029575,    0.025745,    0.024002,    0.022258,    0.020515,    0.018771,    0.017428,    0.016288,    0.015149,     0.01401,    0.012871,\n",
      "           0.011731,    0.010592,   0.0094526,           0,           0,           0,           0,           0,           0,           0,           0,           0,           0,           0,           0,           0,           0,           0,           0,           0,           0,           0,           0,\n",
      "                  0,           0,           0,           0,           0,           0,           0,           0,           0,           0,           0]]), 'Confidence', 'Recall'], [array([          0,    0.001001,    0.002002,    0.003003,    0.004004,    0.005005,    0.006006,    0.007007,    0.008008,    0.009009,     0.01001,    0.011011,    0.012012,    0.013013,    0.014014,    0.015015,    0.016016,    0.017017,    0.018018,    0.019019,     0.02002,    0.021021,    0.022022,    0.023023,\n",
      "          0.024024,    0.025025,    0.026026,    0.027027,    0.028028,    0.029029,     0.03003,    0.031031,    0.032032,    0.033033,    0.034034,    0.035035,    0.036036,    0.037037,    0.038038,    0.039039,     0.04004,    0.041041,    0.042042,    0.043043,    0.044044,    0.045045,    0.046046,    0.047047,\n",
      "          0.048048,    0.049049,     0.05005,    0.051051,    0.052052,    0.053053,    0.054054,    0.055055,    0.056056,    0.057057,    0.058058,    0.059059,     0.06006,    0.061061,    0.062062,    0.063063,    0.064064,    0.065065,    0.066066,    0.067067,    0.068068,    0.069069,     0.07007,    0.071071,\n",
      "          0.072072,    0.073073,    0.074074,    0.075075,    0.076076,    0.077077,    0.078078,    0.079079,     0.08008,    0.081081,    0.082082,    0.083083,    0.084084,    0.085085,    0.086086,    0.087087,    0.088088,    0.089089,     0.09009,    0.091091,    0.092092,    0.093093,    0.094094,    0.095095,\n",
      "          0.096096,    0.097097,    0.098098,    0.099099,      0.1001,      0.1011,      0.1021,      0.1031,      0.1041,     0.10511,     0.10611,     0.10711,     0.10811,     0.10911,     0.11011,     0.11111,     0.11211,     0.11311,     0.11411,     0.11512,     0.11612,     0.11712,     0.11812,     0.11912,\n",
      "           0.12012,     0.12112,     0.12212,     0.12312,     0.12412,     0.12513,     0.12613,     0.12713,     0.12813,     0.12913,     0.13013,     0.13113,     0.13213,     0.13313,     0.13413,     0.13514,     0.13614,     0.13714,     0.13814,     0.13914,     0.14014,     0.14114,     0.14214,     0.14314,\n",
      "           0.14414,     0.14515,     0.14615,     0.14715,     0.14815,     0.14915,     0.15015,     0.15115,     0.15215,     0.15315,     0.15415,     0.15516,     0.15616,     0.15716,     0.15816,     0.15916,     0.16016,     0.16116,     0.16216,     0.16316,     0.16416,     0.16517,     0.16617,     0.16717,\n",
      "           0.16817,     0.16917,     0.17017,     0.17117,     0.17217,     0.17317,     0.17417,     0.17518,     0.17618,     0.17718,     0.17818,     0.17918,     0.18018,     0.18118,     0.18218,     0.18318,     0.18418,     0.18519,     0.18619,     0.18719,     0.18819,     0.18919,     0.19019,     0.19119,\n",
      "           0.19219,     0.19319,     0.19419,      0.1952,      0.1962,      0.1972,      0.1982,      0.1992,      0.2002,      0.2012,      0.2022,      0.2032,      0.2042,     0.20521,     0.20621,     0.20721,     0.20821,     0.20921,     0.21021,     0.21121,     0.21221,     0.21321,     0.21421,     0.21522,\n",
      "           0.21622,     0.21722,     0.21822,     0.21922,     0.22022,     0.22122,     0.22222,     0.22322,     0.22422,     0.22523,     0.22623,     0.22723,     0.22823,     0.22923,     0.23023,     0.23123,     0.23223,     0.23323,     0.23423,     0.23524,     0.23624,     0.23724,     0.23824,     0.23924,\n",
      "           0.24024,     0.24124,     0.24224,     0.24324,     0.24424,     0.24525,     0.24625,     0.24725,     0.24825,     0.24925,     0.25025,     0.25125,     0.25225,     0.25325,     0.25425,     0.25526,     0.25626,     0.25726,     0.25826,     0.25926,     0.26026,     0.26126,     0.26226,     0.26326,\n",
      "           0.26426,     0.26527,     0.26627,     0.26727,     0.26827,     0.26927,     0.27027,     0.27127,     0.27227,     0.27327,     0.27427,     0.27528,     0.27628,     0.27728,     0.27828,     0.27928,     0.28028,     0.28128,     0.28228,     0.28328,     0.28428,     0.28529,     0.28629,     0.28729,\n",
      "           0.28829,     0.28929,     0.29029,     0.29129,     0.29229,     0.29329,     0.29429,      0.2953,      0.2963,      0.2973,      0.2983,      0.2993,      0.3003,      0.3013,      0.3023,      0.3033,      0.3043,     0.30531,     0.30631,     0.30731,     0.30831,     0.30931,     0.31031,     0.31131,\n",
      "           0.31231,     0.31331,     0.31431,     0.31532,     0.31632,     0.31732,     0.31832,     0.31932,     0.32032,     0.32132,     0.32232,     0.32332,     0.32432,     0.32533,     0.32633,     0.32733,     0.32833,     0.32933,     0.33033,     0.33133,     0.33233,     0.33333,     0.33433,     0.33534,\n",
      "           0.33634,     0.33734,     0.33834,     0.33934,     0.34034,     0.34134,     0.34234,     0.34334,     0.34434,     0.34535,     0.34635,     0.34735,     0.34835,     0.34935,     0.35035,     0.35135,     0.35235,     0.35335,     0.35435,     0.35536,     0.35636,     0.35736,     0.35836,     0.35936,\n",
      "           0.36036,     0.36136,     0.36236,     0.36336,     0.36436,     0.36537,     0.36637,     0.36737,     0.36837,     0.36937,     0.37037,     0.37137,     0.37237,     0.37337,     0.37437,     0.37538,     0.37638,     0.37738,     0.37838,     0.37938,     0.38038,     0.38138,     0.38238,     0.38338,\n",
      "           0.38438,     0.38539,     0.38639,     0.38739,     0.38839,     0.38939,     0.39039,     0.39139,     0.39239,     0.39339,     0.39439,      0.3954,      0.3964,      0.3974,      0.3984,      0.3994,      0.4004,      0.4014,      0.4024,      0.4034,      0.4044,     0.40541,     0.40641,     0.40741,\n",
      "           0.40841,     0.40941,     0.41041,     0.41141,     0.41241,     0.41341,     0.41441,     0.41542,     0.41642,     0.41742,     0.41842,     0.41942,     0.42042,     0.42142,     0.42242,     0.42342,     0.42442,     0.42543,     0.42643,     0.42743,     0.42843,     0.42943,     0.43043,     0.43143,\n",
      "           0.43243,     0.43343,     0.43443,     0.43544,     0.43644,     0.43744,     0.43844,     0.43944,     0.44044,     0.44144,     0.44244,     0.44344,     0.44444,     0.44545,     0.44645,     0.44745,     0.44845,     0.44945,     0.45045,     0.45145,     0.45245,     0.45345,     0.45445,     0.45546,\n",
      "           0.45646,     0.45746,     0.45846,     0.45946,     0.46046,     0.46146,     0.46246,     0.46346,     0.46446,     0.46547,     0.46647,     0.46747,     0.46847,     0.46947,     0.47047,     0.47147,     0.47247,     0.47347,     0.47447,     0.47548,     0.47648,     0.47748,     0.47848,     0.47948,\n",
      "           0.48048,     0.48148,     0.48248,     0.48348,     0.48448,     0.48549,     0.48649,     0.48749,     0.48849,     0.48949,     0.49049,     0.49149,     0.49249,     0.49349,     0.49449,      0.4955,      0.4965,      0.4975,      0.4985,      0.4995,      0.5005,      0.5015,      0.5025,      0.5035,\n",
      "            0.5045,     0.50551,     0.50651,     0.50751,     0.50851,     0.50951,     0.51051,     0.51151,     0.51251,     0.51351,     0.51451,     0.51552,     0.51652,     0.51752,     0.51852,     0.51952,     0.52052,     0.52152,     0.52252,     0.52352,     0.52452,     0.52553,     0.52653,     0.52753,\n",
      "           0.52853,     0.52953,     0.53053,     0.53153,     0.53253,     0.53353,     0.53453,     0.53554,     0.53654,     0.53754,     0.53854,     0.53954,     0.54054,     0.54154,     0.54254,     0.54354,     0.54454,     0.54555,     0.54655,     0.54755,     0.54855,     0.54955,     0.55055,     0.55155,\n",
      "           0.55255,     0.55355,     0.55455,     0.55556,     0.55656,     0.55756,     0.55856,     0.55956,     0.56056,     0.56156,     0.56256,     0.56356,     0.56456,     0.56557,     0.56657,     0.56757,     0.56857,     0.56957,     0.57057,     0.57157,     0.57257,     0.57357,     0.57457,     0.57558,\n",
      "           0.57658,     0.57758,     0.57858,     0.57958,     0.58058,     0.58158,     0.58258,     0.58358,     0.58458,     0.58559,     0.58659,     0.58759,     0.58859,     0.58959,     0.59059,     0.59159,     0.59259,     0.59359,     0.59459,      0.5956,      0.5966,      0.5976,      0.5986,      0.5996,\n",
      "            0.6006,      0.6016,      0.6026,      0.6036,      0.6046,     0.60561,     0.60661,     0.60761,     0.60861,     0.60961,     0.61061,     0.61161,     0.61261,     0.61361,     0.61461,     0.61562,     0.61662,     0.61762,     0.61862,     0.61962,     0.62062,     0.62162,     0.62262,     0.62362,\n",
      "           0.62462,     0.62563,     0.62663,     0.62763,     0.62863,     0.62963,     0.63063,     0.63163,     0.63263,     0.63363,     0.63463,     0.63564,     0.63664,     0.63764,     0.63864,     0.63964,     0.64064,     0.64164,     0.64264,     0.64364,     0.64464,     0.64565,     0.64665,     0.64765,\n",
      "           0.64865,     0.64965,     0.65065,     0.65165,     0.65265,     0.65365,     0.65465,     0.65566,     0.65666,     0.65766,     0.65866,     0.65966,     0.66066,     0.66166,     0.66266,     0.66366,     0.66466,     0.66567,     0.66667,     0.66767,     0.66867,     0.66967,     0.67067,     0.67167,\n",
      "           0.67267,     0.67367,     0.67467,     0.67568,     0.67668,     0.67768,     0.67868,     0.67968,     0.68068,     0.68168,     0.68268,     0.68368,     0.68468,     0.68569,     0.68669,     0.68769,     0.68869,     0.68969,     0.69069,     0.69169,     0.69269,     0.69369,     0.69469,      0.6957,\n",
      "            0.6967,      0.6977,      0.6987,      0.6997,      0.7007,      0.7017,      0.7027,      0.7037,      0.7047,     0.70571,     0.70671,     0.70771,     0.70871,     0.70971,     0.71071,     0.71171,     0.71271,     0.71371,     0.71471,     0.71572,     0.71672,     0.71772,     0.71872,     0.71972,\n",
      "           0.72072,     0.72172,     0.72272,     0.72372,     0.72472,     0.72573,     0.72673,     0.72773,     0.72873,     0.72973,     0.73073,     0.73173,     0.73273,     0.73373,     0.73473,     0.73574,     0.73674,     0.73774,     0.73874,     0.73974,     0.74074,     0.74174,     0.74274,     0.74374,\n",
      "           0.74474,     0.74575,     0.74675,     0.74775,     0.74875,     0.74975,     0.75075,     0.75175,     0.75275,     0.75375,     0.75475,     0.75576,     0.75676,     0.75776,     0.75876,     0.75976,     0.76076,     0.76176,     0.76276,     0.76376,     0.76476,     0.76577,     0.76677,     0.76777,\n",
      "           0.76877,     0.76977,     0.77077,     0.77177,     0.77277,     0.77377,     0.77477,     0.77578,     0.77678,     0.77778,     0.77878,     0.77978,     0.78078,     0.78178,     0.78278,     0.78378,     0.78478,     0.78579,     0.78679,     0.78779,     0.78879,     0.78979,     0.79079,     0.79179,\n",
      "           0.79279,     0.79379,     0.79479,      0.7958,      0.7968,      0.7978,      0.7988,      0.7998,      0.8008,      0.8018,      0.8028,      0.8038,      0.8048,     0.80581,     0.80681,     0.80781,     0.80881,     0.80981,     0.81081,     0.81181,     0.81281,     0.81381,     0.81481,     0.81582,\n",
      "           0.81682,     0.81782,     0.81882,     0.81982,     0.82082,     0.82182,     0.82282,     0.82382,     0.82482,     0.82583,     0.82683,     0.82783,     0.82883,     0.82983,     0.83083,     0.83183,     0.83283,     0.83383,     0.83483,     0.83584,     0.83684,     0.83784,     0.83884,     0.83984,\n",
      "           0.84084,     0.84184,     0.84284,     0.84384,     0.84484,     0.84585,     0.84685,     0.84785,     0.84885,     0.84985,     0.85085,     0.85185,     0.85285,     0.85385,     0.85485,     0.85586,     0.85686,     0.85786,     0.85886,     0.85986,     0.86086,     0.86186,     0.86286,     0.86386,\n",
      "           0.86486,     0.86587,     0.86687,     0.86787,     0.86887,     0.86987,     0.87087,     0.87187,     0.87287,     0.87387,     0.87487,     0.87588,     0.87688,     0.87788,     0.87888,     0.87988,     0.88088,     0.88188,     0.88288,     0.88388,     0.88488,     0.88589,     0.88689,     0.88789,\n",
      "           0.88889,     0.88989,     0.89089,     0.89189,     0.89289,     0.89389,     0.89489,      0.8959,      0.8969,      0.8979,      0.8989,      0.8999,      0.9009,      0.9019,      0.9029,      0.9039,      0.9049,     0.90591,     0.90691,     0.90791,     0.90891,     0.90991,     0.91091,     0.91191,\n",
      "           0.91291,     0.91391,     0.91491,     0.91592,     0.91692,     0.91792,     0.91892,     0.91992,     0.92092,     0.92192,     0.92292,     0.92392,     0.92492,     0.92593,     0.92693,     0.92793,     0.92893,     0.92993,     0.93093,     0.93193,     0.93293,     0.93393,     0.93493,     0.93594,\n",
      "           0.93694,     0.93794,     0.93894,     0.93994,     0.94094,     0.94194,     0.94294,     0.94394,     0.94494,     0.94595,     0.94695,     0.94795,     0.94895,     0.94995,     0.95095,     0.95195,     0.95295,     0.95395,     0.95495,     0.95596,     0.95696,     0.95796,     0.95896,     0.95996,\n",
      "           0.96096,     0.96196,     0.96296,     0.96396,     0.96496,     0.96597,     0.96697,     0.96797,     0.96897,     0.96997,     0.97097,     0.97197,     0.97297,     0.97397,     0.97497,     0.97598,     0.97698,     0.97798,     0.97898,     0.97998,     0.98098,     0.98198,     0.98298,     0.98398,\n",
      "           0.98498,     0.98599,     0.98699,     0.98799,     0.98899,     0.98999,     0.99099,     0.99199,     0.99299,     0.99399,     0.99499,       0.996,       0.997,       0.998,       0.999,           1]), array([[          1,           1,           1,           1,           1,           1,           1,           1,           1,           1,           1,           1,           1,           1,           1,           1,           1,           1,           1,           1,           1,           1,           1,\n",
      "                  1,           1,           1,           1,           1,           1,           1,           1,           1,           1,           1,           1,           1,           1,           1,           1,           1,           1,           1,           1,           1,           1,           1,\n",
      "                  1,           1,           1,           1,           1,           1,           1,           1,           1,           1,           1,           1,           1,           1,           1,           1,           1,           1,           1,           1,           1,           1,           1,\n",
      "                  1,           1,           1,           1,           1,           1,           1,           1,           1,           1,           1,           1,           1,           1,           1,           1,           1,           1,           1,           1,           1,           1,           1,\n",
      "                  1,           1,           1,           1,           1,           1,           1,           1,           1,           1,           1,           1,           1,           1,           1,           1,           1,           1,           1,           1,           1,           1,           1,\n",
      "                  1,           1,           1,           1,           1,           1,           1,           1,           1,           1,           1,           1,           1,           1,           1,           1,           1,           1,           1,           1,           1,           1,           1,\n",
      "                  1,           1,           1,           1,           1,           1,           1,           1,           1,           1,           1,           1,           1,           1,           1,           1,           1,           1,           1,           1,           1,           1,           1,\n",
      "                  1,           1,           1,           1,           1,           1,           1,           1,           1,           1,           1,           1,           1,           1,           1,           1,           1,           1,           1,           1,           1,           1,           1,\n",
      "                  1,           1,           1,           1,           1,           1,           1,           1,           1,           1,           1,           1,           1,           1,           1,           1,           1,           1,           1,           1,           1,           1,           1,\n",
      "                  1,           1,           1,           1,           1,           1,           1,           1,           1,           1,           1,           1,           1,           1,           1,           1,           1,           1,           1,           1,           1,           1,           1,\n",
      "                  1,           1,           1,           1,           1,           1,           1,           1,           1,           1,           1,           1,           1,           1,           1,           1,           1,           1,           1,           1,           1,           1,           1,\n",
      "                  1,           1,           1,           1,           1,           1,           1,           1,           1,           1,           1,           1,           1,           1,           1,           1,           1,           1,           1,           1,           1,           1,           1,\n",
      "                  1,           1,           1,           1,           1,           1,           1,           1,           1,           1,           1,           1,           1,           1,           1,           1,           1,           1,           1,           1,           1,           1,           1,\n",
      "                  1,           1,           1,           1,           1,           1,           1,           1,           1,           1,           1,           1,           1,           1,           1,           1,           1,           1,           1,           1,           1,           1,           1,\n",
      "                  1,           1,           1,           1,           1,           1,           1,           1,           1,           1,           1,           1,           1,           1,           1,           1,           1,           1,           1,           1,           1,           1,           1,\n",
      "                  1,           1,           1,           1,           1,           1,           1,           1,           1,           1,           1,           1,           1,           1,           1,           1,           1,           1,           1,           1,           1,           1,           1,\n",
      "                  1,           1,           1,           1,           1,           1,           1,           1,           1,           1,           1,           1,           1,           1,           1,           1,           1,           1,           1,           1,           1,           1,           1,\n",
      "                  1,           1,           1,           1,           1,           1,           1,           1,           1,           1,           1,           1,           1,           1,           1,           1,           1,           1,           1,           1,           1,           1,           1,\n",
      "                  1,           1,           1,           1,           1,           1,           1,           1,           1,           1,           1,           1,           1,           1,           1,           1,           1,           1,           1,           1,           1,           1,           1,\n",
      "                  1,           1,           1,           1,           1,           1,           1,           1,           1,           1,           1,           1,           1,           1,           1,           1,           1,           1,           1,           1,           1,           1,           1,\n",
      "                  1,           1,           1,           1,           1,           1,           1,           1,           1,           1,           1,           1,           1,           1,           1,           1,           1,           1,           1,           1,           1,           1,           1,\n",
      "                  1,           1,           1,           1,           1,           1,           1,           1,           1,           1,           1,           1,           1,           1,           1,           1,           1,           1,           1,           1,           1,           1,           1,\n",
      "                  1,           1,           1,           1,           1,           1,           1,           1,           1,           1,           1,           1,           1,           1,           1,           1,           1,           1,           1,           1,           1,           1,           1,\n",
      "                  1,           1,           1,           1,           1,           1,           1,           1,           1,           1,           1,           1,           1,           1,           1,           1,           1,           1,           1,           1,           1,           1,           1,\n",
      "                  1,           1,           1,           1,           1,           1,           1,           1,           1,           1,           1,           1,           1,           1,           1,           1,           1,           1,           1,           1,           1,           1,           1,\n",
      "                  1,           1,           1,           1,           1,           1,           1,           1,           1,           1,           1,           1,           1,           1,           1,           1,           1,           1,           1,           1,           1,           1,           1,\n",
      "                  1,           1,           1,           1,           1,           1,           1,           1,           1,           1,           1,           1,           1,           1,           1,           1,           1,           1,           1,           1,           1,           1,           1,\n",
      "                  1,           1,           1,           1,           1,           1,           1,           1,           1,           1,           1,           1,           1,           1,           1,           1,           1,           1,           1,           1,           1,           1,           1,\n",
      "                  1,           1,           1,           1,           1,           1,           1,           1,           1,           1,           1,           1,           1,           1,           1,           1,           1,           1,           1,           1,           1,           1,           1,\n",
      "                  1,           1,           1,           1,           1,           1,           1,           1,           1,           1,           1,           1,           1,           1,           1,           1,           1,           1,           1,           1,           1,           1,           1,\n",
      "                  1,           1,           1,           1,           1,           1,           1,           1,           1,           1,           1,           1,           1,           1,           1,           1,           1,           1,           1,           1,           1,           1,           1,\n",
      "                  1,           1,           1,           1,           1,           1,           1,           1,           1,           1,           1,           1,           1,           1,           1,           1,           1,           1,           1,           1,           1,           1,           1,\n",
      "                  1,           1,           1,           1,           1,           1,           1,           1,           1,           1,           1,           1,           1,           1,           1,           1,           1,           1,           1,           1,           1,           1,           1,\n",
      "                  1,           1,           1,           1,           1,           1,           1,           1,           1,           1,           1,           1,           1,           1,           1,           1,           1,           1,           1,           1,           1,           1,           1,\n",
      "                  1,           1,           1,           1,           1,           1,           1,           1,           1,           1,           1,           1,           1,           1,           1,           1,           1,           1,           1,           1,           1,           1,           1,\n",
      "                  1,           1,           1,           1,           1,           1,           1,           1,           1,           1,           1,           1,           1,           1,           1,           1,           1,           1,           1,           1,           1,           1,           1,\n",
      "                  1,           1,           1,           1,           1,           1,           1,           1,           1,           1,           1,           1,           1,           1,           1,           1,           1,           1,           1,           1,           1,           1,           1,\n",
      "                  1,           1,           1,           1,           1,           1,           1,           1,           1,           1,           1,           1,           1,           1,           1,           1,           1,           1,           1,           1,           1,           1,           1,\n",
      "                  1,           1,           1,           1,           1,           1,           1,           1,           1,           1,           1,           1,           1,           1,           1,           1,           1,           1,           1,           1,           1,           1,           1,\n",
      "                  1,           1,           1,           1,           1,           1,           1,           1,           1,           1,           1,           1,           1,           1,           1,           1,           1,           1,           1,           1,           1,           1,           1,\n",
      "                  1,           1,           1,           1,           1,           1,           1,           1,           1,           1,           1,           1,           1,           1,           1,           1,           1,           1,           1,           1,           1,           1,           1,\n",
      "                  1,           1,           1,           1,           1,           1,           1,           1,           1,           1,           1,           1,           1,           1,           1,           1,           1,           1,           1,           1,           1,           1,           1,\n",
      "                  1,           1,           1,           1,           1,           1,           1,           1,           1,           1,           1,           1,           1,           1,           1,           1,           1,           1,           1,           1,           1,           1,           1,\n",
      "                  1,           1,           1,           1,           1,           1,           1,           1,           1,           1,           0]]), 'Recall', 'Precision'], [array([          0,    0.001001,    0.002002,    0.003003,    0.004004,    0.005005,    0.006006,    0.007007,    0.008008,    0.009009,     0.01001,    0.011011,    0.012012,    0.013013,    0.014014,    0.015015,    0.016016,    0.017017,    0.018018,    0.019019,     0.02002,    0.021021,    0.022022,    0.023023,\n",
      "          0.024024,    0.025025,    0.026026,    0.027027,    0.028028,    0.029029,     0.03003,    0.031031,    0.032032,    0.033033,    0.034034,    0.035035,    0.036036,    0.037037,    0.038038,    0.039039,     0.04004,    0.041041,    0.042042,    0.043043,    0.044044,    0.045045,    0.046046,    0.047047,\n",
      "          0.048048,    0.049049,     0.05005,    0.051051,    0.052052,    0.053053,    0.054054,    0.055055,    0.056056,    0.057057,    0.058058,    0.059059,     0.06006,    0.061061,    0.062062,    0.063063,    0.064064,    0.065065,    0.066066,    0.067067,    0.068068,    0.069069,     0.07007,    0.071071,\n",
      "          0.072072,    0.073073,    0.074074,    0.075075,    0.076076,    0.077077,    0.078078,    0.079079,     0.08008,    0.081081,    0.082082,    0.083083,    0.084084,    0.085085,    0.086086,    0.087087,    0.088088,    0.089089,     0.09009,    0.091091,    0.092092,    0.093093,    0.094094,    0.095095,\n",
      "          0.096096,    0.097097,    0.098098,    0.099099,      0.1001,      0.1011,      0.1021,      0.1031,      0.1041,     0.10511,     0.10611,     0.10711,     0.10811,     0.10911,     0.11011,     0.11111,     0.11211,     0.11311,     0.11411,     0.11512,     0.11612,     0.11712,     0.11812,     0.11912,\n",
      "           0.12012,     0.12112,     0.12212,     0.12312,     0.12412,     0.12513,     0.12613,     0.12713,     0.12813,     0.12913,     0.13013,     0.13113,     0.13213,     0.13313,     0.13413,     0.13514,     0.13614,     0.13714,     0.13814,     0.13914,     0.14014,     0.14114,     0.14214,     0.14314,\n",
      "           0.14414,     0.14515,     0.14615,     0.14715,     0.14815,     0.14915,     0.15015,     0.15115,     0.15215,     0.15315,     0.15415,     0.15516,     0.15616,     0.15716,     0.15816,     0.15916,     0.16016,     0.16116,     0.16216,     0.16316,     0.16416,     0.16517,     0.16617,     0.16717,\n",
      "           0.16817,     0.16917,     0.17017,     0.17117,     0.17217,     0.17317,     0.17417,     0.17518,     0.17618,     0.17718,     0.17818,     0.17918,     0.18018,     0.18118,     0.18218,     0.18318,     0.18418,     0.18519,     0.18619,     0.18719,     0.18819,     0.18919,     0.19019,     0.19119,\n",
      "           0.19219,     0.19319,     0.19419,      0.1952,      0.1962,      0.1972,      0.1982,      0.1992,      0.2002,      0.2012,      0.2022,      0.2032,      0.2042,     0.20521,     0.20621,     0.20721,     0.20821,     0.20921,     0.21021,     0.21121,     0.21221,     0.21321,     0.21421,     0.21522,\n",
      "           0.21622,     0.21722,     0.21822,     0.21922,     0.22022,     0.22122,     0.22222,     0.22322,     0.22422,     0.22523,     0.22623,     0.22723,     0.22823,     0.22923,     0.23023,     0.23123,     0.23223,     0.23323,     0.23423,     0.23524,     0.23624,     0.23724,     0.23824,     0.23924,\n",
      "           0.24024,     0.24124,     0.24224,     0.24324,     0.24424,     0.24525,     0.24625,     0.24725,     0.24825,     0.24925,     0.25025,     0.25125,     0.25225,     0.25325,     0.25425,     0.25526,     0.25626,     0.25726,     0.25826,     0.25926,     0.26026,     0.26126,     0.26226,     0.26326,\n",
      "           0.26426,     0.26527,     0.26627,     0.26727,     0.26827,     0.26927,     0.27027,     0.27127,     0.27227,     0.27327,     0.27427,     0.27528,     0.27628,     0.27728,     0.27828,     0.27928,     0.28028,     0.28128,     0.28228,     0.28328,     0.28428,     0.28529,     0.28629,     0.28729,\n",
      "           0.28829,     0.28929,     0.29029,     0.29129,     0.29229,     0.29329,     0.29429,      0.2953,      0.2963,      0.2973,      0.2983,      0.2993,      0.3003,      0.3013,      0.3023,      0.3033,      0.3043,     0.30531,     0.30631,     0.30731,     0.30831,     0.30931,     0.31031,     0.31131,\n",
      "           0.31231,     0.31331,     0.31431,     0.31532,     0.31632,     0.31732,     0.31832,     0.31932,     0.32032,     0.32132,     0.32232,     0.32332,     0.32432,     0.32533,     0.32633,     0.32733,     0.32833,     0.32933,     0.33033,     0.33133,     0.33233,     0.33333,     0.33433,     0.33534,\n",
      "           0.33634,     0.33734,     0.33834,     0.33934,     0.34034,     0.34134,     0.34234,     0.34334,     0.34434,     0.34535,     0.34635,     0.34735,     0.34835,     0.34935,     0.35035,     0.35135,     0.35235,     0.35335,     0.35435,     0.35536,     0.35636,     0.35736,     0.35836,     0.35936,\n",
      "           0.36036,     0.36136,     0.36236,     0.36336,     0.36436,     0.36537,     0.36637,     0.36737,     0.36837,     0.36937,     0.37037,     0.37137,     0.37237,     0.37337,     0.37437,     0.37538,     0.37638,     0.37738,     0.37838,     0.37938,     0.38038,     0.38138,     0.38238,     0.38338,\n",
      "           0.38438,     0.38539,     0.38639,     0.38739,     0.38839,     0.38939,     0.39039,     0.39139,     0.39239,     0.39339,     0.39439,      0.3954,      0.3964,      0.3974,      0.3984,      0.3994,      0.4004,      0.4014,      0.4024,      0.4034,      0.4044,     0.40541,     0.40641,     0.40741,\n",
      "           0.40841,     0.40941,     0.41041,     0.41141,     0.41241,     0.41341,     0.41441,     0.41542,     0.41642,     0.41742,     0.41842,     0.41942,     0.42042,     0.42142,     0.42242,     0.42342,     0.42442,     0.42543,     0.42643,     0.42743,     0.42843,     0.42943,     0.43043,     0.43143,\n",
      "           0.43243,     0.43343,     0.43443,     0.43544,     0.43644,     0.43744,     0.43844,     0.43944,     0.44044,     0.44144,     0.44244,     0.44344,     0.44444,     0.44545,     0.44645,     0.44745,     0.44845,     0.44945,     0.45045,     0.45145,     0.45245,     0.45345,     0.45445,     0.45546,\n",
      "           0.45646,     0.45746,     0.45846,     0.45946,     0.46046,     0.46146,     0.46246,     0.46346,     0.46446,     0.46547,     0.46647,     0.46747,     0.46847,     0.46947,     0.47047,     0.47147,     0.47247,     0.47347,     0.47447,     0.47548,     0.47648,     0.47748,     0.47848,     0.47948,\n",
      "           0.48048,     0.48148,     0.48248,     0.48348,     0.48448,     0.48549,     0.48649,     0.48749,     0.48849,     0.48949,     0.49049,     0.49149,     0.49249,     0.49349,     0.49449,      0.4955,      0.4965,      0.4975,      0.4985,      0.4995,      0.5005,      0.5015,      0.5025,      0.5035,\n",
      "            0.5045,     0.50551,     0.50651,     0.50751,     0.50851,     0.50951,     0.51051,     0.51151,     0.51251,     0.51351,     0.51451,     0.51552,     0.51652,     0.51752,     0.51852,     0.51952,     0.52052,     0.52152,     0.52252,     0.52352,     0.52452,     0.52553,     0.52653,     0.52753,\n",
      "           0.52853,     0.52953,     0.53053,     0.53153,     0.53253,     0.53353,     0.53453,     0.53554,     0.53654,     0.53754,     0.53854,     0.53954,     0.54054,     0.54154,     0.54254,     0.54354,     0.54454,     0.54555,     0.54655,     0.54755,     0.54855,     0.54955,     0.55055,     0.55155,\n",
      "           0.55255,     0.55355,     0.55455,     0.55556,     0.55656,     0.55756,     0.55856,     0.55956,     0.56056,     0.56156,     0.56256,     0.56356,     0.56456,     0.56557,     0.56657,     0.56757,     0.56857,     0.56957,     0.57057,     0.57157,     0.57257,     0.57357,     0.57457,     0.57558,\n",
      "           0.57658,     0.57758,     0.57858,     0.57958,     0.58058,     0.58158,     0.58258,     0.58358,     0.58458,     0.58559,     0.58659,     0.58759,     0.58859,     0.58959,     0.59059,     0.59159,     0.59259,     0.59359,     0.59459,      0.5956,      0.5966,      0.5976,      0.5986,      0.5996,\n",
      "            0.6006,      0.6016,      0.6026,      0.6036,      0.6046,     0.60561,     0.60661,     0.60761,     0.60861,     0.60961,     0.61061,     0.61161,     0.61261,     0.61361,     0.61461,     0.61562,     0.61662,     0.61762,     0.61862,     0.61962,     0.62062,     0.62162,     0.62262,     0.62362,\n",
      "           0.62462,     0.62563,     0.62663,     0.62763,     0.62863,     0.62963,     0.63063,     0.63163,     0.63263,     0.63363,     0.63463,     0.63564,     0.63664,     0.63764,     0.63864,     0.63964,     0.64064,     0.64164,     0.64264,     0.64364,     0.64464,     0.64565,     0.64665,     0.64765,\n",
      "           0.64865,     0.64965,     0.65065,     0.65165,     0.65265,     0.65365,     0.65465,     0.65566,     0.65666,     0.65766,     0.65866,     0.65966,     0.66066,     0.66166,     0.66266,     0.66366,     0.66466,     0.66567,     0.66667,     0.66767,     0.66867,     0.66967,     0.67067,     0.67167,\n",
      "           0.67267,     0.67367,     0.67467,     0.67568,     0.67668,     0.67768,     0.67868,     0.67968,     0.68068,     0.68168,     0.68268,     0.68368,     0.68468,     0.68569,     0.68669,     0.68769,     0.68869,     0.68969,     0.69069,     0.69169,     0.69269,     0.69369,     0.69469,      0.6957,\n",
      "            0.6967,      0.6977,      0.6987,      0.6997,      0.7007,      0.7017,      0.7027,      0.7037,      0.7047,     0.70571,     0.70671,     0.70771,     0.70871,     0.70971,     0.71071,     0.71171,     0.71271,     0.71371,     0.71471,     0.71572,     0.71672,     0.71772,     0.71872,     0.71972,\n",
      "           0.72072,     0.72172,     0.72272,     0.72372,     0.72472,     0.72573,     0.72673,     0.72773,     0.72873,     0.72973,     0.73073,     0.73173,     0.73273,     0.73373,     0.73473,     0.73574,     0.73674,     0.73774,     0.73874,     0.73974,     0.74074,     0.74174,     0.74274,     0.74374,\n",
      "           0.74474,     0.74575,     0.74675,     0.74775,     0.74875,     0.74975,     0.75075,     0.75175,     0.75275,     0.75375,     0.75475,     0.75576,     0.75676,     0.75776,     0.75876,     0.75976,     0.76076,     0.76176,     0.76276,     0.76376,     0.76476,     0.76577,     0.76677,     0.76777,\n",
      "           0.76877,     0.76977,     0.77077,     0.77177,     0.77277,     0.77377,     0.77477,     0.77578,     0.77678,     0.77778,     0.77878,     0.77978,     0.78078,     0.78178,     0.78278,     0.78378,     0.78478,     0.78579,     0.78679,     0.78779,     0.78879,     0.78979,     0.79079,     0.79179,\n",
      "           0.79279,     0.79379,     0.79479,      0.7958,      0.7968,      0.7978,      0.7988,      0.7998,      0.8008,      0.8018,      0.8028,      0.8038,      0.8048,     0.80581,     0.80681,     0.80781,     0.80881,     0.80981,     0.81081,     0.81181,     0.81281,     0.81381,     0.81481,     0.81582,\n",
      "           0.81682,     0.81782,     0.81882,     0.81982,     0.82082,     0.82182,     0.82282,     0.82382,     0.82482,     0.82583,     0.82683,     0.82783,     0.82883,     0.82983,     0.83083,     0.83183,     0.83283,     0.83383,     0.83483,     0.83584,     0.83684,     0.83784,     0.83884,     0.83984,\n",
      "           0.84084,     0.84184,     0.84284,     0.84384,     0.84484,     0.84585,     0.84685,     0.84785,     0.84885,     0.84985,     0.85085,     0.85185,     0.85285,     0.85385,     0.85485,     0.85586,     0.85686,     0.85786,     0.85886,     0.85986,     0.86086,     0.86186,     0.86286,     0.86386,\n",
      "           0.86486,     0.86587,     0.86687,     0.86787,     0.86887,     0.86987,     0.87087,     0.87187,     0.87287,     0.87387,     0.87487,     0.87588,     0.87688,     0.87788,     0.87888,     0.87988,     0.88088,     0.88188,     0.88288,     0.88388,     0.88488,     0.88589,     0.88689,     0.88789,\n",
      "           0.88889,     0.88989,     0.89089,     0.89189,     0.89289,     0.89389,     0.89489,      0.8959,      0.8969,      0.8979,      0.8989,      0.8999,      0.9009,      0.9019,      0.9029,      0.9039,      0.9049,     0.90591,     0.90691,     0.90791,     0.90891,     0.90991,     0.91091,     0.91191,\n",
      "           0.91291,     0.91391,     0.91491,     0.91592,     0.91692,     0.91792,     0.91892,     0.91992,     0.92092,     0.92192,     0.92292,     0.92392,     0.92492,     0.92593,     0.92693,     0.92793,     0.92893,     0.92993,     0.93093,     0.93193,     0.93293,     0.93393,     0.93493,     0.93594,\n",
      "           0.93694,     0.93794,     0.93894,     0.93994,     0.94094,     0.94194,     0.94294,     0.94394,     0.94494,     0.94595,     0.94695,     0.94795,     0.94895,     0.94995,     0.95095,     0.95195,     0.95295,     0.95395,     0.95495,     0.95596,     0.95696,     0.95796,     0.95896,     0.95996,\n",
      "           0.96096,     0.96196,     0.96296,     0.96396,     0.96496,     0.96597,     0.96697,     0.96797,     0.96897,     0.96997,     0.97097,     0.97197,     0.97297,     0.97397,     0.97497,     0.97598,     0.97698,     0.97798,     0.97898,     0.97998,     0.98098,     0.98198,     0.98298,     0.98398,\n",
      "           0.98498,     0.98599,     0.98699,     0.98799,     0.98899,     0.98999,     0.99099,     0.99199,     0.99299,     0.99399,     0.99499,       0.996,       0.997,       0.998,       0.999,           1]), array([[    0.84615,     0.84615,     0.92824,     0.95256,     0.96684,     0.96984,     0.97146,     0.97308,       0.975,     0.97701,     0.97877,     0.98039,     0.98199,     0.98245,     0.98279,     0.98313,     0.98347,     0.98381,     0.98415,     0.98449,     0.98483,     0.98517,     0.98551,\n",
      "            0.98584,     0.98618,     0.98652,     0.98669,     0.98684,     0.98699,     0.98714,      0.9873,     0.98745,      0.9876,     0.98775,     0.98791,     0.98806,     0.98821,     0.98836,     0.98852,     0.98867,     0.98882,     0.98897,     0.98912,     0.98927,     0.98943,     0.98958,\n",
      "            0.98973,     0.98988,     0.99003,     0.99018,     0.99034,     0.99049,     0.99064,     0.99079,     0.99094,       0.991,       0.991,     0.99101,     0.99102,     0.99102,     0.99103,     0.99104,     0.99104,     0.99105,     0.99106,     0.99106,     0.99107,     0.99108,     0.99108,\n",
      "            0.99109,      0.9911,      0.9911,     0.99111,     0.99112,     0.99112,     0.99113,     0.99114,     0.99114,     0.99115,     0.99116,     0.99116,     0.99117,     0.99118,     0.99118,     0.99119,      0.9912,      0.9912,     0.99121,     0.99121,     0.99122,     0.99123,     0.99123,\n",
      "            0.99124,     0.99125,     0.99125,     0.99126,     0.99127,     0.99127,     0.99128,     0.99129,     0.99129,      0.9913,     0.99131,     0.99131,     0.99132,     0.99133,     0.99133,     0.99134,     0.99135,     0.99135,     0.99136,     0.99137,     0.99137,     0.99138,     0.99139,\n",
      "            0.99139,      0.9914,     0.99141,     0.99141,     0.99142,     0.99143,     0.99143,     0.99144,     0.99145,     0.99145,     0.99146,     0.99147,     0.99147,     0.99148,     0.99149,     0.99149,      0.9915,     0.99151,     0.99151,     0.99152,     0.99153,     0.99153,     0.99154,\n",
      "            0.99155,     0.99155,     0.99156,     0.99157,     0.99157,     0.99158,     0.99159,     0.99159,      0.9916,     0.99161,     0.99161,     0.99162,     0.99163,     0.99163,     0.99164,     0.99165,     0.99165,     0.99166,     0.99167,     0.99167,     0.99168,     0.99169,     0.99169,\n",
      "             0.9917,     0.99171,     0.99171,     0.99172,     0.99173,     0.99173,     0.99174,     0.99175,     0.99175,     0.99176,     0.99177,     0.99177,     0.99178,     0.99179,     0.99179,      0.9918,     0.99181,     0.99181,     0.99182,     0.99183,     0.99183,     0.99184,     0.99185,\n",
      "            0.99185,     0.99186,     0.99187,     0.99187,     0.99188,     0.99189,     0.99189,      0.9919,     0.99191,     0.99191,     0.99192,     0.99193,     0.99193,     0.99194,     0.99195,     0.99195,     0.99196,     0.99197,     0.99197,     0.99198,     0.99199,     0.99199,       0.992,\n",
      "            0.99201,     0.99201,     0.99202,     0.99203,     0.99203,     0.99204,     0.99205,     0.99205,     0.99206,     0.99207,     0.99207,     0.99208,     0.99209,     0.99209,      0.9921,     0.99211,     0.99211,     0.99212,     0.99213,     0.99213,     0.99214,     0.99215,     0.99215,\n",
      "            0.99216,     0.99217,     0.99217,     0.99218,     0.99218,     0.99219,      0.9922,      0.9922,     0.99221,     0.99222,     0.99222,     0.99223,     0.99224,     0.99224,     0.99225,     0.99226,     0.99226,     0.99227,     0.99228,     0.99228,     0.99229,      0.9923,      0.9923,\n",
      "            0.99231,     0.99232,     0.99232,     0.99233,     0.99234,     0.99234,     0.99235,     0.99236,     0.99236,     0.99237,     0.99238,     0.99238,     0.99239,      0.9924,      0.9924,     0.99241,     0.99242,     0.99242,     0.99243,     0.99244,     0.99244,     0.99245,     0.99246,\n",
      "            0.99246,     0.99247,     0.99248,     0.99248,     0.99249,      0.9925,      0.9925,     0.99251,     0.99252,     0.99252,     0.99253,     0.99254,     0.99254,     0.99255,     0.99256,     0.99256,     0.99257,     0.99258,     0.99258,     0.99259,      0.9926,      0.9926,     0.99261,\n",
      "            0.99262,     0.99262,     0.99263,     0.99264,     0.99264,     0.99265,     0.99266,     0.99266,     0.99267,     0.99268,     0.99268,     0.99269,      0.9927,      0.9927,     0.99271,     0.99272,     0.99272,     0.99273,     0.99274,     0.99274,     0.99275,     0.99276,     0.99276,\n",
      "            0.99277,     0.99278,     0.99278,     0.99279,      0.9928,      0.9928,     0.99281,     0.99282,     0.99282,     0.99283,     0.99283,     0.99284,     0.99285,     0.99285,     0.99286,     0.99287,     0.99287,     0.99288,     0.99289,     0.99289,      0.9929,     0.99291,     0.99291,\n",
      "            0.99292,     0.99293,     0.99293,     0.99294,     0.99295,     0.99295,     0.99296,     0.99297,     0.99297,     0.99298,     0.99299,     0.99299,       0.993,     0.99301,     0.99301,     0.99302,     0.99303,     0.99303,     0.99304,     0.99305,     0.99305,     0.99306,     0.99307,\n",
      "            0.99307,     0.99308,     0.99309,     0.99309,      0.9931,     0.99311,     0.99311,     0.99312,     0.99313,     0.99313,     0.99314,     0.99315,     0.99315,     0.99316,     0.99317,     0.99317,     0.99318,     0.99319,     0.99319,      0.9932,     0.99321,     0.99321,     0.99322,\n",
      "            0.99323,     0.99323,     0.99324,     0.99325,     0.99325,     0.99326,     0.99327,     0.99327,     0.99328,     0.99329,     0.99329,      0.9933,     0.99331,     0.99331,     0.99332,     0.99333,     0.99333,     0.99334,     0.99335,     0.99335,     0.99336,     0.99337,     0.99337,\n",
      "            0.99338,     0.99338,     0.99339,      0.9934,      0.9934,     0.99341,     0.99342,     0.99342,     0.99343,     0.99344,     0.99344,     0.99345,     0.99346,     0.99346,     0.99347,     0.99348,     0.99348,     0.99349,      0.9935,      0.9935,     0.99351,     0.99352,     0.99352,\n",
      "            0.99353,     0.99354,     0.99354,     0.99355,     0.99356,     0.99356,     0.99357,     0.99358,     0.99358,     0.99359,      0.9936,      0.9936,     0.99361,     0.99362,     0.99362,     0.99363,     0.99364,     0.99364,     0.99365,     0.99366,     0.99366,     0.99367,     0.99368,\n",
      "            0.99368,     0.99369,      0.9937,      0.9937,     0.99371,     0.99372,     0.99372,     0.99373,     0.99374,     0.99374,     0.99375,     0.99376,     0.99376,     0.99377,     0.99378,     0.99378,     0.99379,      0.9938,      0.9938,     0.99381,     0.99382,     0.99382,     0.99383,\n",
      "            0.99383,     0.99384,     0.99385,     0.99385,     0.99386,     0.99387,     0.99387,     0.99388,     0.99389,     0.99389,      0.9939,     0.99391,     0.99391,     0.99392,     0.99393,     0.99393,     0.99394,     0.99395,     0.99395,     0.99396,     0.99397,     0.99397,     0.99398,\n",
      "            0.99399,     0.99399,       0.994,     0.99401,     0.99401,     0.99402,     0.99403,     0.99403,     0.99404,     0.99405,     0.99405,     0.99406,     0.99407,     0.99407,     0.99408,     0.99409,     0.99409,      0.9941,     0.99411,     0.99411,     0.99412,     0.99413,     0.99413,\n",
      "            0.99414,     0.99415,     0.99415,     0.99416,     0.99417,     0.99417,     0.99418,     0.99419,     0.99419,      0.9942,     0.99421,     0.99421,     0.99422,     0.99423,     0.99423,     0.99424,     0.99424,     0.99425,     0.99426,     0.99426,     0.99427,     0.99428,     0.99428,\n",
      "            0.99429,      0.9943,      0.9943,     0.99431,     0.99432,     0.99432,     0.99433,     0.99434,     0.99434,     0.99435,     0.99436,     0.99436,     0.99437,     0.99438,     0.99438,     0.99439,      0.9944,      0.9944,     0.99441,     0.99442,     0.99442,     0.99443,     0.99444,\n",
      "            0.99444,     0.99445,     0.99446,     0.99446,     0.99447,     0.99448,     0.99448,     0.99449,      0.9945,      0.9945,     0.99451,     0.99452,     0.99452,     0.99453,     0.99454,     0.99454,     0.99455,     0.99456,     0.99456,     0.99457,     0.99458,     0.99458,     0.99459,\n",
      "             0.9946,      0.9946,     0.99461,     0.99461,     0.99462,     0.99463,     0.99463,     0.99464,     0.99465,     0.99465,     0.99466,     0.99467,     0.99467,     0.99468,     0.99469,     0.99469,      0.9947,     0.99471,     0.99471,     0.99472,     0.99473,     0.99473,     0.99474,\n",
      "            0.99475,     0.99475,     0.99476,     0.99477,     0.99477,     0.99478,     0.99479,     0.99479,      0.9948,     0.99481,     0.99481,     0.99482,     0.99483,     0.99483,     0.99484,     0.99485,     0.99485,     0.99486,     0.99487,     0.99487,     0.99488,     0.99489,     0.99489,\n",
      "             0.9949,     0.99491,     0.99491,     0.99492,     0.99493,     0.99493,     0.99494,     0.99495,     0.99495,     0.99496,     0.99496,     0.99497,     0.99498,     0.99498,     0.99499,       0.995,       0.995,     0.99501,     0.99502,     0.99502,     0.99503,     0.99504,     0.99504,\n",
      "            0.99505,     0.99506,     0.99506,     0.99507,     0.99508,     0.99508,     0.99509,      0.9951,      0.9951,     0.99511,     0.99512,     0.99512,     0.99513,     0.99514,     0.99514,     0.99515,     0.99516,     0.99516,     0.99517,     0.99518,     0.99518,     0.99519,      0.9952,\n",
      "             0.9952,     0.99521,     0.99522,     0.99522,     0.99523,     0.99524,     0.99524,     0.99525,     0.99526,     0.99526,     0.99527,     0.99528,     0.99528,     0.99529,     0.99529,      0.9953,     0.99531,     0.99531,     0.99532,     0.99533,     0.99533,     0.99534,     0.99535,\n",
      "            0.99535,     0.99536,     0.99537,     0.99537,     0.99538,     0.99539,     0.99539,      0.9954,     0.99541,     0.99541,     0.99542,     0.99543,     0.99543,     0.99544,     0.99545,     0.99545,     0.99546,     0.99547,     0.99547,     0.99561,     0.99582,     0.99602,     0.99623,\n",
      "            0.99643,     0.99664,     0.99684,     0.99705,     0.99726,     0.99746,     0.99766,     0.99787,     0.99807,     0.99828,     0.99848,     0.99869,     0.99889,      0.9991,      0.9993,      0.9995,     0.99971,     0.99991,     0.99997,     0.99991,     0.99985,      0.9998,     0.99974,\n",
      "            0.99968,     0.99962,     0.99957,     0.99951,     0.99945,      0.9994,     0.99934,     0.99928,     0.99922,     0.99917,     0.99911,     0.99905,       0.999,     0.99894,     0.99888,     0.99882,     0.99877,     0.99871,     0.99865,     0.99859,     0.99854,     0.99848,     0.99842,\n",
      "            0.99836,     0.99831,     0.99825,     0.99819,     0.99814,     0.99808,     0.99802,     0.99796,     0.99791,     0.99785,     0.99779,     0.99773,     0.99768,     0.99762,     0.99756,      0.9975,     0.99745,     0.99739,     0.99733,     0.99727,     0.99722,     0.99716,      0.9971,\n",
      "            0.99704,     0.99699,     0.99693,     0.99687,     0.99681,     0.99676,      0.9967,     0.99664,     0.99658,     0.99653,     0.99647,     0.99641,     0.99635,      0.9963,     0.99624,     0.99618,     0.99612,     0.99607,     0.99601,     0.99595,     0.99589,     0.99584,     0.99578,\n",
      "            0.99572,     0.99566,     0.99561,     0.99555,     0.99549,      0.9954,     0.99275,     0.99066,     0.99004,     0.98943,     0.98881,     0.98819,     0.98757,     0.98695,     0.98633,     0.98595,     0.98565,     0.98535,     0.98506,     0.98476,     0.98446,     0.98416,     0.98386,\n",
      "            0.98356,     0.98326,     0.98296,     0.98266,     0.98236,     0.98205,     0.98175,     0.98142,     0.98076,      0.9801,     0.97945,     0.97879,     0.97813,     0.97747,      0.9768,     0.97331,     0.96736,     0.96558,     0.96396,     0.96234,     0.95728,     0.95544,     0.95359,\n",
      "             0.9512,     0.94779,     0.94115,     0.93285,     0.92595,      0.9246,     0.92324,     0.92189,     0.92072,     0.91961,      0.9185,     0.91739,     0.91628,     0.91256,     0.90659,     0.89516,      0.8796,     0.87076,     0.85973,     0.85839,     0.85704,     0.85568,     0.85433,\n",
      "            0.83747,     0.83376,     0.83137,     0.82564,     0.82079,     0.81746,     0.80092,     0.78575,     0.78273,     0.78086,     0.77899,     0.76853,     0.76235,     0.75909,     0.75206,     0.72766,     0.69778,     0.68326,     0.65883,     0.63822,     0.62389,     0.60273,     0.58808,\n",
      "            0.58273,     0.56727,     0.55819,     0.53039,     0.50485,     0.47933,     0.43758,      0.4261,      0.4159,     0.38099,     0.36261,     0.34229,     0.32881,     0.31818,     0.30121,     0.28693,     0.24725,     0.21643,     0.20745,     0.20184,     0.19583,     0.18615,     0.17419,\n",
      "            0.14915,     0.14109,     0.13343,     0.12673,     0.11999,     0.10227,    0.095756,    0.089201,      0.0844,    0.080508,    0.076601,    0.072677,    0.057451,    0.050197,    0.046878,    0.043547,    0.040205,    0.036851,    0.034259,    0.032055,    0.029846,    0.027633,    0.025414,\n",
      "            0.02319,    0.020962,    0.018728,           0,           0,           0,           0,           0,           0,           0,           0,           0,           0,           0,           0,           0,           0,           0,           0,           0,           0,           0,           0,\n",
      "                  0,           0,           0,           0,           0,           0,           0,           0,           0,           0,           0]]), 'Confidence', 'F1'], [array([          0,    0.001001,    0.002002,    0.003003,    0.004004,    0.005005,    0.006006,    0.007007,    0.008008,    0.009009,     0.01001,    0.011011,    0.012012,    0.013013,    0.014014,    0.015015,    0.016016,    0.017017,    0.018018,    0.019019,     0.02002,    0.021021,    0.022022,    0.023023,\n",
      "          0.024024,    0.025025,    0.026026,    0.027027,    0.028028,    0.029029,     0.03003,    0.031031,    0.032032,    0.033033,    0.034034,    0.035035,    0.036036,    0.037037,    0.038038,    0.039039,     0.04004,    0.041041,    0.042042,    0.043043,    0.044044,    0.045045,    0.046046,    0.047047,\n",
      "          0.048048,    0.049049,     0.05005,    0.051051,    0.052052,    0.053053,    0.054054,    0.055055,    0.056056,    0.057057,    0.058058,    0.059059,     0.06006,    0.061061,    0.062062,    0.063063,    0.064064,    0.065065,    0.066066,    0.067067,    0.068068,    0.069069,     0.07007,    0.071071,\n",
      "          0.072072,    0.073073,    0.074074,    0.075075,    0.076076,    0.077077,    0.078078,    0.079079,     0.08008,    0.081081,    0.082082,    0.083083,    0.084084,    0.085085,    0.086086,    0.087087,    0.088088,    0.089089,     0.09009,    0.091091,    0.092092,    0.093093,    0.094094,    0.095095,\n",
      "          0.096096,    0.097097,    0.098098,    0.099099,      0.1001,      0.1011,      0.1021,      0.1031,      0.1041,     0.10511,     0.10611,     0.10711,     0.10811,     0.10911,     0.11011,     0.11111,     0.11211,     0.11311,     0.11411,     0.11512,     0.11612,     0.11712,     0.11812,     0.11912,\n",
      "           0.12012,     0.12112,     0.12212,     0.12312,     0.12412,     0.12513,     0.12613,     0.12713,     0.12813,     0.12913,     0.13013,     0.13113,     0.13213,     0.13313,     0.13413,     0.13514,     0.13614,     0.13714,     0.13814,     0.13914,     0.14014,     0.14114,     0.14214,     0.14314,\n",
      "           0.14414,     0.14515,     0.14615,     0.14715,     0.14815,     0.14915,     0.15015,     0.15115,     0.15215,     0.15315,     0.15415,     0.15516,     0.15616,     0.15716,     0.15816,     0.15916,     0.16016,     0.16116,     0.16216,     0.16316,     0.16416,     0.16517,     0.16617,     0.16717,\n",
      "           0.16817,     0.16917,     0.17017,     0.17117,     0.17217,     0.17317,     0.17417,     0.17518,     0.17618,     0.17718,     0.17818,     0.17918,     0.18018,     0.18118,     0.18218,     0.18318,     0.18418,     0.18519,     0.18619,     0.18719,     0.18819,     0.18919,     0.19019,     0.19119,\n",
      "           0.19219,     0.19319,     0.19419,      0.1952,      0.1962,      0.1972,      0.1982,      0.1992,      0.2002,      0.2012,      0.2022,      0.2032,      0.2042,     0.20521,     0.20621,     0.20721,     0.20821,     0.20921,     0.21021,     0.21121,     0.21221,     0.21321,     0.21421,     0.21522,\n",
      "           0.21622,     0.21722,     0.21822,     0.21922,     0.22022,     0.22122,     0.22222,     0.22322,     0.22422,     0.22523,     0.22623,     0.22723,     0.22823,     0.22923,     0.23023,     0.23123,     0.23223,     0.23323,     0.23423,     0.23524,     0.23624,     0.23724,     0.23824,     0.23924,\n",
      "           0.24024,     0.24124,     0.24224,     0.24324,     0.24424,     0.24525,     0.24625,     0.24725,     0.24825,     0.24925,     0.25025,     0.25125,     0.25225,     0.25325,     0.25425,     0.25526,     0.25626,     0.25726,     0.25826,     0.25926,     0.26026,     0.26126,     0.26226,     0.26326,\n",
      "           0.26426,     0.26527,     0.26627,     0.26727,     0.26827,     0.26927,     0.27027,     0.27127,     0.27227,     0.27327,     0.27427,     0.27528,     0.27628,     0.27728,     0.27828,     0.27928,     0.28028,     0.28128,     0.28228,     0.28328,     0.28428,     0.28529,     0.28629,     0.28729,\n",
      "           0.28829,     0.28929,     0.29029,     0.29129,     0.29229,     0.29329,     0.29429,      0.2953,      0.2963,      0.2973,      0.2983,      0.2993,      0.3003,      0.3013,      0.3023,      0.3033,      0.3043,     0.30531,     0.30631,     0.30731,     0.30831,     0.30931,     0.31031,     0.31131,\n",
      "           0.31231,     0.31331,     0.31431,     0.31532,     0.31632,     0.31732,     0.31832,     0.31932,     0.32032,     0.32132,     0.32232,     0.32332,     0.32432,     0.32533,     0.32633,     0.32733,     0.32833,     0.32933,     0.33033,     0.33133,     0.33233,     0.33333,     0.33433,     0.33534,\n",
      "           0.33634,     0.33734,     0.33834,     0.33934,     0.34034,     0.34134,     0.34234,     0.34334,     0.34434,     0.34535,     0.34635,     0.34735,     0.34835,     0.34935,     0.35035,     0.35135,     0.35235,     0.35335,     0.35435,     0.35536,     0.35636,     0.35736,     0.35836,     0.35936,\n",
      "           0.36036,     0.36136,     0.36236,     0.36336,     0.36436,     0.36537,     0.36637,     0.36737,     0.36837,     0.36937,     0.37037,     0.37137,     0.37237,     0.37337,     0.37437,     0.37538,     0.37638,     0.37738,     0.37838,     0.37938,     0.38038,     0.38138,     0.38238,     0.38338,\n",
      "           0.38438,     0.38539,     0.38639,     0.38739,     0.38839,     0.38939,     0.39039,     0.39139,     0.39239,     0.39339,     0.39439,      0.3954,      0.3964,      0.3974,      0.3984,      0.3994,      0.4004,      0.4014,      0.4024,      0.4034,      0.4044,     0.40541,     0.40641,     0.40741,\n",
      "           0.40841,     0.40941,     0.41041,     0.41141,     0.41241,     0.41341,     0.41441,     0.41542,     0.41642,     0.41742,     0.41842,     0.41942,     0.42042,     0.42142,     0.42242,     0.42342,     0.42442,     0.42543,     0.42643,     0.42743,     0.42843,     0.42943,     0.43043,     0.43143,\n",
      "           0.43243,     0.43343,     0.43443,     0.43544,     0.43644,     0.43744,     0.43844,     0.43944,     0.44044,     0.44144,     0.44244,     0.44344,     0.44444,     0.44545,     0.44645,     0.44745,     0.44845,     0.44945,     0.45045,     0.45145,     0.45245,     0.45345,     0.45445,     0.45546,\n",
      "           0.45646,     0.45746,     0.45846,     0.45946,     0.46046,     0.46146,     0.46246,     0.46346,     0.46446,     0.46547,     0.46647,     0.46747,     0.46847,     0.46947,     0.47047,     0.47147,     0.47247,     0.47347,     0.47447,     0.47548,     0.47648,     0.47748,     0.47848,     0.47948,\n",
      "           0.48048,     0.48148,     0.48248,     0.48348,     0.48448,     0.48549,     0.48649,     0.48749,     0.48849,     0.48949,     0.49049,     0.49149,     0.49249,     0.49349,     0.49449,      0.4955,      0.4965,      0.4975,      0.4985,      0.4995,      0.5005,      0.5015,      0.5025,      0.5035,\n",
      "            0.5045,     0.50551,     0.50651,     0.50751,     0.50851,     0.50951,     0.51051,     0.51151,     0.51251,     0.51351,     0.51451,     0.51552,     0.51652,     0.51752,     0.51852,     0.51952,     0.52052,     0.52152,     0.52252,     0.52352,     0.52452,     0.52553,     0.52653,     0.52753,\n",
      "           0.52853,     0.52953,     0.53053,     0.53153,     0.53253,     0.53353,     0.53453,     0.53554,     0.53654,     0.53754,     0.53854,     0.53954,     0.54054,     0.54154,     0.54254,     0.54354,     0.54454,     0.54555,     0.54655,     0.54755,     0.54855,     0.54955,     0.55055,     0.55155,\n",
      "           0.55255,     0.55355,     0.55455,     0.55556,     0.55656,     0.55756,     0.55856,     0.55956,     0.56056,     0.56156,     0.56256,     0.56356,     0.56456,     0.56557,     0.56657,     0.56757,     0.56857,     0.56957,     0.57057,     0.57157,     0.57257,     0.57357,     0.57457,     0.57558,\n",
      "           0.57658,     0.57758,     0.57858,     0.57958,     0.58058,     0.58158,     0.58258,     0.58358,     0.58458,     0.58559,     0.58659,     0.58759,     0.58859,     0.58959,     0.59059,     0.59159,     0.59259,     0.59359,     0.59459,      0.5956,      0.5966,      0.5976,      0.5986,      0.5996,\n",
      "            0.6006,      0.6016,      0.6026,      0.6036,      0.6046,     0.60561,     0.60661,     0.60761,     0.60861,     0.60961,     0.61061,     0.61161,     0.61261,     0.61361,     0.61461,     0.61562,     0.61662,     0.61762,     0.61862,     0.61962,     0.62062,     0.62162,     0.62262,     0.62362,\n",
      "           0.62462,     0.62563,     0.62663,     0.62763,     0.62863,     0.62963,     0.63063,     0.63163,     0.63263,     0.63363,     0.63463,     0.63564,     0.63664,     0.63764,     0.63864,     0.63964,     0.64064,     0.64164,     0.64264,     0.64364,     0.64464,     0.64565,     0.64665,     0.64765,\n",
      "           0.64865,     0.64965,     0.65065,     0.65165,     0.65265,     0.65365,     0.65465,     0.65566,     0.65666,     0.65766,     0.65866,     0.65966,     0.66066,     0.66166,     0.66266,     0.66366,     0.66466,     0.66567,     0.66667,     0.66767,     0.66867,     0.66967,     0.67067,     0.67167,\n",
      "           0.67267,     0.67367,     0.67467,     0.67568,     0.67668,     0.67768,     0.67868,     0.67968,     0.68068,     0.68168,     0.68268,     0.68368,     0.68468,     0.68569,     0.68669,     0.68769,     0.68869,     0.68969,     0.69069,     0.69169,     0.69269,     0.69369,     0.69469,      0.6957,\n",
      "            0.6967,      0.6977,      0.6987,      0.6997,      0.7007,      0.7017,      0.7027,      0.7037,      0.7047,     0.70571,     0.70671,     0.70771,     0.70871,     0.70971,     0.71071,     0.71171,     0.71271,     0.71371,     0.71471,     0.71572,     0.71672,     0.71772,     0.71872,     0.71972,\n",
      "           0.72072,     0.72172,     0.72272,     0.72372,     0.72472,     0.72573,     0.72673,     0.72773,     0.72873,     0.72973,     0.73073,     0.73173,     0.73273,     0.73373,     0.73473,     0.73574,     0.73674,     0.73774,     0.73874,     0.73974,     0.74074,     0.74174,     0.74274,     0.74374,\n",
      "           0.74474,     0.74575,     0.74675,     0.74775,     0.74875,     0.74975,     0.75075,     0.75175,     0.75275,     0.75375,     0.75475,     0.75576,     0.75676,     0.75776,     0.75876,     0.75976,     0.76076,     0.76176,     0.76276,     0.76376,     0.76476,     0.76577,     0.76677,     0.76777,\n",
      "           0.76877,     0.76977,     0.77077,     0.77177,     0.77277,     0.77377,     0.77477,     0.77578,     0.77678,     0.77778,     0.77878,     0.77978,     0.78078,     0.78178,     0.78278,     0.78378,     0.78478,     0.78579,     0.78679,     0.78779,     0.78879,     0.78979,     0.79079,     0.79179,\n",
      "           0.79279,     0.79379,     0.79479,      0.7958,      0.7968,      0.7978,      0.7988,      0.7998,      0.8008,      0.8018,      0.8028,      0.8038,      0.8048,     0.80581,     0.80681,     0.80781,     0.80881,     0.80981,     0.81081,     0.81181,     0.81281,     0.81381,     0.81481,     0.81582,\n",
      "           0.81682,     0.81782,     0.81882,     0.81982,     0.82082,     0.82182,     0.82282,     0.82382,     0.82482,     0.82583,     0.82683,     0.82783,     0.82883,     0.82983,     0.83083,     0.83183,     0.83283,     0.83383,     0.83483,     0.83584,     0.83684,     0.83784,     0.83884,     0.83984,\n",
      "           0.84084,     0.84184,     0.84284,     0.84384,     0.84484,     0.84585,     0.84685,     0.84785,     0.84885,     0.84985,     0.85085,     0.85185,     0.85285,     0.85385,     0.85485,     0.85586,     0.85686,     0.85786,     0.85886,     0.85986,     0.86086,     0.86186,     0.86286,     0.86386,\n",
      "           0.86486,     0.86587,     0.86687,     0.86787,     0.86887,     0.86987,     0.87087,     0.87187,     0.87287,     0.87387,     0.87487,     0.87588,     0.87688,     0.87788,     0.87888,     0.87988,     0.88088,     0.88188,     0.88288,     0.88388,     0.88488,     0.88589,     0.88689,     0.88789,\n",
      "           0.88889,     0.88989,     0.89089,     0.89189,     0.89289,     0.89389,     0.89489,      0.8959,      0.8969,      0.8979,      0.8989,      0.8999,      0.9009,      0.9019,      0.9029,      0.9039,      0.9049,     0.90591,     0.90691,     0.90791,     0.90891,     0.90991,     0.91091,     0.91191,\n",
      "           0.91291,     0.91391,     0.91491,     0.91592,     0.91692,     0.91792,     0.91892,     0.91992,     0.92092,     0.92192,     0.92292,     0.92392,     0.92492,     0.92593,     0.92693,     0.92793,     0.92893,     0.92993,     0.93093,     0.93193,     0.93293,     0.93393,     0.93493,     0.93594,\n",
      "           0.93694,     0.93794,     0.93894,     0.93994,     0.94094,     0.94194,     0.94294,     0.94394,     0.94494,     0.94595,     0.94695,     0.94795,     0.94895,     0.94995,     0.95095,     0.95195,     0.95295,     0.95395,     0.95495,     0.95596,     0.95696,     0.95796,     0.95896,     0.95996,\n",
      "           0.96096,     0.96196,     0.96296,     0.96396,     0.96496,     0.96597,     0.96697,     0.96797,     0.96897,     0.96997,     0.97097,     0.97197,     0.97297,     0.97397,     0.97497,     0.97598,     0.97698,     0.97798,     0.97898,     0.97998,     0.98098,     0.98198,     0.98298,     0.98398,\n",
      "           0.98498,     0.98599,     0.98699,     0.98799,     0.98899,     0.98999,     0.99099,     0.99199,     0.99299,     0.99399,     0.99499,       0.996,       0.997,       0.998,       0.999,           1]), array([[    0.73333,     0.73333,     0.86608,     0.90941,     0.93581,     0.94144,     0.94451,     0.94757,     0.95123,     0.95506,     0.95843,     0.96153,     0.96462,     0.96551,     0.96617,     0.96682,     0.96748,     0.96814,      0.9688,     0.96945,     0.97011,     0.97077,     0.97143,\n",
      "            0.97208,     0.97274,      0.9734,     0.97372,     0.97402,     0.97432,     0.97462,     0.97491,     0.97521,     0.97551,      0.9758,      0.9761,      0.9764,      0.9767,     0.97699,     0.97729,     0.97759,     0.97789,     0.97818,     0.97848,     0.97878,     0.97907,     0.97937,\n",
      "            0.97967,     0.97997,     0.98026,     0.98056,     0.98086,     0.98115,     0.98145,     0.98175,     0.98205,     0.98215,     0.98216,     0.98218,     0.98219,      0.9822,     0.98222,     0.98223,     0.98224,     0.98226,     0.98227,     0.98228,      0.9823,     0.98231,     0.98232,\n",
      "            0.98233,     0.98235,     0.98236,     0.98237,     0.98239,      0.9824,     0.98241,     0.98243,     0.98244,     0.98245,     0.98247,     0.98248,     0.98249,      0.9825,     0.98252,     0.98253,     0.98254,     0.98256,     0.98257,     0.98258,      0.9826,     0.98261,     0.98262,\n",
      "            0.98264,     0.98265,     0.98266,     0.98267,     0.98269,      0.9827,     0.98271,     0.98273,     0.98274,     0.98275,     0.98277,     0.98278,     0.98279,     0.98281,     0.98282,     0.98283,     0.98284,     0.98286,     0.98287,     0.98288,      0.9829,     0.98291,     0.98292,\n",
      "            0.98294,     0.98295,     0.98296,     0.98298,     0.98299,       0.983,     0.98301,     0.98303,     0.98304,     0.98305,     0.98307,     0.98308,     0.98309,     0.98311,     0.98312,     0.98313,     0.98314,     0.98316,     0.98317,     0.98318,      0.9832,     0.98321,     0.98322,\n",
      "            0.98324,     0.98325,     0.98326,     0.98328,     0.98329,      0.9833,     0.98331,     0.98333,     0.98334,     0.98335,     0.98337,     0.98338,     0.98339,     0.98341,     0.98342,     0.98343,     0.98345,     0.98346,     0.98347,     0.98348,      0.9835,     0.98351,     0.98352,\n",
      "            0.98354,     0.98355,     0.98356,     0.98358,     0.98359,      0.9836,     0.98362,     0.98363,     0.98364,     0.98365,     0.98367,     0.98368,     0.98369,     0.98371,     0.98372,     0.98373,     0.98375,     0.98376,     0.98377,     0.98379,      0.9838,     0.98381,     0.98382,\n",
      "            0.98384,     0.98385,     0.98386,     0.98388,     0.98389,      0.9839,     0.98392,     0.98393,     0.98394,     0.98396,     0.98397,     0.98398,     0.98399,     0.98401,     0.98402,     0.98403,     0.98405,     0.98406,     0.98407,     0.98409,      0.9841,     0.98411,     0.98413,\n",
      "            0.98414,     0.98415,     0.98416,     0.98418,     0.98419,      0.9842,     0.98422,     0.98423,     0.98424,     0.98426,     0.98427,     0.98428,      0.9843,     0.98431,     0.98432,     0.98433,     0.98435,     0.98436,     0.98437,     0.98439,      0.9844,     0.98441,     0.98443,\n",
      "            0.98444,     0.98445,     0.98446,     0.98448,     0.98449,      0.9845,     0.98452,     0.98453,     0.98454,     0.98456,     0.98457,     0.98458,      0.9846,     0.98461,     0.98462,     0.98463,     0.98465,     0.98466,     0.98467,     0.98469,      0.9847,     0.98471,     0.98473,\n",
      "            0.98474,     0.98475,     0.98477,     0.98478,     0.98479,      0.9848,     0.98482,     0.98483,     0.98484,     0.98486,     0.98487,     0.98488,      0.9849,     0.98491,     0.98492,     0.98494,     0.98495,     0.98496,     0.98497,     0.98499,       0.985,     0.98501,     0.98503,\n",
      "            0.98504,     0.98505,     0.98507,     0.98508,     0.98509,     0.98511,     0.98512,     0.98513,     0.98514,     0.98516,     0.98517,     0.98518,      0.9852,     0.98521,     0.98522,     0.98524,     0.98525,     0.98526,     0.98528,     0.98529,      0.9853,     0.98531,     0.98533,\n",
      "            0.98534,     0.98535,     0.98537,     0.98538,     0.98539,     0.98541,     0.98542,     0.98543,     0.98545,     0.98546,     0.98547,     0.98548,      0.9855,     0.98551,     0.98552,     0.98554,     0.98555,     0.98556,     0.98558,     0.98559,      0.9856,     0.98562,     0.98563,\n",
      "            0.98564,     0.98565,     0.98567,     0.98568,     0.98569,     0.98571,     0.98572,     0.98573,     0.98575,     0.98576,     0.98577,     0.98578,      0.9858,     0.98581,     0.98582,     0.98584,     0.98585,     0.98586,     0.98588,     0.98589,      0.9859,     0.98592,     0.98593,\n",
      "            0.98594,     0.98595,     0.98597,     0.98598,     0.98599,     0.98601,     0.98602,     0.98603,     0.98605,     0.98606,     0.98607,     0.98609,      0.9861,     0.98611,     0.98612,     0.98614,     0.98615,     0.98616,     0.98618,     0.98619,      0.9862,     0.98622,     0.98623,\n",
      "            0.98624,     0.98626,     0.98627,     0.98628,     0.98629,     0.98631,     0.98632,     0.98633,     0.98635,     0.98636,     0.98637,     0.98639,      0.9864,     0.98641,     0.98643,     0.98644,     0.98645,     0.98646,     0.98648,     0.98649,      0.9865,     0.98652,     0.98653,\n",
      "            0.98654,     0.98656,     0.98657,     0.98658,      0.9866,     0.98661,     0.98662,     0.98663,     0.98665,     0.98666,     0.98667,     0.98669,      0.9867,     0.98671,     0.98673,     0.98674,     0.98675,     0.98677,     0.98678,     0.98679,      0.9868,     0.98682,     0.98683,\n",
      "            0.98684,     0.98686,     0.98687,     0.98688,      0.9869,     0.98691,     0.98692,     0.98694,     0.98695,     0.98696,     0.98697,     0.98699,       0.987,     0.98701,     0.98703,     0.98704,     0.98705,     0.98707,     0.98708,     0.98709,      0.9871,     0.98712,     0.98713,\n",
      "            0.98714,     0.98716,     0.98717,     0.98718,      0.9872,     0.98721,     0.98722,     0.98724,     0.98725,     0.98726,     0.98727,     0.98729,      0.9873,     0.98731,     0.98733,     0.98734,     0.98735,     0.98737,     0.98738,     0.98739,     0.98741,     0.98742,     0.98743,\n",
      "            0.98744,     0.98746,     0.98747,     0.98748,      0.9875,     0.98751,     0.98752,     0.98754,     0.98755,     0.98756,     0.98758,     0.98759,      0.9876,     0.98761,     0.98763,     0.98764,     0.98765,     0.98767,     0.98768,     0.98769,     0.98771,     0.98772,     0.98773,\n",
      "            0.98775,     0.98776,     0.98777,     0.98778,      0.9878,     0.98781,     0.98782,     0.98784,     0.98785,     0.98786,     0.98788,     0.98789,      0.9879,     0.98792,     0.98793,     0.98794,     0.98795,     0.98797,     0.98798,     0.98799,     0.98801,     0.98802,     0.98803,\n",
      "            0.98805,     0.98806,     0.98807,     0.98809,      0.9881,     0.98811,     0.98812,     0.98814,     0.98815,     0.98816,     0.98818,     0.98819,      0.9882,     0.98822,     0.98823,     0.98824,     0.98826,     0.98827,     0.98828,     0.98829,     0.98831,     0.98832,     0.98833,\n",
      "            0.98835,     0.98836,     0.98837,     0.98839,      0.9884,     0.98841,     0.98843,     0.98844,     0.98845,     0.98846,     0.98848,     0.98849,      0.9885,     0.98852,     0.98853,     0.98854,     0.98856,     0.98857,     0.98858,     0.98859,     0.98861,     0.98862,     0.98863,\n",
      "            0.98865,     0.98866,     0.98867,     0.98869,      0.9887,     0.98871,     0.98873,     0.98874,     0.98875,     0.98876,     0.98878,     0.98879,      0.9888,     0.98882,     0.98883,     0.98884,     0.98886,     0.98887,     0.98888,      0.9889,     0.98891,     0.98892,     0.98893,\n",
      "            0.98895,     0.98896,     0.98897,     0.98899,       0.989,     0.98901,     0.98903,     0.98904,     0.98905,     0.98907,     0.98908,     0.98909,      0.9891,     0.98912,     0.98913,     0.98914,     0.98916,     0.98917,     0.98918,      0.9892,     0.98921,     0.98922,     0.98924,\n",
      "            0.98925,     0.98926,     0.98927,     0.98929,      0.9893,     0.98931,     0.98933,     0.98934,     0.98935,     0.98937,     0.98938,     0.98939,     0.98941,     0.98942,     0.98943,     0.98944,     0.98946,     0.98947,     0.98948,      0.9895,     0.98951,     0.98952,     0.98954,\n",
      "            0.98955,     0.98956,     0.98958,     0.98959,      0.9896,     0.98961,     0.98963,     0.98964,     0.98965,     0.98967,     0.98968,     0.98969,     0.98971,     0.98972,     0.98973,     0.98975,     0.98976,     0.98977,     0.98978,      0.9898,     0.98981,     0.98982,     0.98984,\n",
      "            0.98985,     0.98986,     0.98988,     0.98989,      0.9899,     0.98991,     0.98993,     0.98994,     0.98995,     0.98997,     0.98998,     0.98999,     0.99001,     0.99002,     0.99003,     0.99005,     0.99006,     0.99007,     0.99008,      0.9901,     0.99011,     0.99012,     0.99014,\n",
      "            0.99015,     0.99016,     0.99018,     0.99019,      0.9902,     0.99022,     0.99023,     0.99024,     0.99025,     0.99027,     0.99028,     0.99029,     0.99031,     0.99032,     0.99033,     0.99035,     0.99036,     0.99037,     0.99039,      0.9904,     0.99041,     0.99042,     0.99044,\n",
      "            0.99045,     0.99046,     0.99048,     0.99049,      0.9905,     0.99052,     0.99053,     0.99054,     0.99056,     0.99057,     0.99058,     0.99059,     0.99061,     0.99062,     0.99063,     0.99065,     0.99066,     0.99067,     0.99069,      0.9907,     0.99071,     0.99073,     0.99074,\n",
      "            0.99075,     0.99076,     0.99078,     0.99079,      0.9908,     0.99082,     0.99083,     0.99084,     0.99086,     0.99087,     0.99088,      0.9909,     0.99091,     0.99092,     0.99093,     0.99095,     0.99096,     0.99097,     0.99099,     0.99126,     0.99167,     0.99208,     0.99249,\n",
      "            0.99289,      0.9933,     0.99371,     0.99412,     0.99453,     0.99493,     0.99534,     0.99575,     0.99616,     0.99656,     0.99697,     0.99738,     0.99779,     0.99819,      0.9986,     0.99901,     0.99942,     0.99983,           1,           1,           1,           1,           1,\n",
      "                  1,           1,           1,           1,           1,           1,           1,           1,           1,           1,           1,           1,           1,           1,           1,           1,           1,           1,           1,           1,           1,           1,           1,\n",
      "                  1,           1,           1,           1,           1,           1,           1,           1,           1,           1,           1,           1,           1,           1,           1,           1,           1,           1,           1,           1,           1,           1,           1,\n",
      "                  1,           1,           1,           1,           1,           1,           1,           1,           1,           1,           1,           1,           1,           1,           1,           1,           1,           1,           1,           1,           1,           1,           1,\n",
      "                  1,           1,           1,           1,           1,           1,           1,           1,           1,           1,           1,           1,           1,           1,           1,           1,           1,           1,           1,           1,           1,           1,           1,\n",
      "                  1,           1,           1,           1,           1,           1,           1,           1,           1,           1,           1,           1,           1,           1,           1,           1,           1,           1,           1,           1,           1,           1,           1,\n",
      "                  1,           1,           1,           1,           1,           1,           1,           1,           1,           1,           1,           1,           1,           1,           1,           1,           1,           1,           1,           1,           1,           1,           1,\n",
      "                  1,           1,           1,           1,           1,           1,           1,           1,           1,           1,           1,           1,           1,           1,           1,           1,           1,           1,           1,           1,           1,           1,           1,\n",
      "                  1,           1,           1,           1,           1,           1,           1,           1,           1,           1,           1,           1,           1,           1,           1,           1,           1,           1,           1,           1,           1,           1,           1,\n",
      "                  1,           1,           1,           1,           1,           1,           1,           1,           1,           1,           1,           1,           1,           1,           1,           1,           1,           1,           1,           1,           1,           1,           1,\n",
      "                  1,           1,           1,           1,           1,           1,           1,           1,           1,           1,           1,           1,           1,           1,           1,           1,           1,           1,           1,           1,           1,           1,           1,\n",
      "                  1,           1,           1,           1,           1,           1,           1,           1,           1,           1,           1]]), 'Confidence', 'Precision'], [array([          0,    0.001001,    0.002002,    0.003003,    0.004004,    0.005005,    0.006006,    0.007007,    0.008008,    0.009009,     0.01001,    0.011011,    0.012012,    0.013013,    0.014014,    0.015015,    0.016016,    0.017017,    0.018018,    0.019019,     0.02002,    0.021021,    0.022022,    0.023023,\n",
      "          0.024024,    0.025025,    0.026026,    0.027027,    0.028028,    0.029029,     0.03003,    0.031031,    0.032032,    0.033033,    0.034034,    0.035035,    0.036036,    0.037037,    0.038038,    0.039039,     0.04004,    0.041041,    0.042042,    0.043043,    0.044044,    0.045045,    0.046046,    0.047047,\n",
      "          0.048048,    0.049049,     0.05005,    0.051051,    0.052052,    0.053053,    0.054054,    0.055055,    0.056056,    0.057057,    0.058058,    0.059059,     0.06006,    0.061061,    0.062062,    0.063063,    0.064064,    0.065065,    0.066066,    0.067067,    0.068068,    0.069069,     0.07007,    0.071071,\n",
      "          0.072072,    0.073073,    0.074074,    0.075075,    0.076076,    0.077077,    0.078078,    0.079079,     0.08008,    0.081081,    0.082082,    0.083083,    0.084084,    0.085085,    0.086086,    0.087087,    0.088088,    0.089089,     0.09009,    0.091091,    0.092092,    0.093093,    0.094094,    0.095095,\n",
      "          0.096096,    0.097097,    0.098098,    0.099099,      0.1001,      0.1011,      0.1021,      0.1031,      0.1041,     0.10511,     0.10611,     0.10711,     0.10811,     0.10911,     0.11011,     0.11111,     0.11211,     0.11311,     0.11411,     0.11512,     0.11612,     0.11712,     0.11812,     0.11912,\n",
      "           0.12012,     0.12112,     0.12212,     0.12312,     0.12412,     0.12513,     0.12613,     0.12713,     0.12813,     0.12913,     0.13013,     0.13113,     0.13213,     0.13313,     0.13413,     0.13514,     0.13614,     0.13714,     0.13814,     0.13914,     0.14014,     0.14114,     0.14214,     0.14314,\n",
      "           0.14414,     0.14515,     0.14615,     0.14715,     0.14815,     0.14915,     0.15015,     0.15115,     0.15215,     0.15315,     0.15415,     0.15516,     0.15616,     0.15716,     0.15816,     0.15916,     0.16016,     0.16116,     0.16216,     0.16316,     0.16416,     0.16517,     0.16617,     0.16717,\n",
      "           0.16817,     0.16917,     0.17017,     0.17117,     0.17217,     0.17317,     0.17417,     0.17518,     0.17618,     0.17718,     0.17818,     0.17918,     0.18018,     0.18118,     0.18218,     0.18318,     0.18418,     0.18519,     0.18619,     0.18719,     0.18819,     0.18919,     0.19019,     0.19119,\n",
      "           0.19219,     0.19319,     0.19419,      0.1952,      0.1962,      0.1972,      0.1982,      0.1992,      0.2002,      0.2012,      0.2022,      0.2032,      0.2042,     0.20521,     0.20621,     0.20721,     0.20821,     0.20921,     0.21021,     0.21121,     0.21221,     0.21321,     0.21421,     0.21522,\n",
      "           0.21622,     0.21722,     0.21822,     0.21922,     0.22022,     0.22122,     0.22222,     0.22322,     0.22422,     0.22523,     0.22623,     0.22723,     0.22823,     0.22923,     0.23023,     0.23123,     0.23223,     0.23323,     0.23423,     0.23524,     0.23624,     0.23724,     0.23824,     0.23924,\n",
      "           0.24024,     0.24124,     0.24224,     0.24324,     0.24424,     0.24525,     0.24625,     0.24725,     0.24825,     0.24925,     0.25025,     0.25125,     0.25225,     0.25325,     0.25425,     0.25526,     0.25626,     0.25726,     0.25826,     0.25926,     0.26026,     0.26126,     0.26226,     0.26326,\n",
      "           0.26426,     0.26527,     0.26627,     0.26727,     0.26827,     0.26927,     0.27027,     0.27127,     0.27227,     0.27327,     0.27427,     0.27528,     0.27628,     0.27728,     0.27828,     0.27928,     0.28028,     0.28128,     0.28228,     0.28328,     0.28428,     0.28529,     0.28629,     0.28729,\n",
      "           0.28829,     0.28929,     0.29029,     0.29129,     0.29229,     0.29329,     0.29429,      0.2953,      0.2963,      0.2973,      0.2983,      0.2993,      0.3003,      0.3013,      0.3023,      0.3033,      0.3043,     0.30531,     0.30631,     0.30731,     0.30831,     0.30931,     0.31031,     0.31131,\n",
      "           0.31231,     0.31331,     0.31431,     0.31532,     0.31632,     0.31732,     0.31832,     0.31932,     0.32032,     0.32132,     0.32232,     0.32332,     0.32432,     0.32533,     0.32633,     0.32733,     0.32833,     0.32933,     0.33033,     0.33133,     0.33233,     0.33333,     0.33433,     0.33534,\n",
      "           0.33634,     0.33734,     0.33834,     0.33934,     0.34034,     0.34134,     0.34234,     0.34334,     0.34434,     0.34535,     0.34635,     0.34735,     0.34835,     0.34935,     0.35035,     0.35135,     0.35235,     0.35335,     0.35435,     0.35536,     0.35636,     0.35736,     0.35836,     0.35936,\n",
      "           0.36036,     0.36136,     0.36236,     0.36336,     0.36436,     0.36537,     0.36637,     0.36737,     0.36837,     0.36937,     0.37037,     0.37137,     0.37237,     0.37337,     0.37437,     0.37538,     0.37638,     0.37738,     0.37838,     0.37938,     0.38038,     0.38138,     0.38238,     0.38338,\n",
      "           0.38438,     0.38539,     0.38639,     0.38739,     0.38839,     0.38939,     0.39039,     0.39139,     0.39239,     0.39339,     0.39439,      0.3954,      0.3964,      0.3974,      0.3984,      0.3994,      0.4004,      0.4014,      0.4024,      0.4034,      0.4044,     0.40541,     0.40641,     0.40741,\n",
      "           0.40841,     0.40941,     0.41041,     0.41141,     0.41241,     0.41341,     0.41441,     0.41542,     0.41642,     0.41742,     0.41842,     0.41942,     0.42042,     0.42142,     0.42242,     0.42342,     0.42442,     0.42543,     0.42643,     0.42743,     0.42843,     0.42943,     0.43043,     0.43143,\n",
      "           0.43243,     0.43343,     0.43443,     0.43544,     0.43644,     0.43744,     0.43844,     0.43944,     0.44044,     0.44144,     0.44244,     0.44344,     0.44444,     0.44545,     0.44645,     0.44745,     0.44845,     0.44945,     0.45045,     0.45145,     0.45245,     0.45345,     0.45445,     0.45546,\n",
      "           0.45646,     0.45746,     0.45846,     0.45946,     0.46046,     0.46146,     0.46246,     0.46346,     0.46446,     0.46547,     0.46647,     0.46747,     0.46847,     0.46947,     0.47047,     0.47147,     0.47247,     0.47347,     0.47447,     0.47548,     0.47648,     0.47748,     0.47848,     0.47948,\n",
      "           0.48048,     0.48148,     0.48248,     0.48348,     0.48448,     0.48549,     0.48649,     0.48749,     0.48849,     0.48949,     0.49049,     0.49149,     0.49249,     0.49349,     0.49449,      0.4955,      0.4965,      0.4975,      0.4985,      0.4995,      0.5005,      0.5015,      0.5025,      0.5035,\n",
      "            0.5045,     0.50551,     0.50651,     0.50751,     0.50851,     0.50951,     0.51051,     0.51151,     0.51251,     0.51351,     0.51451,     0.51552,     0.51652,     0.51752,     0.51852,     0.51952,     0.52052,     0.52152,     0.52252,     0.52352,     0.52452,     0.52553,     0.52653,     0.52753,\n",
      "           0.52853,     0.52953,     0.53053,     0.53153,     0.53253,     0.53353,     0.53453,     0.53554,     0.53654,     0.53754,     0.53854,     0.53954,     0.54054,     0.54154,     0.54254,     0.54354,     0.54454,     0.54555,     0.54655,     0.54755,     0.54855,     0.54955,     0.55055,     0.55155,\n",
      "           0.55255,     0.55355,     0.55455,     0.55556,     0.55656,     0.55756,     0.55856,     0.55956,     0.56056,     0.56156,     0.56256,     0.56356,     0.56456,     0.56557,     0.56657,     0.56757,     0.56857,     0.56957,     0.57057,     0.57157,     0.57257,     0.57357,     0.57457,     0.57558,\n",
      "           0.57658,     0.57758,     0.57858,     0.57958,     0.58058,     0.58158,     0.58258,     0.58358,     0.58458,     0.58559,     0.58659,     0.58759,     0.58859,     0.58959,     0.59059,     0.59159,     0.59259,     0.59359,     0.59459,      0.5956,      0.5966,      0.5976,      0.5986,      0.5996,\n",
      "            0.6006,      0.6016,      0.6026,      0.6036,      0.6046,     0.60561,     0.60661,     0.60761,     0.60861,     0.60961,     0.61061,     0.61161,     0.61261,     0.61361,     0.61461,     0.61562,     0.61662,     0.61762,     0.61862,     0.61962,     0.62062,     0.62162,     0.62262,     0.62362,\n",
      "           0.62462,     0.62563,     0.62663,     0.62763,     0.62863,     0.62963,     0.63063,     0.63163,     0.63263,     0.63363,     0.63463,     0.63564,     0.63664,     0.63764,     0.63864,     0.63964,     0.64064,     0.64164,     0.64264,     0.64364,     0.64464,     0.64565,     0.64665,     0.64765,\n",
      "           0.64865,     0.64965,     0.65065,     0.65165,     0.65265,     0.65365,     0.65465,     0.65566,     0.65666,     0.65766,     0.65866,     0.65966,     0.66066,     0.66166,     0.66266,     0.66366,     0.66466,     0.66567,     0.66667,     0.66767,     0.66867,     0.66967,     0.67067,     0.67167,\n",
      "           0.67267,     0.67367,     0.67467,     0.67568,     0.67668,     0.67768,     0.67868,     0.67968,     0.68068,     0.68168,     0.68268,     0.68368,     0.68468,     0.68569,     0.68669,     0.68769,     0.68869,     0.68969,     0.69069,     0.69169,     0.69269,     0.69369,     0.69469,      0.6957,\n",
      "            0.6967,      0.6977,      0.6987,      0.6997,      0.7007,      0.7017,      0.7027,      0.7037,      0.7047,     0.70571,     0.70671,     0.70771,     0.70871,     0.70971,     0.71071,     0.71171,     0.71271,     0.71371,     0.71471,     0.71572,     0.71672,     0.71772,     0.71872,     0.71972,\n",
      "           0.72072,     0.72172,     0.72272,     0.72372,     0.72472,     0.72573,     0.72673,     0.72773,     0.72873,     0.72973,     0.73073,     0.73173,     0.73273,     0.73373,     0.73473,     0.73574,     0.73674,     0.73774,     0.73874,     0.73974,     0.74074,     0.74174,     0.74274,     0.74374,\n",
      "           0.74474,     0.74575,     0.74675,     0.74775,     0.74875,     0.74975,     0.75075,     0.75175,     0.75275,     0.75375,     0.75475,     0.75576,     0.75676,     0.75776,     0.75876,     0.75976,     0.76076,     0.76176,     0.76276,     0.76376,     0.76476,     0.76577,     0.76677,     0.76777,\n",
      "           0.76877,     0.76977,     0.77077,     0.77177,     0.77277,     0.77377,     0.77477,     0.77578,     0.77678,     0.77778,     0.77878,     0.77978,     0.78078,     0.78178,     0.78278,     0.78378,     0.78478,     0.78579,     0.78679,     0.78779,     0.78879,     0.78979,     0.79079,     0.79179,\n",
      "           0.79279,     0.79379,     0.79479,      0.7958,      0.7968,      0.7978,      0.7988,      0.7998,      0.8008,      0.8018,      0.8028,      0.8038,      0.8048,     0.80581,     0.80681,     0.80781,     0.80881,     0.80981,     0.81081,     0.81181,     0.81281,     0.81381,     0.81481,     0.81582,\n",
      "           0.81682,     0.81782,     0.81882,     0.81982,     0.82082,     0.82182,     0.82282,     0.82382,     0.82482,     0.82583,     0.82683,     0.82783,     0.82883,     0.82983,     0.83083,     0.83183,     0.83283,     0.83383,     0.83483,     0.83584,     0.83684,     0.83784,     0.83884,     0.83984,\n",
      "           0.84084,     0.84184,     0.84284,     0.84384,     0.84484,     0.84585,     0.84685,     0.84785,     0.84885,     0.84985,     0.85085,     0.85185,     0.85285,     0.85385,     0.85485,     0.85586,     0.85686,     0.85786,     0.85886,     0.85986,     0.86086,     0.86186,     0.86286,     0.86386,\n",
      "           0.86486,     0.86587,     0.86687,     0.86787,     0.86887,     0.86987,     0.87087,     0.87187,     0.87287,     0.87387,     0.87487,     0.87588,     0.87688,     0.87788,     0.87888,     0.87988,     0.88088,     0.88188,     0.88288,     0.88388,     0.88488,     0.88589,     0.88689,     0.88789,\n",
      "           0.88889,     0.88989,     0.89089,     0.89189,     0.89289,     0.89389,     0.89489,      0.8959,      0.8969,      0.8979,      0.8989,      0.8999,      0.9009,      0.9019,      0.9029,      0.9039,      0.9049,     0.90591,     0.90691,     0.90791,     0.90891,     0.90991,     0.91091,     0.91191,\n",
      "           0.91291,     0.91391,     0.91491,     0.91592,     0.91692,     0.91792,     0.91892,     0.91992,     0.92092,     0.92192,     0.92292,     0.92392,     0.92492,     0.92593,     0.92693,     0.92793,     0.92893,     0.92993,     0.93093,     0.93193,     0.93293,     0.93393,     0.93493,     0.93594,\n",
      "           0.93694,     0.93794,     0.93894,     0.93994,     0.94094,     0.94194,     0.94294,     0.94394,     0.94494,     0.94595,     0.94695,     0.94795,     0.94895,     0.94995,     0.95095,     0.95195,     0.95295,     0.95395,     0.95495,     0.95596,     0.95696,     0.95796,     0.95896,     0.95996,\n",
      "           0.96096,     0.96196,     0.96296,     0.96396,     0.96496,     0.96597,     0.96697,     0.96797,     0.96897,     0.96997,     0.97097,     0.97197,     0.97297,     0.97397,     0.97497,     0.97598,     0.97698,     0.97798,     0.97898,     0.97998,     0.98098,     0.98198,     0.98298,     0.98398,\n",
      "           0.98498,     0.98599,     0.98699,     0.98799,     0.98899,     0.98999,     0.99099,     0.99199,     0.99299,     0.99399,     0.99499,       0.996,       0.997,       0.998,       0.999,           1]), array([[          1,           1,           1,           1,           1,           1,           1,           1,           1,           1,           1,           1,           1,           1,           1,           1,           1,           1,           1,           1,           1,           1,           1,\n",
      "                  1,           1,           1,           1,           1,           1,           1,           1,           1,           1,           1,           1,           1,           1,           1,           1,           1,           1,           1,           1,           1,           1,           1,\n",
      "                  1,           1,           1,           1,           1,           1,           1,           1,           1,           1,           1,           1,           1,           1,           1,           1,           1,           1,           1,           1,           1,           1,           1,\n",
      "                  1,           1,           1,           1,           1,           1,           1,           1,           1,           1,           1,           1,           1,           1,           1,           1,           1,           1,           1,           1,           1,           1,           1,\n",
      "                  1,           1,           1,           1,           1,           1,           1,           1,           1,           1,           1,           1,           1,           1,           1,           1,           1,           1,           1,           1,           1,           1,           1,\n",
      "                  1,           1,           1,           1,           1,           1,           1,           1,           1,           1,           1,           1,           1,           1,           1,           1,           1,           1,           1,           1,           1,           1,           1,\n",
      "                  1,           1,           1,           1,           1,           1,           1,           1,           1,           1,           1,           1,           1,           1,           1,           1,           1,           1,           1,           1,           1,           1,           1,\n",
      "                  1,           1,           1,           1,           1,           1,           1,           1,           1,           1,           1,           1,           1,           1,           1,           1,           1,           1,           1,           1,           1,           1,           1,\n",
      "                  1,           1,           1,           1,           1,           1,           1,           1,           1,           1,           1,           1,           1,           1,           1,           1,           1,           1,           1,           1,           1,           1,           1,\n",
      "                  1,           1,           1,           1,           1,           1,           1,           1,           1,           1,           1,           1,           1,           1,           1,           1,           1,           1,           1,           1,           1,           1,           1,\n",
      "                  1,           1,           1,           1,           1,           1,           1,           1,           1,           1,           1,           1,           1,           1,           1,           1,           1,           1,           1,           1,           1,           1,           1,\n",
      "                  1,           1,           1,           1,           1,           1,           1,           1,           1,           1,           1,           1,           1,           1,           1,           1,           1,           1,           1,           1,           1,           1,           1,\n",
      "                  1,           1,           1,           1,           1,           1,           1,           1,           1,           1,           1,           1,           1,           1,           1,           1,           1,           1,           1,           1,           1,           1,           1,\n",
      "                  1,           1,           1,           1,           1,           1,           1,           1,           1,           1,           1,           1,           1,           1,           1,           1,           1,           1,           1,           1,           1,           1,           1,\n",
      "                  1,           1,           1,           1,           1,           1,           1,           1,           1,           1,           1,           1,           1,           1,           1,           1,           1,           1,           1,           1,           1,           1,           1,\n",
      "                  1,           1,           1,           1,           1,           1,           1,           1,           1,           1,           1,           1,           1,           1,           1,           1,           1,           1,           1,           1,           1,           1,           1,\n",
      "                  1,           1,           1,           1,           1,           1,           1,           1,           1,           1,           1,           1,           1,           1,           1,           1,           1,           1,           1,           1,           1,           1,           1,\n",
      "                  1,           1,           1,           1,           1,           1,           1,           1,           1,           1,           1,           1,           1,           1,           1,           1,           1,           1,           1,           1,           1,           1,           1,\n",
      "                  1,           1,           1,           1,           1,           1,           1,           1,           1,           1,           1,           1,           1,           1,           1,           1,           1,           1,           1,           1,           1,           1,           1,\n",
      "                  1,           1,           1,           1,           1,           1,           1,           1,           1,           1,           1,           1,           1,           1,           1,           1,           1,           1,           1,           1,           1,           1,           1,\n",
      "                  1,           1,           1,           1,           1,           1,           1,           1,           1,           1,           1,           1,           1,           1,           1,           1,           1,           1,           1,           1,           1,           1,           1,\n",
      "                  1,           1,           1,           1,           1,           1,           1,           1,           1,           1,           1,           1,           1,           1,           1,           1,           1,           1,           1,           1,           1,           1,           1,\n",
      "                  1,           1,           1,           1,           1,           1,           1,           1,           1,           1,           1,           1,           1,           1,           1,           1,           1,           1,           1,           1,           1,           1,           1,\n",
      "                  1,           1,           1,           1,           1,           1,           1,           1,           1,           1,           1,           1,           1,           1,           1,           1,           1,           1,           1,           1,           1,           1,           1,\n",
      "                  1,           1,           1,           1,           1,           1,           1,           1,           1,           1,           1,           1,           1,           1,           1,           1,           1,           1,           1,           1,           1,           1,           1,\n",
      "                  1,           1,           1,           1,           1,           1,           1,           1,           1,           1,           1,           1,           1,           1,           1,           1,           1,           1,           1,           1,           1,           1,           1,\n",
      "                  1,           1,           1,           1,           1,           1,           1,           1,           1,           1,           1,           1,           1,           1,           1,           1,           1,           1,           1,           1,           1,           1,           1,\n",
      "                  1,           1,           1,           1,           1,           1,           1,           1,           1,           1,           1,           1,           1,           1,           1,           1,           1,           1,           1,           1,           1,           1,           1,\n",
      "                  1,           1,           1,           1,           1,           1,           1,           1,           1,           1,           1,           1,           1,           1,           1,           1,           1,           1,           1,           1,           1,           1,           1,\n",
      "                  1,           1,           1,           1,           1,           1,           1,           1,           1,           1,           1,           1,           1,           1,           1,           1,           1,           1,           1,           1,           1,           1,           1,\n",
      "                  1,           1,           1,           1,           1,           1,           1,           1,           1,           1,           1,           1,           1,           1,           1,           1,           1,           1,           1,           1,           1,           1,           1,\n",
      "                  1,           1,           1,           1,           1,           1,           1,           1,           1,           1,           1,           1,           1,           1,           1,           1,           1,           1,           1,           1,           1,           1,           1,\n",
      "                  1,           1,           1,           1,           1,           1,           1,           1,           1,           1,           1,           1,           1,           1,           1,           1,           1,           1,     0.99993,     0.99982,     0.99971,     0.99959,     0.99948,\n",
      "            0.99936,     0.99925,     0.99913,     0.99902,     0.99891,     0.99879,     0.99868,     0.99856,     0.99845,     0.99833,     0.99822,     0.99811,     0.99799,     0.99788,     0.99776,     0.99765,     0.99754,     0.99742,     0.99731,     0.99719,     0.99708,     0.99696,     0.99685,\n",
      "            0.99674,     0.99662,     0.99651,     0.99639,     0.99628,     0.99616,     0.99605,     0.99594,     0.99582,     0.99571,     0.99559,     0.99548,     0.99536,     0.99525,     0.99514,     0.99502,     0.99491,     0.99479,     0.99468,     0.99456,     0.99445,     0.99434,     0.99422,\n",
      "            0.99411,     0.99399,     0.99388,     0.99376,     0.99365,     0.99354,     0.99342,     0.99331,     0.99319,     0.99308,     0.99296,     0.99285,     0.99274,     0.99262,     0.99251,     0.99239,     0.99228,     0.99216,     0.99205,     0.99194,     0.99182,     0.99171,     0.99159,\n",
      "            0.99148,     0.99136,     0.99125,     0.99114,     0.99102,     0.99084,     0.98561,     0.98149,     0.98028,     0.97907,     0.97786,     0.97666,     0.97545,     0.97424,     0.97304,     0.97229,     0.97171,     0.97113,     0.97055,     0.96997,     0.96939,     0.96881,     0.96823,\n",
      "            0.96765,     0.96707,     0.96648,      0.9659,     0.96532,     0.96474,     0.96416,     0.96351,     0.96225,     0.96098,     0.95972,     0.95845,     0.95719,     0.95593,     0.95466,     0.94801,     0.93678,     0.93344,     0.93043,     0.92742,     0.91806,     0.91468,      0.9113,\n",
      "            0.90695,     0.90075,     0.88884,     0.87415,     0.86211,     0.85977,     0.85743,     0.85509,     0.85309,     0.85119,     0.84929,     0.84739,     0.84549,     0.83919,     0.82915,     0.81022,     0.78507,     0.77111,     0.75397,     0.75191,     0.74984,     0.74777,      0.7457,\n",
      "            0.72039,     0.71492,      0.7114,     0.70306,     0.69606,     0.69128,     0.66795,     0.64711,     0.64301,      0.6405,     0.63799,     0.62407,     0.61597,     0.61172,     0.60264,     0.57191,     0.53584,      0.5189,     0.49124,     0.46866,     0.45337,     0.43136,     0.41651,\n",
      "            0.41116,     0.39594,     0.38714,      0.3609,     0.33766,     0.31521,     0.28007,     0.27073,     0.26254,     0.23532,     0.22145,     0.20649,     0.19675,     0.18918,     0.17731,     0.16749,     0.14107,     0.12134,     0.11573,     0.11225,     0.10855,     0.10263,    0.095402,\n",
      "           0.080586,    0.075897,    0.071485,    0.067653,    0.063822,    0.053888,    0.050286,    0.046683,    0.044059,    0.041943,    0.039826,    0.037709,    0.029575,    0.025745,    0.024002,    0.022258,    0.020515,    0.018771,    0.017428,    0.016288,    0.015149,     0.01401,    0.012871,\n",
      "           0.011731,    0.010592,   0.0094526,           0,           0,           0,           0,           0,           0,           0,           0,           0,           0,           0,           0,           0,           0,           0,           0,           0,           0,           0,           0,\n",
      "                  0,           0,           0,           0,           0,           0,           0,           0,           0,           0,           0]]), 'Confidence', 'Recall']]\n",
      "fitness: 1.8352347783360154\n",
      "keys: ['metrics/precision(B)', 'metrics/recall(B)', 'metrics/mAP50(B)', 'metrics/mAP50-95(B)', 'metrics/precision(M)', 'metrics/recall(M)', 'metrics/mAP50(M)', 'metrics/mAP50-95(M)']\n",
      "maps: array([      1.818])\n",
      "names: {0: 'medidor'}\n",
      "plot: True\n",
      "results_dict: {'metrics/precision(B)': 1.0, 'metrics/recall(B)': 0.9967351277047871, 'metrics/mAP50(B)': 0.995, 'metrics/mAP50-95(B)': 0.9236030522186264, 'metrics/precision(M)': 1.0, 'metrics/recall(M)': 0.9967351277047871, 'metrics/mAP50(M)': 0.995, 'metrics/mAP50-95(M)': 0.8944355903769464, 'fitness': 1.8352347783360154}\n",
      "save_dir: WindowsPath('runs/segmentation/val')\n",
      "seg: ultralytics.utils.metrics.Metric object\n",
      "speed: {'preprocess': 2.955137599598278, 'inference': 172.6902181451971, 'loss': 0.0, 'postprocess': 2.5305011055686255}\n",
      "task: 'segment'\n"
     ]
    }
   ],
   "source": [
    "CURRENT_PATH = os.getcwd()\n",
    "\n",
    "# Directorio del archivo YAML\n",
    "data_dir = Path(CURRENT_PATH) / 'data' / 'data.yaml'\n",
    "\n",
    "# Ruta del modelo, asegúrate de que el archivo esté en el directorio correcto\n",
    "model_path = Path(CURRENT_PATH) / 'runs' / 'segment' / 'train' / 'weights' / 'best.pt'\n",
    "\n",
    "# Cargar el modelo YOLOv11 de segmentación\n",
    "model = YOLO(model_path)\n",
    "\n",
    "# Continuar desde el último checkpoint\n",
    "val_results = model.val(\n",
    "    data=data_dir,         # Directorio con el archivo YAML\n",
    "    epochs=50,             # Número de épocas\n",
    "    imgsz=640,             # Tamaño de las imágenes\n",
    "    batch=16,              # Tamaño del batch\n",
    "    task='segmentation'    # Especificar que es una tarea de segmentación\n",
    ")\n",
    "\n",
    "print(\"Resultados de Validación:\")\n",
    "print(val_results)"
   ]
  },
  {
   "cell_type": "code",
   "execution_count": 7,
   "metadata": {},
   "outputs": [
    {
     "name": "stdout",
     "output_type": "stream",
     "text": [
      "Ultralytics 8.3.47  Python-3.12.6 torch-2.5.1+cpu CPU (AMD Ryzen 5 2500U with Radeon Vega Mobile Gfx)\n",
      "YOLO11n-seg summary (fused): 265 layers, 2,834,763 parameters, 0 gradients, 10.2 GFLOPs\n"
     ]
    },
    {
     "name": "stderr",
     "output_type": "stream",
     "text": [
      "\u001b[34m\u001b[1mval: \u001b[0mScanning C:\\Users\\HP\\Desktop\\PM\\data\\labels\\test... 111 images, 0 backgrounds, 0 corrupt: 100%|██████████| 111/111 [00:00<00:00, 152.01it/s]"
     ]
    },
    {
     "name": "stdout",
     "output_type": "stream",
     "text": [
      "\u001b[34m\u001b[1mval: \u001b[0mNew cache created: C:\\Users\\HP\\Desktop\\PM\\data\\labels\\test.cache\n"
     ]
    },
    {
     "name": "stderr",
     "output_type": "stream",
     "text": [
      "\n",
      "                 Class     Images  Instances      Box(P          R      mAP50  mAP50-95)     Mask(P          R      mAP50  mAP50-95): 100%|██████████| 7/7 [00:29<00:00,  4.19s/it]\n"
     ]
    },
    {
     "name": "stdout",
     "output_type": "stream",
     "text": [
      "                   all        111        111          1      0.991      0.995      0.925          1      0.991      0.995      0.885\n",
      "Speed: 6.0ms preprocess, 192.9ms inference, 0.0ms loss, 1.0ms postprocess per image\n",
      "Results saved to \u001b[1mruns\\segmentation\\val2\u001b[0m\n",
      "Resultados del Test:\n",
      "ultralytics.utils.metrics.SegmentMetrics object with attributes:\n",
      "\n",
      "ap_class_index: array([0])\n",
      "box: ultralytics.utils.metrics.Metric object\n",
      "confusion_matrix: <ultralytics.utils.metrics.ConfusionMatrix object at 0x000001DE697AD9D0>\n",
      "curves: ['Precision-Recall(B)', 'F1-Confidence(B)', 'Precision-Confidence(B)', 'Recall-Confidence(B)', 'Precision-Recall(M)', 'F1-Confidence(M)', 'Precision-Confidence(M)', 'Recall-Confidence(M)']\n",
      "curves_results: [[array([          0,    0.001001,    0.002002,    0.003003,    0.004004,    0.005005,    0.006006,    0.007007,    0.008008,    0.009009,     0.01001,    0.011011,    0.012012,    0.013013,    0.014014,    0.015015,    0.016016,    0.017017,    0.018018,    0.019019,     0.02002,    0.021021,    0.022022,    0.023023,\n",
      "          0.024024,    0.025025,    0.026026,    0.027027,    0.028028,    0.029029,     0.03003,    0.031031,    0.032032,    0.033033,    0.034034,    0.035035,    0.036036,    0.037037,    0.038038,    0.039039,     0.04004,    0.041041,    0.042042,    0.043043,    0.044044,    0.045045,    0.046046,    0.047047,\n",
      "          0.048048,    0.049049,     0.05005,    0.051051,    0.052052,    0.053053,    0.054054,    0.055055,    0.056056,    0.057057,    0.058058,    0.059059,     0.06006,    0.061061,    0.062062,    0.063063,    0.064064,    0.065065,    0.066066,    0.067067,    0.068068,    0.069069,     0.07007,    0.071071,\n",
      "          0.072072,    0.073073,    0.074074,    0.075075,    0.076076,    0.077077,    0.078078,    0.079079,     0.08008,    0.081081,    0.082082,    0.083083,    0.084084,    0.085085,    0.086086,    0.087087,    0.088088,    0.089089,     0.09009,    0.091091,    0.092092,    0.093093,    0.094094,    0.095095,\n",
      "          0.096096,    0.097097,    0.098098,    0.099099,      0.1001,      0.1011,      0.1021,      0.1031,      0.1041,     0.10511,     0.10611,     0.10711,     0.10811,     0.10911,     0.11011,     0.11111,     0.11211,     0.11311,     0.11411,     0.11512,     0.11612,     0.11712,     0.11812,     0.11912,\n",
      "           0.12012,     0.12112,     0.12212,     0.12312,     0.12412,     0.12513,     0.12613,     0.12713,     0.12813,     0.12913,     0.13013,     0.13113,     0.13213,     0.13313,     0.13413,     0.13514,     0.13614,     0.13714,     0.13814,     0.13914,     0.14014,     0.14114,     0.14214,     0.14314,\n",
      "           0.14414,     0.14515,     0.14615,     0.14715,     0.14815,     0.14915,     0.15015,     0.15115,     0.15215,     0.15315,     0.15415,     0.15516,     0.15616,     0.15716,     0.15816,     0.15916,     0.16016,     0.16116,     0.16216,     0.16316,     0.16416,     0.16517,     0.16617,     0.16717,\n",
      "           0.16817,     0.16917,     0.17017,     0.17117,     0.17217,     0.17317,     0.17417,     0.17518,     0.17618,     0.17718,     0.17818,     0.17918,     0.18018,     0.18118,     0.18218,     0.18318,     0.18418,     0.18519,     0.18619,     0.18719,     0.18819,     0.18919,     0.19019,     0.19119,\n",
      "           0.19219,     0.19319,     0.19419,      0.1952,      0.1962,      0.1972,      0.1982,      0.1992,      0.2002,      0.2012,      0.2022,      0.2032,      0.2042,     0.20521,     0.20621,     0.20721,     0.20821,     0.20921,     0.21021,     0.21121,     0.21221,     0.21321,     0.21421,     0.21522,\n",
      "           0.21622,     0.21722,     0.21822,     0.21922,     0.22022,     0.22122,     0.22222,     0.22322,     0.22422,     0.22523,     0.22623,     0.22723,     0.22823,     0.22923,     0.23023,     0.23123,     0.23223,     0.23323,     0.23423,     0.23524,     0.23624,     0.23724,     0.23824,     0.23924,\n",
      "           0.24024,     0.24124,     0.24224,     0.24324,     0.24424,     0.24525,     0.24625,     0.24725,     0.24825,     0.24925,     0.25025,     0.25125,     0.25225,     0.25325,     0.25425,     0.25526,     0.25626,     0.25726,     0.25826,     0.25926,     0.26026,     0.26126,     0.26226,     0.26326,\n",
      "           0.26426,     0.26527,     0.26627,     0.26727,     0.26827,     0.26927,     0.27027,     0.27127,     0.27227,     0.27327,     0.27427,     0.27528,     0.27628,     0.27728,     0.27828,     0.27928,     0.28028,     0.28128,     0.28228,     0.28328,     0.28428,     0.28529,     0.28629,     0.28729,\n",
      "           0.28829,     0.28929,     0.29029,     0.29129,     0.29229,     0.29329,     0.29429,      0.2953,      0.2963,      0.2973,      0.2983,      0.2993,      0.3003,      0.3013,      0.3023,      0.3033,      0.3043,     0.30531,     0.30631,     0.30731,     0.30831,     0.30931,     0.31031,     0.31131,\n",
      "           0.31231,     0.31331,     0.31431,     0.31532,     0.31632,     0.31732,     0.31832,     0.31932,     0.32032,     0.32132,     0.32232,     0.32332,     0.32432,     0.32533,     0.32633,     0.32733,     0.32833,     0.32933,     0.33033,     0.33133,     0.33233,     0.33333,     0.33433,     0.33534,\n",
      "           0.33634,     0.33734,     0.33834,     0.33934,     0.34034,     0.34134,     0.34234,     0.34334,     0.34434,     0.34535,     0.34635,     0.34735,     0.34835,     0.34935,     0.35035,     0.35135,     0.35235,     0.35335,     0.35435,     0.35536,     0.35636,     0.35736,     0.35836,     0.35936,\n",
      "           0.36036,     0.36136,     0.36236,     0.36336,     0.36436,     0.36537,     0.36637,     0.36737,     0.36837,     0.36937,     0.37037,     0.37137,     0.37237,     0.37337,     0.37437,     0.37538,     0.37638,     0.37738,     0.37838,     0.37938,     0.38038,     0.38138,     0.38238,     0.38338,\n",
      "           0.38438,     0.38539,     0.38639,     0.38739,     0.38839,     0.38939,     0.39039,     0.39139,     0.39239,     0.39339,     0.39439,      0.3954,      0.3964,      0.3974,      0.3984,      0.3994,      0.4004,      0.4014,      0.4024,      0.4034,      0.4044,     0.40541,     0.40641,     0.40741,\n",
      "           0.40841,     0.40941,     0.41041,     0.41141,     0.41241,     0.41341,     0.41441,     0.41542,     0.41642,     0.41742,     0.41842,     0.41942,     0.42042,     0.42142,     0.42242,     0.42342,     0.42442,     0.42543,     0.42643,     0.42743,     0.42843,     0.42943,     0.43043,     0.43143,\n",
      "           0.43243,     0.43343,     0.43443,     0.43544,     0.43644,     0.43744,     0.43844,     0.43944,     0.44044,     0.44144,     0.44244,     0.44344,     0.44444,     0.44545,     0.44645,     0.44745,     0.44845,     0.44945,     0.45045,     0.45145,     0.45245,     0.45345,     0.45445,     0.45546,\n",
      "           0.45646,     0.45746,     0.45846,     0.45946,     0.46046,     0.46146,     0.46246,     0.46346,     0.46446,     0.46547,     0.46647,     0.46747,     0.46847,     0.46947,     0.47047,     0.47147,     0.47247,     0.47347,     0.47447,     0.47548,     0.47648,     0.47748,     0.47848,     0.47948,\n",
      "           0.48048,     0.48148,     0.48248,     0.48348,     0.48448,     0.48549,     0.48649,     0.48749,     0.48849,     0.48949,     0.49049,     0.49149,     0.49249,     0.49349,     0.49449,      0.4955,      0.4965,      0.4975,      0.4985,      0.4995,      0.5005,      0.5015,      0.5025,      0.5035,\n",
      "            0.5045,     0.50551,     0.50651,     0.50751,     0.50851,     0.50951,     0.51051,     0.51151,     0.51251,     0.51351,     0.51451,     0.51552,     0.51652,     0.51752,     0.51852,     0.51952,     0.52052,     0.52152,     0.52252,     0.52352,     0.52452,     0.52553,     0.52653,     0.52753,\n",
      "           0.52853,     0.52953,     0.53053,     0.53153,     0.53253,     0.53353,     0.53453,     0.53554,     0.53654,     0.53754,     0.53854,     0.53954,     0.54054,     0.54154,     0.54254,     0.54354,     0.54454,     0.54555,     0.54655,     0.54755,     0.54855,     0.54955,     0.55055,     0.55155,\n",
      "           0.55255,     0.55355,     0.55455,     0.55556,     0.55656,     0.55756,     0.55856,     0.55956,     0.56056,     0.56156,     0.56256,     0.56356,     0.56456,     0.56557,     0.56657,     0.56757,     0.56857,     0.56957,     0.57057,     0.57157,     0.57257,     0.57357,     0.57457,     0.57558,\n",
      "           0.57658,     0.57758,     0.57858,     0.57958,     0.58058,     0.58158,     0.58258,     0.58358,     0.58458,     0.58559,     0.58659,     0.58759,     0.58859,     0.58959,     0.59059,     0.59159,     0.59259,     0.59359,     0.59459,      0.5956,      0.5966,      0.5976,      0.5986,      0.5996,\n",
      "            0.6006,      0.6016,      0.6026,      0.6036,      0.6046,     0.60561,     0.60661,     0.60761,     0.60861,     0.60961,     0.61061,     0.61161,     0.61261,     0.61361,     0.61461,     0.61562,     0.61662,     0.61762,     0.61862,     0.61962,     0.62062,     0.62162,     0.62262,     0.62362,\n",
      "           0.62462,     0.62563,     0.62663,     0.62763,     0.62863,     0.62963,     0.63063,     0.63163,     0.63263,     0.63363,     0.63463,     0.63564,     0.63664,     0.63764,     0.63864,     0.63964,     0.64064,     0.64164,     0.64264,     0.64364,     0.64464,     0.64565,     0.64665,     0.64765,\n",
      "           0.64865,     0.64965,     0.65065,     0.65165,     0.65265,     0.65365,     0.65465,     0.65566,     0.65666,     0.65766,     0.65866,     0.65966,     0.66066,     0.66166,     0.66266,     0.66366,     0.66466,     0.66567,     0.66667,     0.66767,     0.66867,     0.66967,     0.67067,     0.67167,\n",
      "           0.67267,     0.67367,     0.67467,     0.67568,     0.67668,     0.67768,     0.67868,     0.67968,     0.68068,     0.68168,     0.68268,     0.68368,     0.68468,     0.68569,     0.68669,     0.68769,     0.68869,     0.68969,     0.69069,     0.69169,     0.69269,     0.69369,     0.69469,      0.6957,\n",
      "            0.6967,      0.6977,      0.6987,      0.6997,      0.7007,      0.7017,      0.7027,      0.7037,      0.7047,     0.70571,     0.70671,     0.70771,     0.70871,     0.70971,     0.71071,     0.71171,     0.71271,     0.71371,     0.71471,     0.71572,     0.71672,     0.71772,     0.71872,     0.71972,\n",
      "           0.72072,     0.72172,     0.72272,     0.72372,     0.72472,     0.72573,     0.72673,     0.72773,     0.72873,     0.72973,     0.73073,     0.73173,     0.73273,     0.73373,     0.73473,     0.73574,     0.73674,     0.73774,     0.73874,     0.73974,     0.74074,     0.74174,     0.74274,     0.74374,\n",
      "           0.74474,     0.74575,     0.74675,     0.74775,     0.74875,     0.74975,     0.75075,     0.75175,     0.75275,     0.75375,     0.75475,     0.75576,     0.75676,     0.75776,     0.75876,     0.75976,     0.76076,     0.76176,     0.76276,     0.76376,     0.76476,     0.76577,     0.76677,     0.76777,\n",
      "           0.76877,     0.76977,     0.77077,     0.77177,     0.77277,     0.77377,     0.77477,     0.77578,     0.77678,     0.77778,     0.77878,     0.77978,     0.78078,     0.78178,     0.78278,     0.78378,     0.78478,     0.78579,     0.78679,     0.78779,     0.78879,     0.78979,     0.79079,     0.79179,\n",
      "           0.79279,     0.79379,     0.79479,      0.7958,      0.7968,      0.7978,      0.7988,      0.7998,      0.8008,      0.8018,      0.8028,      0.8038,      0.8048,     0.80581,     0.80681,     0.80781,     0.80881,     0.80981,     0.81081,     0.81181,     0.81281,     0.81381,     0.81481,     0.81582,\n",
      "           0.81682,     0.81782,     0.81882,     0.81982,     0.82082,     0.82182,     0.82282,     0.82382,     0.82482,     0.82583,     0.82683,     0.82783,     0.82883,     0.82983,     0.83083,     0.83183,     0.83283,     0.83383,     0.83483,     0.83584,     0.83684,     0.83784,     0.83884,     0.83984,\n",
      "           0.84084,     0.84184,     0.84284,     0.84384,     0.84484,     0.84585,     0.84685,     0.84785,     0.84885,     0.84985,     0.85085,     0.85185,     0.85285,     0.85385,     0.85485,     0.85586,     0.85686,     0.85786,     0.85886,     0.85986,     0.86086,     0.86186,     0.86286,     0.86386,\n",
      "           0.86486,     0.86587,     0.86687,     0.86787,     0.86887,     0.86987,     0.87087,     0.87187,     0.87287,     0.87387,     0.87487,     0.87588,     0.87688,     0.87788,     0.87888,     0.87988,     0.88088,     0.88188,     0.88288,     0.88388,     0.88488,     0.88589,     0.88689,     0.88789,\n",
      "           0.88889,     0.88989,     0.89089,     0.89189,     0.89289,     0.89389,     0.89489,      0.8959,      0.8969,      0.8979,      0.8989,      0.8999,      0.9009,      0.9019,      0.9029,      0.9039,      0.9049,     0.90591,     0.90691,     0.90791,     0.90891,     0.90991,     0.91091,     0.91191,\n",
      "           0.91291,     0.91391,     0.91491,     0.91592,     0.91692,     0.91792,     0.91892,     0.91992,     0.92092,     0.92192,     0.92292,     0.92392,     0.92492,     0.92593,     0.92693,     0.92793,     0.92893,     0.92993,     0.93093,     0.93193,     0.93293,     0.93393,     0.93493,     0.93594,\n",
      "           0.93694,     0.93794,     0.93894,     0.93994,     0.94094,     0.94194,     0.94294,     0.94394,     0.94494,     0.94595,     0.94695,     0.94795,     0.94895,     0.94995,     0.95095,     0.95195,     0.95295,     0.95395,     0.95495,     0.95596,     0.95696,     0.95796,     0.95896,     0.95996,\n",
      "           0.96096,     0.96196,     0.96296,     0.96396,     0.96496,     0.96597,     0.96697,     0.96797,     0.96897,     0.96997,     0.97097,     0.97197,     0.97297,     0.97397,     0.97497,     0.97598,     0.97698,     0.97798,     0.97898,     0.97998,     0.98098,     0.98198,     0.98298,     0.98398,\n",
      "           0.98498,     0.98599,     0.98699,     0.98799,     0.98899,     0.98999,     0.99099,     0.99199,     0.99299,     0.99399,     0.99499,       0.996,       0.997,       0.998,       0.999,           1]), array([[          1,           1,           1,           1,           1,           1,           1,           1,           1,           1,           1,           1,           1,           1,           1,           1,           1,           1,           1,           1,           1,           1,           1,\n",
      "                  1,           1,           1,           1,           1,           1,           1,           1,           1,           1,           1,           1,           1,           1,           1,           1,           1,           1,           1,           1,           1,           1,           1,\n",
      "                  1,           1,           1,           1,           1,           1,           1,           1,           1,           1,           1,           1,           1,           1,           1,           1,           1,           1,           1,           1,           1,           1,           1,\n",
      "                  1,           1,           1,           1,           1,           1,           1,           1,           1,           1,           1,           1,           1,           1,           1,           1,           1,           1,           1,           1,           1,           1,           1,\n",
      "                  1,           1,           1,           1,           1,           1,           1,           1,           1,           1,           1,           1,           1,           1,           1,           1,           1,           1,           1,           1,           1,           1,           1,\n",
      "                  1,           1,           1,           1,           1,           1,           1,           1,           1,           1,           1,           1,           1,           1,           1,           1,           1,           1,           1,           1,           1,           1,           1,\n",
      "                  1,           1,           1,           1,           1,           1,           1,           1,           1,           1,           1,           1,           1,           1,           1,           1,           1,           1,           1,           1,           1,           1,           1,\n",
      "                  1,           1,           1,           1,           1,           1,           1,           1,           1,           1,           1,           1,           1,           1,           1,           1,           1,           1,           1,           1,           1,           1,           1,\n",
      "                  1,           1,           1,           1,           1,           1,           1,           1,           1,           1,           1,           1,           1,           1,           1,           1,           1,           1,           1,           1,           1,           1,           1,\n",
      "                  1,           1,           1,           1,           1,           1,           1,           1,           1,           1,           1,           1,           1,           1,           1,           1,           1,           1,           1,           1,           1,           1,           1,\n",
      "                  1,           1,           1,           1,           1,           1,           1,           1,           1,           1,           1,           1,           1,           1,           1,           1,           1,           1,           1,           1,           1,           1,           1,\n",
      "                  1,           1,           1,           1,           1,           1,           1,           1,           1,           1,           1,           1,           1,           1,           1,           1,           1,           1,           1,           1,           1,           1,           1,\n",
      "                  1,           1,           1,           1,           1,           1,           1,           1,           1,           1,           1,           1,           1,           1,           1,           1,           1,           1,           1,           1,           1,           1,           1,\n",
      "                  1,           1,           1,           1,           1,           1,           1,           1,           1,           1,           1,           1,           1,           1,           1,           1,           1,           1,           1,           1,           1,           1,           1,\n",
      "                  1,           1,           1,           1,           1,           1,           1,           1,           1,           1,           1,           1,           1,           1,           1,           1,           1,           1,           1,           1,           1,           1,           1,\n",
      "                  1,           1,           1,           1,           1,           1,           1,           1,           1,           1,           1,           1,           1,           1,           1,           1,           1,           1,           1,           1,           1,           1,           1,\n",
      "                  1,           1,           1,           1,           1,           1,           1,           1,           1,           1,           1,           1,           1,           1,           1,           1,           1,           1,           1,           1,           1,           1,           1,\n",
      "                  1,           1,           1,           1,           1,           1,           1,           1,           1,           1,           1,           1,           1,           1,           1,           1,           1,           1,           1,           1,           1,           1,           1,\n",
      "                  1,           1,           1,           1,           1,           1,           1,           1,           1,           1,           1,           1,           1,           1,           1,           1,           1,           1,           1,           1,           1,           1,           1,\n",
      "                  1,           1,           1,           1,           1,           1,           1,           1,           1,           1,           1,           1,           1,           1,           1,           1,           1,           1,           1,           1,           1,           1,           1,\n",
      "                  1,           1,           1,           1,           1,           1,           1,           1,           1,           1,           1,           1,           1,           1,           1,           1,           1,           1,           1,           1,           1,           1,           1,\n",
      "                  1,           1,           1,           1,           1,           1,           1,           1,           1,           1,           1,           1,           1,           1,           1,           1,           1,           1,           1,           1,           1,           1,           1,\n",
      "                  1,           1,           1,           1,           1,           1,           1,           1,           1,           1,           1,           1,           1,           1,           1,           1,           1,           1,           1,           1,           1,           1,           1,\n",
      "                  1,           1,           1,           1,           1,           1,           1,           1,           1,           1,           1,           1,           1,           1,           1,           1,           1,           1,           1,           1,           1,           1,           1,\n",
      "                  1,           1,           1,           1,           1,           1,           1,           1,           1,           1,           1,           1,           1,           1,           1,           1,           1,           1,           1,           1,           1,           1,           1,\n",
      "                  1,           1,           1,           1,           1,           1,           1,           1,           1,           1,           1,           1,           1,           1,           1,           1,           1,           1,           1,           1,           1,           1,           1,\n",
      "                  1,           1,           1,           1,           1,           1,           1,           1,           1,           1,           1,           1,           1,           1,           1,           1,           1,           1,           1,           1,           1,           1,           1,\n",
      "                  1,           1,           1,           1,           1,           1,           1,           1,           1,           1,           1,           1,           1,           1,           1,           1,           1,           1,           1,           1,           1,           1,           1,\n",
      "                  1,           1,           1,           1,           1,           1,           1,           1,           1,           1,           1,           1,           1,           1,           1,           1,           1,           1,           1,           1,           1,           1,           1,\n",
      "                  1,           1,           1,           1,           1,           1,           1,           1,           1,           1,           1,           1,           1,           1,           1,           1,           1,           1,           1,           1,           1,           1,           1,\n",
      "                  1,           1,           1,           1,           1,           1,           1,           1,           1,           1,           1,           1,           1,           1,           1,           1,           1,           1,           1,           1,           1,           1,           1,\n",
      "                  1,           1,           1,           1,           1,           1,           1,           1,           1,           1,           1,           1,           1,           1,           1,           1,           1,           1,           1,           1,           1,           1,           1,\n",
      "                  1,           1,           1,           1,           1,           1,           1,           1,           1,           1,           1,           1,           1,           1,           1,           1,           1,           1,           1,           1,           1,           1,           1,\n",
      "                  1,           1,           1,           1,           1,           1,           1,           1,           1,           1,           1,           1,           1,           1,           1,           1,           1,           1,           1,           1,           1,           1,           1,\n",
      "                  1,           1,           1,           1,           1,           1,           1,           1,           1,           1,           1,           1,           1,           1,           1,           1,           1,           1,           1,           1,           1,           1,           1,\n",
      "                  1,           1,           1,           1,           1,           1,           1,           1,           1,           1,           1,           1,           1,           1,           1,           1,           1,           1,           1,           1,           1,           1,           1,\n",
      "                  1,           1,           1,           1,           1,           1,           1,           1,           1,           1,           1,           1,           1,           1,           1,           1,           1,           1,           1,           1,           1,           1,           1,\n",
      "                  1,           1,           1,           1,           1,           1,           1,           1,           1,           1,           1,           1,           1,           1,           1,           1,           1,           1,           1,           1,           1,           1,           1,\n",
      "                  1,           1,           1,           1,           1,           1,           1,           1,           1,           1,           1,           1,           1,           1,           1,           1,           1,           1,           1,           1,           1,           1,           1,\n",
      "                  1,           1,           1,           1,           1,           1,           1,           1,           1,           1,           1,           1,           1,           1,           1,           1,           1,           1,           1,           1,           1,           1,           1,\n",
      "                  1,           1,           1,           1,           1,           1,           1,           1,           1,           1,           1,           1,           1,           1,           1,           1,           1,           1,           1,           1,           1,           1,           1,\n",
      "                  1,           1,           1,           1,           1,           1,           1,           1,           1,           1,           1,           1,           1,           1,           1,           1,           1,           1,           1,           1,           1,           1,           1,\n",
      "                  1,           1,           1,           1,           1,           1,           1,           1,           1,           1,           1,           1,           1,           1,           1,           1,           1,           1,           1,           1,           1,           1,           1,\n",
      "                  1,      0.6962,     0.61885,     0.54149,     0.46414,     0.38678,     0.30942,     0.23207,     0.15471,    0.077356,           0]]), 'Recall', 'Precision'], [array([          0,    0.001001,    0.002002,    0.003003,    0.004004,    0.005005,    0.006006,    0.007007,    0.008008,    0.009009,     0.01001,    0.011011,    0.012012,    0.013013,    0.014014,    0.015015,    0.016016,    0.017017,    0.018018,    0.019019,     0.02002,    0.021021,    0.022022,    0.023023,\n",
      "          0.024024,    0.025025,    0.026026,    0.027027,    0.028028,    0.029029,     0.03003,    0.031031,    0.032032,    0.033033,    0.034034,    0.035035,    0.036036,    0.037037,    0.038038,    0.039039,     0.04004,    0.041041,    0.042042,    0.043043,    0.044044,    0.045045,    0.046046,    0.047047,\n",
      "          0.048048,    0.049049,     0.05005,    0.051051,    0.052052,    0.053053,    0.054054,    0.055055,    0.056056,    0.057057,    0.058058,    0.059059,     0.06006,    0.061061,    0.062062,    0.063063,    0.064064,    0.065065,    0.066066,    0.067067,    0.068068,    0.069069,     0.07007,    0.071071,\n",
      "          0.072072,    0.073073,    0.074074,    0.075075,    0.076076,    0.077077,    0.078078,    0.079079,     0.08008,    0.081081,    0.082082,    0.083083,    0.084084,    0.085085,    0.086086,    0.087087,    0.088088,    0.089089,     0.09009,    0.091091,    0.092092,    0.093093,    0.094094,    0.095095,\n",
      "          0.096096,    0.097097,    0.098098,    0.099099,      0.1001,      0.1011,      0.1021,      0.1031,      0.1041,     0.10511,     0.10611,     0.10711,     0.10811,     0.10911,     0.11011,     0.11111,     0.11211,     0.11311,     0.11411,     0.11512,     0.11612,     0.11712,     0.11812,     0.11912,\n",
      "           0.12012,     0.12112,     0.12212,     0.12312,     0.12412,     0.12513,     0.12613,     0.12713,     0.12813,     0.12913,     0.13013,     0.13113,     0.13213,     0.13313,     0.13413,     0.13514,     0.13614,     0.13714,     0.13814,     0.13914,     0.14014,     0.14114,     0.14214,     0.14314,\n",
      "           0.14414,     0.14515,     0.14615,     0.14715,     0.14815,     0.14915,     0.15015,     0.15115,     0.15215,     0.15315,     0.15415,     0.15516,     0.15616,     0.15716,     0.15816,     0.15916,     0.16016,     0.16116,     0.16216,     0.16316,     0.16416,     0.16517,     0.16617,     0.16717,\n",
      "           0.16817,     0.16917,     0.17017,     0.17117,     0.17217,     0.17317,     0.17417,     0.17518,     0.17618,     0.17718,     0.17818,     0.17918,     0.18018,     0.18118,     0.18218,     0.18318,     0.18418,     0.18519,     0.18619,     0.18719,     0.18819,     0.18919,     0.19019,     0.19119,\n",
      "           0.19219,     0.19319,     0.19419,      0.1952,      0.1962,      0.1972,      0.1982,      0.1992,      0.2002,      0.2012,      0.2022,      0.2032,      0.2042,     0.20521,     0.20621,     0.20721,     0.20821,     0.20921,     0.21021,     0.21121,     0.21221,     0.21321,     0.21421,     0.21522,\n",
      "           0.21622,     0.21722,     0.21822,     0.21922,     0.22022,     0.22122,     0.22222,     0.22322,     0.22422,     0.22523,     0.22623,     0.22723,     0.22823,     0.22923,     0.23023,     0.23123,     0.23223,     0.23323,     0.23423,     0.23524,     0.23624,     0.23724,     0.23824,     0.23924,\n",
      "           0.24024,     0.24124,     0.24224,     0.24324,     0.24424,     0.24525,     0.24625,     0.24725,     0.24825,     0.24925,     0.25025,     0.25125,     0.25225,     0.25325,     0.25425,     0.25526,     0.25626,     0.25726,     0.25826,     0.25926,     0.26026,     0.26126,     0.26226,     0.26326,\n",
      "           0.26426,     0.26527,     0.26627,     0.26727,     0.26827,     0.26927,     0.27027,     0.27127,     0.27227,     0.27327,     0.27427,     0.27528,     0.27628,     0.27728,     0.27828,     0.27928,     0.28028,     0.28128,     0.28228,     0.28328,     0.28428,     0.28529,     0.28629,     0.28729,\n",
      "           0.28829,     0.28929,     0.29029,     0.29129,     0.29229,     0.29329,     0.29429,      0.2953,      0.2963,      0.2973,      0.2983,      0.2993,      0.3003,      0.3013,      0.3023,      0.3033,      0.3043,     0.30531,     0.30631,     0.30731,     0.30831,     0.30931,     0.31031,     0.31131,\n",
      "           0.31231,     0.31331,     0.31431,     0.31532,     0.31632,     0.31732,     0.31832,     0.31932,     0.32032,     0.32132,     0.32232,     0.32332,     0.32432,     0.32533,     0.32633,     0.32733,     0.32833,     0.32933,     0.33033,     0.33133,     0.33233,     0.33333,     0.33433,     0.33534,\n",
      "           0.33634,     0.33734,     0.33834,     0.33934,     0.34034,     0.34134,     0.34234,     0.34334,     0.34434,     0.34535,     0.34635,     0.34735,     0.34835,     0.34935,     0.35035,     0.35135,     0.35235,     0.35335,     0.35435,     0.35536,     0.35636,     0.35736,     0.35836,     0.35936,\n",
      "           0.36036,     0.36136,     0.36236,     0.36336,     0.36436,     0.36537,     0.36637,     0.36737,     0.36837,     0.36937,     0.37037,     0.37137,     0.37237,     0.37337,     0.37437,     0.37538,     0.37638,     0.37738,     0.37838,     0.37938,     0.38038,     0.38138,     0.38238,     0.38338,\n",
      "           0.38438,     0.38539,     0.38639,     0.38739,     0.38839,     0.38939,     0.39039,     0.39139,     0.39239,     0.39339,     0.39439,      0.3954,      0.3964,      0.3974,      0.3984,      0.3994,      0.4004,      0.4014,      0.4024,      0.4034,      0.4044,     0.40541,     0.40641,     0.40741,\n",
      "           0.40841,     0.40941,     0.41041,     0.41141,     0.41241,     0.41341,     0.41441,     0.41542,     0.41642,     0.41742,     0.41842,     0.41942,     0.42042,     0.42142,     0.42242,     0.42342,     0.42442,     0.42543,     0.42643,     0.42743,     0.42843,     0.42943,     0.43043,     0.43143,\n",
      "           0.43243,     0.43343,     0.43443,     0.43544,     0.43644,     0.43744,     0.43844,     0.43944,     0.44044,     0.44144,     0.44244,     0.44344,     0.44444,     0.44545,     0.44645,     0.44745,     0.44845,     0.44945,     0.45045,     0.45145,     0.45245,     0.45345,     0.45445,     0.45546,\n",
      "           0.45646,     0.45746,     0.45846,     0.45946,     0.46046,     0.46146,     0.46246,     0.46346,     0.46446,     0.46547,     0.46647,     0.46747,     0.46847,     0.46947,     0.47047,     0.47147,     0.47247,     0.47347,     0.47447,     0.47548,     0.47648,     0.47748,     0.47848,     0.47948,\n",
      "           0.48048,     0.48148,     0.48248,     0.48348,     0.48448,     0.48549,     0.48649,     0.48749,     0.48849,     0.48949,     0.49049,     0.49149,     0.49249,     0.49349,     0.49449,      0.4955,      0.4965,      0.4975,      0.4985,      0.4995,      0.5005,      0.5015,      0.5025,      0.5035,\n",
      "            0.5045,     0.50551,     0.50651,     0.50751,     0.50851,     0.50951,     0.51051,     0.51151,     0.51251,     0.51351,     0.51451,     0.51552,     0.51652,     0.51752,     0.51852,     0.51952,     0.52052,     0.52152,     0.52252,     0.52352,     0.52452,     0.52553,     0.52653,     0.52753,\n",
      "           0.52853,     0.52953,     0.53053,     0.53153,     0.53253,     0.53353,     0.53453,     0.53554,     0.53654,     0.53754,     0.53854,     0.53954,     0.54054,     0.54154,     0.54254,     0.54354,     0.54454,     0.54555,     0.54655,     0.54755,     0.54855,     0.54955,     0.55055,     0.55155,\n",
      "           0.55255,     0.55355,     0.55455,     0.55556,     0.55656,     0.55756,     0.55856,     0.55956,     0.56056,     0.56156,     0.56256,     0.56356,     0.56456,     0.56557,     0.56657,     0.56757,     0.56857,     0.56957,     0.57057,     0.57157,     0.57257,     0.57357,     0.57457,     0.57558,\n",
      "           0.57658,     0.57758,     0.57858,     0.57958,     0.58058,     0.58158,     0.58258,     0.58358,     0.58458,     0.58559,     0.58659,     0.58759,     0.58859,     0.58959,     0.59059,     0.59159,     0.59259,     0.59359,     0.59459,      0.5956,      0.5966,      0.5976,      0.5986,      0.5996,\n",
      "            0.6006,      0.6016,      0.6026,      0.6036,      0.6046,     0.60561,     0.60661,     0.60761,     0.60861,     0.60961,     0.61061,     0.61161,     0.61261,     0.61361,     0.61461,     0.61562,     0.61662,     0.61762,     0.61862,     0.61962,     0.62062,     0.62162,     0.62262,     0.62362,\n",
      "           0.62462,     0.62563,     0.62663,     0.62763,     0.62863,     0.62963,     0.63063,     0.63163,     0.63263,     0.63363,     0.63463,     0.63564,     0.63664,     0.63764,     0.63864,     0.63964,     0.64064,     0.64164,     0.64264,     0.64364,     0.64464,     0.64565,     0.64665,     0.64765,\n",
      "           0.64865,     0.64965,     0.65065,     0.65165,     0.65265,     0.65365,     0.65465,     0.65566,     0.65666,     0.65766,     0.65866,     0.65966,     0.66066,     0.66166,     0.66266,     0.66366,     0.66466,     0.66567,     0.66667,     0.66767,     0.66867,     0.66967,     0.67067,     0.67167,\n",
      "           0.67267,     0.67367,     0.67467,     0.67568,     0.67668,     0.67768,     0.67868,     0.67968,     0.68068,     0.68168,     0.68268,     0.68368,     0.68468,     0.68569,     0.68669,     0.68769,     0.68869,     0.68969,     0.69069,     0.69169,     0.69269,     0.69369,     0.69469,      0.6957,\n",
      "            0.6967,      0.6977,      0.6987,      0.6997,      0.7007,      0.7017,      0.7027,      0.7037,      0.7047,     0.70571,     0.70671,     0.70771,     0.70871,     0.70971,     0.71071,     0.71171,     0.71271,     0.71371,     0.71471,     0.71572,     0.71672,     0.71772,     0.71872,     0.71972,\n",
      "           0.72072,     0.72172,     0.72272,     0.72372,     0.72472,     0.72573,     0.72673,     0.72773,     0.72873,     0.72973,     0.73073,     0.73173,     0.73273,     0.73373,     0.73473,     0.73574,     0.73674,     0.73774,     0.73874,     0.73974,     0.74074,     0.74174,     0.74274,     0.74374,\n",
      "           0.74474,     0.74575,     0.74675,     0.74775,     0.74875,     0.74975,     0.75075,     0.75175,     0.75275,     0.75375,     0.75475,     0.75576,     0.75676,     0.75776,     0.75876,     0.75976,     0.76076,     0.76176,     0.76276,     0.76376,     0.76476,     0.76577,     0.76677,     0.76777,\n",
      "           0.76877,     0.76977,     0.77077,     0.77177,     0.77277,     0.77377,     0.77477,     0.77578,     0.77678,     0.77778,     0.77878,     0.77978,     0.78078,     0.78178,     0.78278,     0.78378,     0.78478,     0.78579,     0.78679,     0.78779,     0.78879,     0.78979,     0.79079,     0.79179,\n",
      "           0.79279,     0.79379,     0.79479,      0.7958,      0.7968,      0.7978,      0.7988,      0.7998,      0.8008,      0.8018,      0.8028,      0.8038,      0.8048,     0.80581,     0.80681,     0.80781,     0.80881,     0.80981,     0.81081,     0.81181,     0.81281,     0.81381,     0.81481,     0.81582,\n",
      "           0.81682,     0.81782,     0.81882,     0.81982,     0.82082,     0.82182,     0.82282,     0.82382,     0.82482,     0.82583,     0.82683,     0.82783,     0.82883,     0.82983,     0.83083,     0.83183,     0.83283,     0.83383,     0.83483,     0.83584,     0.83684,     0.83784,     0.83884,     0.83984,\n",
      "           0.84084,     0.84184,     0.84284,     0.84384,     0.84484,     0.84585,     0.84685,     0.84785,     0.84885,     0.84985,     0.85085,     0.85185,     0.85285,     0.85385,     0.85485,     0.85586,     0.85686,     0.85786,     0.85886,     0.85986,     0.86086,     0.86186,     0.86286,     0.86386,\n",
      "           0.86486,     0.86587,     0.86687,     0.86787,     0.86887,     0.86987,     0.87087,     0.87187,     0.87287,     0.87387,     0.87487,     0.87588,     0.87688,     0.87788,     0.87888,     0.87988,     0.88088,     0.88188,     0.88288,     0.88388,     0.88488,     0.88589,     0.88689,     0.88789,\n",
      "           0.88889,     0.88989,     0.89089,     0.89189,     0.89289,     0.89389,     0.89489,      0.8959,      0.8969,      0.8979,      0.8989,      0.8999,      0.9009,      0.9019,      0.9029,      0.9039,      0.9049,     0.90591,     0.90691,     0.90791,     0.90891,     0.90991,     0.91091,     0.91191,\n",
      "           0.91291,     0.91391,     0.91491,     0.91592,     0.91692,     0.91792,     0.91892,     0.91992,     0.92092,     0.92192,     0.92292,     0.92392,     0.92492,     0.92593,     0.92693,     0.92793,     0.92893,     0.92993,     0.93093,     0.93193,     0.93293,     0.93393,     0.93493,     0.93594,\n",
      "           0.93694,     0.93794,     0.93894,     0.93994,     0.94094,     0.94194,     0.94294,     0.94394,     0.94494,     0.94595,     0.94695,     0.94795,     0.94895,     0.94995,     0.95095,     0.95195,     0.95295,     0.95395,     0.95495,     0.95596,     0.95696,     0.95796,     0.95896,     0.95996,\n",
      "           0.96096,     0.96196,     0.96296,     0.96396,     0.96496,     0.96597,     0.96697,     0.96797,     0.96897,     0.96997,     0.97097,     0.97197,     0.97297,     0.97397,     0.97497,     0.97598,     0.97698,     0.97798,     0.97898,     0.97998,     0.98098,     0.98198,     0.98298,     0.98398,\n",
      "           0.98498,     0.98599,     0.98699,     0.98799,     0.98899,     0.98999,     0.99099,     0.99199,     0.99299,     0.99399,     0.99499,       0.996,       0.997,       0.998,       0.999,           1]), array([[    0.81784,     0.81784,     0.85888,     0.90057,     0.91527,      0.9267,     0.94062,     0.94501,     0.94692,      0.9492,     0.95239,     0.95673,     0.95755,     0.95836,     0.95917,     0.95998,     0.96074,     0.96113,     0.96151,      0.9619,     0.96228,     0.96267,     0.96305,\n",
      "            0.96344,     0.96382,      0.9642,     0.96459,      0.9653,     0.96797,     0.97222,     0.97487,     0.97668,     0.97795,      0.9784,     0.97884,     0.97928,     0.97973,     0.98017,     0.98061,     0.98105,      0.9815,     0.98194,     0.98217,     0.98223,     0.98229,     0.98235,\n",
      "             0.9824,     0.98246,     0.98252,     0.98258,     0.98263,     0.98269,     0.98275,     0.98281,     0.98287,     0.98292,     0.98298,     0.98304,      0.9831,     0.98315,     0.98321,     0.98327,     0.98333,     0.98338,     0.98344,      0.9835,     0.98356,     0.98361,     0.98367,\n",
      "            0.98373,     0.98379,     0.98384,      0.9839,     0.98396,     0.98402,     0.98407,     0.98413,     0.98419,     0.98425,      0.9843,     0.98436,     0.98442,     0.98448,     0.98453,     0.98459,     0.98465,     0.98471,     0.98476,     0.98482,     0.98488,     0.98493,     0.98499,\n",
      "            0.98505,     0.98511,     0.98516,     0.98522,     0.98528,     0.98534,     0.98539,     0.98545,     0.98551,     0.98557,     0.98562,     0.98568,     0.98574,     0.98579,     0.98585,     0.98591,     0.98597,     0.98602,     0.98608,     0.98614,     0.98619,     0.98625,     0.98631,\n",
      "            0.98637,     0.98642,     0.98648,     0.98654,     0.98655,     0.98656,     0.98657,     0.98658,     0.98658,     0.98659,      0.9866,     0.98661,     0.98661,     0.98662,     0.98663,     0.98664,     0.98664,     0.98665,     0.98666,     0.98667,     0.98667,     0.98668,     0.98669,\n",
      "             0.9867,      0.9867,     0.98671,     0.98672,     0.98673,     0.98673,     0.98674,     0.98675,     0.98676,     0.98676,     0.98677,     0.98678,     0.98679,     0.98679,      0.9868,     0.98681,     0.98681,     0.98682,     0.98683,     0.98684,     0.98684,     0.98685,     0.98686,\n",
      "            0.98687,     0.98687,     0.98688,     0.98689,      0.9869,      0.9869,     0.98691,     0.98692,     0.98693,     0.98693,     0.98694,     0.98695,     0.98696,     0.98696,     0.98697,     0.98698,     0.98699,     0.98699,       0.987,     0.98701,     0.98702,     0.98702,     0.98703,\n",
      "            0.98704,     0.98705,     0.98705,     0.98706,     0.98707,     0.98708,     0.98708,     0.98709,      0.9871,     0.98711,     0.98711,     0.98712,     0.98713,     0.98714,     0.98714,     0.98715,     0.98716,     0.98717,     0.98717,     0.98718,     0.98719,      0.9872,      0.9872,\n",
      "            0.98721,     0.98722,     0.98723,     0.98723,     0.98724,     0.98725,     0.98726,     0.98726,     0.98727,     0.98728,     0.98729,     0.98729,      0.9873,     0.98731,     0.98732,     0.98732,     0.98733,     0.98734,     0.98735,     0.98735,     0.98736,     0.98737,     0.98737,\n",
      "            0.98738,     0.98739,      0.9874,      0.9874,     0.98741,     0.98742,     0.98743,     0.98743,     0.98744,     0.98745,     0.98746,     0.98746,     0.98747,     0.98748,     0.98749,     0.98749,      0.9875,     0.98751,     0.98752,     0.98752,     0.98753,     0.98754,     0.98755,\n",
      "            0.98755,     0.98756,     0.98757,     0.98758,     0.98758,     0.98759,      0.9876,     0.98761,     0.98761,     0.98762,     0.98763,     0.98764,     0.98764,     0.98765,     0.98766,     0.98767,     0.98767,     0.98768,     0.98769,      0.9877,      0.9877,     0.98771,     0.98772,\n",
      "            0.98773,     0.98773,     0.98774,     0.98775,     0.98776,     0.98776,     0.98777,     0.98778,     0.98779,     0.98779,      0.9878,     0.98781,     0.98782,     0.98782,     0.98783,     0.98784,     0.98784,     0.98785,     0.98786,     0.98787,     0.98787,     0.98788,     0.98789,\n",
      "             0.9879,      0.9879,     0.98791,     0.98792,     0.98793,     0.98793,     0.98794,     0.98795,     0.98796,     0.98796,     0.98797,     0.98798,     0.98799,     0.98799,       0.988,     0.98801,     0.98802,     0.98802,     0.98803,     0.98804,     0.98805,     0.98805,     0.98806,\n",
      "            0.98807,     0.98808,     0.98808,     0.98809,      0.9881,     0.98811,     0.98811,     0.98812,     0.98813,     0.98814,     0.98814,     0.98815,     0.98816,     0.98817,     0.98817,     0.98818,     0.98819,      0.9882,      0.9882,     0.98821,     0.98822,     0.98823,     0.98823,\n",
      "            0.98824,     0.98825,     0.98825,     0.98826,     0.98827,     0.98828,     0.98828,     0.98829,      0.9883,     0.98831,     0.98831,     0.98832,     0.98833,     0.98834,     0.98834,     0.98835,     0.98836,     0.98837,     0.98837,     0.98838,     0.98839,      0.9884,      0.9884,\n",
      "            0.98841,     0.98842,     0.98843,     0.98843,     0.98844,     0.98845,     0.98846,     0.98846,     0.98847,     0.98848,     0.98849,     0.98849,      0.9885,     0.98851,     0.98852,     0.98852,     0.98853,     0.98854,     0.98855,     0.98855,     0.98856,     0.98857,     0.98858,\n",
      "            0.98858,     0.98859,      0.9886,      0.9886,     0.98861,     0.98862,     0.98863,     0.98863,     0.98864,     0.98865,     0.98866,     0.98866,     0.98867,     0.98868,     0.98869,     0.98869,      0.9887,     0.98871,     0.98872,     0.98872,     0.98873,     0.98874,     0.98875,\n",
      "            0.98875,     0.98876,     0.98877,     0.98878,     0.98878,     0.98879,      0.9888,     0.98881,     0.98881,     0.98882,     0.98883,     0.98884,     0.98884,     0.98885,     0.98886,     0.98887,     0.98887,     0.98888,     0.98889,      0.9889,      0.9889,     0.98891,     0.98892,\n",
      "            0.98892,     0.98893,     0.98894,     0.98895,     0.98895,     0.98896,     0.98897,     0.98898,     0.98898,     0.98899,       0.989,     0.98901,     0.98901,     0.98902,     0.98903,     0.98904,     0.98904,     0.98905,     0.98906,     0.98907,     0.98907,     0.98908,     0.98909,\n",
      "             0.9891,      0.9891,     0.98911,     0.98912,     0.98913,     0.98913,     0.98914,     0.98915,     0.98916,     0.98916,     0.98917,     0.98918,     0.98919,     0.98919,      0.9892,     0.98921,     0.98921,     0.98922,     0.98923,     0.98924,     0.98924,     0.98925,     0.98926,\n",
      "            0.98927,     0.98927,     0.98928,     0.98929,      0.9893,      0.9893,     0.98931,     0.98932,     0.98933,     0.98933,     0.98934,     0.98935,     0.98936,     0.98936,     0.98937,     0.98938,     0.98939,     0.98939,      0.9894,     0.98941,     0.98942,     0.98942,     0.98943,\n",
      "            0.98944,     0.98945,     0.98945,     0.98946,     0.98947,     0.98948,     0.98948,     0.98949,      0.9895,      0.9895,     0.98951,     0.98952,     0.98953,     0.98953,     0.98954,     0.98955,     0.98956,     0.98956,     0.98957,     0.98958,     0.98959,     0.98959,      0.9896,\n",
      "            0.98961,     0.98962,     0.98962,     0.98963,     0.98964,     0.98965,     0.98965,     0.98966,     0.98967,     0.98968,     0.98968,     0.98969,      0.9897,     0.98971,     0.98971,     0.98972,     0.98973,     0.98974,     0.98974,     0.98975,     0.98976,     0.98976,     0.98977,\n",
      "            0.98978,     0.98979,     0.98979,      0.9898,     0.98981,     0.98982,     0.98982,     0.98983,     0.98984,     0.98985,     0.98985,     0.98986,     0.98987,     0.98988,     0.98988,     0.98989,      0.9899,     0.98991,     0.98991,     0.98992,     0.98993,     0.98994,     0.98994,\n",
      "            0.98995,     0.98996,     0.98997,     0.98997,     0.98998,     0.98999,     0.98999,        0.99,     0.99001,     0.99002,     0.99002,     0.99003,     0.99004,     0.99005,     0.99005,     0.99006,     0.99007,     0.99008,     0.99008,     0.99009,      0.9901,     0.99011,     0.99011,\n",
      "            0.99012,     0.99013,     0.99014,     0.99014,     0.99015,     0.99016,     0.99017,     0.99017,     0.99018,     0.99019,      0.9902,      0.9902,     0.99021,     0.99022,     0.99023,     0.99023,     0.99024,     0.99025,     0.99025,     0.99026,     0.99027,     0.99028,     0.99028,\n",
      "            0.99029,      0.9903,     0.99031,     0.99031,     0.99032,     0.99033,     0.99034,     0.99034,     0.99035,     0.99036,     0.99037,     0.99037,     0.99038,     0.99039,      0.9904,      0.9904,     0.99041,     0.99042,     0.99043,     0.99043,     0.99044,     0.99045,     0.99045,\n",
      "            0.99046,     0.99047,     0.99048,     0.99048,     0.99049,      0.9905,     0.99051,     0.99051,     0.99052,     0.99053,     0.99054,     0.99054,     0.99055,     0.99056,     0.99057,     0.99057,     0.99058,     0.99059,      0.9906,      0.9906,     0.99061,     0.99062,     0.99063,\n",
      "            0.99063,     0.99064,     0.99065,     0.99066,     0.99066,     0.99067,     0.99068,     0.99068,     0.99069,      0.9907,     0.99071,     0.99071,     0.99072,     0.99073,     0.99074,     0.99074,     0.99075,     0.99076,     0.99077,     0.99077,     0.99078,     0.99079,      0.9908,\n",
      "             0.9908,     0.99081,     0.99082,     0.99083,     0.99083,     0.99084,     0.99085,     0.99086,     0.99086,     0.99087,     0.99088,     0.99088,     0.99089,      0.9909,     0.99091,     0.99091,     0.99092,     0.99093,     0.99094,     0.99094,     0.99095,     0.99096,     0.99097,\n",
      "            0.99097,     0.99098,     0.99099,     0.99106,     0.99116,     0.99126,     0.99136,     0.99146,     0.99156,     0.99166,     0.99175,     0.99185,     0.99195,     0.99205,     0.99215,     0.99225,     0.99235,     0.99245,     0.99255,     0.99265,     0.99275,     0.99285,     0.99294,\n",
      "            0.99304,     0.99314,     0.99324,     0.99334,     0.99344,     0.99354,     0.99364,     0.99374,     0.99383,     0.99393,     0.99403,     0.99413,     0.99423,     0.99433,     0.99443,     0.99453,     0.99462,     0.99472,     0.99482,     0.99492,     0.99502,     0.99512,     0.99522,\n",
      "            0.99532,     0.99541,     0.99544,     0.99535,     0.99526,     0.99518,     0.99509,       0.995,     0.99491,     0.99482,     0.99473,     0.99464,     0.99455,     0.99446,     0.99438,     0.99429,      0.9942,     0.99411,     0.99402,     0.99393,     0.99384,     0.99375,     0.99366,\n",
      "            0.99358,     0.99349,      0.9934,     0.99331,     0.99322,     0.99313,     0.99304,     0.99295,     0.99286,     0.99277,     0.99268,     0.99259,     0.99251,     0.99242,     0.99233,     0.99224,     0.99215,     0.99206,     0.99197,     0.99188,     0.99179,      0.9917,     0.99161,\n",
      "            0.99152,     0.99143,     0.99134,     0.99125,     0.99116,     0.99108,     0.99099,     0.99081,     0.99012,     0.98943,     0.98873,     0.98804,     0.98734,     0.98665,      0.9858,      0.9848,      0.9838,      0.9828,     0.98179,     0.98125,     0.98078,     0.98031,     0.97984,\n",
      "            0.97937,      0.9789,     0.97843,     0.97795,     0.97748,     0.97701,     0.97634,     0.97564,     0.97494,     0.97424,     0.97354,     0.97284,     0.97214,     0.97145,     0.97076,     0.97006,     0.96937,     0.96868,     0.96798,     0.96712,     0.96571,      0.9643,     0.96288,\n",
      "            0.96246,     0.96227,     0.96208,     0.96188,     0.96169,      0.9615,      0.9613,     0.96111,     0.96092,     0.96072,     0.96053,     0.96034,     0.96014,     0.95995,     0.95976,     0.95956,     0.95937,     0.95918,     0.95898,     0.95879,     0.95859,      0.9584,     0.95821,\n",
      "            0.95801,     0.95782,     0.95677,     0.95522,     0.95366,     0.95026,     0.94752,     0.94692,     0.94631,     0.94569,     0.94508,     0.94447,     0.94386,     0.94325,     0.94201,     0.93967,     0.93493,     0.92953,     0.92562,     0.92088,     0.89874,     0.88671,     0.88165,\n",
      "            0.87373,     0.85815,     0.85179,     0.84224,      0.8379,     0.83292,     0.82721,     0.81325,     0.80309,     0.79568,     0.77788,     0.76736,     0.76096,     0.74846,     0.70455,     0.68355,      0.6745,     0.66403,     0.64818,     0.63017,     0.60293,     0.58989,     0.56137,\n",
      "            0.52897,     0.47785,      0.4717,     0.46393,     0.44622,     0.44209,     0.43794,     0.42753,     0.39951,     0.39038,      0.3823,     0.36065,     0.31451,     0.28833,     0.27333,      0.2601,     0.23445,     0.22626,     0.20372,     0.19165,     0.16975,     0.15097,     0.14646,\n",
      "             0.1427,     0.13893,     0.13514,     0.11907,     0.10041,    0.096256,    0.092086,    0.087898,    0.081958,    0.074803,    0.067582,    0.060271,    0.052904,    0.044277,    0.035526,           0,           0,           0,           0,           0,           0,           0,           0,\n",
      "                  0,           0,           0,           0,           0,           0,           0,           0,           0,           0,           0,           0,           0,           0,           0,           0,           0,           0,           0,           0,           0,           0,           0,\n",
      "                  0,           0,           0,           0,           0,           0,           0,           0,           0,           0,           0]]), 'Confidence', 'F1'], [array([          0,    0.001001,    0.002002,    0.003003,    0.004004,    0.005005,    0.006006,    0.007007,    0.008008,    0.009009,     0.01001,    0.011011,    0.012012,    0.013013,    0.014014,    0.015015,    0.016016,    0.017017,    0.018018,    0.019019,     0.02002,    0.021021,    0.022022,    0.023023,\n",
      "          0.024024,    0.025025,    0.026026,    0.027027,    0.028028,    0.029029,     0.03003,    0.031031,    0.032032,    0.033033,    0.034034,    0.035035,    0.036036,    0.037037,    0.038038,    0.039039,     0.04004,    0.041041,    0.042042,    0.043043,    0.044044,    0.045045,    0.046046,    0.047047,\n",
      "          0.048048,    0.049049,     0.05005,    0.051051,    0.052052,    0.053053,    0.054054,    0.055055,    0.056056,    0.057057,    0.058058,    0.059059,     0.06006,    0.061061,    0.062062,    0.063063,    0.064064,    0.065065,    0.066066,    0.067067,    0.068068,    0.069069,     0.07007,    0.071071,\n",
      "          0.072072,    0.073073,    0.074074,    0.075075,    0.076076,    0.077077,    0.078078,    0.079079,     0.08008,    0.081081,    0.082082,    0.083083,    0.084084,    0.085085,    0.086086,    0.087087,    0.088088,    0.089089,     0.09009,    0.091091,    0.092092,    0.093093,    0.094094,    0.095095,\n",
      "          0.096096,    0.097097,    0.098098,    0.099099,      0.1001,      0.1011,      0.1021,      0.1031,      0.1041,     0.10511,     0.10611,     0.10711,     0.10811,     0.10911,     0.11011,     0.11111,     0.11211,     0.11311,     0.11411,     0.11512,     0.11612,     0.11712,     0.11812,     0.11912,\n",
      "           0.12012,     0.12112,     0.12212,     0.12312,     0.12412,     0.12513,     0.12613,     0.12713,     0.12813,     0.12913,     0.13013,     0.13113,     0.13213,     0.13313,     0.13413,     0.13514,     0.13614,     0.13714,     0.13814,     0.13914,     0.14014,     0.14114,     0.14214,     0.14314,\n",
      "           0.14414,     0.14515,     0.14615,     0.14715,     0.14815,     0.14915,     0.15015,     0.15115,     0.15215,     0.15315,     0.15415,     0.15516,     0.15616,     0.15716,     0.15816,     0.15916,     0.16016,     0.16116,     0.16216,     0.16316,     0.16416,     0.16517,     0.16617,     0.16717,\n",
      "           0.16817,     0.16917,     0.17017,     0.17117,     0.17217,     0.17317,     0.17417,     0.17518,     0.17618,     0.17718,     0.17818,     0.17918,     0.18018,     0.18118,     0.18218,     0.18318,     0.18418,     0.18519,     0.18619,     0.18719,     0.18819,     0.18919,     0.19019,     0.19119,\n",
      "           0.19219,     0.19319,     0.19419,      0.1952,      0.1962,      0.1972,      0.1982,      0.1992,      0.2002,      0.2012,      0.2022,      0.2032,      0.2042,     0.20521,     0.20621,     0.20721,     0.20821,     0.20921,     0.21021,     0.21121,     0.21221,     0.21321,     0.21421,     0.21522,\n",
      "           0.21622,     0.21722,     0.21822,     0.21922,     0.22022,     0.22122,     0.22222,     0.22322,     0.22422,     0.22523,     0.22623,     0.22723,     0.22823,     0.22923,     0.23023,     0.23123,     0.23223,     0.23323,     0.23423,     0.23524,     0.23624,     0.23724,     0.23824,     0.23924,\n",
      "           0.24024,     0.24124,     0.24224,     0.24324,     0.24424,     0.24525,     0.24625,     0.24725,     0.24825,     0.24925,     0.25025,     0.25125,     0.25225,     0.25325,     0.25425,     0.25526,     0.25626,     0.25726,     0.25826,     0.25926,     0.26026,     0.26126,     0.26226,     0.26326,\n",
      "           0.26426,     0.26527,     0.26627,     0.26727,     0.26827,     0.26927,     0.27027,     0.27127,     0.27227,     0.27327,     0.27427,     0.27528,     0.27628,     0.27728,     0.27828,     0.27928,     0.28028,     0.28128,     0.28228,     0.28328,     0.28428,     0.28529,     0.28629,     0.28729,\n",
      "           0.28829,     0.28929,     0.29029,     0.29129,     0.29229,     0.29329,     0.29429,      0.2953,      0.2963,      0.2973,      0.2983,      0.2993,      0.3003,      0.3013,      0.3023,      0.3033,      0.3043,     0.30531,     0.30631,     0.30731,     0.30831,     0.30931,     0.31031,     0.31131,\n",
      "           0.31231,     0.31331,     0.31431,     0.31532,     0.31632,     0.31732,     0.31832,     0.31932,     0.32032,     0.32132,     0.32232,     0.32332,     0.32432,     0.32533,     0.32633,     0.32733,     0.32833,     0.32933,     0.33033,     0.33133,     0.33233,     0.33333,     0.33433,     0.33534,\n",
      "           0.33634,     0.33734,     0.33834,     0.33934,     0.34034,     0.34134,     0.34234,     0.34334,     0.34434,     0.34535,     0.34635,     0.34735,     0.34835,     0.34935,     0.35035,     0.35135,     0.35235,     0.35335,     0.35435,     0.35536,     0.35636,     0.35736,     0.35836,     0.35936,\n",
      "           0.36036,     0.36136,     0.36236,     0.36336,     0.36436,     0.36537,     0.36637,     0.36737,     0.36837,     0.36937,     0.37037,     0.37137,     0.37237,     0.37337,     0.37437,     0.37538,     0.37638,     0.37738,     0.37838,     0.37938,     0.38038,     0.38138,     0.38238,     0.38338,\n",
      "           0.38438,     0.38539,     0.38639,     0.38739,     0.38839,     0.38939,     0.39039,     0.39139,     0.39239,     0.39339,     0.39439,      0.3954,      0.3964,      0.3974,      0.3984,      0.3994,      0.4004,      0.4014,      0.4024,      0.4034,      0.4044,     0.40541,     0.40641,     0.40741,\n",
      "           0.40841,     0.40941,     0.41041,     0.41141,     0.41241,     0.41341,     0.41441,     0.41542,     0.41642,     0.41742,     0.41842,     0.41942,     0.42042,     0.42142,     0.42242,     0.42342,     0.42442,     0.42543,     0.42643,     0.42743,     0.42843,     0.42943,     0.43043,     0.43143,\n",
      "           0.43243,     0.43343,     0.43443,     0.43544,     0.43644,     0.43744,     0.43844,     0.43944,     0.44044,     0.44144,     0.44244,     0.44344,     0.44444,     0.44545,     0.44645,     0.44745,     0.44845,     0.44945,     0.45045,     0.45145,     0.45245,     0.45345,     0.45445,     0.45546,\n",
      "           0.45646,     0.45746,     0.45846,     0.45946,     0.46046,     0.46146,     0.46246,     0.46346,     0.46446,     0.46547,     0.46647,     0.46747,     0.46847,     0.46947,     0.47047,     0.47147,     0.47247,     0.47347,     0.47447,     0.47548,     0.47648,     0.47748,     0.47848,     0.47948,\n",
      "           0.48048,     0.48148,     0.48248,     0.48348,     0.48448,     0.48549,     0.48649,     0.48749,     0.48849,     0.48949,     0.49049,     0.49149,     0.49249,     0.49349,     0.49449,      0.4955,      0.4965,      0.4975,      0.4985,      0.4995,      0.5005,      0.5015,      0.5025,      0.5035,\n",
      "            0.5045,     0.50551,     0.50651,     0.50751,     0.50851,     0.50951,     0.51051,     0.51151,     0.51251,     0.51351,     0.51451,     0.51552,     0.51652,     0.51752,     0.51852,     0.51952,     0.52052,     0.52152,     0.52252,     0.52352,     0.52452,     0.52553,     0.52653,     0.52753,\n",
      "           0.52853,     0.52953,     0.53053,     0.53153,     0.53253,     0.53353,     0.53453,     0.53554,     0.53654,     0.53754,     0.53854,     0.53954,     0.54054,     0.54154,     0.54254,     0.54354,     0.54454,     0.54555,     0.54655,     0.54755,     0.54855,     0.54955,     0.55055,     0.55155,\n",
      "           0.55255,     0.55355,     0.55455,     0.55556,     0.55656,     0.55756,     0.55856,     0.55956,     0.56056,     0.56156,     0.56256,     0.56356,     0.56456,     0.56557,     0.56657,     0.56757,     0.56857,     0.56957,     0.57057,     0.57157,     0.57257,     0.57357,     0.57457,     0.57558,\n",
      "           0.57658,     0.57758,     0.57858,     0.57958,     0.58058,     0.58158,     0.58258,     0.58358,     0.58458,     0.58559,     0.58659,     0.58759,     0.58859,     0.58959,     0.59059,     0.59159,     0.59259,     0.59359,     0.59459,      0.5956,      0.5966,      0.5976,      0.5986,      0.5996,\n",
      "            0.6006,      0.6016,      0.6026,      0.6036,      0.6046,     0.60561,     0.60661,     0.60761,     0.60861,     0.60961,     0.61061,     0.61161,     0.61261,     0.61361,     0.61461,     0.61562,     0.61662,     0.61762,     0.61862,     0.61962,     0.62062,     0.62162,     0.62262,     0.62362,\n",
      "           0.62462,     0.62563,     0.62663,     0.62763,     0.62863,     0.62963,     0.63063,     0.63163,     0.63263,     0.63363,     0.63463,     0.63564,     0.63664,     0.63764,     0.63864,     0.63964,     0.64064,     0.64164,     0.64264,     0.64364,     0.64464,     0.64565,     0.64665,     0.64765,\n",
      "           0.64865,     0.64965,     0.65065,     0.65165,     0.65265,     0.65365,     0.65465,     0.65566,     0.65666,     0.65766,     0.65866,     0.65966,     0.66066,     0.66166,     0.66266,     0.66366,     0.66466,     0.66567,     0.66667,     0.66767,     0.66867,     0.66967,     0.67067,     0.67167,\n",
      "           0.67267,     0.67367,     0.67467,     0.67568,     0.67668,     0.67768,     0.67868,     0.67968,     0.68068,     0.68168,     0.68268,     0.68368,     0.68468,     0.68569,     0.68669,     0.68769,     0.68869,     0.68969,     0.69069,     0.69169,     0.69269,     0.69369,     0.69469,      0.6957,\n",
      "            0.6967,      0.6977,      0.6987,      0.6997,      0.7007,      0.7017,      0.7027,      0.7037,      0.7047,     0.70571,     0.70671,     0.70771,     0.70871,     0.70971,     0.71071,     0.71171,     0.71271,     0.71371,     0.71471,     0.71572,     0.71672,     0.71772,     0.71872,     0.71972,\n",
      "           0.72072,     0.72172,     0.72272,     0.72372,     0.72472,     0.72573,     0.72673,     0.72773,     0.72873,     0.72973,     0.73073,     0.73173,     0.73273,     0.73373,     0.73473,     0.73574,     0.73674,     0.73774,     0.73874,     0.73974,     0.74074,     0.74174,     0.74274,     0.74374,\n",
      "           0.74474,     0.74575,     0.74675,     0.74775,     0.74875,     0.74975,     0.75075,     0.75175,     0.75275,     0.75375,     0.75475,     0.75576,     0.75676,     0.75776,     0.75876,     0.75976,     0.76076,     0.76176,     0.76276,     0.76376,     0.76476,     0.76577,     0.76677,     0.76777,\n",
      "           0.76877,     0.76977,     0.77077,     0.77177,     0.77277,     0.77377,     0.77477,     0.77578,     0.77678,     0.77778,     0.77878,     0.77978,     0.78078,     0.78178,     0.78278,     0.78378,     0.78478,     0.78579,     0.78679,     0.78779,     0.78879,     0.78979,     0.79079,     0.79179,\n",
      "           0.79279,     0.79379,     0.79479,      0.7958,      0.7968,      0.7978,      0.7988,      0.7998,      0.8008,      0.8018,      0.8028,      0.8038,      0.8048,     0.80581,     0.80681,     0.80781,     0.80881,     0.80981,     0.81081,     0.81181,     0.81281,     0.81381,     0.81481,     0.81582,\n",
      "           0.81682,     0.81782,     0.81882,     0.81982,     0.82082,     0.82182,     0.82282,     0.82382,     0.82482,     0.82583,     0.82683,     0.82783,     0.82883,     0.82983,     0.83083,     0.83183,     0.83283,     0.83383,     0.83483,     0.83584,     0.83684,     0.83784,     0.83884,     0.83984,\n",
      "           0.84084,     0.84184,     0.84284,     0.84384,     0.84484,     0.84585,     0.84685,     0.84785,     0.84885,     0.84985,     0.85085,     0.85185,     0.85285,     0.85385,     0.85485,     0.85586,     0.85686,     0.85786,     0.85886,     0.85986,     0.86086,     0.86186,     0.86286,     0.86386,\n",
      "           0.86486,     0.86587,     0.86687,     0.86787,     0.86887,     0.86987,     0.87087,     0.87187,     0.87287,     0.87387,     0.87487,     0.87588,     0.87688,     0.87788,     0.87888,     0.87988,     0.88088,     0.88188,     0.88288,     0.88388,     0.88488,     0.88589,     0.88689,     0.88789,\n",
      "           0.88889,     0.88989,     0.89089,     0.89189,     0.89289,     0.89389,     0.89489,      0.8959,      0.8969,      0.8979,      0.8989,      0.8999,      0.9009,      0.9019,      0.9029,      0.9039,      0.9049,     0.90591,     0.90691,     0.90791,     0.90891,     0.90991,     0.91091,     0.91191,\n",
      "           0.91291,     0.91391,     0.91491,     0.91592,     0.91692,     0.91792,     0.91892,     0.91992,     0.92092,     0.92192,     0.92292,     0.92392,     0.92492,     0.92593,     0.92693,     0.92793,     0.92893,     0.92993,     0.93093,     0.93193,     0.93293,     0.93393,     0.93493,     0.93594,\n",
      "           0.93694,     0.93794,     0.93894,     0.93994,     0.94094,     0.94194,     0.94294,     0.94394,     0.94494,     0.94595,     0.94695,     0.94795,     0.94895,     0.94995,     0.95095,     0.95195,     0.95295,     0.95395,     0.95495,     0.95596,     0.95696,     0.95796,     0.95896,     0.95996,\n",
      "           0.96096,     0.96196,     0.96296,     0.96396,     0.96496,     0.96597,     0.96697,     0.96797,     0.96897,     0.96997,     0.97097,     0.97197,     0.97297,     0.97397,     0.97497,     0.97598,     0.97698,     0.97798,     0.97898,     0.97998,     0.98098,     0.98198,     0.98298,     0.98398,\n",
      "           0.98498,     0.98599,     0.98699,     0.98799,     0.98899,     0.98999,     0.99099,     0.99199,     0.99299,     0.99399,     0.99499,       0.996,       0.997,       0.998,       0.999,           1]), array([[     0.6962,      0.6962,     0.75785,     0.82527,      0.8503,     0.87024,     0.89513,     0.90311,     0.90661,      0.9108,     0.91668,     0.92476,     0.92629,     0.92781,     0.92933,     0.93085,     0.93229,     0.93301,     0.93374,     0.93447,     0.93519,     0.93592,     0.93664,\n",
      "            0.93737,      0.9381,     0.93882,     0.93955,     0.94091,     0.94599,     0.95414,     0.95926,     0.96278,     0.96526,     0.96612,     0.96699,     0.96785,     0.96872,     0.96958,     0.97045,     0.97131,     0.97218,     0.97305,     0.97351,     0.97362,     0.97374,     0.97385,\n",
      "            0.97396,     0.97408,     0.97419,      0.9743,     0.97442,     0.97453,     0.97464,     0.97476,     0.97487,     0.97498,      0.9751,     0.97521,     0.97532,     0.97544,     0.97555,     0.97566,     0.97578,     0.97589,       0.976,     0.97612,     0.97623,     0.97634,     0.97646,\n",
      "            0.97657,     0.97668,      0.9768,     0.97691,     0.97702,     0.97714,     0.97725,     0.97736,     0.97748,     0.97759,     0.97771,     0.97782,     0.97793,     0.97805,     0.97816,     0.97827,     0.97839,      0.9785,     0.97861,     0.97873,     0.97884,     0.97895,     0.97907,\n",
      "            0.97918,     0.97929,     0.97941,     0.97952,     0.97963,     0.97975,     0.97986,     0.97997,     0.98009,      0.9802,     0.98031,     0.98043,     0.98054,     0.98065,     0.98077,     0.98088,     0.98099,     0.98111,     0.98122,     0.98133,     0.98145,     0.98156,     0.98167,\n",
      "            0.98179,      0.9819,     0.98201,     0.98213,     0.98216,     0.98217,     0.98218,      0.9822,     0.98221,     0.98223,     0.98224,     0.98226,     0.98227,     0.98229,      0.9823,     0.98232,     0.98233,     0.98235,     0.98236,     0.98238,     0.98239,     0.98241,     0.98242,\n",
      "            0.98244,     0.98245,     0.98247,     0.98248,      0.9825,     0.98251,     0.98253,     0.98254,     0.98256,     0.98257,     0.98259,      0.9826,     0.98261,     0.98263,     0.98264,     0.98266,     0.98267,     0.98269,      0.9827,     0.98272,     0.98273,     0.98275,     0.98276,\n",
      "            0.98278,     0.98279,     0.98281,     0.98282,     0.98284,     0.98285,     0.98287,     0.98288,      0.9829,     0.98291,     0.98293,     0.98294,     0.98296,     0.98297,     0.98299,       0.983,     0.98301,     0.98303,     0.98304,     0.98306,     0.98307,     0.98309,      0.9831,\n",
      "            0.98312,     0.98313,     0.98315,     0.98316,     0.98318,     0.98319,     0.98321,     0.98322,     0.98324,     0.98325,     0.98327,     0.98328,      0.9833,     0.98331,     0.98333,     0.98334,     0.98336,     0.98337,     0.98339,      0.9834,     0.98341,     0.98343,     0.98344,\n",
      "            0.98346,     0.98347,     0.98349,      0.9835,     0.98352,     0.98353,     0.98355,     0.98356,     0.98358,     0.98359,     0.98361,     0.98362,     0.98364,     0.98365,     0.98367,     0.98368,      0.9837,     0.98371,     0.98373,     0.98374,     0.98376,     0.98377,     0.98379,\n",
      "             0.9838,     0.98381,     0.98383,     0.98384,     0.98386,     0.98387,     0.98389,      0.9839,     0.98392,     0.98393,     0.98395,     0.98396,     0.98398,     0.98399,     0.98401,     0.98402,     0.98404,     0.98405,     0.98407,     0.98408,      0.9841,     0.98411,     0.98413,\n",
      "            0.98414,     0.98416,     0.98417,     0.98419,      0.9842,     0.98421,     0.98423,     0.98424,     0.98426,     0.98427,     0.98429,      0.9843,     0.98432,     0.98433,     0.98435,     0.98436,     0.98438,     0.98439,     0.98441,     0.98442,     0.98444,     0.98445,     0.98447,\n",
      "            0.98448,      0.9845,     0.98451,     0.98453,     0.98454,     0.98456,     0.98457,     0.98459,      0.9846,     0.98462,     0.98463,     0.98464,     0.98466,     0.98467,     0.98469,      0.9847,     0.98472,     0.98473,     0.98475,     0.98476,     0.98478,     0.98479,     0.98481,\n",
      "            0.98482,     0.98484,     0.98485,     0.98487,     0.98488,      0.9849,     0.98491,     0.98493,     0.98494,     0.98496,     0.98497,     0.98499,       0.985,     0.98502,     0.98503,     0.98504,     0.98506,     0.98507,     0.98509,      0.9851,     0.98512,     0.98513,     0.98515,\n",
      "            0.98516,     0.98518,     0.98519,     0.98521,     0.98522,     0.98524,     0.98525,     0.98527,     0.98528,      0.9853,     0.98531,     0.98533,     0.98534,     0.98536,     0.98537,     0.98539,      0.9854,     0.98542,     0.98543,     0.98544,     0.98546,     0.98547,     0.98549,\n",
      "             0.9855,     0.98552,     0.98553,     0.98555,     0.98556,     0.98558,     0.98559,     0.98561,     0.98562,     0.98564,     0.98565,     0.98567,     0.98568,      0.9857,     0.98571,     0.98573,     0.98574,     0.98576,     0.98577,     0.98579,      0.9858,     0.98582,     0.98583,\n",
      "            0.98584,     0.98586,     0.98587,     0.98589,      0.9859,     0.98592,     0.98593,     0.98595,     0.98596,     0.98598,     0.98599,     0.98601,     0.98602,     0.98604,     0.98605,     0.98607,     0.98608,      0.9861,     0.98611,     0.98613,     0.98614,     0.98616,     0.98617,\n",
      "            0.98619,      0.9862,     0.98622,     0.98623,     0.98624,     0.98626,     0.98627,     0.98629,      0.9863,     0.98632,     0.98633,     0.98635,     0.98636,     0.98638,     0.98639,     0.98641,     0.98642,     0.98644,     0.98645,     0.98647,     0.98648,      0.9865,     0.98651,\n",
      "            0.98653,     0.98654,     0.98656,     0.98657,     0.98659,      0.9866,     0.98662,     0.98663,     0.98664,     0.98666,     0.98667,     0.98669,      0.9867,     0.98672,     0.98673,     0.98675,     0.98676,     0.98678,     0.98679,     0.98681,     0.98682,     0.98684,     0.98685,\n",
      "            0.98687,     0.98688,      0.9869,     0.98691,     0.98693,     0.98694,     0.98696,     0.98697,     0.98699,       0.987,     0.98702,     0.98703,     0.98705,     0.98706,     0.98707,     0.98709,      0.9871,     0.98712,     0.98713,     0.98715,     0.98716,     0.98718,     0.98719,\n",
      "            0.98721,     0.98722,     0.98724,     0.98725,     0.98727,     0.98728,      0.9873,     0.98731,     0.98733,     0.98734,     0.98736,     0.98737,     0.98739,      0.9874,     0.98742,     0.98743,     0.98745,     0.98746,     0.98747,     0.98749,      0.9875,     0.98752,     0.98753,\n",
      "            0.98755,     0.98756,     0.98758,     0.98759,     0.98761,     0.98762,     0.98764,     0.98765,     0.98767,     0.98768,      0.9877,     0.98771,     0.98773,     0.98774,     0.98776,     0.98777,     0.98779,      0.9878,     0.98782,     0.98783,     0.98785,     0.98786,     0.98787,\n",
      "            0.98789,      0.9879,     0.98792,     0.98793,     0.98795,     0.98796,     0.98798,     0.98799,     0.98801,     0.98802,     0.98804,     0.98805,     0.98807,     0.98808,      0.9881,     0.98811,     0.98813,     0.98814,     0.98816,     0.98817,     0.98819,      0.9882,     0.98822,\n",
      "            0.98823,     0.98825,     0.98826,     0.98827,     0.98829,      0.9883,     0.98832,     0.98833,     0.98835,     0.98836,     0.98838,     0.98839,     0.98841,     0.98842,     0.98844,     0.98845,     0.98847,     0.98848,      0.9885,     0.98851,     0.98853,     0.98854,     0.98856,\n",
      "            0.98857,     0.98859,      0.9886,     0.98862,     0.98863,     0.98865,     0.98866,     0.98867,     0.98869,      0.9887,     0.98872,     0.98873,     0.98875,     0.98876,     0.98878,     0.98879,     0.98881,     0.98882,     0.98884,     0.98885,     0.98887,     0.98888,      0.9889,\n",
      "            0.98891,     0.98893,     0.98894,     0.98896,     0.98897,     0.98899,       0.989,     0.98902,     0.98903,     0.98905,     0.98906,     0.98907,     0.98909,      0.9891,     0.98912,     0.98913,     0.98915,     0.98916,     0.98918,     0.98919,     0.98921,     0.98922,     0.98924,\n",
      "            0.98925,     0.98927,     0.98928,      0.9893,     0.98931,     0.98933,     0.98934,     0.98936,     0.98937,     0.98939,      0.9894,     0.98942,     0.98943,     0.98945,     0.98946,     0.98948,     0.98949,      0.9895,     0.98952,     0.98953,     0.98955,     0.98956,     0.98958,\n",
      "            0.98959,     0.98961,     0.98962,     0.98964,     0.98965,     0.98967,     0.98968,      0.9897,     0.98971,     0.98973,     0.98974,     0.98976,     0.98977,     0.98979,      0.9898,     0.98982,     0.98983,     0.98985,     0.98986,     0.98988,     0.98989,      0.9899,     0.98992,\n",
      "            0.98993,     0.98995,     0.98996,     0.98998,     0.98999,     0.99001,     0.99002,     0.99004,     0.99005,     0.99007,     0.99008,      0.9901,     0.99011,     0.99013,     0.99014,     0.99016,     0.99017,     0.99019,      0.9902,     0.99022,     0.99023,     0.99025,     0.99026,\n",
      "            0.99028,     0.99029,      0.9903,     0.99032,     0.99033,     0.99035,     0.99036,     0.99038,     0.99039,     0.99041,     0.99042,     0.99044,     0.99045,     0.99047,     0.99048,      0.9905,     0.99051,     0.99053,     0.99054,     0.99056,     0.99057,     0.99059,      0.9906,\n",
      "            0.99062,     0.99063,     0.99065,     0.99066,     0.99068,     0.99069,      0.9907,     0.99072,     0.99073,     0.99075,     0.99076,     0.99078,     0.99079,     0.99081,     0.99082,     0.99084,     0.99085,     0.99087,     0.99088,      0.9909,     0.99091,     0.99093,     0.99094,\n",
      "            0.99096,     0.99097,     0.99099,     0.99113,     0.99133,     0.99153,     0.99172,     0.99192,     0.99212,     0.99232,     0.99252,     0.99272,     0.99292,     0.99312,     0.99332,     0.99351,     0.99371,     0.99391,     0.99411,     0.99431,     0.99451,     0.99471,     0.99491,\n",
      "             0.9951,      0.9953,      0.9955,      0.9957,      0.9959,      0.9961,      0.9963,      0.9965,      0.9967,     0.99689,     0.99709,     0.99729,     0.99749,     0.99769,     0.99789,     0.99809,     0.99829,     0.99848,     0.99868,     0.99888,     0.99908,     0.99928,     0.99948,\n",
      "            0.99968,     0.99988,           1,           1,           1,           1,           1,           1,           1,           1,           1,           1,           1,           1,           1,           1,           1,           1,           1,           1,           1,           1,           1,\n",
      "                  1,           1,           1,           1,           1,           1,           1,           1,           1,           1,           1,           1,           1,           1,           1,           1,           1,           1,           1,           1,           1,           1,           1,\n",
      "                  1,           1,           1,           1,           1,           1,           1,           1,           1,           1,           1,           1,           1,           1,           1,           1,           1,           1,           1,           1,           1,           1,           1,\n",
      "                  1,           1,           1,           1,           1,           1,           1,           1,           1,           1,           1,           1,           1,           1,           1,           1,           1,           1,           1,           1,           1,           1,           1,\n",
      "                  1,           1,           1,           1,           1,           1,           1,           1,           1,           1,           1,           1,           1,           1,           1,           1,           1,           1,           1,           1,           1,           1,           1,\n",
      "                  1,           1,           1,           1,           1,           1,           1,           1,           1,           1,           1,           1,           1,           1,           1,           1,           1,           1,           1,           1,           1,           1,           1,\n",
      "                  1,           1,           1,           1,           1,           1,           1,           1,           1,           1,           1,           1,           1,           1,           1,           1,           1,           1,           1,           1,           1,           1,           1,\n",
      "                  1,           1,           1,           1,           1,           1,           1,           1,           1,           1,           1,           1,           1,           1,           1,           1,           1,           1,           1,           1,           1,           1,           1,\n",
      "                  1,           1,           1,           1,           1,           1,           1,           1,           1,           1,           1,           1,           1,           1,           1,           1,           1,           1,           1,           1,           1,           1,           1,\n",
      "                  1,           1,           1,           1,           1,           1,           1,           1,           1,           1,           1,           1,           1,           1,           1,           1,           1,           1,           1,           1,           1,           1,           1,\n",
      "                  1,           1,           1,           1,           1,           1,           1,           1,           1,           1,           1]]), 'Confidence', 'Precision'], [array([          0,    0.001001,    0.002002,    0.003003,    0.004004,    0.005005,    0.006006,    0.007007,    0.008008,    0.009009,     0.01001,    0.011011,    0.012012,    0.013013,    0.014014,    0.015015,    0.016016,    0.017017,    0.018018,    0.019019,     0.02002,    0.021021,    0.022022,    0.023023,\n",
      "          0.024024,    0.025025,    0.026026,    0.027027,    0.028028,    0.029029,     0.03003,    0.031031,    0.032032,    0.033033,    0.034034,    0.035035,    0.036036,    0.037037,    0.038038,    0.039039,     0.04004,    0.041041,    0.042042,    0.043043,    0.044044,    0.045045,    0.046046,    0.047047,\n",
      "          0.048048,    0.049049,     0.05005,    0.051051,    0.052052,    0.053053,    0.054054,    0.055055,    0.056056,    0.057057,    0.058058,    0.059059,     0.06006,    0.061061,    0.062062,    0.063063,    0.064064,    0.065065,    0.066066,    0.067067,    0.068068,    0.069069,     0.07007,    0.071071,\n",
      "          0.072072,    0.073073,    0.074074,    0.075075,    0.076076,    0.077077,    0.078078,    0.079079,     0.08008,    0.081081,    0.082082,    0.083083,    0.084084,    0.085085,    0.086086,    0.087087,    0.088088,    0.089089,     0.09009,    0.091091,    0.092092,    0.093093,    0.094094,    0.095095,\n",
      "          0.096096,    0.097097,    0.098098,    0.099099,      0.1001,      0.1011,      0.1021,      0.1031,      0.1041,     0.10511,     0.10611,     0.10711,     0.10811,     0.10911,     0.11011,     0.11111,     0.11211,     0.11311,     0.11411,     0.11512,     0.11612,     0.11712,     0.11812,     0.11912,\n",
      "           0.12012,     0.12112,     0.12212,     0.12312,     0.12412,     0.12513,     0.12613,     0.12713,     0.12813,     0.12913,     0.13013,     0.13113,     0.13213,     0.13313,     0.13413,     0.13514,     0.13614,     0.13714,     0.13814,     0.13914,     0.14014,     0.14114,     0.14214,     0.14314,\n",
      "           0.14414,     0.14515,     0.14615,     0.14715,     0.14815,     0.14915,     0.15015,     0.15115,     0.15215,     0.15315,     0.15415,     0.15516,     0.15616,     0.15716,     0.15816,     0.15916,     0.16016,     0.16116,     0.16216,     0.16316,     0.16416,     0.16517,     0.16617,     0.16717,\n",
      "           0.16817,     0.16917,     0.17017,     0.17117,     0.17217,     0.17317,     0.17417,     0.17518,     0.17618,     0.17718,     0.17818,     0.17918,     0.18018,     0.18118,     0.18218,     0.18318,     0.18418,     0.18519,     0.18619,     0.18719,     0.18819,     0.18919,     0.19019,     0.19119,\n",
      "           0.19219,     0.19319,     0.19419,      0.1952,      0.1962,      0.1972,      0.1982,      0.1992,      0.2002,      0.2012,      0.2022,      0.2032,      0.2042,     0.20521,     0.20621,     0.20721,     0.20821,     0.20921,     0.21021,     0.21121,     0.21221,     0.21321,     0.21421,     0.21522,\n",
      "           0.21622,     0.21722,     0.21822,     0.21922,     0.22022,     0.22122,     0.22222,     0.22322,     0.22422,     0.22523,     0.22623,     0.22723,     0.22823,     0.22923,     0.23023,     0.23123,     0.23223,     0.23323,     0.23423,     0.23524,     0.23624,     0.23724,     0.23824,     0.23924,\n",
      "           0.24024,     0.24124,     0.24224,     0.24324,     0.24424,     0.24525,     0.24625,     0.24725,     0.24825,     0.24925,     0.25025,     0.25125,     0.25225,     0.25325,     0.25425,     0.25526,     0.25626,     0.25726,     0.25826,     0.25926,     0.26026,     0.26126,     0.26226,     0.26326,\n",
      "           0.26426,     0.26527,     0.26627,     0.26727,     0.26827,     0.26927,     0.27027,     0.27127,     0.27227,     0.27327,     0.27427,     0.27528,     0.27628,     0.27728,     0.27828,     0.27928,     0.28028,     0.28128,     0.28228,     0.28328,     0.28428,     0.28529,     0.28629,     0.28729,\n",
      "           0.28829,     0.28929,     0.29029,     0.29129,     0.29229,     0.29329,     0.29429,      0.2953,      0.2963,      0.2973,      0.2983,      0.2993,      0.3003,      0.3013,      0.3023,      0.3033,      0.3043,     0.30531,     0.30631,     0.30731,     0.30831,     0.30931,     0.31031,     0.31131,\n",
      "           0.31231,     0.31331,     0.31431,     0.31532,     0.31632,     0.31732,     0.31832,     0.31932,     0.32032,     0.32132,     0.32232,     0.32332,     0.32432,     0.32533,     0.32633,     0.32733,     0.32833,     0.32933,     0.33033,     0.33133,     0.33233,     0.33333,     0.33433,     0.33534,\n",
      "           0.33634,     0.33734,     0.33834,     0.33934,     0.34034,     0.34134,     0.34234,     0.34334,     0.34434,     0.34535,     0.34635,     0.34735,     0.34835,     0.34935,     0.35035,     0.35135,     0.35235,     0.35335,     0.35435,     0.35536,     0.35636,     0.35736,     0.35836,     0.35936,\n",
      "           0.36036,     0.36136,     0.36236,     0.36336,     0.36436,     0.36537,     0.36637,     0.36737,     0.36837,     0.36937,     0.37037,     0.37137,     0.37237,     0.37337,     0.37437,     0.37538,     0.37638,     0.37738,     0.37838,     0.37938,     0.38038,     0.38138,     0.38238,     0.38338,\n",
      "           0.38438,     0.38539,     0.38639,     0.38739,     0.38839,     0.38939,     0.39039,     0.39139,     0.39239,     0.39339,     0.39439,      0.3954,      0.3964,      0.3974,      0.3984,      0.3994,      0.4004,      0.4014,      0.4024,      0.4034,      0.4044,     0.40541,     0.40641,     0.40741,\n",
      "           0.40841,     0.40941,     0.41041,     0.41141,     0.41241,     0.41341,     0.41441,     0.41542,     0.41642,     0.41742,     0.41842,     0.41942,     0.42042,     0.42142,     0.42242,     0.42342,     0.42442,     0.42543,     0.42643,     0.42743,     0.42843,     0.42943,     0.43043,     0.43143,\n",
      "           0.43243,     0.43343,     0.43443,     0.43544,     0.43644,     0.43744,     0.43844,     0.43944,     0.44044,     0.44144,     0.44244,     0.44344,     0.44444,     0.44545,     0.44645,     0.44745,     0.44845,     0.44945,     0.45045,     0.45145,     0.45245,     0.45345,     0.45445,     0.45546,\n",
      "           0.45646,     0.45746,     0.45846,     0.45946,     0.46046,     0.46146,     0.46246,     0.46346,     0.46446,     0.46547,     0.46647,     0.46747,     0.46847,     0.46947,     0.47047,     0.47147,     0.47247,     0.47347,     0.47447,     0.47548,     0.47648,     0.47748,     0.47848,     0.47948,\n",
      "           0.48048,     0.48148,     0.48248,     0.48348,     0.48448,     0.48549,     0.48649,     0.48749,     0.48849,     0.48949,     0.49049,     0.49149,     0.49249,     0.49349,     0.49449,      0.4955,      0.4965,      0.4975,      0.4985,      0.4995,      0.5005,      0.5015,      0.5025,      0.5035,\n",
      "            0.5045,     0.50551,     0.50651,     0.50751,     0.50851,     0.50951,     0.51051,     0.51151,     0.51251,     0.51351,     0.51451,     0.51552,     0.51652,     0.51752,     0.51852,     0.51952,     0.52052,     0.52152,     0.52252,     0.52352,     0.52452,     0.52553,     0.52653,     0.52753,\n",
      "           0.52853,     0.52953,     0.53053,     0.53153,     0.53253,     0.53353,     0.53453,     0.53554,     0.53654,     0.53754,     0.53854,     0.53954,     0.54054,     0.54154,     0.54254,     0.54354,     0.54454,     0.54555,     0.54655,     0.54755,     0.54855,     0.54955,     0.55055,     0.55155,\n",
      "           0.55255,     0.55355,     0.55455,     0.55556,     0.55656,     0.55756,     0.55856,     0.55956,     0.56056,     0.56156,     0.56256,     0.56356,     0.56456,     0.56557,     0.56657,     0.56757,     0.56857,     0.56957,     0.57057,     0.57157,     0.57257,     0.57357,     0.57457,     0.57558,\n",
      "           0.57658,     0.57758,     0.57858,     0.57958,     0.58058,     0.58158,     0.58258,     0.58358,     0.58458,     0.58559,     0.58659,     0.58759,     0.58859,     0.58959,     0.59059,     0.59159,     0.59259,     0.59359,     0.59459,      0.5956,      0.5966,      0.5976,      0.5986,      0.5996,\n",
      "            0.6006,      0.6016,      0.6026,      0.6036,      0.6046,     0.60561,     0.60661,     0.60761,     0.60861,     0.60961,     0.61061,     0.61161,     0.61261,     0.61361,     0.61461,     0.61562,     0.61662,     0.61762,     0.61862,     0.61962,     0.62062,     0.62162,     0.62262,     0.62362,\n",
      "           0.62462,     0.62563,     0.62663,     0.62763,     0.62863,     0.62963,     0.63063,     0.63163,     0.63263,     0.63363,     0.63463,     0.63564,     0.63664,     0.63764,     0.63864,     0.63964,     0.64064,     0.64164,     0.64264,     0.64364,     0.64464,     0.64565,     0.64665,     0.64765,\n",
      "           0.64865,     0.64965,     0.65065,     0.65165,     0.65265,     0.65365,     0.65465,     0.65566,     0.65666,     0.65766,     0.65866,     0.65966,     0.66066,     0.66166,     0.66266,     0.66366,     0.66466,     0.66567,     0.66667,     0.66767,     0.66867,     0.66967,     0.67067,     0.67167,\n",
      "           0.67267,     0.67367,     0.67467,     0.67568,     0.67668,     0.67768,     0.67868,     0.67968,     0.68068,     0.68168,     0.68268,     0.68368,     0.68468,     0.68569,     0.68669,     0.68769,     0.68869,     0.68969,     0.69069,     0.69169,     0.69269,     0.69369,     0.69469,      0.6957,\n",
      "            0.6967,      0.6977,      0.6987,      0.6997,      0.7007,      0.7017,      0.7027,      0.7037,      0.7047,     0.70571,     0.70671,     0.70771,     0.70871,     0.70971,     0.71071,     0.71171,     0.71271,     0.71371,     0.71471,     0.71572,     0.71672,     0.71772,     0.71872,     0.71972,\n",
      "           0.72072,     0.72172,     0.72272,     0.72372,     0.72472,     0.72573,     0.72673,     0.72773,     0.72873,     0.72973,     0.73073,     0.73173,     0.73273,     0.73373,     0.73473,     0.73574,     0.73674,     0.73774,     0.73874,     0.73974,     0.74074,     0.74174,     0.74274,     0.74374,\n",
      "           0.74474,     0.74575,     0.74675,     0.74775,     0.74875,     0.74975,     0.75075,     0.75175,     0.75275,     0.75375,     0.75475,     0.75576,     0.75676,     0.75776,     0.75876,     0.75976,     0.76076,     0.76176,     0.76276,     0.76376,     0.76476,     0.76577,     0.76677,     0.76777,\n",
      "           0.76877,     0.76977,     0.77077,     0.77177,     0.77277,     0.77377,     0.77477,     0.77578,     0.77678,     0.77778,     0.77878,     0.77978,     0.78078,     0.78178,     0.78278,     0.78378,     0.78478,     0.78579,     0.78679,     0.78779,     0.78879,     0.78979,     0.79079,     0.79179,\n",
      "           0.79279,     0.79379,     0.79479,      0.7958,      0.7968,      0.7978,      0.7988,      0.7998,      0.8008,      0.8018,      0.8028,      0.8038,      0.8048,     0.80581,     0.80681,     0.80781,     0.80881,     0.80981,     0.81081,     0.81181,     0.81281,     0.81381,     0.81481,     0.81582,\n",
      "           0.81682,     0.81782,     0.81882,     0.81982,     0.82082,     0.82182,     0.82282,     0.82382,     0.82482,     0.82583,     0.82683,     0.82783,     0.82883,     0.82983,     0.83083,     0.83183,     0.83283,     0.83383,     0.83483,     0.83584,     0.83684,     0.83784,     0.83884,     0.83984,\n",
      "           0.84084,     0.84184,     0.84284,     0.84384,     0.84484,     0.84585,     0.84685,     0.84785,     0.84885,     0.84985,     0.85085,     0.85185,     0.85285,     0.85385,     0.85485,     0.85586,     0.85686,     0.85786,     0.85886,     0.85986,     0.86086,     0.86186,     0.86286,     0.86386,\n",
      "           0.86486,     0.86587,     0.86687,     0.86787,     0.86887,     0.86987,     0.87087,     0.87187,     0.87287,     0.87387,     0.87487,     0.87588,     0.87688,     0.87788,     0.87888,     0.87988,     0.88088,     0.88188,     0.88288,     0.88388,     0.88488,     0.88589,     0.88689,     0.88789,\n",
      "           0.88889,     0.88989,     0.89089,     0.89189,     0.89289,     0.89389,     0.89489,      0.8959,      0.8969,      0.8979,      0.8989,      0.8999,      0.9009,      0.9019,      0.9029,      0.9039,      0.9049,     0.90591,     0.90691,     0.90791,     0.90891,     0.90991,     0.91091,     0.91191,\n",
      "           0.91291,     0.91391,     0.91491,     0.91592,     0.91692,     0.91792,     0.91892,     0.91992,     0.92092,     0.92192,     0.92292,     0.92392,     0.92492,     0.92593,     0.92693,     0.92793,     0.92893,     0.92993,     0.93093,     0.93193,     0.93293,     0.93393,     0.93493,     0.93594,\n",
      "           0.93694,     0.93794,     0.93894,     0.93994,     0.94094,     0.94194,     0.94294,     0.94394,     0.94494,     0.94595,     0.94695,     0.94795,     0.94895,     0.94995,     0.95095,     0.95195,     0.95295,     0.95395,     0.95495,     0.95596,     0.95696,     0.95796,     0.95896,     0.95996,\n",
      "           0.96096,     0.96196,     0.96296,     0.96396,     0.96496,     0.96597,     0.96697,     0.96797,     0.96897,     0.96997,     0.97097,     0.97197,     0.97297,     0.97397,     0.97497,     0.97598,     0.97698,     0.97798,     0.97898,     0.97998,     0.98098,     0.98198,     0.98298,     0.98398,\n",
      "           0.98498,     0.98599,     0.98699,     0.98799,     0.98899,     0.98999,     0.99099,     0.99199,     0.99299,     0.99399,     0.99499,       0.996,       0.997,       0.998,       0.999,           1]), array([[    0.99099,     0.99099,     0.99099,     0.99099,     0.99099,     0.99099,     0.99099,     0.99099,     0.99099,     0.99099,     0.99099,     0.99099,     0.99099,     0.99099,     0.99099,     0.99099,     0.99099,     0.99099,     0.99099,     0.99099,     0.99099,     0.99099,     0.99099,\n",
      "            0.99099,     0.99099,     0.99099,     0.99099,     0.99099,     0.99099,     0.99099,     0.99099,     0.99099,     0.99099,     0.99099,     0.99099,     0.99099,     0.99099,     0.99099,     0.99099,     0.99099,     0.99099,     0.99099,     0.99099,     0.99099,     0.99099,     0.99099,\n",
      "            0.99099,     0.99099,     0.99099,     0.99099,     0.99099,     0.99099,     0.99099,     0.99099,     0.99099,     0.99099,     0.99099,     0.99099,     0.99099,     0.99099,     0.99099,     0.99099,     0.99099,     0.99099,     0.99099,     0.99099,     0.99099,     0.99099,     0.99099,\n",
      "            0.99099,     0.99099,     0.99099,     0.99099,     0.99099,     0.99099,     0.99099,     0.99099,     0.99099,     0.99099,     0.99099,     0.99099,     0.99099,     0.99099,     0.99099,     0.99099,     0.99099,     0.99099,     0.99099,     0.99099,     0.99099,     0.99099,     0.99099,\n",
      "            0.99099,     0.99099,     0.99099,     0.99099,     0.99099,     0.99099,     0.99099,     0.99099,     0.99099,     0.99099,     0.99099,     0.99099,     0.99099,     0.99099,     0.99099,     0.99099,     0.99099,     0.99099,     0.99099,     0.99099,     0.99099,     0.99099,     0.99099,\n",
      "            0.99099,     0.99099,     0.99099,     0.99099,     0.99099,     0.99099,     0.99099,     0.99099,     0.99099,     0.99099,     0.99099,     0.99099,     0.99099,     0.99099,     0.99099,     0.99099,     0.99099,     0.99099,     0.99099,     0.99099,     0.99099,     0.99099,     0.99099,\n",
      "            0.99099,     0.99099,     0.99099,     0.99099,     0.99099,     0.99099,     0.99099,     0.99099,     0.99099,     0.99099,     0.99099,     0.99099,     0.99099,     0.99099,     0.99099,     0.99099,     0.99099,     0.99099,     0.99099,     0.99099,     0.99099,     0.99099,     0.99099,\n",
      "            0.99099,     0.99099,     0.99099,     0.99099,     0.99099,     0.99099,     0.99099,     0.99099,     0.99099,     0.99099,     0.99099,     0.99099,     0.99099,     0.99099,     0.99099,     0.99099,     0.99099,     0.99099,     0.99099,     0.99099,     0.99099,     0.99099,     0.99099,\n",
      "            0.99099,     0.99099,     0.99099,     0.99099,     0.99099,     0.99099,     0.99099,     0.99099,     0.99099,     0.99099,     0.99099,     0.99099,     0.99099,     0.99099,     0.99099,     0.99099,     0.99099,     0.99099,     0.99099,     0.99099,     0.99099,     0.99099,     0.99099,\n",
      "            0.99099,     0.99099,     0.99099,     0.99099,     0.99099,     0.99099,     0.99099,     0.99099,     0.99099,     0.99099,     0.99099,     0.99099,     0.99099,     0.99099,     0.99099,     0.99099,     0.99099,     0.99099,     0.99099,     0.99099,     0.99099,     0.99099,     0.99099,\n",
      "            0.99099,     0.99099,     0.99099,     0.99099,     0.99099,     0.99099,     0.99099,     0.99099,     0.99099,     0.99099,     0.99099,     0.99099,     0.99099,     0.99099,     0.99099,     0.99099,     0.99099,     0.99099,     0.99099,     0.99099,     0.99099,     0.99099,     0.99099,\n",
      "            0.99099,     0.99099,     0.99099,     0.99099,     0.99099,     0.99099,     0.99099,     0.99099,     0.99099,     0.99099,     0.99099,     0.99099,     0.99099,     0.99099,     0.99099,     0.99099,     0.99099,     0.99099,     0.99099,     0.99099,     0.99099,     0.99099,     0.99099,\n",
      "            0.99099,     0.99099,     0.99099,     0.99099,     0.99099,     0.99099,     0.99099,     0.99099,     0.99099,     0.99099,     0.99099,     0.99099,     0.99099,     0.99099,     0.99099,     0.99099,     0.99099,     0.99099,     0.99099,     0.99099,     0.99099,     0.99099,     0.99099,\n",
      "            0.99099,     0.99099,     0.99099,     0.99099,     0.99099,     0.99099,     0.99099,     0.99099,     0.99099,     0.99099,     0.99099,     0.99099,     0.99099,     0.99099,     0.99099,     0.99099,     0.99099,     0.99099,     0.99099,     0.99099,     0.99099,     0.99099,     0.99099,\n",
      "            0.99099,     0.99099,     0.99099,     0.99099,     0.99099,     0.99099,     0.99099,     0.99099,     0.99099,     0.99099,     0.99099,     0.99099,     0.99099,     0.99099,     0.99099,     0.99099,     0.99099,     0.99099,     0.99099,     0.99099,     0.99099,     0.99099,     0.99099,\n",
      "            0.99099,     0.99099,     0.99099,     0.99099,     0.99099,     0.99099,     0.99099,     0.99099,     0.99099,     0.99099,     0.99099,     0.99099,     0.99099,     0.99099,     0.99099,     0.99099,     0.99099,     0.99099,     0.99099,     0.99099,     0.99099,     0.99099,     0.99099,\n",
      "            0.99099,     0.99099,     0.99099,     0.99099,     0.99099,     0.99099,     0.99099,     0.99099,     0.99099,     0.99099,     0.99099,     0.99099,     0.99099,     0.99099,     0.99099,     0.99099,     0.99099,     0.99099,     0.99099,     0.99099,     0.99099,     0.99099,     0.99099,\n",
      "            0.99099,     0.99099,     0.99099,     0.99099,     0.99099,     0.99099,     0.99099,     0.99099,     0.99099,     0.99099,     0.99099,     0.99099,     0.99099,     0.99099,     0.99099,     0.99099,     0.99099,     0.99099,     0.99099,     0.99099,     0.99099,     0.99099,     0.99099,\n",
      "            0.99099,     0.99099,     0.99099,     0.99099,     0.99099,     0.99099,     0.99099,     0.99099,     0.99099,     0.99099,     0.99099,     0.99099,     0.99099,     0.99099,     0.99099,     0.99099,     0.99099,     0.99099,     0.99099,     0.99099,     0.99099,     0.99099,     0.99099,\n",
      "            0.99099,     0.99099,     0.99099,     0.99099,     0.99099,     0.99099,     0.99099,     0.99099,     0.99099,     0.99099,     0.99099,     0.99099,     0.99099,     0.99099,     0.99099,     0.99099,     0.99099,     0.99099,     0.99099,     0.99099,     0.99099,     0.99099,     0.99099,\n",
      "            0.99099,     0.99099,     0.99099,     0.99099,     0.99099,     0.99099,     0.99099,     0.99099,     0.99099,     0.99099,     0.99099,     0.99099,     0.99099,     0.99099,     0.99099,     0.99099,     0.99099,     0.99099,     0.99099,     0.99099,     0.99099,     0.99099,     0.99099,\n",
      "            0.99099,     0.99099,     0.99099,     0.99099,     0.99099,     0.99099,     0.99099,     0.99099,     0.99099,     0.99099,     0.99099,     0.99099,     0.99099,     0.99099,     0.99099,     0.99099,     0.99099,     0.99099,     0.99099,     0.99099,     0.99099,     0.99099,     0.99099,\n",
      "            0.99099,     0.99099,     0.99099,     0.99099,     0.99099,     0.99099,     0.99099,     0.99099,     0.99099,     0.99099,     0.99099,     0.99099,     0.99099,     0.99099,     0.99099,     0.99099,     0.99099,     0.99099,     0.99099,     0.99099,     0.99099,     0.99099,     0.99099,\n",
      "            0.99099,     0.99099,     0.99099,     0.99099,     0.99099,     0.99099,     0.99099,     0.99099,     0.99099,     0.99099,     0.99099,     0.99099,     0.99099,     0.99099,     0.99099,     0.99099,     0.99099,     0.99099,     0.99099,     0.99099,     0.99099,     0.99099,     0.99099,\n",
      "            0.99099,     0.99099,     0.99099,     0.99099,     0.99099,     0.99099,     0.99099,     0.99099,     0.99099,     0.99099,     0.99099,     0.99099,     0.99099,     0.99099,     0.99099,     0.99099,     0.99099,     0.99099,     0.99099,     0.99099,     0.99099,     0.99099,     0.99099,\n",
      "            0.99099,     0.99099,     0.99099,     0.99099,     0.99099,     0.99099,     0.99099,     0.99099,     0.99099,     0.99099,     0.99099,     0.99099,     0.99099,     0.99099,     0.99099,     0.99099,     0.99099,     0.99099,     0.99099,     0.99099,     0.99099,     0.99099,     0.99099,\n",
      "            0.99099,     0.99099,     0.99099,     0.99099,     0.99099,     0.99099,     0.99099,     0.99099,     0.99099,     0.99099,     0.99099,     0.99099,     0.99099,     0.99099,     0.99099,     0.99099,     0.99099,     0.99099,     0.99099,     0.99099,     0.99099,     0.99099,     0.99099,\n",
      "            0.99099,     0.99099,     0.99099,     0.99099,     0.99099,     0.99099,     0.99099,     0.99099,     0.99099,     0.99099,     0.99099,     0.99099,     0.99099,     0.99099,     0.99099,     0.99099,     0.99099,     0.99099,     0.99099,     0.99099,     0.99099,     0.99099,     0.99099,\n",
      "            0.99099,     0.99099,     0.99099,     0.99099,     0.99099,     0.99099,     0.99099,     0.99099,     0.99099,     0.99099,     0.99099,     0.99099,     0.99099,     0.99099,     0.99099,     0.99099,     0.99099,     0.99099,     0.99099,     0.99099,     0.99099,     0.99099,     0.99099,\n",
      "            0.99099,     0.99099,     0.99099,     0.99099,     0.99099,     0.99099,     0.99099,     0.99099,     0.99099,     0.99099,     0.99099,     0.99099,     0.99099,     0.99099,     0.99099,     0.99099,     0.99099,     0.99099,     0.99099,     0.99099,     0.99099,     0.99099,     0.99099,\n",
      "            0.99099,     0.99099,     0.99099,     0.99099,     0.99099,     0.99099,     0.99099,     0.99099,     0.99099,     0.99099,     0.99099,     0.99099,     0.99099,     0.99099,     0.99099,     0.99099,     0.99099,     0.99099,     0.99099,     0.99099,     0.99099,     0.99099,     0.99099,\n",
      "            0.99099,     0.99099,     0.99099,     0.99099,     0.99099,     0.99099,     0.99099,     0.99099,     0.99099,     0.99099,     0.99099,     0.99099,     0.99099,     0.99099,     0.99099,     0.99099,     0.99099,     0.99099,     0.99099,     0.99099,     0.99099,     0.99099,     0.99099,\n",
      "            0.99099,     0.99099,     0.99099,     0.99099,     0.99099,     0.99099,     0.99099,     0.99099,     0.99099,     0.99099,     0.99099,     0.99099,     0.99099,     0.99099,     0.99099,     0.99099,     0.99099,     0.99099,     0.99099,     0.99099,     0.99099,     0.99099,     0.99099,\n",
      "            0.99099,     0.99099,     0.99092,     0.99075,     0.99057,      0.9904,     0.99022,     0.99005,     0.98987,     0.98969,     0.98952,     0.98934,     0.98917,     0.98899,     0.98881,     0.98864,     0.98846,     0.98829,     0.98811,     0.98794,     0.98776,     0.98758,     0.98741,\n",
      "            0.98723,     0.98706,     0.98688,      0.9867,     0.98653,     0.98635,     0.98618,       0.986,     0.98583,     0.98565,     0.98547,      0.9853,     0.98512,     0.98495,     0.98477,     0.98459,     0.98442,     0.98424,     0.98407,     0.98389,     0.98372,     0.98354,     0.98336,\n",
      "            0.98319,     0.98301,     0.98284,     0.98266,     0.98248,     0.98231,     0.98213,     0.98179,     0.98043,     0.97907,     0.97772,     0.97636,       0.975,     0.97364,     0.97199,     0.97005,     0.96811,     0.96617,     0.96423,     0.96319,     0.96228,     0.96138,     0.96047,\n",
      "            0.95957,     0.95867,     0.95776,     0.95686,     0.95595,     0.95505,     0.95376,     0.95243,      0.9511,     0.94977,     0.94844,     0.94711,     0.94579,     0.94448,     0.94317,     0.94187,     0.94056,     0.93925,     0.93795,     0.93634,      0.9337,     0.93106,     0.92842,\n",
      "            0.92764,     0.92728,     0.92692,     0.92656,     0.92621,     0.92585,     0.92549,     0.92513,     0.92478,     0.92442,     0.92406,      0.9237,     0.92334,     0.92299,     0.92263,     0.92227,     0.92191,     0.92156,      0.9212,     0.92084,     0.92048,     0.92012,     0.91977,\n",
      "            0.91941,     0.91905,     0.91712,     0.91427,     0.91142,     0.90523,     0.90028,     0.89918,     0.89808,     0.89698,     0.89589,     0.89479,     0.89369,     0.89259,     0.89037,     0.88621,      0.8778,     0.86834,     0.86154,     0.85336,     0.81611,     0.79647,     0.78835,\n",
      "            0.77577,     0.75155,     0.74184,     0.72747,     0.72103,     0.71367,     0.70533,     0.68527,     0.67098,     0.66069,      0.6365,     0.62253,     0.61415,     0.59803,     0.54387,     0.51923,     0.50886,     0.49704,     0.47949,     0.46003,     0.43157,     0.41833,     0.39021,\n",
      "             0.3596,     0.31393,     0.30865,     0.30202,     0.28719,     0.28377,     0.28036,     0.27189,     0.24962,     0.24253,     0.23632,        0.22,      0.1866,     0.16845,      0.1583,     0.14949,     0.13279,     0.12756,     0.11341,     0.10598,    0.092745,    0.081649,    0.079018,\n",
      "           0.076834,     0.07465,    0.072466,    0.063305,    0.052857,    0.050561,    0.048265,    0.045969,     0.04273,    0.038855,    0.034973,    0.031072,    0.027171,     0.02264,    0.018084,           0,           0,           0,           0,           0,           0,           0,           0,\n",
      "                  0,           0,           0,           0,           0,           0,           0,           0,           0,           0,           0,           0,           0,           0,           0,           0,           0,           0,           0,           0,           0,           0,           0,\n",
      "                  0,           0,           0,           0,           0,           0,           0,           0,           0,           0,           0]]), 'Confidence', 'Recall'], [array([          0,    0.001001,    0.002002,    0.003003,    0.004004,    0.005005,    0.006006,    0.007007,    0.008008,    0.009009,     0.01001,    0.011011,    0.012012,    0.013013,    0.014014,    0.015015,    0.016016,    0.017017,    0.018018,    0.019019,     0.02002,    0.021021,    0.022022,    0.023023,\n",
      "          0.024024,    0.025025,    0.026026,    0.027027,    0.028028,    0.029029,     0.03003,    0.031031,    0.032032,    0.033033,    0.034034,    0.035035,    0.036036,    0.037037,    0.038038,    0.039039,     0.04004,    0.041041,    0.042042,    0.043043,    0.044044,    0.045045,    0.046046,    0.047047,\n",
      "          0.048048,    0.049049,     0.05005,    0.051051,    0.052052,    0.053053,    0.054054,    0.055055,    0.056056,    0.057057,    0.058058,    0.059059,     0.06006,    0.061061,    0.062062,    0.063063,    0.064064,    0.065065,    0.066066,    0.067067,    0.068068,    0.069069,     0.07007,    0.071071,\n",
      "          0.072072,    0.073073,    0.074074,    0.075075,    0.076076,    0.077077,    0.078078,    0.079079,     0.08008,    0.081081,    0.082082,    0.083083,    0.084084,    0.085085,    0.086086,    0.087087,    0.088088,    0.089089,     0.09009,    0.091091,    0.092092,    0.093093,    0.094094,    0.095095,\n",
      "          0.096096,    0.097097,    0.098098,    0.099099,      0.1001,      0.1011,      0.1021,      0.1031,      0.1041,     0.10511,     0.10611,     0.10711,     0.10811,     0.10911,     0.11011,     0.11111,     0.11211,     0.11311,     0.11411,     0.11512,     0.11612,     0.11712,     0.11812,     0.11912,\n",
      "           0.12012,     0.12112,     0.12212,     0.12312,     0.12412,     0.12513,     0.12613,     0.12713,     0.12813,     0.12913,     0.13013,     0.13113,     0.13213,     0.13313,     0.13413,     0.13514,     0.13614,     0.13714,     0.13814,     0.13914,     0.14014,     0.14114,     0.14214,     0.14314,\n",
      "           0.14414,     0.14515,     0.14615,     0.14715,     0.14815,     0.14915,     0.15015,     0.15115,     0.15215,     0.15315,     0.15415,     0.15516,     0.15616,     0.15716,     0.15816,     0.15916,     0.16016,     0.16116,     0.16216,     0.16316,     0.16416,     0.16517,     0.16617,     0.16717,\n",
      "           0.16817,     0.16917,     0.17017,     0.17117,     0.17217,     0.17317,     0.17417,     0.17518,     0.17618,     0.17718,     0.17818,     0.17918,     0.18018,     0.18118,     0.18218,     0.18318,     0.18418,     0.18519,     0.18619,     0.18719,     0.18819,     0.18919,     0.19019,     0.19119,\n",
      "           0.19219,     0.19319,     0.19419,      0.1952,      0.1962,      0.1972,      0.1982,      0.1992,      0.2002,      0.2012,      0.2022,      0.2032,      0.2042,     0.20521,     0.20621,     0.20721,     0.20821,     0.20921,     0.21021,     0.21121,     0.21221,     0.21321,     0.21421,     0.21522,\n",
      "           0.21622,     0.21722,     0.21822,     0.21922,     0.22022,     0.22122,     0.22222,     0.22322,     0.22422,     0.22523,     0.22623,     0.22723,     0.22823,     0.22923,     0.23023,     0.23123,     0.23223,     0.23323,     0.23423,     0.23524,     0.23624,     0.23724,     0.23824,     0.23924,\n",
      "           0.24024,     0.24124,     0.24224,     0.24324,     0.24424,     0.24525,     0.24625,     0.24725,     0.24825,     0.24925,     0.25025,     0.25125,     0.25225,     0.25325,     0.25425,     0.25526,     0.25626,     0.25726,     0.25826,     0.25926,     0.26026,     0.26126,     0.26226,     0.26326,\n",
      "           0.26426,     0.26527,     0.26627,     0.26727,     0.26827,     0.26927,     0.27027,     0.27127,     0.27227,     0.27327,     0.27427,     0.27528,     0.27628,     0.27728,     0.27828,     0.27928,     0.28028,     0.28128,     0.28228,     0.28328,     0.28428,     0.28529,     0.28629,     0.28729,\n",
      "           0.28829,     0.28929,     0.29029,     0.29129,     0.29229,     0.29329,     0.29429,      0.2953,      0.2963,      0.2973,      0.2983,      0.2993,      0.3003,      0.3013,      0.3023,      0.3033,      0.3043,     0.30531,     0.30631,     0.30731,     0.30831,     0.30931,     0.31031,     0.31131,\n",
      "           0.31231,     0.31331,     0.31431,     0.31532,     0.31632,     0.31732,     0.31832,     0.31932,     0.32032,     0.32132,     0.32232,     0.32332,     0.32432,     0.32533,     0.32633,     0.32733,     0.32833,     0.32933,     0.33033,     0.33133,     0.33233,     0.33333,     0.33433,     0.33534,\n",
      "           0.33634,     0.33734,     0.33834,     0.33934,     0.34034,     0.34134,     0.34234,     0.34334,     0.34434,     0.34535,     0.34635,     0.34735,     0.34835,     0.34935,     0.35035,     0.35135,     0.35235,     0.35335,     0.35435,     0.35536,     0.35636,     0.35736,     0.35836,     0.35936,\n",
      "           0.36036,     0.36136,     0.36236,     0.36336,     0.36436,     0.36537,     0.36637,     0.36737,     0.36837,     0.36937,     0.37037,     0.37137,     0.37237,     0.37337,     0.37437,     0.37538,     0.37638,     0.37738,     0.37838,     0.37938,     0.38038,     0.38138,     0.38238,     0.38338,\n",
      "           0.38438,     0.38539,     0.38639,     0.38739,     0.38839,     0.38939,     0.39039,     0.39139,     0.39239,     0.39339,     0.39439,      0.3954,      0.3964,      0.3974,      0.3984,      0.3994,      0.4004,      0.4014,      0.4024,      0.4034,      0.4044,     0.40541,     0.40641,     0.40741,\n",
      "           0.40841,     0.40941,     0.41041,     0.41141,     0.41241,     0.41341,     0.41441,     0.41542,     0.41642,     0.41742,     0.41842,     0.41942,     0.42042,     0.42142,     0.42242,     0.42342,     0.42442,     0.42543,     0.42643,     0.42743,     0.42843,     0.42943,     0.43043,     0.43143,\n",
      "           0.43243,     0.43343,     0.43443,     0.43544,     0.43644,     0.43744,     0.43844,     0.43944,     0.44044,     0.44144,     0.44244,     0.44344,     0.44444,     0.44545,     0.44645,     0.44745,     0.44845,     0.44945,     0.45045,     0.45145,     0.45245,     0.45345,     0.45445,     0.45546,\n",
      "           0.45646,     0.45746,     0.45846,     0.45946,     0.46046,     0.46146,     0.46246,     0.46346,     0.46446,     0.46547,     0.46647,     0.46747,     0.46847,     0.46947,     0.47047,     0.47147,     0.47247,     0.47347,     0.47447,     0.47548,     0.47648,     0.47748,     0.47848,     0.47948,\n",
      "           0.48048,     0.48148,     0.48248,     0.48348,     0.48448,     0.48549,     0.48649,     0.48749,     0.48849,     0.48949,     0.49049,     0.49149,     0.49249,     0.49349,     0.49449,      0.4955,      0.4965,      0.4975,      0.4985,      0.4995,      0.5005,      0.5015,      0.5025,      0.5035,\n",
      "            0.5045,     0.50551,     0.50651,     0.50751,     0.50851,     0.50951,     0.51051,     0.51151,     0.51251,     0.51351,     0.51451,     0.51552,     0.51652,     0.51752,     0.51852,     0.51952,     0.52052,     0.52152,     0.52252,     0.52352,     0.52452,     0.52553,     0.52653,     0.52753,\n",
      "           0.52853,     0.52953,     0.53053,     0.53153,     0.53253,     0.53353,     0.53453,     0.53554,     0.53654,     0.53754,     0.53854,     0.53954,     0.54054,     0.54154,     0.54254,     0.54354,     0.54454,     0.54555,     0.54655,     0.54755,     0.54855,     0.54955,     0.55055,     0.55155,\n",
      "           0.55255,     0.55355,     0.55455,     0.55556,     0.55656,     0.55756,     0.55856,     0.55956,     0.56056,     0.56156,     0.56256,     0.56356,     0.56456,     0.56557,     0.56657,     0.56757,     0.56857,     0.56957,     0.57057,     0.57157,     0.57257,     0.57357,     0.57457,     0.57558,\n",
      "           0.57658,     0.57758,     0.57858,     0.57958,     0.58058,     0.58158,     0.58258,     0.58358,     0.58458,     0.58559,     0.58659,     0.58759,     0.58859,     0.58959,     0.59059,     0.59159,     0.59259,     0.59359,     0.59459,      0.5956,      0.5966,      0.5976,      0.5986,      0.5996,\n",
      "            0.6006,      0.6016,      0.6026,      0.6036,      0.6046,     0.60561,     0.60661,     0.60761,     0.60861,     0.60961,     0.61061,     0.61161,     0.61261,     0.61361,     0.61461,     0.61562,     0.61662,     0.61762,     0.61862,     0.61962,     0.62062,     0.62162,     0.62262,     0.62362,\n",
      "           0.62462,     0.62563,     0.62663,     0.62763,     0.62863,     0.62963,     0.63063,     0.63163,     0.63263,     0.63363,     0.63463,     0.63564,     0.63664,     0.63764,     0.63864,     0.63964,     0.64064,     0.64164,     0.64264,     0.64364,     0.64464,     0.64565,     0.64665,     0.64765,\n",
      "           0.64865,     0.64965,     0.65065,     0.65165,     0.65265,     0.65365,     0.65465,     0.65566,     0.65666,     0.65766,     0.65866,     0.65966,     0.66066,     0.66166,     0.66266,     0.66366,     0.66466,     0.66567,     0.66667,     0.66767,     0.66867,     0.66967,     0.67067,     0.67167,\n",
      "           0.67267,     0.67367,     0.67467,     0.67568,     0.67668,     0.67768,     0.67868,     0.67968,     0.68068,     0.68168,     0.68268,     0.68368,     0.68468,     0.68569,     0.68669,     0.68769,     0.68869,     0.68969,     0.69069,     0.69169,     0.69269,     0.69369,     0.69469,      0.6957,\n",
      "            0.6967,      0.6977,      0.6987,      0.6997,      0.7007,      0.7017,      0.7027,      0.7037,      0.7047,     0.70571,     0.70671,     0.70771,     0.70871,     0.70971,     0.71071,     0.71171,     0.71271,     0.71371,     0.71471,     0.71572,     0.71672,     0.71772,     0.71872,     0.71972,\n",
      "           0.72072,     0.72172,     0.72272,     0.72372,     0.72472,     0.72573,     0.72673,     0.72773,     0.72873,     0.72973,     0.73073,     0.73173,     0.73273,     0.73373,     0.73473,     0.73574,     0.73674,     0.73774,     0.73874,     0.73974,     0.74074,     0.74174,     0.74274,     0.74374,\n",
      "           0.74474,     0.74575,     0.74675,     0.74775,     0.74875,     0.74975,     0.75075,     0.75175,     0.75275,     0.75375,     0.75475,     0.75576,     0.75676,     0.75776,     0.75876,     0.75976,     0.76076,     0.76176,     0.76276,     0.76376,     0.76476,     0.76577,     0.76677,     0.76777,\n",
      "           0.76877,     0.76977,     0.77077,     0.77177,     0.77277,     0.77377,     0.77477,     0.77578,     0.77678,     0.77778,     0.77878,     0.77978,     0.78078,     0.78178,     0.78278,     0.78378,     0.78478,     0.78579,     0.78679,     0.78779,     0.78879,     0.78979,     0.79079,     0.79179,\n",
      "           0.79279,     0.79379,     0.79479,      0.7958,      0.7968,      0.7978,      0.7988,      0.7998,      0.8008,      0.8018,      0.8028,      0.8038,      0.8048,     0.80581,     0.80681,     0.80781,     0.80881,     0.80981,     0.81081,     0.81181,     0.81281,     0.81381,     0.81481,     0.81582,\n",
      "           0.81682,     0.81782,     0.81882,     0.81982,     0.82082,     0.82182,     0.82282,     0.82382,     0.82482,     0.82583,     0.82683,     0.82783,     0.82883,     0.82983,     0.83083,     0.83183,     0.83283,     0.83383,     0.83483,     0.83584,     0.83684,     0.83784,     0.83884,     0.83984,\n",
      "           0.84084,     0.84184,     0.84284,     0.84384,     0.84484,     0.84585,     0.84685,     0.84785,     0.84885,     0.84985,     0.85085,     0.85185,     0.85285,     0.85385,     0.85485,     0.85586,     0.85686,     0.85786,     0.85886,     0.85986,     0.86086,     0.86186,     0.86286,     0.86386,\n",
      "           0.86486,     0.86587,     0.86687,     0.86787,     0.86887,     0.86987,     0.87087,     0.87187,     0.87287,     0.87387,     0.87487,     0.87588,     0.87688,     0.87788,     0.87888,     0.87988,     0.88088,     0.88188,     0.88288,     0.88388,     0.88488,     0.88589,     0.88689,     0.88789,\n",
      "           0.88889,     0.88989,     0.89089,     0.89189,     0.89289,     0.89389,     0.89489,      0.8959,      0.8969,      0.8979,      0.8989,      0.8999,      0.9009,      0.9019,      0.9029,      0.9039,      0.9049,     0.90591,     0.90691,     0.90791,     0.90891,     0.90991,     0.91091,     0.91191,\n",
      "           0.91291,     0.91391,     0.91491,     0.91592,     0.91692,     0.91792,     0.91892,     0.91992,     0.92092,     0.92192,     0.92292,     0.92392,     0.92492,     0.92593,     0.92693,     0.92793,     0.92893,     0.92993,     0.93093,     0.93193,     0.93293,     0.93393,     0.93493,     0.93594,\n",
      "           0.93694,     0.93794,     0.93894,     0.93994,     0.94094,     0.94194,     0.94294,     0.94394,     0.94494,     0.94595,     0.94695,     0.94795,     0.94895,     0.94995,     0.95095,     0.95195,     0.95295,     0.95395,     0.95495,     0.95596,     0.95696,     0.95796,     0.95896,     0.95996,\n",
      "           0.96096,     0.96196,     0.96296,     0.96396,     0.96496,     0.96597,     0.96697,     0.96797,     0.96897,     0.96997,     0.97097,     0.97197,     0.97297,     0.97397,     0.97497,     0.97598,     0.97698,     0.97798,     0.97898,     0.97998,     0.98098,     0.98198,     0.98298,     0.98398,\n",
      "           0.98498,     0.98599,     0.98699,     0.98799,     0.98899,     0.98999,     0.99099,     0.99199,     0.99299,     0.99399,     0.99499,       0.996,       0.997,       0.998,       0.999,           1]), array([[          1,           1,           1,           1,           1,           1,           1,           1,           1,           1,           1,           1,           1,           1,           1,           1,           1,           1,           1,           1,           1,           1,           1,\n",
      "                  1,           1,           1,           1,           1,           1,           1,           1,           1,           1,           1,           1,           1,           1,           1,           1,           1,           1,           1,           1,           1,           1,           1,\n",
      "                  1,           1,           1,           1,           1,           1,           1,           1,           1,           1,           1,           1,           1,           1,           1,           1,           1,           1,           1,           1,           1,           1,           1,\n",
      "                  1,           1,           1,           1,           1,           1,           1,           1,           1,           1,           1,           1,           1,           1,           1,           1,           1,           1,           1,           1,           1,           1,           1,\n",
      "                  1,           1,           1,           1,           1,           1,           1,           1,           1,           1,           1,           1,           1,           1,           1,           1,           1,           1,           1,           1,           1,           1,           1,\n",
      "                  1,           1,           1,           1,           1,           1,           1,           1,           1,           1,           1,           1,           1,           1,           1,           1,           1,           1,           1,           1,           1,           1,           1,\n",
      "                  1,           1,           1,           1,           1,           1,           1,           1,           1,           1,           1,           1,           1,           1,           1,           1,           1,           1,           1,           1,           1,           1,           1,\n",
      "                  1,           1,           1,           1,           1,           1,           1,           1,           1,           1,           1,           1,           1,           1,           1,           1,           1,           1,           1,           1,           1,           1,           1,\n",
      "                  1,           1,           1,           1,           1,           1,           1,           1,           1,           1,           1,           1,           1,           1,           1,           1,           1,           1,           1,           1,           1,           1,           1,\n",
      "                  1,           1,           1,           1,           1,           1,           1,           1,           1,           1,           1,           1,           1,           1,           1,           1,           1,           1,           1,           1,           1,           1,           1,\n",
      "                  1,           1,           1,           1,           1,           1,           1,           1,           1,           1,           1,           1,           1,           1,           1,           1,           1,           1,           1,           1,           1,           1,           1,\n",
      "                  1,           1,           1,           1,           1,           1,           1,           1,           1,           1,           1,           1,           1,           1,           1,           1,           1,           1,           1,           1,           1,           1,           1,\n",
      "                  1,           1,           1,           1,           1,           1,           1,           1,           1,           1,           1,           1,           1,           1,           1,           1,           1,           1,           1,           1,           1,           1,           1,\n",
      "                  1,           1,           1,           1,           1,           1,           1,           1,           1,           1,           1,           1,           1,           1,           1,           1,           1,           1,           1,           1,           1,           1,           1,\n",
      "                  1,           1,           1,           1,           1,           1,           1,           1,           1,           1,           1,           1,           1,           1,           1,           1,           1,           1,           1,           1,           1,           1,           1,\n",
      "                  1,           1,           1,           1,           1,           1,           1,           1,           1,           1,           1,           1,           1,           1,           1,           1,           1,           1,           1,           1,           1,           1,           1,\n",
      "                  1,           1,           1,           1,           1,           1,           1,           1,           1,           1,           1,           1,           1,           1,           1,           1,           1,           1,           1,           1,           1,           1,           1,\n",
      "                  1,           1,           1,           1,           1,           1,           1,           1,           1,           1,           1,           1,           1,           1,           1,           1,           1,           1,           1,           1,           1,           1,           1,\n",
      "                  1,           1,           1,           1,           1,           1,           1,           1,           1,           1,           1,           1,           1,           1,           1,           1,           1,           1,           1,           1,           1,           1,           1,\n",
      "                  1,           1,           1,           1,           1,           1,           1,           1,           1,           1,           1,           1,           1,           1,           1,           1,           1,           1,           1,           1,           1,           1,           1,\n",
      "                  1,           1,           1,           1,           1,           1,           1,           1,           1,           1,           1,           1,           1,           1,           1,           1,           1,           1,           1,           1,           1,           1,           1,\n",
      "                  1,           1,           1,           1,           1,           1,           1,           1,           1,           1,           1,           1,           1,           1,           1,           1,           1,           1,           1,           1,           1,           1,           1,\n",
      "                  1,           1,           1,           1,           1,           1,           1,           1,           1,           1,           1,           1,           1,           1,           1,           1,           1,           1,           1,           1,           1,           1,           1,\n",
      "                  1,           1,           1,           1,           1,           1,           1,           1,           1,           1,           1,           1,           1,           1,           1,           1,           1,           1,           1,           1,           1,           1,           1,\n",
      "                  1,           1,           1,           1,           1,           1,           1,           1,           1,           1,           1,           1,           1,           1,           1,           1,           1,           1,           1,           1,           1,           1,           1,\n",
      "                  1,           1,           1,           1,           1,           1,           1,           1,           1,           1,           1,           1,           1,           1,           1,           1,           1,           1,           1,           1,           1,           1,           1,\n",
      "                  1,           1,           1,           1,           1,           1,           1,           1,           1,           1,           1,           1,           1,           1,           1,           1,           1,           1,           1,           1,           1,           1,           1,\n",
      "                  1,           1,           1,           1,           1,           1,           1,           1,           1,           1,           1,           1,           1,           1,           1,           1,           1,           1,           1,           1,           1,           1,           1,\n",
      "                  1,           1,           1,           1,           1,           1,           1,           1,           1,           1,           1,           1,           1,           1,           1,           1,           1,           1,           1,           1,           1,           1,           1,\n",
      "                  1,           1,           1,           1,           1,           1,           1,           1,           1,           1,           1,           1,           1,           1,           1,           1,           1,           1,           1,           1,           1,           1,           1,\n",
      "                  1,           1,           1,           1,           1,           1,           1,           1,           1,           1,           1,           1,           1,           1,           1,           1,           1,           1,           1,           1,           1,           1,           1,\n",
      "                  1,           1,           1,           1,           1,           1,           1,           1,           1,           1,           1,           1,           1,           1,           1,           1,           1,           1,           1,           1,           1,           1,           1,\n",
      "                  1,           1,           1,           1,           1,           1,           1,           1,           1,           1,           1,           1,           1,           1,           1,           1,           1,           1,           1,           1,           1,           1,           1,\n",
      "                  1,           1,           1,           1,           1,           1,           1,           1,           1,           1,           1,           1,           1,           1,           1,           1,           1,           1,           1,           1,           1,           1,           1,\n",
      "                  1,           1,           1,           1,           1,           1,           1,           1,           1,           1,           1,           1,           1,           1,           1,           1,           1,           1,           1,           1,           1,           1,           1,\n",
      "                  1,           1,           1,           1,           1,           1,           1,           1,           1,           1,           1,           1,           1,           1,           1,           1,           1,           1,           1,           1,           1,           1,           1,\n",
      "                  1,           1,           1,           1,           1,           1,           1,           1,           1,           1,           1,           1,           1,           1,           1,           1,           1,           1,           1,           1,           1,           1,           1,\n",
      "                  1,           1,           1,           1,           1,           1,           1,           1,           1,           1,           1,           1,           1,           1,           1,           1,           1,           1,           1,           1,           1,           1,           1,\n",
      "                  1,           1,           1,           1,           1,           1,           1,           1,           1,           1,           1,           1,           1,           1,           1,           1,           1,           1,           1,           1,           1,           1,           1,\n",
      "                  1,           1,           1,           1,           1,           1,           1,           1,           1,           1,           1,           1,           1,           1,           1,           1,           1,           1,           1,           1,           1,           1,           1,\n",
      "                  1,           1,           1,           1,           1,           1,           1,           1,           1,           1,           1,           1,           1,           1,           1,           1,           1,           1,           1,           1,           1,           1,           1,\n",
      "                  1,           1,           1,           1,           1,           1,           1,           1,           1,           1,           1,           1,           1,           1,           1,           1,           1,           1,           1,           1,           1,           1,           1,\n",
      "                  1,           1,           1,           1,           1,           1,           1,           1,           1,           1,           1,           1,           1,           1,           1,           1,           1,           1,           1,           1,           1,           1,           1,\n",
      "                  1,     0.79856,     0.79856,     0.79856,     0.79856,     0.79856,     0.79856,     0.79856,     0.79856,     0.79856,           0]]), 'Recall', 'Precision'], [array([          0,    0.001001,    0.002002,    0.003003,    0.004004,    0.005005,    0.006006,    0.007007,    0.008008,    0.009009,     0.01001,    0.011011,    0.012012,    0.013013,    0.014014,    0.015015,    0.016016,    0.017017,    0.018018,    0.019019,     0.02002,    0.021021,    0.022022,    0.023023,\n",
      "          0.024024,    0.025025,    0.026026,    0.027027,    0.028028,    0.029029,     0.03003,    0.031031,    0.032032,    0.033033,    0.034034,    0.035035,    0.036036,    0.037037,    0.038038,    0.039039,     0.04004,    0.041041,    0.042042,    0.043043,    0.044044,    0.045045,    0.046046,    0.047047,\n",
      "          0.048048,    0.049049,     0.05005,    0.051051,    0.052052,    0.053053,    0.054054,    0.055055,    0.056056,    0.057057,    0.058058,    0.059059,     0.06006,    0.061061,    0.062062,    0.063063,    0.064064,    0.065065,    0.066066,    0.067067,    0.068068,    0.069069,     0.07007,    0.071071,\n",
      "          0.072072,    0.073073,    0.074074,    0.075075,    0.076076,    0.077077,    0.078078,    0.079079,     0.08008,    0.081081,    0.082082,    0.083083,    0.084084,    0.085085,    0.086086,    0.087087,    0.088088,    0.089089,     0.09009,    0.091091,    0.092092,    0.093093,    0.094094,    0.095095,\n",
      "          0.096096,    0.097097,    0.098098,    0.099099,      0.1001,      0.1011,      0.1021,      0.1031,      0.1041,     0.10511,     0.10611,     0.10711,     0.10811,     0.10911,     0.11011,     0.11111,     0.11211,     0.11311,     0.11411,     0.11512,     0.11612,     0.11712,     0.11812,     0.11912,\n",
      "           0.12012,     0.12112,     0.12212,     0.12312,     0.12412,     0.12513,     0.12613,     0.12713,     0.12813,     0.12913,     0.13013,     0.13113,     0.13213,     0.13313,     0.13413,     0.13514,     0.13614,     0.13714,     0.13814,     0.13914,     0.14014,     0.14114,     0.14214,     0.14314,\n",
      "           0.14414,     0.14515,     0.14615,     0.14715,     0.14815,     0.14915,     0.15015,     0.15115,     0.15215,     0.15315,     0.15415,     0.15516,     0.15616,     0.15716,     0.15816,     0.15916,     0.16016,     0.16116,     0.16216,     0.16316,     0.16416,     0.16517,     0.16617,     0.16717,\n",
      "           0.16817,     0.16917,     0.17017,     0.17117,     0.17217,     0.17317,     0.17417,     0.17518,     0.17618,     0.17718,     0.17818,     0.17918,     0.18018,     0.18118,     0.18218,     0.18318,     0.18418,     0.18519,     0.18619,     0.18719,     0.18819,     0.18919,     0.19019,     0.19119,\n",
      "           0.19219,     0.19319,     0.19419,      0.1952,      0.1962,      0.1972,      0.1982,      0.1992,      0.2002,      0.2012,      0.2022,      0.2032,      0.2042,     0.20521,     0.20621,     0.20721,     0.20821,     0.20921,     0.21021,     0.21121,     0.21221,     0.21321,     0.21421,     0.21522,\n",
      "           0.21622,     0.21722,     0.21822,     0.21922,     0.22022,     0.22122,     0.22222,     0.22322,     0.22422,     0.22523,     0.22623,     0.22723,     0.22823,     0.22923,     0.23023,     0.23123,     0.23223,     0.23323,     0.23423,     0.23524,     0.23624,     0.23724,     0.23824,     0.23924,\n",
      "           0.24024,     0.24124,     0.24224,     0.24324,     0.24424,     0.24525,     0.24625,     0.24725,     0.24825,     0.24925,     0.25025,     0.25125,     0.25225,     0.25325,     0.25425,     0.25526,     0.25626,     0.25726,     0.25826,     0.25926,     0.26026,     0.26126,     0.26226,     0.26326,\n",
      "           0.26426,     0.26527,     0.26627,     0.26727,     0.26827,     0.26927,     0.27027,     0.27127,     0.27227,     0.27327,     0.27427,     0.27528,     0.27628,     0.27728,     0.27828,     0.27928,     0.28028,     0.28128,     0.28228,     0.28328,     0.28428,     0.28529,     0.28629,     0.28729,\n",
      "           0.28829,     0.28929,     0.29029,     0.29129,     0.29229,     0.29329,     0.29429,      0.2953,      0.2963,      0.2973,      0.2983,      0.2993,      0.3003,      0.3013,      0.3023,      0.3033,      0.3043,     0.30531,     0.30631,     0.30731,     0.30831,     0.30931,     0.31031,     0.31131,\n",
      "           0.31231,     0.31331,     0.31431,     0.31532,     0.31632,     0.31732,     0.31832,     0.31932,     0.32032,     0.32132,     0.32232,     0.32332,     0.32432,     0.32533,     0.32633,     0.32733,     0.32833,     0.32933,     0.33033,     0.33133,     0.33233,     0.33333,     0.33433,     0.33534,\n",
      "           0.33634,     0.33734,     0.33834,     0.33934,     0.34034,     0.34134,     0.34234,     0.34334,     0.34434,     0.34535,     0.34635,     0.34735,     0.34835,     0.34935,     0.35035,     0.35135,     0.35235,     0.35335,     0.35435,     0.35536,     0.35636,     0.35736,     0.35836,     0.35936,\n",
      "           0.36036,     0.36136,     0.36236,     0.36336,     0.36436,     0.36537,     0.36637,     0.36737,     0.36837,     0.36937,     0.37037,     0.37137,     0.37237,     0.37337,     0.37437,     0.37538,     0.37638,     0.37738,     0.37838,     0.37938,     0.38038,     0.38138,     0.38238,     0.38338,\n",
      "           0.38438,     0.38539,     0.38639,     0.38739,     0.38839,     0.38939,     0.39039,     0.39139,     0.39239,     0.39339,     0.39439,      0.3954,      0.3964,      0.3974,      0.3984,      0.3994,      0.4004,      0.4014,      0.4024,      0.4034,      0.4044,     0.40541,     0.40641,     0.40741,\n",
      "           0.40841,     0.40941,     0.41041,     0.41141,     0.41241,     0.41341,     0.41441,     0.41542,     0.41642,     0.41742,     0.41842,     0.41942,     0.42042,     0.42142,     0.42242,     0.42342,     0.42442,     0.42543,     0.42643,     0.42743,     0.42843,     0.42943,     0.43043,     0.43143,\n",
      "           0.43243,     0.43343,     0.43443,     0.43544,     0.43644,     0.43744,     0.43844,     0.43944,     0.44044,     0.44144,     0.44244,     0.44344,     0.44444,     0.44545,     0.44645,     0.44745,     0.44845,     0.44945,     0.45045,     0.45145,     0.45245,     0.45345,     0.45445,     0.45546,\n",
      "           0.45646,     0.45746,     0.45846,     0.45946,     0.46046,     0.46146,     0.46246,     0.46346,     0.46446,     0.46547,     0.46647,     0.46747,     0.46847,     0.46947,     0.47047,     0.47147,     0.47247,     0.47347,     0.47447,     0.47548,     0.47648,     0.47748,     0.47848,     0.47948,\n",
      "           0.48048,     0.48148,     0.48248,     0.48348,     0.48448,     0.48549,     0.48649,     0.48749,     0.48849,     0.48949,     0.49049,     0.49149,     0.49249,     0.49349,     0.49449,      0.4955,      0.4965,      0.4975,      0.4985,      0.4995,      0.5005,      0.5015,      0.5025,      0.5035,\n",
      "            0.5045,     0.50551,     0.50651,     0.50751,     0.50851,     0.50951,     0.51051,     0.51151,     0.51251,     0.51351,     0.51451,     0.51552,     0.51652,     0.51752,     0.51852,     0.51952,     0.52052,     0.52152,     0.52252,     0.52352,     0.52452,     0.52553,     0.52653,     0.52753,\n",
      "           0.52853,     0.52953,     0.53053,     0.53153,     0.53253,     0.53353,     0.53453,     0.53554,     0.53654,     0.53754,     0.53854,     0.53954,     0.54054,     0.54154,     0.54254,     0.54354,     0.54454,     0.54555,     0.54655,     0.54755,     0.54855,     0.54955,     0.55055,     0.55155,\n",
      "           0.55255,     0.55355,     0.55455,     0.55556,     0.55656,     0.55756,     0.55856,     0.55956,     0.56056,     0.56156,     0.56256,     0.56356,     0.56456,     0.56557,     0.56657,     0.56757,     0.56857,     0.56957,     0.57057,     0.57157,     0.57257,     0.57357,     0.57457,     0.57558,\n",
      "           0.57658,     0.57758,     0.57858,     0.57958,     0.58058,     0.58158,     0.58258,     0.58358,     0.58458,     0.58559,     0.58659,     0.58759,     0.58859,     0.58959,     0.59059,     0.59159,     0.59259,     0.59359,     0.59459,      0.5956,      0.5966,      0.5976,      0.5986,      0.5996,\n",
      "            0.6006,      0.6016,      0.6026,      0.6036,      0.6046,     0.60561,     0.60661,     0.60761,     0.60861,     0.60961,     0.61061,     0.61161,     0.61261,     0.61361,     0.61461,     0.61562,     0.61662,     0.61762,     0.61862,     0.61962,     0.62062,     0.62162,     0.62262,     0.62362,\n",
      "           0.62462,     0.62563,     0.62663,     0.62763,     0.62863,     0.62963,     0.63063,     0.63163,     0.63263,     0.63363,     0.63463,     0.63564,     0.63664,     0.63764,     0.63864,     0.63964,     0.64064,     0.64164,     0.64264,     0.64364,     0.64464,     0.64565,     0.64665,     0.64765,\n",
      "           0.64865,     0.64965,     0.65065,     0.65165,     0.65265,     0.65365,     0.65465,     0.65566,     0.65666,     0.65766,     0.65866,     0.65966,     0.66066,     0.66166,     0.66266,     0.66366,     0.66466,     0.66567,     0.66667,     0.66767,     0.66867,     0.66967,     0.67067,     0.67167,\n",
      "           0.67267,     0.67367,     0.67467,     0.67568,     0.67668,     0.67768,     0.67868,     0.67968,     0.68068,     0.68168,     0.68268,     0.68368,     0.68468,     0.68569,     0.68669,     0.68769,     0.68869,     0.68969,     0.69069,     0.69169,     0.69269,     0.69369,     0.69469,      0.6957,\n",
      "            0.6967,      0.6977,      0.6987,      0.6997,      0.7007,      0.7017,      0.7027,      0.7037,      0.7047,     0.70571,     0.70671,     0.70771,     0.70871,     0.70971,     0.71071,     0.71171,     0.71271,     0.71371,     0.71471,     0.71572,     0.71672,     0.71772,     0.71872,     0.71972,\n",
      "           0.72072,     0.72172,     0.72272,     0.72372,     0.72472,     0.72573,     0.72673,     0.72773,     0.72873,     0.72973,     0.73073,     0.73173,     0.73273,     0.73373,     0.73473,     0.73574,     0.73674,     0.73774,     0.73874,     0.73974,     0.74074,     0.74174,     0.74274,     0.74374,\n",
      "           0.74474,     0.74575,     0.74675,     0.74775,     0.74875,     0.74975,     0.75075,     0.75175,     0.75275,     0.75375,     0.75475,     0.75576,     0.75676,     0.75776,     0.75876,     0.75976,     0.76076,     0.76176,     0.76276,     0.76376,     0.76476,     0.76577,     0.76677,     0.76777,\n",
      "           0.76877,     0.76977,     0.77077,     0.77177,     0.77277,     0.77377,     0.77477,     0.77578,     0.77678,     0.77778,     0.77878,     0.77978,     0.78078,     0.78178,     0.78278,     0.78378,     0.78478,     0.78579,     0.78679,     0.78779,     0.78879,     0.78979,     0.79079,     0.79179,\n",
      "           0.79279,     0.79379,     0.79479,      0.7958,      0.7968,      0.7978,      0.7988,      0.7998,      0.8008,      0.8018,      0.8028,      0.8038,      0.8048,     0.80581,     0.80681,     0.80781,     0.80881,     0.80981,     0.81081,     0.81181,     0.81281,     0.81381,     0.81481,     0.81582,\n",
      "           0.81682,     0.81782,     0.81882,     0.81982,     0.82082,     0.82182,     0.82282,     0.82382,     0.82482,     0.82583,     0.82683,     0.82783,     0.82883,     0.82983,     0.83083,     0.83183,     0.83283,     0.83383,     0.83483,     0.83584,     0.83684,     0.83784,     0.83884,     0.83984,\n",
      "           0.84084,     0.84184,     0.84284,     0.84384,     0.84484,     0.84585,     0.84685,     0.84785,     0.84885,     0.84985,     0.85085,     0.85185,     0.85285,     0.85385,     0.85485,     0.85586,     0.85686,     0.85786,     0.85886,     0.85986,     0.86086,     0.86186,     0.86286,     0.86386,\n",
      "           0.86486,     0.86587,     0.86687,     0.86787,     0.86887,     0.86987,     0.87087,     0.87187,     0.87287,     0.87387,     0.87487,     0.87588,     0.87688,     0.87788,     0.87888,     0.87988,     0.88088,     0.88188,     0.88288,     0.88388,     0.88488,     0.88589,     0.88689,     0.88789,\n",
      "           0.88889,     0.88989,     0.89089,     0.89189,     0.89289,     0.89389,     0.89489,      0.8959,      0.8969,      0.8979,      0.8989,      0.8999,      0.9009,      0.9019,      0.9029,      0.9039,      0.9049,     0.90591,     0.90691,     0.90791,     0.90891,     0.90991,     0.91091,     0.91191,\n",
      "           0.91291,     0.91391,     0.91491,     0.91592,     0.91692,     0.91792,     0.91892,     0.91992,     0.92092,     0.92192,     0.92292,     0.92392,     0.92492,     0.92593,     0.92693,     0.92793,     0.92893,     0.92993,     0.93093,     0.93193,     0.93293,     0.93393,     0.93493,     0.93594,\n",
      "           0.93694,     0.93794,     0.93894,     0.93994,     0.94094,     0.94194,     0.94294,     0.94394,     0.94494,     0.94595,     0.94695,     0.94795,     0.94895,     0.94995,     0.95095,     0.95195,     0.95295,     0.95395,     0.95495,     0.95596,     0.95696,     0.95796,     0.95896,     0.95996,\n",
      "           0.96096,     0.96196,     0.96296,     0.96396,     0.96496,     0.96597,     0.96697,     0.96797,     0.96897,     0.96997,     0.97097,     0.97197,     0.97297,     0.97397,     0.97497,     0.97598,     0.97698,     0.97798,     0.97898,     0.97998,     0.98098,     0.98198,     0.98298,     0.98398,\n",
      "           0.98498,     0.98599,     0.98699,     0.98799,     0.98899,     0.98999,     0.99099,     0.99199,     0.99299,     0.99399,     0.99499,       0.996,       0.997,       0.998,       0.999,           1]), array([[    0.82528,     0.82528,     0.86669,     0.90057,     0.91527,      0.9267,     0.94062,     0.94501,     0.94692,      0.9492,     0.95239,     0.95673,     0.95755,     0.95836,     0.95917,     0.95998,     0.96074,     0.96113,     0.96151,      0.9619,     0.96228,     0.96267,     0.96305,\n",
      "            0.96344,     0.96382,      0.9642,     0.96459,      0.9653,     0.96797,     0.97222,     0.97487,     0.97668,     0.97795,      0.9784,     0.97884,     0.97928,     0.97973,     0.98017,     0.98061,     0.98105,      0.9815,     0.98194,     0.98217,     0.98223,     0.98229,     0.98235,\n",
      "             0.9824,     0.98246,     0.98252,     0.98258,     0.98263,     0.98269,     0.98275,     0.98281,     0.98287,     0.98292,     0.98298,     0.98304,      0.9831,     0.98315,     0.98321,     0.98327,     0.98333,     0.98338,     0.98344,      0.9835,     0.98356,     0.98361,     0.98367,\n",
      "            0.98373,     0.98379,     0.98384,      0.9839,     0.98396,     0.98402,     0.98407,     0.98413,     0.98419,     0.98425,      0.9843,     0.98436,     0.98442,     0.98448,     0.98453,     0.98459,     0.98465,     0.98471,     0.98476,     0.98482,     0.98488,     0.98493,     0.98499,\n",
      "            0.98505,     0.98511,     0.98516,     0.98522,     0.98528,     0.98534,     0.98539,     0.98545,     0.98551,     0.98557,     0.98562,     0.98568,     0.98574,     0.98579,     0.98585,     0.98591,     0.98597,     0.98602,     0.98608,     0.98614,     0.98619,     0.98625,     0.98631,\n",
      "            0.98637,     0.98642,     0.98648,     0.98654,     0.98655,     0.98656,     0.98657,     0.98658,     0.98658,     0.98659,      0.9866,     0.98661,     0.98661,     0.98662,     0.98663,     0.98664,     0.98664,     0.98665,     0.98666,     0.98667,     0.98667,     0.98668,     0.98669,\n",
      "             0.9867,      0.9867,     0.98671,     0.98672,     0.98673,     0.98673,     0.98674,     0.98675,     0.98676,     0.98676,     0.98677,     0.98678,     0.98679,     0.98679,      0.9868,     0.98681,     0.98681,     0.98682,     0.98683,     0.98684,     0.98684,     0.98685,     0.98686,\n",
      "            0.98687,     0.98687,     0.98688,     0.98689,      0.9869,      0.9869,     0.98691,     0.98692,     0.98693,     0.98693,     0.98694,     0.98695,     0.98696,     0.98696,     0.98697,     0.98698,     0.98699,     0.98699,       0.987,     0.98701,     0.98702,     0.98702,     0.98703,\n",
      "            0.98704,     0.98705,     0.98705,     0.98706,     0.98707,     0.98708,     0.98708,     0.98709,      0.9871,     0.98711,     0.98711,     0.98712,     0.98713,     0.98714,     0.98714,     0.98715,     0.98716,     0.98717,     0.98717,     0.98718,     0.98719,      0.9872,      0.9872,\n",
      "            0.98721,     0.98722,     0.98723,     0.98723,     0.98724,     0.98725,     0.98726,     0.98726,     0.98727,     0.98728,     0.98729,     0.98729,      0.9873,     0.98731,     0.98732,     0.98732,     0.98733,     0.98734,     0.98735,     0.98735,     0.98736,     0.98737,     0.98737,\n",
      "            0.98738,     0.98739,      0.9874,      0.9874,     0.98741,     0.98742,     0.98743,     0.98743,     0.98744,     0.98745,     0.98746,     0.98746,     0.98747,     0.98748,     0.98749,     0.98749,      0.9875,     0.98751,     0.98752,     0.98752,     0.98753,     0.98754,     0.98755,\n",
      "            0.98755,     0.98756,     0.98757,     0.98758,     0.98758,     0.98759,      0.9876,     0.98761,     0.98761,     0.98762,     0.98763,     0.98764,     0.98764,     0.98765,     0.98766,     0.98767,     0.98767,     0.98768,     0.98769,      0.9877,      0.9877,     0.98771,     0.98772,\n",
      "            0.98773,     0.98773,     0.98774,     0.98775,     0.98776,     0.98776,     0.98777,     0.98778,     0.98779,     0.98779,      0.9878,     0.98781,     0.98782,     0.98782,     0.98783,     0.98784,     0.98784,     0.98785,     0.98786,     0.98787,     0.98787,     0.98788,     0.98789,\n",
      "             0.9879,      0.9879,     0.98791,     0.98792,     0.98793,     0.98793,     0.98794,     0.98795,     0.98796,     0.98796,     0.98797,     0.98798,     0.98799,     0.98799,       0.988,     0.98801,     0.98802,     0.98802,     0.98803,     0.98804,     0.98805,     0.98805,     0.98806,\n",
      "            0.98807,     0.98808,     0.98808,     0.98809,      0.9881,     0.98811,     0.98811,     0.98812,     0.98813,     0.98814,     0.98814,     0.98815,     0.98816,     0.98817,     0.98817,     0.98818,     0.98819,      0.9882,      0.9882,     0.98821,     0.98822,     0.98823,     0.98823,\n",
      "            0.98824,     0.98825,     0.98825,     0.98826,     0.98827,     0.98828,     0.98828,     0.98829,      0.9883,     0.98831,     0.98831,     0.98832,     0.98833,     0.98834,     0.98834,     0.98835,     0.98836,     0.98837,     0.98837,     0.98838,     0.98839,      0.9884,      0.9884,\n",
      "            0.98841,     0.98842,     0.98843,     0.98843,     0.98844,     0.98845,     0.98846,     0.98846,     0.98847,     0.98848,     0.98849,     0.98849,      0.9885,     0.98851,     0.98852,     0.98852,     0.98853,     0.98854,     0.98855,     0.98855,     0.98856,     0.98857,     0.98858,\n",
      "            0.98858,     0.98859,      0.9886,      0.9886,     0.98861,     0.98862,     0.98863,     0.98863,     0.98864,     0.98865,     0.98866,     0.98866,     0.98867,     0.98868,     0.98869,     0.98869,      0.9887,     0.98871,     0.98872,     0.98872,     0.98873,     0.98874,     0.98875,\n",
      "            0.98875,     0.98876,     0.98877,     0.98878,     0.98878,     0.98879,      0.9888,     0.98881,     0.98881,     0.98882,     0.98883,     0.98884,     0.98884,     0.98885,     0.98886,     0.98887,     0.98887,     0.98888,     0.98889,      0.9889,      0.9889,     0.98891,     0.98892,\n",
      "            0.98892,     0.98893,     0.98894,     0.98895,     0.98895,     0.98896,     0.98897,     0.98898,     0.98898,     0.98899,       0.989,     0.98901,     0.98901,     0.98902,     0.98903,     0.98904,     0.98904,     0.98905,     0.98906,     0.98907,     0.98907,     0.98908,     0.98909,\n",
      "             0.9891,      0.9891,     0.98911,     0.98912,     0.98913,     0.98913,     0.98914,     0.98915,     0.98916,     0.98916,     0.98917,     0.98918,     0.98919,     0.98919,      0.9892,     0.98921,     0.98921,     0.98922,     0.98923,     0.98924,     0.98924,     0.98925,     0.98926,\n",
      "            0.98927,     0.98927,     0.98928,     0.98929,      0.9893,      0.9893,     0.98931,     0.98932,     0.98933,     0.98933,     0.98934,     0.98935,     0.98936,     0.98936,     0.98937,     0.98938,     0.98939,     0.98939,      0.9894,     0.98941,     0.98942,     0.98942,     0.98943,\n",
      "            0.98944,     0.98945,     0.98945,     0.98946,     0.98947,     0.98948,     0.98948,     0.98949,      0.9895,      0.9895,     0.98951,     0.98952,     0.98953,     0.98953,     0.98954,     0.98955,     0.98956,     0.98956,     0.98957,     0.98958,     0.98959,     0.98959,      0.9896,\n",
      "            0.98961,     0.98962,     0.98962,     0.98963,     0.98964,     0.98965,     0.98965,     0.98966,     0.98967,     0.98968,     0.98968,     0.98969,      0.9897,     0.98971,     0.98971,     0.98972,     0.98973,     0.98974,     0.98974,     0.98975,     0.98976,     0.98976,     0.98977,\n",
      "            0.98978,     0.98979,     0.98979,      0.9898,     0.98981,     0.98982,     0.98982,     0.98983,     0.98984,     0.98985,     0.98985,     0.98986,     0.98987,     0.98988,     0.98988,     0.98989,      0.9899,     0.98991,     0.98991,     0.98992,     0.98993,     0.98994,     0.98994,\n",
      "            0.98995,     0.98996,     0.98997,     0.98997,     0.98998,     0.98999,     0.98999,        0.99,     0.99001,     0.99002,     0.99002,     0.99003,     0.99004,     0.99005,     0.99005,     0.99006,     0.99007,     0.99008,     0.99008,     0.99009,      0.9901,     0.99011,     0.99011,\n",
      "            0.99012,     0.99013,     0.99014,     0.99014,     0.99015,     0.99016,     0.99017,     0.99017,     0.99018,     0.99019,      0.9902,      0.9902,     0.99021,     0.99022,     0.99023,     0.99023,     0.99024,     0.99025,     0.99025,     0.99026,     0.99027,     0.99028,     0.99028,\n",
      "            0.99029,      0.9903,     0.99031,     0.99031,     0.99032,     0.99033,     0.99034,     0.99034,     0.99035,     0.99036,     0.99037,     0.99037,     0.99038,     0.99039,      0.9904,      0.9904,     0.99041,     0.99042,     0.99043,     0.99043,     0.99044,     0.99045,     0.99045,\n",
      "            0.99046,     0.99047,     0.99048,     0.99048,     0.99049,      0.9905,     0.99051,     0.99051,     0.99052,     0.99053,     0.99054,     0.99054,     0.99055,     0.99056,     0.99057,     0.99057,     0.99058,     0.99059,      0.9906,      0.9906,     0.99061,     0.99062,     0.99063,\n",
      "            0.99063,     0.99064,     0.99065,     0.99066,     0.99066,     0.99067,     0.99068,     0.99068,     0.99069,      0.9907,     0.99071,     0.99071,     0.99072,     0.99073,     0.99074,     0.99074,     0.99075,     0.99076,     0.99077,     0.99077,     0.99078,     0.99079,      0.9908,\n",
      "             0.9908,     0.99081,     0.99082,     0.99083,     0.99083,     0.99084,     0.99085,     0.99086,     0.99086,     0.99087,     0.99088,     0.99088,     0.99089,      0.9909,     0.99091,     0.99091,     0.99092,     0.99093,     0.99094,     0.99094,     0.99095,     0.99096,     0.99097,\n",
      "            0.99097,     0.99098,     0.99099,     0.99106,     0.99116,     0.99126,     0.99136,     0.99146,     0.99156,     0.99166,     0.99175,     0.99185,     0.99195,     0.99205,     0.99215,     0.99225,     0.99235,     0.99245,     0.99255,     0.99265,     0.99275,     0.99285,     0.99294,\n",
      "            0.99304,     0.99314,     0.99324,     0.99334,     0.99344,     0.99354,     0.99364,     0.99374,     0.99383,     0.99393,     0.99403,     0.99413,     0.99423,     0.99433,     0.99443,     0.99453,     0.99462,     0.99472,     0.99482,     0.99492,     0.99502,     0.99512,     0.99522,\n",
      "            0.99532,     0.99541,     0.99544,     0.99535,     0.99526,     0.99518,     0.99509,       0.995,     0.99491,     0.99482,     0.99473,     0.99464,     0.99455,     0.99446,     0.99438,     0.99429,      0.9942,     0.99411,     0.99402,     0.99393,     0.99384,     0.99375,     0.99366,\n",
      "            0.99358,     0.99349,      0.9934,     0.99331,     0.99322,     0.99313,     0.99304,     0.99295,     0.99286,     0.99277,     0.99268,     0.99259,     0.99251,     0.99242,     0.99233,     0.99224,     0.99215,     0.99206,     0.99197,     0.99188,     0.99179,      0.9917,     0.99161,\n",
      "            0.99152,     0.99143,     0.99134,     0.99125,     0.99116,     0.99108,     0.99099,     0.99081,     0.99012,     0.98943,     0.98873,     0.98804,     0.98734,     0.98665,      0.9858,      0.9848,      0.9838,      0.9828,     0.98179,     0.98125,     0.98078,     0.98031,     0.97984,\n",
      "            0.97937,      0.9789,     0.97843,     0.97795,     0.97748,     0.97701,     0.97634,     0.97564,     0.97494,     0.97424,     0.97354,     0.97284,     0.97214,     0.97145,     0.97076,     0.97006,     0.96937,     0.96868,     0.96798,     0.96712,     0.96571,      0.9643,     0.96288,\n",
      "            0.96246,     0.96227,     0.96208,     0.96188,     0.96169,      0.9615,      0.9613,     0.96111,     0.96092,     0.96072,     0.96053,     0.96034,     0.96014,     0.95995,     0.95976,     0.95956,     0.95937,     0.95918,     0.95898,     0.95879,     0.95859,      0.9584,     0.95821,\n",
      "            0.95801,     0.95782,     0.95677,     0.95522,     0.95366,     0.95026,     0.94752,     0.94692,     0.94631,     0.94569,     0.94508,     0.94447,     0.94386,     0.94325,     0.94201,     0.93967,     0.93493,     0.92953,     0.92562,     0.92088,     0.89874,     0.88671,     0.88165,\n",
      "            0.87373,     0.85815,     0.85179,     0.84224,      0.8379,     0.83292,     0.82721,     0.81325,     0.80309,     0.79568,     0.77788,     0.76736,     0.76096,     0.74846,     0.70455,     0.68355,      0.6745,     0.66403,     0.64818,     0.63017,     0.60293,     0.58989,     0.56137,\n",
      "            0.52897,     0.47785,      0.4717,     0.46393,     0.44622,     0.44209,     0.43794,     0.42753,     0.39951,     0.39038,      0.3823,     0.36065,     0.31451,     0.28833,     0.27333,      0.2601,     0.23445,     0.22626,     0.20372,     0.19165,     0.16975,     0.15097,     0.14646,\n",
      "             0.1427,     0.13893,     0.13514,     0.11907,     0.10041,    0.096256,    0.092086,    0.087898,    0.081958,    0.074803,    0.067582,    0.060271,    0.052904,    0.044277,    0.035526,           0,           0,           0,           0,           0,           0,           0,           0,\n",
      "                  0,           0,           0,           0,           0,           0,           0,           0,           0,           0,           0,           0,           0,           0,           0,           0,           0,           0,           0,           0,           0,           0,           0,\n",
      "                  0,           0,           0,           0,           0,           0,           0,           0,           0,           0,           0]]), 'Confidence', 'F1'], [array([          0,    0.001001,    0.002002,    0.003003,    0.004004,    0.005005,    0.006006,    0.007007,    0.008008,    0.009009,     0.01001,    0.011011,    0.012012,    0.013013,    0.014014,    0.015015,    0.016016,    0.017017,    0.018018,    0.019019,     0.02002,    0.021021,    0.022022,    0.023023,\n",
      "          0.024024,    0.025025,    0.026026,    0.027027,    0.028028,    0.029029,     0.03003,    0.031031,    0.032032,    0.033033,    0.034034,    0.035035,    0.036036,    0.037037,    0.038038,    0.039039,     0.04004,    0.041041,    0.042042,    0.043043,    0.044044,    0.045045,    0.046046,    0.047047,\n",
      "          0.048048,    0.049049,     0.05005,    0.051051,    0.052052,    0.053053,    0.054054,    0.055055,    0.056056,    0.057057,    0.058058,    0.059059,     0.06006,    0.061061,    0.062062,    0.063063,    0.064064,    0.065065,    0.066066,    0.067067,    0.068068,    0.069069,     0.07007,    0.071071,\n",
      "          0.072072,    0.073073,    0.074074,    0.075075,    0.076076,    0.077077,    0.078078,    0.079079,     0.08008,    0.081081,    0.082082,    0.083083,    0.084084,    0.085085,    0.086086,    0.087087,    0.088088,    0.089089,     0.09009,    0.091091,    0.092092,    0.093093,    0.094094,    0.095095,\n",
      "          0.096096,    0.097097,    0.098098,    0.099099,      0.1001,      0.1011,      0.1021,      0.1031,      0.1041,     0.10511,     0.10611,     0.10711,     0.10811,     0.10911,     0.11011,     0.11111,     0.11211,     0.11311,     0.11411,     0.11512,     0.11612,     0.11712,     0.11812,     0.11912,\n",
      "           0.12012,     0.12112,     0.12212,     0.12312,     0.12412,     0.12513,     0.12613,     0.12713,     0.12813,     0.12913,     0.13013,     0.13113,     0.13213,     0.13313,     0.13413,     0.13514,     0.13614,     0.13714,     0.13814,     0.13914,     0.14014,     0.14114,     0.14214,     0.14314,\n",
      "           0.14414,     0.14515,     0.14615,     0.14715,     0.14815,     0.14915,     0.15015,     0.15115,     0.15215,     0.15315,     0.15415,     0.15516,     0.15616,     0.15716,     0.15816,     0.15916,     0.16016,     0.16116,     0.16216,     0.16316,     0.16416,     0.16517,     0.16617,     0.16717,\n",
      "           0.16817,     0.16917,     0.17017,     0.17117,     0.17217,     0.17317,     0.17417,     0.17518,     0.17618,     0.17718,     0.17818,     0.17918,     0.18018,     0.18118,     0.18218,     0.18318,     0.18418,     0.18519,     0.18619,     0.18719,     0.18819,     0.18919,     0.19019,     0.19119,\n",
      "           0.19219,     0.19319,     0.19419,      0.1952,      0.1962,      0.1972,      0.1982,      0.1992,      0.2002,      0.2012,      0.2022,      0.2032,      0.2042,     0.20521,     0.20621,     0.20721,     0.20821,     0.20921,     0.21021,     0.21121,     0.21221,     0.21321,     0.21421,     0.21522,\n",
      "           0.21622,     0.21722,     0.21822,     0.21922,     0.22022,     0.22122,     0.22222,     0.22322,     0.22422,     0.22523,     0.22623,     0.22723,     0.22823,     0.22923,     0.23023,     0.23123,     0.23223,     0.23323,     0.23423,     0.23524,     0.23624,     0.23724,     0.23824,     0.23924,\n",
      "           0.24024,     0.24124,     0.24224,     0.24324,     0.24424,     0.24525,     0.24625,     0.24725,     0.24825,     0.24925,     0.25025,     0.25125,     0.25225,     0.25325,     0.25425,     0.25526,     0.25626,     0.25726,     0.25826,     0.25926,     0.26026,     0.26126,     0.26226,     0.26326,\n",
      "           0.26426,     0.26527,     0.26627,     0.26727,     0.26827,     0.26927,     0.27027,     0.27127,     0.27227,     0.27327,     0.27427,     0.27528,     0.27628,     0.27728,     0.27828,     0.27928,     0.28028,     0.28128,     0.28228,     0.28328,     0.28428,     0.28529,     0.28629,     0.28729,\n",
      "           0.28829,     0.28929,     0.29029,     0.29129,     0.29229,     0.29329,     0.29429,      0.2953,      0.2963,      0.2973,      0.2983,      0.2993,      0.3003,      0.3013,      0.3023,      0.3033,      0.3043,     0.30531,     0.30631,     0.30731,     0.30831,     0.30931,     0.31031,     0.31131,\n",
      "           0.31231,     0.31331,     0.31431,     0.31532,     0.31632,     0.31732,     0.31832,     0.31932,     0.32032,     0.32132,     0.32232,     0.32332,     0.32432,     0.32533,     0.32633,     0.32733,     0.32833,     0.32933,     0.33033,     0.33133,     0.33233,     0.33333,     0.33433,     0.33534,\n",
      "           0.33634,     0.33734,     0.33834,     0.33934,     0.34034,     0.34134,     0.34234,     0.34334,     0.34434,     0.34535,     0.34635,     0.34735,     0.34835,     0.34935,     0.35035,     0.35135,     0.35235,     0.35335,     0.35435,     0.35536,     0.35636,     0.35736,     0.35836,     0.35936,\n",
      "           0.36036,     0.36136,     0.36236,     0.36336,     0.36436,     0.36537,     0.36637,     0.36737,     0.36837,     0.36937,     0.37037,     0.37137,     0.37237,     0.37337,     0.37437,     0.37538,     0.37638,     0.37738,     0.37838,     0.37938,     0.38038,     0.38138,     0.38238,     0.38338,\n",
      "           0.38438,     0.38539,     0.38639,     0.38739,     0.38839,     0.38939,     0.39039,     0.39139,     0.39239,     0.39339,     0.39439,      0.3954,      0.3964,      0.3974,      0.3984,      0.3994,      0.4004,      0.4014,      0.4024,      0.4034,      0.4044,     0.40541,     0.40641,     0.40741,\n",
      "           0.40841,     0.40941,     0.41041,     0.41141,     0.41241,     0.41341,     0.41441,     0.41542,     0.41642,     0.41742,     0.41842,     0.41942,     0.42042,     0.42142,     0.42242,     0.42342,     0.42442,     0.42543,     0.42643,     0.42743,     0.42843,     0.42943,     0.43043,     0.43143,\n",
      "           0.43243,     0.43343,     0.43443,     0.43544,     0.43644,     0.43744,     0.43844,     0.43944,     0.44044,     0.44144,     0.44244,     0.44344,     0.44444,     0.44545,     0.44645,     0.44745,     0.44845,     0.44945,     0.45045,     0.45145,     0.45245,     0.45345,     0.45445,     0.45546,\n",
      "           0.45646,     0.45746,     0.45846,     0.45946,     0.46046,     0.46146,     0.46246,     0.46346,     0.46446,     0.46547,     0.46647,     0.46747,     0.46847,     0.46947,     0.47047,     0.47147,     0.47247,     0.47347,     0.47447,     0.47548,     0.47648,     0.47748,     0.47848,     0.47948,\n",
      "           0.48048,     0.48148,     0.48248,     0.48348,     0.48448,     0.48549,     0.48649,     0.48749,     0.48849,     0.48949,     0.49049,     0.49149,     0.49249,     0.49349,     0.49449,      0.4955,      0.4965,      0.4975,      0.4985,      0.4995,      0.5005,      0.5015,      0.5025,      0.5035,\n",
      "            0.5045,     0.50551,     0.50651,     0.50751,     0.50851,     0.50951,     0.51051,     0.51151,     0.51251,     0.51351,     0.51451,     0.51552,     0.51652,     0.51752,     0.51852,     0.51952,     0.52052,     0.52152,     0.52252,     0.52352,     0.52452,     0.52553,     0.52653,     0.52753,\n",
      "           0.52853,     0.52953,     0.53053,     0.53153,     0.53253,     0.53353,     0.53453,     0.53554,     0.53654,     0.53754,     0.53854,     0.53954,     0.54054,     0.54154,     0.54254,     0.54354,     0.54454,     0.54555,     0.54655,     0.54755,     0.54855,     0.54955,     0.55055,     0.55155,\n",
      "           0.55255,     0.55355,     0.55455,     0.55556,     0.55656,     0.55756,     0.55856,     0.55956,     0.56056,     0.56156,     0.56256,     0.56356,     0.56456,     0.56557,     0.56657,     0.56757,     0.56857,     0.56957,     0.57057,     0.57157,     0.57257,     0.57357,     0.57457,     0.57558,\n",
      "           0.57658,     0.57758,     0.57858,     0.57958,     0.58058,     0.58158,     0.58258,     0.58358,     0.58458,     0.58559,     0.58659,     0.58759,     0.58859,     0.58959,     0.59059,     0.59159,     0.59259,     0.59359,     0.59459,      0.5956,      0.5966,      0.5976,      0.5986,      0.5996,\n",
      "            0.6006,      0.6016,      0.6026,      0.6036,      0.6046,     0.60561,     0.60661,     0.60761,     0.60861,     0.60961,     0.61061,     0.61161,     0.61261,     0.61361,     0.61461,     0.61562,     0.61662,     0.61762,     0.61862,     0.61962,     0.62062,     0.62162,     0.62262,     0.62362,\n",
      "           0.62462,     0.62563,     0.62663,     0.62763,     0.62863,     0.62963,     0.63063,     0.63163,     0.63263,     0.63363,     0.63463,     0.63564,     0.63664,     0.63764,     0.63864,     0.63964,     0.64064,     0.64164,     0.64264,     0.64364,     0.64464,     0.64565,     0.64665,     0.64765,\n",
      "           0.64865,     0.64965,     0.65065,     0.65165,     0.65265,     0.65365,     0.65465,     0.65566,     0.65666,     0.65766,     0.65866,     0.65966,     0.66066,     0.66166,     0.66266,     0.66366,     0.66466,     0.66567,     0.66667,     0.66767,     0.66867,     0.66967,     0.67067,     0.67167,\n",
      "           0.67267,     0.67367,     0.67467,     0.67568,     0.67668,     0.67768,     0.67868,     0.67968,     0.68068,     0.68168,     0.68268,     0.68368,     0.68468,     0.68569,     0.68669,     0.68769,     0.68869,     0.68969,     0.69069,     0.69169,     0.69269,     0.69369,     0.69469,      0.6957,\n",
      "            0.6967,      0.6977,      0.6987,      0.6997,      0.7007,      0.7017,      0.7027,      0.7037,      0.7047,     0.70571,     0.70671,     0.70771,     0.70871,     0.70971,     0.71071,     0.71171,     0.71271,     0.71371,     0.71471,     0.71572,     0.71672,     0.71772,     0.71872,     0.71972,\n",
      "           0.72072,     0.72172,     0.72272,     0.72372,     0.72472,     0.72573,     0.72673,     0.72773,     0.72873,     0.72973,     0.73073,     0.73173,     0.73273,     0.73373,     0.73473,     0.73574,     0.73674,     0.73774,     0.73874,     0.73974,     0.74074,     0.74174,     0.74274,     0.74374,\n",
      "           0.74474,     0.74575,     0.74675,     0.74775,     0.74875,     0.74975,     0.75075,     0.75175,     0.75275,     0.75375,     0.75475,     0.75576,     0.75676,     0.75776,     0.75876,     0.75976,     0.76076,     0.76176,     0.76276,     0.76376,     0.76476,     0.76577,     0.76677,     0.76777,\n",
      "           0.76877,     0.76977,     0.77077,     0.77177,     0.77277,     0.77377,     0.77477,     0.77578,     0.77678,     0.77778,     0.77878,     0.77978,     0.78078,     0.78178,     0.78278,     0.78378,     0.78478,     0.78579,     0.78679,     0.78779,     0.78879,     0.78979,     0.79079,     0.79179,\n",
      "           0.79279,     0.79379,     0.79479,      0.7958,      0.7968,      0.7978,      0.7988,      0.7998,      0.8008,      0.8018,      0.8028,      0.8038,      0.8048,     0.80581,     0.80681,     0.80781,     0.80881,     0.80981,     0.81081,     0.81181,     0.81281,     0.81381,     0.81481,     0.81582,\n",
      "           0.81682,     0.81782,     0.81882,     0.81982,     0.82082,     0.82182,     0.82282,     0.82382,     0.82482,     0.82583,     0.82683,     0.82783,     0.82883,     0.82983,     0.83083,     0.83183,     0.83283,     0.83383,     0.83483,     0.83584,     0.83684,     0.83784,     0.83884,     0.83984,\n",
      "           0.84084,     0.84184,     0.84284,     0.84384,     0.84484,     0.84585,     0.84685,     0.84785,     0.84885,     0.84985,     0.85085,     0.85185,     0.85285,     0.85385,     0.85485,     0.85586,     0.85686,     0.85786,     0.85886,     0.85986,     0.86086,     0.86186,     0.86286,     0.86386,\n",
      "           0.86486,     0.86587,     0.86687,     0.86787,     0.86887,     0.86987,     0.87087,     0.87187,     0.87287,     0.87387,     0.87487,     0.87588,     0.87688,     0.87788,     0.87888,     0.87988,     0.88088,     0.88188,     0.88288,     0.88388,     0.88488,     0.88589,     0.88689,     0.88789,\n",
      "           0.88889,     0.88989,     0.89089,     0.89189,     0.89289,     0.89389,     0.89489,      0.8959,      0.8969,      0.8979,      0.8989,      0.8999,      0.9009,      0.9019,      0.9029,      0.9039,      0.9049,     0.90591,     0.90691,     0.90791,     0.90891,     0.90991,     0.91091,     0.91191,\n",
      "           0.91291,     0.91391,     0.91491,     0.91592,     0.91692,     0.91792,     0.91892,     0.91992,     0.92092,     0.92192,     0.92292,     0.92392,     0.92492,     0.92593,     0.92693,     0.92793,     0.92893,     0.92993,     0.93093,     0.93193,     0.93293,     0.93393,     0.93493,     0.93594,\n",
      "           0.93694,     0.93794,     0.93894,     0.93994,     0.94094,     0.94194,     0.94294,     0.94394,     0.94494,     0.94595,     0.94695,     0.94795,     0.94895,     0.94995,     0.95095,     0.95195,     0.95295,     0.95395,     0.95495,     0.95596,     0.95696,     0.95796,     0.95896,     0.95996,\n",
      "           0.96096,     0.96196,     0.96296,     0.96396,     0.96496,     0.96597,     0.96697,     0.96797,     0.96897,     0.96997,     0.97097,     0.97197,     0.97297,     0.97397,     0.97497,     0.97598,     0.97698,     0.97798,     0.97898,     0.97998,     0.98098,     0.98198,     0.98298,     0.98398,\n",
      "           0.98498,     0.98599,     0.98699,     0.98799,     0.98899,     0.98999,     0.99099,     0.99199,     0.99299,     0.99399,     0.99499,       0.996,       0.997,       0.998,       0.999,           1]), array([[    0.70253,     0.70253,     0.76473,     0.82527,      0.8503,     0.87024,     0.89513,     0.90311,     0.90661,      0.9108,     0.91668,     0.92476,     0.92629,     0.92781,     0.92933,     0.93085,     0.93229,     0.93301,     0.93374,     0.93447,     0.93519,     0.93592,     0.93664,\n",
      "            0.93737,      0.9381,     0.93882,     0.93955,     0.94091,     0.94599,     0.95414,     0.95926,     0.96278,     0.96526,     0.96612,     0.96699,     0.96785,     0.96872,     0.96958,     0.97045,     0.97131,     0.97218,     0.97305,     0.97351,     0.97362,     0.97374,     0.97385,\n",
      "            0.97396,     0.97408,     0.97419,      0.9743,     0.97442,     0.97453,     0.97464,     0.97476,     0.97487,     0.97498,      0.9751,     0.97521,     0.97532,     0.97544,     0.97555,     0.97566,     0.97578,     0.97589,       0.976,     0.97612,     0.97623,     0.97634,     0.97646,\n",
      "            0.97657,     0.97668,      0.9768,     0.97691,     0.97702,     0.97714,     0.97725,     0.97736,     0.97748,     0.97759,     0.97771,     0.97782,     0.97793,     0.97805,     0.97816,     0.97827,     0.97839,      0.9785,     0.97861,     0.97873,     0.97884,     0.97895,     0.97907,\n",
      "            0.97918,     0.97929,     0.97941,     0.97952,     0.97963,     0.97975,     0.97986,     0.97997,     0.98009,      0.9802,     0.98031,     0.98043,     0.98054,     0.98065,     0.98077,     0.98088,     0.98099,     0.98111,     0.98122,     0.98133,     0.98145,     0.98156,     0.98167,\n",
      "            0.98179,      0.9819,     0.98201,     0.98213,     0.98216,     0.98217,     0.98218,      0.9822,     0.98221,     0.98223,     0.98224,     0.98226,     0.98227,     0.98229,      0.9823,     0.98232,     0.98233,     0.98235,     0.98236,     0.98238,     0.98239,     0.98241,     0.98242,\n",
      "            0.98244,     0.98245,     0.98247,     0.98248,      0.9825,     0.98251,     0.98253,     0.98254,     0.98256,     0.98257,     0.98259,      0.9826,     0.98261,     0.98263,     0.98264,     0.98266,     0.98267,     0.98269,      0.9827,     0.98272,     0.98273,     0.98275,     0.98276,\n",
      "            0.98278,     0.98279,     0.98281,     0.98282,     0.98284,     0.98285,     0.98287,     0.98288,      0.9829,     0.98291,     0.98293,     0.98294,     0.98296,     0.98297,     0.98299,       0.983,     0.98301,     0.98303,     0.98304,     0.98306,     0.98307,     0.98309,      0.9831,\n",
      "            0.98312,     0.98313,     0.98315,     0.98316,     0.98318,     0.98319,     0.98321,     0.98322,     0.98324,     0.98325,     0.98327,     0.98328,      0.9833,     0.98331,     0.98333,     0.98334,     0.98336,     0.98337,     0.98339,      0.9834,     0.98341,     0.98343,     0.98344,\n",
      "            0.98346,     0.98347,     0.98349,      0.9835,     0.98352,     0.98353,     0.98355,     0.98356,     0.98358,     0.98359,     0.98361,     0.98362,     0.98364,     0.98365,     0.98367,     0.98368,      0.9837,     0.98371,     0.98373,     0.98374,     0.98376,     0.98377,     0.98379,\n",
      "             0.9838,     0.98381,     0.98383,     0.98384,     0.98386,     0.98387,     0.98389,      0.9839,     0.98392,     0.98393,     0.98395,     0.98396,     0.98398,     0.98399,     0.98401,     0.98402,     0.98404,     0.98405,     0.98407,     0.98408,      0.9841,     0.98411,     0.98413,\n",
      "            0.98414,     0.98416,     0.98417,     0.98419,      0.9842,     0.98421,     0.98423,     0.98424,     0.98426,     0.98427,     0.98429,      0.9843,     0.98432,     0.98433,     0.98435,     0.98436,     0.98438,     0.98439,     0.98441,     0.98442,     0.98444,     0.98445,     0.98447,\n",
      "            0.98448,      0.9845,     0.98451,     0.98453,     0.98454,     0.98456,     0.98457,     0.98459,      0.9846,     0.98462,     0.98463,     0.98464,     0.98466,     0.98467,     0.98469,      0.9847,     0.98472,     0.98473,     0.98475,     0.98476,     0.98478,     0.98479,     0.98481,\n",
      "            0.98482,     0.98484,     0.98485,     0.98487,     0.98488,      0.9849,     0.98491,     0.98493,     0.98494,     0.98496,     0.98497,     0.98499,       0.985,     0.98502,     0.98503,     0.98504,     0.98506,     0.98507,     0.98509,      0.9851,     0.98512,     0.98513,     0.98515,\n",
      "            0.98516,     0.98518,     0.98519,     0.98521,     0.98522,     0.98524,     0.98525,     0.98527,     0.98528,      0.9853,     0.98531,     0.98533,     0.98534,     0.98536,     0.98537,     0.98539,      0.9854,     0.98542,     0.98543,     0.98544,     0.98546,     0.98547,     0.98549,\n",
      "             0.9855,     0.98552,     0.98553,     0.98555,     0.98556,     0.98558,     0.98559,     0.98561,     0.98562,     0.98564,     0.98565,     0.98567,     0.98568,      0.9857,     0.98571,     0.98573,     0.98574,     0.98576,     0.98577,     0.98579,      0.9858,     0.98582,     0.98583,\n",
      "            0.98584,     0.98586,     0.98587,     0.98589,      0.9859,     0.98592,     0.98593,     0.98595,     0.98596,     0.98598,     0.98599,     0.98601,     0.98602,     0.98604,     0.98605,     0.98607,     0.98608,      0.9861,     0.98611,     0.98613,     0.98614,     0.98616,     0.98617,\n",
      "            0.98619,      0.9862,     0.98622,     0.98623,     0.98624,     0.98626,     0.98627,     0.98629,      0.9863,     0.98632,     0.98633,     0.98635,     0.98636,     0.98638,     0.98639,     0.98641,     0.98642,     0.98644,     0.98645,     0.98647,     0.98648,      0.9865,     0.98651,\n",
      "            0.98653,     0.98654,     0.98656,     0.98657,     0.98659,      0.9866,     0.98662,     0.98663,     0.98664,     0.98666,     0.98667,     0.98669,      0.9867,     0.98672,     0.98673,     0.98675,     0.98676,     0.98678,     0.98679,     0.98681,     0.98682,     0.98684,     0.98685,\n",
      "            0.98687,     0.98688,      0.9869,     0.98691,     0.98693,     0.98694,     0.98696,     0.98697,     0.98699,       0.987,     0.98702,     0.98703,     0.98705,     0.98706,     0.98707,     0.98709,      0.9871,     0.98712,     0.98713,     0.98715,     0.98716,     0.98718,     0.98719,\n",
      "            0.98721,     0.98722,     0.98724,     0.98725,     0.98727,     0.98728,      0.9873,     0.98731,     0.98733,     0.98734,     0.98736,     0.98737,     0.98739,      0.9874,     0.98742,     0.98743,     0.98745,     0.98746,     0.98747,     0.98749,      0.9875,     0.98752,     0.98753,\n",
      "            0.98755,     0.98756,     0.98758,     0.98759,     0.98761,     0.98762,     0.98764,     0.98765,     0.98767,     0.98768,      0.9877,     0.98771,     0.98773,     0.98774,     0.98776,     0.98777,     0.98779,      0.9878,     0.98782,     0.98783,     0.98785,     0.98786,     0.98787,\n",
      "            0.98789,      0.9879,     0.98792,     0.98793,     0.98795,     0.98796,     0.98798,     0.98799,     0.98801,     0.98802,     0.98804,     0.98805,     0.98807,     0.98808,      0.9881,     0.98811,     0.98813,     0.98814,     0.98816,     0.98817,     0.98819,      0.9882,     0.98822,\n",
      "            0.98823,     0.98825,     0.98826,     0.98827,     0.98829,      0.9883,     0.98832,     0.98833,     0.98835,     0.98836,     0.98838,     0.98839,     0.98841,     0.98842,     0.98844,     0.98845,     0.98847,     0.98848,      0.9885,     0.98851,     0.98853,     0.98854,     0.98856,\n",
      "            0.98857,     0.98859,      0.9886,     0.98862,     0.98863,     0.98865,     0.98866,     0.98867,     0.98869,      0.9887,     0.98872,     0.98873,     0.98875,     0.98876,     0.98878,     0.98879,     0.98881,     0.98882,     0.98884,     0.98885,     0.98887,     0.98888,      0.9889,\n",
      "            0.98891,     0.98893,     0.98894,     0.98896,     0.98897,     0.98899,       0.989,     0.98902,     0.98903,     0.98905,     0.98906,     0.98907,     0.98909,      0.9891,     0.98912,     0.98913,     0.98915,     0.98916,     0.98918,     0.98919,     0.98921,     0.98922,     0.98924,\n",
      "            0.98925,     0.98927,     0.98928,      0.9893,     0.98931,     0.98933,     0.98934,     0.98936,     0.98937,     0.98939,      0.9894,     0.98942,     0.98943,     0.98945,     0.98946,     0.98948,     0.98949,      0.9895,     0.98952,     0.98953,     0.98955,     0.98956,     0.98958,\n",
      "            0.98959,     0.98961,     0.98962,     0.98964,     0.98965,     0.98967,     0.98968,      0.9897,     0.98971,     0.98973,     0.98974,     0.98976,     0.98977,     0.98979,      0.9898,     0.98982,     0.98983,     0.98985,     0.98986,     0.98988,     0.98989,      0.9899,     0.98992,\n",
      "            0.98993,     0.98995,     0.98996,     0.98998,     0.98999,     0.99001,     0.99002,     0.99004,     0.99005,     0.99007,     0.99008,      0.9901,     0.99011,     0.99013,     0.99014,     0.99016,     0.99017,     0.99019,      0.9902,     0.99022,     0.99023,     0.99025,     0.99026,\n",
      "            0.99028,     0.99029,      0.9903,     0.99032,     0.99033,     0.99035,     0.99036,     0.99038,     0.99039,     0.99041,     0.99042,     0.99044,     0.99045,     0.99047,     0.99048,      0.9905,     0.99051,     0.99053,     0.99054,     0.99056,     0.99057,     0.99059,      0.9906,\n",
      "            0.99062,     0.99063,     0.99065,     0.99066,     0.99068,     0.99069,      0.9907,     0.99072,     0.99073,     0.99075,     0.99076,     0.99078,     0.99079,     0.99081,     0.99082,     0.99084,     0.99085,     0.99087,     0.99088,      0.9909,     0.99091,     0.99093,     0.99094,\n",
      "            0.99096,     0.99097,     0.99099,     0.99113,     0.99133,     0.99153,     0.99172,     0.99192,     0.99212,     0.99232,     0.99252,     0.99272,     0.99292,     0.99312,     0.99332,     0.99351,     0.99371,     0.99391,     0.99411,     0.99431,     0.99451,     0.99471,     0.99491,\n",
      "             0.9951,      0.9953,      0.9955,      0.9957,      0.9959,      0.9961,      0.9963,      0.9965,      0.9967,     0.99689,     0.99709,     0.99729,     0.99749,     0.99769,     0.99789,     0.99809,     0.99829,     0.99848,     0.99868,     0.99888,     0.99908,     0.99928,     0.99948,\n",
      "            0.99968,     0.99988,           1,           1,           1,           1,           1,           1,           1,           1,           1,           1,           1,           1,           1,           1,           1,           1,           1,           1,           1,           1,           1,\n",
      "                  1,           1,           1,           1,           1,           1,           1,           1,           1,           1,           1,           1,           1,           1,           1,           1,           1,           1,           1,           1,           1,           1,           1,\n",
      "                  1,           1,           1,           1,           1,           1,           1,           1,           1,           1,           1,           1,           1,           1,           1,           1,           1,           1,           1,           1,           1,           1,           1,\n",
      "                  1,           1,           1,           1,           1,           1,           1,           1,           1,           1,           1,           1,           1,           1,           1,           1,           1,           1,           1,           1,           1,           1,           1,\n",
      "                  1,           1,           1,           1,           1,           1,           1,           1,           1,           1,           1,           1,           1,           1,           1,           1,           1,           1,           1,           1,           1,           1,           1,\n",
      "                  1,           1,           1,           1,           1,           1,           1,           1,           1,           1,           1,           1,           1,           1,           1,           1,           1,           1,           1,           1,           1,           1,           1,\n",
      "                  1,           1,           1,           1,           1,           1,           1,           1,           1,           1,           1,           1,           1,           1,           1,           1,           1,           1,           1,           1,           1,           1,           1,\n",
      "                  1,           1,           1,           1,           1,           1,           1,           1,           1,           1,           1,           1,           1,           1,           1,           1,           1,           1,           1,           1,           1,           1,           1,\n",
      "                  1,           1,           1,           1,           1,           1,           1,           1,           1,           1,           1,           1,           1,           1,           1,           1,           1,           1,           1,           1,           1,           1,           1,\n",
      "                  1,           1,           1,           1,           1,           1,           1,           1,           1,           1,           1,           1,           1,           1,           1,           1,           1,           1,           1,           1,           1,           1,           1,\n",
      "                  1,           1,           1,           1,           1,           1,           1,           1,           1,           1,           1]]), 'Confidence', 'Precision'], [array([          0,    0.001001,    0.002002,    0.003003,    0.004004,    0.005005,    0.006006,    0.007007,    0.008008,    0.009009,     0.01001,    0.011011,    0.012012,    0.013013,    0.014014,    0.015015,    0.016016,    0.017017,    0.018018,    0.019019,     0.02002,    0.021021,    0.022022,    0.023023,\n",
      "          0.024024,    0.025025,    0.026026,    0.027027,    0.028028,    0.029029,     0.03003,    0.031031,    0.032032,    0.033033,    0.034034,    0.035035,    0.036036,    0.037037,    0.038038,    0.039039,     0.04004,    0.041041,    0.042042,    0.043043,    0.044044,    0.045045,    0.046046,    0.047047,\n",
      "          0.048048,    0.049049,     0.05005,    0.051051,    0.052052,    0.053053,    0.054054,    0.055055,    0.056056,    0.057057,    0.058058,    0.059059,     0.06006,    0.061061,    0.062062,    0.063063,    0.064064,    0.065065,    0.066066,    0.067067,    0.068068,    0.069069,     0.07007,    0.071071,\n",
      "          0.072072,    0.073073,    0.074074,    0.075075,    0.076076,    0.077077,    0.078078,    0.079079,     0.08008,    0.081081,    0.082082,    0.083083,    0.084084,    0.085085,    0.086086,    0.087087,    0.088088,    0.089089,     0.09009,    0.091091,    0.092092,    0.093093,    0.094094,    0.095095,\n",
      "          0.096096,    0.097097,    0.098098,    0.099099,      0.1001,      0.1011,      0.1021,      0.1031,      0.1041,     0.10511,     0.10611,     0.10711,     0.10811,     0.10911,     0.11011,     0.11111,     0.11211,     0.11311,     0.11411,     0.11512,     0.11612,     0.11712,     0.11812,     0.11912,\n",
      "           0.12012,     0.12112,     0.12212,     0.12312,     0.12412,     0.12513,     0.12613,     0.12713,     0.12813,     0.12913,     0.13013,     0.13113,     0.13213,     0.13313,     0.13413,     0.13514,     0.13614,     0.13714,     0.13814,     0.13914,     0.14014,     0.14114,     0.14214,     0.14314,\n",
      "           0.14414,     0.14515,     0.14615,     0.14715,     0.14815,     0.14915,     0.15015,     0.15115,     0.15215,     0.15315,     0.15415,     0.15516,     0.15616,     0.15716,     0.15816,     0.15916,     0.16016,     0.16116,     0.16216,     0.16316,     0.16416,     0.16517,     0.16617,     0.16717,\n",
      "           0.16817,     0.16917,     0.17017,     0.17117,     0.17217,     0.17317,     0.17417,     0.17518,     0.17618,     0.17718,     0.17818,     0.17918,     0.18018,     0.18118,     0.18218,     0.18318,     0.18418,     0.18519,     0.18619,     0.18719,     0.18819,     0.18919,     0.19019,     0.19119,\n",
      "           0.19219,     0.19319,     0.19419,      0.1952,      0.1962,      0.1972,      0.1982,      0.1992,      0.2002,      0.2012,      0.2022,      0.2032,      0.2042,     0.20521,     0.20621,     0.20721,     0.20821,     0.20921,     0.21021,     0.21121,     0.21221,     0.21321,     0.21421,     0.21522,\n",
      "           0.21622,     0.21722,     0.21822,     0.21922,     0.22022,     0.22122,     0.22222,     0.22322,     0.22422,     0.22523,     0.22623,     0.22723,     0.22823,     0.22923,     0.23023,     0.23123,     0.23223,     0.23323,     0.23423,     0.23524,     0.23624,     0.23724,     0.23824,     0.23924,\n",
      "           0.24024,     0.24124,     0.24224,     0.24324,     0.24424,     0.24525,     0.24625,     0.24725,     0.24825,     0.24925,     0.25025,     0.25125,     0.25225,     0.25325,     0.25425,     0.25526,     0.25626,     0.25726,     0.25826,     0.25926,     0.26026,     0.26126,     0.26226,     0.26326,\n",
      "           0.26426,     0.26527,     0.26627,     0.26727,     0.26827,     0.26927,     0.27027,     0.27127,     0.27227,     0.27327,     0.27427,     0.27528,     0.27628,     0.27728,     0.27828,     0.27928,     0.28028,     0.28128,     0.28228,     0.28328,     0.28428,     0.28529,     0.28629,     0.28729,\n",
      "           0.28829,     0.28929,     0.29029,     0.29129,     0.29229,     0.29329,     0.29429,      0.2953,      0.2963,      0.2973,      0.2983,      0.2993,      0.3003,      0.3013,      0.3023,      0.3033,      0.3043,     0.30531,     0.30631,     0.30731,     0.30831,     0.30931,     0.31031,     0.31131,\n",
      "           0.31231,     0.31331,     0.31431,     0.31532,     0.31632,     0.31732,     0.31832,     0.31932,     0.32032,     0.32132,     0.32232,     0.32332,     0.32432,     0.32533,     0.32633,     0.32733,     0.32833,     0.32933,     0.33033,     0.33133,     0.33233,     0.33333,     0.33433,     0.33534,\n",
      "           0.33634,     0.33734,     0.33834,     0.33934,     0.34034,     0.34134,     0.34234,     0.34334,     0.34434,     0.34535,     0.34635,     0.34735,     0.34835,     0.34935,     0.35035,     0.35135,     0.35235,     0.35335,     0.35435,     0.35536,     0.35636,     0.35736,     0.35836,     0.35936,\n",
      "           0.36036,     0.36136,     0.36236,     0.36336,     0.36436,     0.36537,     0.36637,     0.36737,     0.36837,     0.36937,     0.37037,     0.37137,     0.37237,     0.37337,     0.37437,     0.37538,     0.37638,     0.37738,     0.37838,     0.37938,     0.38038,     0.38138,     0.38238,     0.38338,\n",
      "           0.38438,     0.38539,     0.38639,     0.38739,     0.38839,     0.38939,     0.39039,     0.39139,     0.39239,     0.39339,     0.39439,      0.3954,      0.3964,      0.3974,      0.3984,      0.3994,      0.4004,      0.4014,      0.4024,      0.4034,      0.4044,     0.40541,     0.40641,     0.40741,\n",
      "           0.40841,     0.40941,     0.41041,     0.41141,     0.41241,     0.41341,     0.41441,     0.41542,     0.41642,     0.41742,     0.41842,     0.41942,     0.42042,     0.42142,     0.42242,     0.42342,     0.42442,     0.42543,     0.42643,     0.42743,     0.42843,     0.42943,     0.43043,     0.43143,\n",
      "           0.43243,     0.43343,     0.43443,     0.43544,     0.43644,     0.43744,     0.43844,     0.43944,     0.44044,     0.44144,     0.44244,     0.44344,     0.44444,     0.44545,     0.44645,     0.44745,     0.44845,     0.44945,     0.45045,     0.45145,     0.45245,     0.45345,     0.45445,     0.45546,\n",
      "           0.45646,     0.45746,     0.45846,     0.45946,     0.46046,     0.46146,     0.46246,     0.46346,     0.46446,     0.46547,     0.46647,     0.46747,     0.46847,     0.46947,     0.47047,     0.47147,     0.47247,     0.47347,     0.47447,     0.47548,     0.47648,     0.47748,     0.47848,     0.47948,\n",
      "           0.48048,     0.48148,     0.48248,     0.48348,     0.48448,     0.48549,     0.48649,     0.48749,     0.48849,     0.48949,     0.49049,     0.49149,     0.49249,     0.49349,     0.49449,      0.4955,      0.4965,      0.4975,      0.4985,      0.4995,      0.5005,      0.5015,      0.5025,      0.5035,\n",
      "            0.5045,     0.50551,     0.50651,     0.50751,     0.50851,     0.50951,     0.51051,     0.51151,     0.51251,     0.51351,     0.51451,     0.51552,     0.51652,     0.51752,     0.51852,     0.51952,     0.52052,     0.52152,     0.52252,     0.52352,     0.52452,     0.52553,     0.52653,     0.52753,\n",
      "           0.52853,     0.52953,     0.53053,     0.53153,     0.53253,     0.53353,     0.53453,     0.53554,     0.53654,     0.53754,     0.53854,     0.53954,     0.54054,     0.54154,     0.54254,     0.54354,     0.54454,     0.54555,     0.54655,     0.54755,     0.54855,     0.54955,     0.55055,     0.55155,\n",
      "           0.55255,     0.55355,     0.55455,     0.55556,     0.55656,     0.55756,     0.55856,     0.55956,     0.56056,     0.56156,     0.56256,     0.56356,     0.56456,     0.56557,     0.56657,     0.56757,     0.56857,     0.56957,     0.57057,     0.57157,     0.57257,     0.57357,     0.57457,     0.57558,\n",
      "           0.57658,     0.57758,     0.57858,     0.57958,     0.58058,     0.58158,     0.58258,     0.58358,     0.58458,     0.58559,     0.58659,     0.58759,     0.58859,     0.58959,     0.59059,     0.59159,     0.59259,     0.59359,     0.59459,      0.5956,      0.5966,      0.5976,      0.5986,      0.5996,\n",
      "            0.6006,      0.6016,      0.6026,      0.6036,      0.6046,     0.60561,     0.60661,     0.60761,     0.60861,     0.60961,     0.61061,     0.61161,     0.61261,     0.61361,     0.61461,     0.61562,     0.61662,     0.61762,     0.61862,     0.61962,     0.62062,     0.62162,     0.62262,     0.62362,\n",
      "           0.62462,     0.62563,     0.62663,     0.62763,     0.62863,     0.62963,     0.63063,     0.63163,     0.63263,     0.63363,     0.63463,     0.63564,     0.63664,     0.63764,     0.63864,     0.63964,     0.64064,     0.64164,     0.64264,     0.64364,     0.64464,     0.64565,     0.64665,     0.64765,\n",
      "           0.64865,     0.64965,     0.65065,     0.65165,     0.65265,     0.65365,     0.65465,     0.65566,     0.65666,     0.65766,     0.65866,     0.65966,     0.66066,     0.66166,     0.66266,     0.66366,     0.66466,     0.66567,     0.66667,     0.66767,     0.66867,     0.66967,     0.67067,     0.67167,\n",
      "           0.67267,     0.67367,     0.67467,     0.67568,     0.67668,     0.67768,     0.67868,     0.67968,     0.68068,     0.68168,     0.68268,     0.68368,     0.68468,     0.68569,     0.68669,     0.68769,     0.68869,     0.68969,     0.69069,     0.69169,     0.69269,     0.69369,     0.69469,      0.6957,\n",
      "            0.6967,      0.6977,      0.6987,      0.6997,      0.7007,      0.7017,      0.7027,      0.7037,      0.7047,     0.70571,     0.70671,     0.70771,     0.70871,     0.70971,     0.71071,     0.71171,     0.71271,     0.71371,     0.71471,     0.71572,     0.71672,     0.71772,     0.71872,     0.71972,\n",
      "           0.72072,     0.72172,     0.72272,     0.72372,     0.72472,     0.72573,     0.72673,     0.72773,     0.72873,     0.72973,     0.73073,     0.73173,     0.73273,     0.73373,     0.73473,     0.73574,     0.73674,     0.73774,     0.73874,     0.73974,     0.74074,     0.74174,     0.74274,     0.74374,\n",
      "           0.74474,     0.74575,     0.74675,     0.74775,     0.74875,     0.74975,     0.75075,     0.75175,     0.75275,     0.75375,     0.75475,     0.75576,     0.75676,     0.75776,     0.75876,     0.75976,     0.76076,     0.76176,     0.76276,     0.76376,     0.76476,     0.76577,     0.76677,     0.76777,\n",
      "           0.76877,     0.76977,     0.77077,     0.77177,     0.77277,     0.77377,     0.77477,     0.77578,     0.77678,     0.77778,     0.77878,     0.77978,     0.78078,     0.78178,     0.78278,     0.78378,     0.78478,     0.78579,     0.78679,     0.78779,     0.78879,     0.78979,     0.79079,     0.79179,\n",
      "           0.79279,     0.79379,     0.79479,      0.7958,      0.7968,      0.7978,      0.7988,      0.7998,      0.8008,      0.8018,      0.8028,      0.8038,      0.8048,     0.80581,     0.80681,     0.80781,     0.80881,     0.80981,     0.81081,     0.81181,     0.81281,     0.81381,     0.81481,     0.81582,\n",
      "           0.81682,     0.81782,     0.81882,     0.81982,     0.82082,     0.82182,     0.82282,     0.82382,     0.82482,     0.82583,     0.82683,     0.82783,     0.82883,     0.82983,     0.83083,     0.83183,     0.83283,     0.83383,     0.83483,     0.83584,     0.83684,     0.83784,     0.83884,     0.83984,\n",
      "           0.84084,     0.84184,     0.84284,     0.84384,     0.84484,     0.84585,     0.84685,     0.84785,     0.84885,     0.84985,     0.85085,     0.85185,     0.85285,     0.85385,     0.85485,     0.85586,     0.85686,     0.85786,     0.85886,     0.85986,     0.86086,     0.86186,     0.86286,     0.86386,\n",
      "           0.86486,     0.86587,     0.86687,     0.86787,     0.86887,     0.86987,     0.87087,     0.87187,     0.87287,     0.87387,     0.87487,     0.87588,     0.87688,     0.87788,     0.87888,     0.87988,     0.88088,     0.88188,     0.88288,     0.88388,     0.88488,     0.88589,     0.88689,     0.88789,\n",
      "           0.88889,     0.88989,     0.89089,     0.89189,     0.89289,     0.89389,     0.89489,      0.8959,      0.8969,      0.8979,      0.8989,      0.8999,      0.9009,      0.9019,      0.9029,      0.9039,      0.9049,     0.90591,     0.90691,     0.90791,     0.90891,     0.90991,     0.91091,     0.91191,\n",
      "           0.91291,     0.91391,     0.91491,     0.91592,     0.91692,     0.91792,     0.91892,     0.91992,     0.92092,     0.92192,     0.92292,     0.92392,     0.92492,     0.92593,     0.92693,     0.92793,     0.92893,     0.92993,     0.93093,     0.93193,     0.93293,     0.93393,     0.93493,     0.93594,\n",
      "           0.93694,     0.93794,     0.93894,     0.93994,     0.94094,     0.94194,     0.94294,     0.94394,     0.94494,     0.94595,     0.94695,     0.94795,     0.94895,     0.94995,     0.95095,     0.95195,     0.95295,     0.95395,     0.95495,     0.95596,     0.95696,     0.95796,     0.95896,     0.95996,\n",
      "           0.96096,     0.96196,     0.96296,     0.96396,     0.96496,     0.96597,     0.96697,     0.96797,     0.96897,     0.96997,     0.97097,     0.97197,     0.97297,     0.97397,     0.97497,     0.97598,     0.97698,     0.97798,     0.97898,     0.97998,     0.98098,     0.98198,     0.98298,     0.98398,\n",
      "           0.98498,     0.98599,     0.98699,     0.98799,     0.98899,     0.98999,     0.99099,     0.99199,     0.99299,     0.99399,     0.99499,       0.996,       0.997,       0.998,       0.999,           1]), array([[          1,           1,           1,     0.99099,     0.99099,     0.99099,     0.99099,     0.99099,     0.99099,     0.99099,     0.99099,     0.99099,     0.99099,     0.99099,     0.99099,     0.99099,     0.99099,     0.99099,     0.99099,     0.99099,     0.99099,     0.99099,     0.99099,\n",
      "            0.99099,     0.99099,     0.99099,     0.99099,     0.99099,     0.99099,     0.99099,     0.99099,     0.99099,     0.99099,     0.99099,     0.99099,     0.99099,     0.99099,     0.99099,     0.99099,     0.99099,     0.99099,     0.99099,     0.99099,     0.99099,     0.99099,     0.99099,\n",
      "            0.99099,     0.99099,     0.99099,     0.99099,     0.99099,     0.99099,     0.99099,     0.99099,     0.99099,     0.99099,     0.99099,     0.99099,     0.99099,     0.99099,     0.99099,     0.99099,     0.99099,     0.99099,     0.99099,     0.99099,     0.99099,     0.99099,     0.99099,\n",
      "            0.99099,     0.99099,     0.99099,     0.99099,     0.99099,     0.99099,     0.99099,     0.99099,     0.99099,     0.99099,     0.99099,     0.99099,     0.99099,     0.99099,     0.99099,     0.99099,     0.99099,     0.99099,     0.99099,     0.99099,     0.99099,     0.99099,     0.99099,\n",
      "            0.99099,     0.99099,     0.99099,     0.99099,     0.99099,     0.99099,     0.99099,     0.99099,     0.99099,     0.99099,     0.99099,     0.99099,     0.99099,     0.99099,     0.99099,     0.99099,     0.99099,     0.99099,     0.99099,     0.99099,     0.99099,     0.99099,     0.99099,\n",
      "            0.99099,     0.99099,     0.99099,     0.99099,     0.99099,     0.99099,     0.99099,     0.99099,     0.99099,     0.99099,     0.99099,     0.99099,     0.99099,     0.99099,     0.99099,     0.99099,     0.99099,     0.99099,     0.99099,     0.99099,     0.99099,     0.99099,     0.99099,\n",
      "            0.99099,     0.99099,     0.99099,     0.99099,     0.99099,     0.99099,     0.99099,     0.99099,     0.99099,     0.99099,     0.99099,     0.99099,     0.99099,     0.99099,     0.99099,     0.99099,     0.99099,     0.99099,     0.99099,     0.99099,     0.99099,     0.99099,     0.99099,\n",
      "            0.99099,     0.99099,     0.99099,     0.99099,     0.99099,     0.99099,     0.99099,     0.99099,     0.99099,     0.99099,     0.99099,     0.99099,     0.99099,     0.99099,     0.99099,     0.99099,     0.99099,     0.99099,     0.99099,     0.99099,     0.99099,     0.99099,     0.99099,\n",
      "            0.99099,     0.99099,     0.99099,     0.99099,     0.99099,     0.99099,     0.99099,     0.99099,     0.99099,     0.99099,     0.99099,     0.99099,     0.99099,     0.99099,     0.99099,     0.99099,     0.99099,     0.99099,     0.99099,     0.99099,     0.99099,     0.99099,     0.99099,\n",
      "            0.99099,     0.99099,     0.99099,     0.99099,     0.99099,     0.99099,     0.99099,     0.99099,     0.99099,     0.99099,     0.99099,     0.99099,     0.99099,     0.99099,     0.99099,     0.99099,     0.99099,     0.99099,     0.99099,     0.99099,     0.99099,     0.99099,     0.99099,\n",
      "            0.99099,     0.99099,     0.99099,     0.99099,     0.99099,     0.99099,     0.99099,     0.99099,     0.99099,     0.99099,     0.99099,     0.99099,     0.99099,     0.99099,     0.99099,     0.99099,     0.99099,     0.99099,     0.99099,     0.99099,     0.99099,     0.99099,     0.99099,\n",
      "            0.99099,     0.99099,     0.99099,     0.99099,     0.99099,     0.99099,     0.99099,     0.99099,     0.99099,     0.99099,     0.99099,     0.99099,     0.99099,     0.99099,     0.99099,     0.99099,     0.99099,     0.99099,     0.99099,     0.99099,     0.99099,     0.99099,     0.99099,\n",
      "            0.99099,     0.99099,     0.99099,     0.99099,     0.99099,     0.99099,     0.99099,     0.99099,     0.99099,     0.99099,     0.99099,     0.99099,     0.99099,     0.99099,     0.99099,     0.99099,     0.99099,     0.99099,     0.99099,     0.99099,     0.99099,     0.99099,     0.99099,\n",
      "            0.99099,     0.99099,     0.99099,     0.99099,     0.99099,     0.99099,     0.99099,     0.99099,     0.99099,     0.99099,     0.99099,     0.99099,     0.99099,     0.99099,     0.99099,     0.99099,     0.99099,     0.99099,     0.99099,     0.99099,     0.99099,     0.99099,     0.99099,\n",
      "            0.99099,     0.99099,     0.99099,     0.99099,     0.99099,     0.99099,     0.99099,     0.99099,     0.99099,     0.99099,     0.99099,     0.99099,     0.99099,     0.99099,     0.99099,     0.99099,     0.99099,     0.99099,     0.99099,     0.99099,     0.99099,     0.99099,     0.99099,\n",
      "            0.99099,     0.99099,     0.99099,     0.99099,     0.99099,     0.99099,     0.99099,     0.99099,     0.99099,     0.99099,     0.99099,     0.99099,     0.99099,     0.99099,     0.99099,     0.99099,     0.99099,     0.99099,     0.99099,     0.99099,     0.99099,     0.99099,     0.99099,\n",
      "            0.99099,     0.99099,     0.99099,     0.99099,     0.99099,     0.99099,     0.99099,     0.99099,     0.99099,     0.99099,     0.99099,     0.99099,     0.99099,     0.99099,     0.99099,     0.99099,     0.99099,     0.99099,     0.99099,     0.99099,     0.99099,     0.99099,     0.99099,\n",
      "            0.99099,     0.99099,     0.99099,     0.99099,     0.99099,     0.99099,     0.99099,     0.99099,     0.99099,     0.99099,     0.99099,     0.99099,     0.99099,     0.99099,     0.99099,     0.99099,     0.99099,     0.99099,     0.99099,     0.99099,     0.99099,     0.99099,     0.99099,\n",
      "            0.99099,     0.99099,     0.99099,     0.99099,     0.99099,     0.99099,     0.99099,     0.99099,     0.99099,     0.99099,     0.99099,     0.99099,     0.99099,     0.99099,     0.99099,     0.99099,     0.99099,     0.99099,     0.99099,     0.99099,     0.99099,     0.99099,     0.99099,\n",
      "            0.99099,     0.99099,     0.99099,     0.99099,     0.99099,     0.99099,     0.99099,     0.99099,     0.99099,     0.99099,     0.99099,     0.99099,     0.99099,     0.99099,     0.99099,     0.99099,     0.99099,     0.99099,     0.99099,     0.99099,     0.99099,     0.99099,     0.99099,\n",
      "            0.99099,     0.99099,     0.99099,     0.99099,     0.99099,     0.99099,     0.99099,     0.99099,     0.99099,     0.99099,     0.99099,     0.99099,     0.99099,     0.99099,     0.99099,     0.99099,     0.99099,     0.99099,     0.99099,     0.99099,     0.99099,     0.99099,     0.99099,\n",
      "            0.99099,     0.99099,     0.99099,     0.99099,     0.99099,     0.99099,     0.99099,     0.99099,     0.99099,     0.99099,     0.99099,     0.99099,     0.99099,     0.99099,     0.99099,     0.99099,     0.99099,     0.99099,     0.99099,     0.99099,     0.99099,     0.99099,     0.99099,\n",
      "            0.99099,     0.99099,     0.99099,     0.99099,     0.99099,     0.99099,     0.99099,     0.99099,     0.99099,     0.99099,     0.99099,     0.99099,     0.99099,     0.99099,     0.99099,     0.99099,     0.99099,     0.99099,     0.99099,     0.99099,     0.99099,     0.99099,     0.99099,\n",
      "            0.99099,     0.99099,     0.99099,     0.99099,     0.99099,     0.99099,     0.99099,     0.99099,     0.99099,     0.99099,     0.99099,     0.99099,     0.99099,     0.99099,     0.99099,     0.99099,     0.99099,     0.99099,     0.99099,     0.99099,     0.99099,     0.99099,     0.99099,\n",
      "            0.99099,     0.99099,     0.99099,     0.99099,     0.99099,     0.99099,     0.99099,     0.99099,     0.99099,     0.99099,     0.99099,     0.99099,     0.99099,     0.99099,     0.99099,     0.99099,     0.99099,     0.99099,     0.99099,     0.99099,     0.99099,     0.99099,     0.99099,\n",
      "            0.99099,     0.99099,     0.99099,     0.99099,     0.99099,     0.99099,     0.99099,     0.99099,     0.99099,     0.99099,     0.99099,     0.99099,     0.99099,     0.99099,     0.99099,     0.99099,     0.99099,     0.99099,     0.99099,     0.99099,     0.99099,     0.99099,     0.99099,\n",
      "            0.99099,     0.99099,     0.99099,     0.99099,     0.99099,     0.99099,     0.99099,     0.99099,     0.99099,     0.99099,     0.99099,     0.99099,     0.99099,     0.99099,     0.99099,     0.99099,     0.99099,     0.99099,     0.99099,     0.99099,     0.99099,     0.99099,     0.99099,\n",
      "            0.99099,     0.99099,     0.99099,     0.99099,     0.99099,     0.99099,     0.99099,     0.99099,     0.99099,     0.99099,     0.99099,     0.99099,     0.99099,     0.99099,     0.99099,     0.99099,     0.99099,     0.99099,     0.99099,     0.99099,     0.99099,     0.99099,     0.99099,\n",
      "            0.99099,     0.99099,     0.99099,     0.99099,     0.99099,     0.99099,     0.99099,     0.99099,     0.99099,     0.99099,     0.99099,     0.99099,     0.99099,     0.99099,     0.99099,     0.99099,     0.99099,     0.99099,     0.99099,     0.99099,     0.99099,     0.99099,     0.99099,\n",
      "            0.99099,     0.99099,     0.99099,     0.99099,     0.99099,     0.99099,     0.99099,     0.99099,     0.99099,     0.99099,     0.99099,     0.99099,     0.99099,     0.99099,     0.99099,     0.99099,     0.99099,     0.99099,     0.99099,     0.99099,     0.99099,     0.99099,     0.99099,\n",
      "            0.99099,     0.99099,     0.99099,     0.99099,     0.99099,     0.99099,     0.99099,     0.99099,     0.99099,     0.99099,     0.99099,     0.99099,     0.99099,     0.99099,     0.99099,     0.99099,     0.99099,     0.99099,     0.99099,     0.99099,     0.99099,     0.99099,     0.99099,\n",
      "            0.99099,     0.99099,     0.99099,     0.99099,     0.99099,     0.99099,     0.99099,     0.99099,     0.99099,     0.99099,     0.99099,     0.99099,     0.99099,     0.99099,     0.99099,     0.99099,     0.99099,     0.99099,     0.99099,     0.99099,     0.99099,     0.99099,     0.99099,\n",
      "            0.99099,     0.99099,     0.99099,     0.99099,     0.99099,     0.99099,     0.99099,     0.99099,     0.99099,     0.99099,     0.99099,     0.99099,     0.99099,     0.99099,     0.99099,     0.99099,     0.99099,     0.99099,     0.99099,     0.99099,     0.99099,     0.99099,     0.99099,\n",
      "            0.99099,     0.99099,     0.99092,     0.99075,     0.99057,      0.9904,     0.99022,     0.99005,     0.98987,     0.98969,     0.98952,     0.98934,     0.98917,     0.98899,     0.98881,     0.98864,     0.98846,     0.98829,     0.98811,     0.98794,     0.98776,     0.98758,     0.98741,\n",
      "            0.98723,     0.98706,     0.98688,      0.9867,     0.98653,     0.98635,     0.98618,       0.986,     0.98583,     0.98565,     0.98547,      0.9853,     0.98512,     0.98495,     0.98477,     0.98459,     0.98442,     0.98424,     0.98407,     0.98389,     0.98372,     0.98354,     0.98336,\n",
      "            0.98319,     0.98301,     0.98284,     0.98266,     0.98248,     0.98231,     0.98213,     0.98179,     0.98043,     0.97907,     0.97772,     0.97636,       0.975,     0.97364,     0.97199,     0.97005,     0.96811,     0.96617,     0.96423,     0.96319,     0.96228,     0.96138,     0.96047,\n",
      "            0.95957,     0.95867,     0.95776,     0.95686,     0.95595,     0.95505,     0.95376,     0.95243,      0.9511,     0.94977,     0.94844,     0.94711,     0.94579,     0.94448,     0.94317,     0.94187,     0.94056,     0.93925,     0.93795,     0.93634,      0.9337,     0.93106,     0.92842,\n",
      "            0.92764,     0.92728,     0.92692,     0.92656,     0.92621,     0.92585,     0.92549,     0.92513,     0.92478,     0.92442,     0.92406,      0.9237,     0.92334,     0.92299,     0.92263,     0.92227,     0.92191,     0.92156,      0.9212,     0.92084,     0.92048,     0.92012,     0.91977,\n",
      "            0.91941,     0.91905,     0.91712,     0.91427,     0.91142,     0.90523,     0.90028,     0.89918,     0.89808,     0.89698,     0.89589,     0.89479,     0.89369,     0.89259,     0.89037,     0.88621,      0.8778,     0.86834,     0.86154,     0.85336,     0.81611,     0.79647,     0.78835,\n",
      "            0.77577,     0.75155,     0.74184,     0.72747,     0.72103,     0.71367,     0.70533,     0.68527,     0.67098,     0.66069,      0.6365,     0.62253,     0.61415,     0.59803,     0.54387,     0.51923,     0.50886,     0.49704,     0.47949,     0.46003,     0.43157,     0.41833,     0.39021,\n",
      "             0.3596,     0.31393,     0.30865,     0.30202,     0.28719,     0.28377,     0.28036,     0.27189,     0.24962,     0.24253,     0.23632,        0.22,      0.1866,     0.16845,      0.1583,     0.14949,     0.13279,     0.12756,     0.11341,     0.10598,    0.092745,    0.081649,    0.079018,\n",
      "           0.076834,     0.07465,    0.072466,    0.063305,    0.052857,    0.050561,    0.048265,    0.045969,     0.04273,    0.038855,    0.034973,    0.031072,    0.027171,     0.02264,    0.018084,           0,           0,           0,           0,           0,           0,           0,           0,\n",
      "                  0,           0,           0,           0,           0,           0,           0,           0,           0,           0,           0,           0,           0,           0,           0,           0,           0,           0,           0,           0,           0,           0,           0,\n",
      "                  0,           0,           0,           0,           0,           0,           0,           0,           0,           0,           0]]), 'Confidence', 'Recall']]\n",
      "fitness: 1.827933230916881\n",
      "keys: ['metrics/precision(B)', 'metrics/recall(B)', 'metrics/mAP50(B)', 'metrics/mAP50-95(B)', 'metrics/precision(M)', 'metrics/recall(M)', 'metrics/mAP50(M)', 'metrics/mAP50-95(M)']\n",
      "maps: array([     1.8099])\n",
      "names: {0: 'medidor'}\n",
      "plot: True\n",
      "results_dict: {'metrics/precision(B)': 1.0, 'metrics/recall(B)': 0.9909247811514943, 'metrics/mAP50(B)': 0.995, 'metrics/mAP50-95(B)': 0.9248974118632691, 'metrics/precision(M)': 1.0, 'metrics/recall(M)': 0.9909247811514943, 'metrics/mAP50(M)': 0.995, 'metrics/mAP50-95(M)': 0.8850284002665985, 'fitness': 1.827933230916881}\n",
      "save_dir: WindowsPath('runs/segmentation/val2')\n",
      "seg: ultralytics.utils.metrics.Metric object\n",
      "speed: {'preprocess': 5.958866428684543, 'inference': 192.90644198924574, 'loss': 0.0, 'postprocess': 0.9725652299485764}\n",
      "task: 'segment'\n"
     ]
    }
   ],
   "source": [
    "from ultralytics import YOLO\n",
    "from pathlib import Path\n",
    "\n",
    "# Directorio del archivo YAML\n",
    "data_dir = Path(CURRENT_PATH) / 'data' / 'data.yaml'\n",
    "\n",
    "# Ruta del modelo entrenado\n",
    "model_path = Path(CURRENT_PATH) / 'runs' / 'segment' / 'train' / 'weights' / 'best.pt'\n",
    "\n",
    "# Cargar el modelo entrenado\n",
    "model = YOLO(model_path)\n",
    "\n",
    "# Realizar la prueba\n",
    "test_results = model.val(\n",
    "    data=data_dir,       # Directorio con el archivo YAML\n",
    "    imgsz=640,           # Tamaño de las imágenes\n",
    "    task='segmentation', # Especificar que es una tarea de segmentación\n",
    "    split='test'\n",
    ")\n",
    "\n",
    "# Mostrar los resultados de la prueba\n",
    "print(\"Resultados del Test:\")\n",
    "print(test_results)\n"
   ]
  },
  {
   "cell_type": "code",
   "execution_count": 168,
   "metadata": {},
   "outputs": [
    {
     "name": "stdout",
     "output_type": "stream",
     "text": [
      "\n",
      "0: 640x480 1 medidor, 230.0ms\n",
      "Speed: 5.1ms preprocess, 230.0ms inference, 3.0ms postprocess per image at shape (1, 3, 640, 480)\n",
      "Results saved to \u001b[1mruns\\segment\\predict4\u001b[0m\n"
     ]
    }
   ],
   "source": [
    "import numpy as np\n",
    "\n",
    "model_path = os.path.join('runs', 'segment', 'train', 'weights', 'best.pt')\n",
    "\n",
    "# Cargar el modelo entrenado\n",
    "model = YOLO(model_path)\n",
    "\n",
    "# Cargar una imagen\n",
    "image_path = r'data\\images\\test\\id_319_value_1669_853.jpg'\n",
    "image = cv2.imread(image_path)\n",
    "\n",
    "# Realizar la predicción\n",
    "results = model(image, save=True, conf=0.5)  # 'conf' es el umbral de confianza\n",
    "\n",
    "# Mostrar la imagen con los resultados\n",
    "for result in results:\n",
    "    annotated_frame = result.plot()  # Dibuja las predicciones en la imagen\n",
    "    cv2.imshow(\"Predicción\", annotated_frame)\n",
    "    cv2.waitKey(0)\n",
    "    cv2.destroyAllWindows()"
   ]
  },
  {
   "cell_type": "code",
   "execution_count": 167,
   "metadata": {},
   "outputs": [
    {
     "name": "stdout",
     "output_type": "stream",
     "text": [
      "\n",
      "0: 640x480 1 medidor, 209.1ms\n",
      "Speed: 6.0ms preprocess, 209.1ms inference, 4.0ms postprocess per image at shape (1, 3, 640, 480)\n",
      "[2024/12/11 22:24:11] ppocr DEBUG: Namespace(help='==SUPPRESS==', use_gpu=False, use_xpu=False, use_npu=False, use_mlu=False, ir_optim=True, use_tensorrt=False, min_subgraph_size=15, precision='fp32', gpu_mem=500, gpu_id=0, image_dir=None, page_num=0, det_algorithm='DB', det_model_dir='C:\\\\Users\\\\HP/.paddleocr/whl\\\\det\\\\en\\\\en_PP-OCRv3_det_infer', det_limit_side_len=960, det_limit_type='max', det_box_type='quad', det_db_thresh=0.3, det_db_box_thresh=0.6, det_db_unclip_ratio=1.5, max_batch_size=10, use_dilation=False, det_db_score_mode='fast', det_east_score_thresh=0.8, det_east_cover_thresh=0.1, det_east_nms_thresh=0.2, det_sast_score_thresh=0.5, det_sast_nms_thresh=0.2, det_pse_thresh=0, det_pse_box_thresh=0.85, det_pse_min_area=16, det_pse_scale=1, scales=[8, 16, 32], alpha=1.0, beta=1.0, fourier_degree=5, rec_algorithm='SVTR_LCNet', rec_model_dir='C:\\\\Users\\\\HP/.paddleocr/whl\\\\rec\\\\latin\\\\latin_PP-OCRv3_rec_infer', rec_image_inverse=True, rec_image_shape='3, 48, 320', rec_batch_num=6, max_text_length=25, rec_char_dict_path='C:\\\\Users\\\\HP\\\\AppData\\\\Roaming\\\\Python\\\\Python312\\\\site-packages\\\\paddleocr\\\\ppocr\\\\utils\\\\dict\\\\latin_dict.txt', use_space_char=True, vis_font_path='./doc/fonts/simfang.ttf', drop_score=0.5, e2e_algorithm='PGNet', e2e_model_dir=None, e2e_limit_side_len=768, e2e_limit_type='max', e2e_pgnet_score_thresh=0.5, e2e_char_dict_path='./ppocr/utils/ic15_dict.txt', e2e_pgnet_valid_set='totaltext', e2e_pgnet_mode='fast', use_angle_cls=True, cls_model_dir='C:\\\\Users\\\\HP/.paddleocr/whl\\\\cls\\\\ch_ppocr_mobile_v2.0_cls_infer', cls_image_shape='3, 48, 192', label_list=['0', '180'], cls_batch_num=6, cls_thresh=0.9, enable_mkldnn=False, cpu_threads=10, use_pdserving=False, warmup=False, sr_model_dir=None, sr_image_shape='3, 32, 128', sr_batch_num=1, draw_img_save_dir='./inference_results', save_crop_res=False, crop_res_save_dir='./output', use_mp=False, total_process_num=1, process_id=0, benchmark=False, save_log_path='./log_output/', show_log=True, use_onnx=False, return_word_box=False, output='./output', table_max_len=488, table_algorithm='TableAttn', table_model_dir=None, merge_no_span_structure=True, table_char_dict_path=None, formula_algorithm='LaTeXOCR', formula_model_dir=None, formula_char_dict_path=None, formula_batch_num=1, layout_model_dir=None, layout_dict_path=None, layout_score_threshold=0.5, layout_nms_threshold=0.5, kie_algorithm='LayoutXLM', ser_model_dir=None, re_model_dir=None, use_visual_backbone=True, ser_dict_path='../train_data/XFUND/class_list_xfun.txt', ocr_order_method=None, mode='structure', image_orientation=False, layout=True, table=True, formula=False, ocr=True, recovery=False, recovery_to_markdown=False, use_pdf2docx_api=False, invert=False, binarize=False, alphacolor=(255, 255, 255), lang='es', det=True, rec=True, type='ocr', savefile=False, ocr_version='PP-OCRv4', structure_version='PP-StructureV2')\n",
      "[2024/12/11 22:24:14] ppocr DEBUG: dt_boxes num : 2, elapsed : 0.20906639099121094\n",
      "[2024/12/11 22:24:14] ppocr DEBUG: cls num  : 2, elapsed : 0.0800166130065918\n",
      "[2024/12/11 22:24:15] ppocr DEBUG: rec_res num  : 2, elapsed : 0.22160792350769043\n",
      "Texto reconocido: 0166985\n",
      "Texto reconocido: 3\n",
      "Zona de interés procesada guardada en: adjusted_roi_gray_0.jpg\n",
      "Resultados: 01669853\n"
     ]
    }
   ],
   "source": [
    "import os\n",
    "import cv2\n",
    "import numpy as np\n",
    "import re\n",
    "from paddleocr import PaddleOCR\n",
    "\n",
    "# Definir la ruta del modelo\n",
    "model_path = os.path.join('runs', 'segment', 'train', 'weights', 'best.pt')\n",
    "\n",
    "# Cargar el modelo entrenado\n",
    "model = YOLO(model_path)\n",
    "\n",
    "# Cargar una imagen\n",
    "image_path = r'data\\images\\test\\id_319_value_1669_853.jpg'\n",
    "image = cv2.imread(image_path)\n",
    "\n",
    "# Verificar que la imagen se haya cargado correctamente\n",
    "if image is None:\n",
    "    raise FileNotFoundError(f\"No se pudo cargar la imagen en la ruta: {image_path}\")\n",
    "\n",
    "# Realizar la predicción con YOLO\n",
    "results = model(image, conf=0.5)  # 'conf' es el umbral de confianza\n",
    "\n",
    "# Inicializar el modelo PaddleOCR\n",
    "ocr = PaddleOCR(use_angle_cls=True, lang='es')\n",
    "\n",
    "# Cadena para concatenar los resultados reconocidos\n",
    "numerical_results = \"\"\n",
    "\n",
    "# Procesar cada resultado para recortar la zona de interés\n",
    "for result in results:\n",
    "    # Obtener las máscaras (zonas de interés)\n",
    "    masks = result.masks\n",
    "\n",
    "    if masks:\n",
    "        for i, mask in enumerate(masks.data):\n",
    "            # Convertir la máscara a una imagen binaria\n",
    "            mask = mask.cpu().numpy()\n",
    "            mask_binary = (mask * 255).astype(np.uint8)\n",
    "\n",
    "            # Redimensionar la máscara para que coincida con el tamaño de la imagen original\n",
    "            mask_resized = cv2.resize(mask_binary, (image.shape[1], image.shape[0]))\n",
    "\n",
    "            # Crear una máscara de 3 canales para aplicarla a la imagen original\n",
    "            mask_3channel = cv2.merge([mask_resized, mask_resized, mask_resized])\n",
    "\n",
    "            # Aplicar la máscara a la imagen original para extraer la región de interés exacta\n",
    "            masked_image = cv2.bitwise_and(image, mask_3channel)\n",
    "\n",
    "            # Encontrar el bounding box de la región cubierta por la máscara\n",
    "            x, y, w, h = cv2.boundingRect(mask_resized)\n",
    "\n",
    "            # Recortar la región de interés de la imagen original usando el bounding box\n",
    "            roi = masked_image[y:y+h, x:x+w]\n",
    "\n",
    "            # Convertir a escala de grises\n",
    "            gray = cv2.cvtColor(roi, cv2.COLOR_BGR2GRAY)\n",
    "\n",
    "            # Ajustar el contraste y brillo de la imagen en escala de grises\n",
    "            alpha = 1.25  # Factor de contraste (1.0 significa sin cambio)\n",
    "            beta = 2  # Valor de brillo (0 significa sin cambio)\n",
    "\n",
    "            # Aplicar el ajuste de contraste y brillo\n",
    "            adjusted_gray = cv2.convertScaleAbs(gray, alpha=alpha, beta=beta)\n",
    "\n",
    "            # Realizar la OCR en la imagen ajustada\n",
    "            ocr_result = ocr.ocr(adjusted_gray, cls=True)\n",
    "            for line in ocr_result[0]:\n",
    "                text = line[1][0]  # Obtener el texto reconocido\n",
    "                print(f\"Texto reconocido: {text}\")\n",
    "                numerical_results += text\n",
    "\n",
    "            # Guardar la imagen ajustada\n",
    "            image_path2 = f'image{i}.jpg'\n",
    "            roi_path = f'roi{i}.jpg'\n",
    "            adjusted_roi_path = f'adjusted_roi_gray_{i}.jpg'\n",
    "            cv2.imwrite(adjusted_roi_path, adjusted_gray)\n",
    "            cv2.imwrite(roi_path, roi)\n",
    "            cv2.imwrite(image_path2, image)\n",
    "            print(f\"Zona de interés procesada guardada en: {adjusted_roi_path}\")\n",
    "\n",
    "# Imprimir los resultados concatenados\n",
    "print(\"Resultados:\", numerical_results.strip())\n"
   ]
  },
  {
   "cell_type": "code",
   "execution_count": null,
   "metadata": {},
   "outputs": [],
   "source": [
    "import os\n",
    "import cv2\n",
    "import numpy as np\n",
    "import re\n",
    "from paddleocr import PaddleOCR\n",
    "from tqdm import tqdm \n",
    "\n",
    "# Definir la ruta del modelo\n",
    "model_path = os.path.join('runs', 'segment', 'train', 'weights', 'best.pt')\n",
    "\n",
    "# Cargar el modelo entrenado\n",
    "model = YOLO(model_path)\n",
    "\n",
    "# Directorio de imágenes\n",
    "image_dir = os.path.join('data', 'images', 'test')\n",
    "\n",
    "# Directorio para guardar las imágenes recortadas\n",
    "cropped_dir = os.path.join('data', 'images', 'cropped')\n",
    "os.makedirs(cropped_dir, exist_ok=True)\n",
    "\n",
    "# Inicializar el modelo PaddleOCR con parámetros ajustados\n",
    "ocr = PaddleOCR(\n",
    "    use_angle_cls=True, \n",
    "    lang='en',\n",
    ")\n",
    "\n",
    "# Ruta del archivo de resultados\n",
    "result_file = \"resultados 20AMP EN TODO PRUEBA.txt\"\n",
    "\n",
    "# Limpiar o crear el archivo de resultados\n",
    "with open(result_file, \"w\") as f:\n",
    "    f.write(\"Resultados de OCR:\\n\\n\")\n",
    "\n",
    "def extract_value_from_filename(filename):\n",
    "    \"\"\"Extrae el valor compuesto por las dos partes después de 'value_' en el nombre del archivo.\"\"\"\n",
    "    match = re.search(r'value_(\\d+)_(\\d+)', filename)\n",
    "    if match:\n",
    "        return match.group(1) + match.group(2)  # Combinar ambos grupos como un único número\n",
    "    return None\n",
    "\n",
    "def calculate_match_percentage(ocr_result, expected_value):\n",
    "    \"\"\"Calcula el porcentaje de coincidencia basado en caracteres correctos detectados, sin importar el orden.\"\"\"\n",
    "    ocr_chars = list(ocr_result)\n",
    "    expected_chars = list(expected_value)\n",
    "    correct_chars = 0\n",
    "\n",
    "    # Contar los caracteres correctos (sin importar el orden)\n",
    "    for char in expected_chars:\n",
    "        if char in ocr_chars:\n",
    "            correct_chars += 1\n",
    "            ocr_chars.remove(char)\n",
    "\n",
    "    total_chars = len(expected_chars)\n",
    "    if total_chars == 0:\n",
    "        return 0\n",
    "\n",
    "    match_percentage = (correct_chars / total_chars) * 100\n",
    "    return match_percentage\n",
    "\n",
    "# Variables para calcular el porcentaje global\n",
    "total_images = 0\n",
    "successful_matches = 0\n",
    "deficient_matches = 0\n",
    "none_type_errors = 0\n",
    "\n",
    "# Factor de ampliación del recorte\n",
    "expansion_factor = 0.2\n",
    "\n",
    "# Procesar las imágenes en el directorio\n",
    "for filename in tqdm(os.listdir(image_dir)):\n",
    "    image_path = os.path.join(image_dir, filename)\n",
    "\n",
    "    # Verificar que sea una imagen\n",
    "    if not filename.lower().endswith(('.png', '.jpg', '.jpeg')):\n",
    "        continue\n",
    "\n",
    "    try:\n",
    "        # Cargar la imagen\n",
    "        image = cv2.imread(image_path)\n",
    "        if image is None:\n",
    "            print(f\"No se pudo cargar la imagen: {image_path}\")\n",
    "            none_type_errors += 1\n",
    "            continue\n",
    "\n",
    "        # Obtener el valor esperado del nombre del archivo\n",
    "        expected_value = extract_value_from_filename(filename)\n",
    "        if expected_value is None:\n",
    "            print(f\"No se encontró un valor esperado en el archivo: {filename}\")\n",
    "            none_type_errors += 1\n",
    "            continue\n",
    "\n",
    "        # Realizar la predicción con YOLO\n",
    "        results = model(image, conf=0.5)\n",
    "        numerical_results = \"\"\n",
    "\n",
    "        # Procesar cada resultado para recortar la zona de interés\n",
    "        for result in results:\n",
    "            masks = result.masks\n",
    "            if masks:\n",
    "                for i, mask in enumerate(masks.data):\n",
    "                    mask = mask.cpu().numpy()\n",
    "                    mask_binary = (mask * 255).astype(np.uint8)\n",
    "                    mask_resized = cv2.resize(mask_binary, (image.shape[1], image.shape[0]))\n",
    "                    mask_3channel = cv2.merge([mask_resized, mask_resized, mask_resized])\n",
    "                    masked_image = cv2.bitwise_and(image, mask_3channel)\n",
    "\n",
    "                    # Obtener el rectángulo delimitador y expandirlo\n",
    "                    x, y, w, h = cv2.boundingRect(mask_resized)\n",
    "                    \n",
    "                    # Calcular el nuevo recorte con el factor de ampliación\n",
    "                    x_exp = max(int(x - w * expansion_factor), 0)\n",
    "                    y_exp = max(int(y - h * expansion_factor), 0)\n",
    "                    w_exp = min(int(w + w * 2 * expansion_factor), image.shape[1] - x_exp)\n",
    "                    h_exp = min(int(h + h * 2 * expansion_factor), image.shape[0] - y_exp)\n",
    "                    \n",
    "                    roi = image[y_exp:y_exp + h_exp, x_exp:x_exp + w_exp]\n",
    "\n",
    "                    # Guardar la imagen recortada\n",
    "                    cropped_filename = f\"{os.path.splitext(filename)[0]}_mask{i}.png\"\n",
    "                    cropped_path = os.path.join(cropped_dir, cropped_filename)\n",
    "\n",
    "                    # Realizar OCR\n",
    "                    ocr_result = ocr.ocr(roi)\n",
    "                    for line in ocr_result[0]:\n",
    "                        text = line[1][0]\n",
    "                        numerical_results += text\n",
    "\n",
    "                    # Limpiar el resultado OCR\n",
    "                    ocr_cleaned = re.sub(r'\\D', '', numerical_results)  # Eliminar caracteres no numéricos\n",
    "\n",
    "                    # Añadir el resultado OCR en un cuadro de texto en la imagen\n",
    "                    if ocr_cleaned:\n",
    "                        font = cv2.FONT_HERSHEY_SIMPLEX\n",
    "                        font_scale = 0.5\n",
    "                        font_color = (0, 255, 0)  # Verde\n",
    "                        thickness = 2\n",
    "                        text_position = (10, 30)  # Coordenadas para el texto\n",
    "\n",
    "                        # Añadir un rectángulo para el fondo del texto\n",
    "                        (text_width, text_height), baseline = cv2.getTextSize(ocr_cleaned, font, font_scale, thickness)\n",
    "                        cv2.rectangle(roi, (text_position[0] - 5, text_position[1] - text_height - 5),\n",
    "                                      (text_position[0] + text_width + 5, text_position[1] + baseline + 5),\n",
    "                                      (0, 0, 0), cv2.FILLED)\n",
    "\n",
    "                        # Poner el texto en la imagen\n",
    "                        cv2.putText(roi, ocr_cleaned, text_position, font, font_scale, font_color, thickness)\n",
    "\n",
    "                    # Guardar la imagen recortada con el texto\n",
    "                    cv2.imwrite(cropped_path, roi)\n",
    "\n",
    "        # Calcular el porcentaje de coincidencia\n",
    "        match_percentage = calculate_match_percentage(ocr_cleaned, expected_value)\n",
    "\n",
    "        # Actualizar contadores globales\n",
    "        total_images += 1\n",
    "        if match_percentage >= 90 :\n",
    "            successful_matches += 1\n",
    "        else:\n",
    "            deficient_matches += 1\n",
    "\n",
    "        # Guardar el resultado en el archivo\n",
    "        with open(result_file, \"a\") as f:\n",
    "            f.write(f\"Archivo: {filename}\\n\")\n",
    "            f.write(f\"Valor esperado: {expected_value}\\n\")\n",
    "            f.write(f\"Valor OCR: {numerical_results}\\n\")\n",
    "            f.write(f\"Porcentaje de coincidencia: {match_percentage:.2f}%\\n\\n\")\n",
    "\n",
    "    except Exception as e:\n",
    "        none_type_errors += 1\n",
    "        with open(result_file, \"a\") as f:\n",
    "            f.write(f\"Error procesando la imagen {filename}: {e}\\n\\n\")\n",
    "\n",
    "# Guardar el total de imágenes procesadas\n",
    "with open(result_file, \"a\") as f:\n",
    "    f.write(f\"\\nTotal de imágenes procesadas: {total_images}\\n\")\n",
    "    f.write(f\"Cantidad de lecturas correctas: {successful_matches}\\n\")\n",
    "    f.write(f\"Cantidad de lecturas deficientes: {deficient_matches}\\n\")\n",
    "    f.write(f\"Cantidad de errores NoneType: {none_type_errors}\\n\")"
   ]
  },
  {
   "cell_type": "code",
   "execution_count": null,
   "metadata": {},
   "outputs": [],
   "source": [
    "import os\n",
    "import cv2\n",
    "import numpy as np\n",
    "import re\n",
    "from paddleocr import PaddleOCR\n",
    "from tqdm import tqdm  # Para mostrar progreso\n",
    "\n",
    "# Definir la ruta del modelo\n",
    "model_path = os.path.join('runs', 'segment', 'train', 'weights', 'best.pt')\n",
    "\n",
    "# Cargar el modelo entrenado\n",
    "model = YOLO(model_path)\n",
    "\n",
    "# Directorio de imágenes\n",
    "image_dir = os.path.join('data', 'images', 'test')\n",
    "\n",
    "# Directorio para guardar las imágenes recortadas y filtradas\n",
    "cropped_dir = os.path.join('data', 'images', 'cropped')\n",
    "filtered_dir = os.path.join('data', 'images', 'cropper_filter')\n",
    "os.makedirs(cropped_dir, exist_ok=True)\n",
    "os.makedirs(filtered_dir, exist_ok=True)\n",
    "\n",
    "# Inicializar el modelo PaddleOCR con parámetros ajustados\n",
    "ocr = PaddleOCR(\n",
    "    use_angle_cls=True, \n",
    "    lang='en',\n",
    ")\n",
    "\n",
    "# Ruta del archivo de resultados\n",
    "result_file = \"resultados_20AMP_EN_CLS_F_TODO.txt\"\n",
    "\n",
    "# Limpiar o crear el archivo de resultados\n",
    "with open(result_file, \"w\") as f:\n",
    "    f.write(\"Resultados de OCR:\\n\\n\")\n",
    "\n",
    "def extract_value_from_filename(filename):\n",
    "    \"\"\"Extrae el valor compuesto por las dos partes después de 'value_' en el nombre del archivo.\"\"\"\n",
    "    match = re.search(r'value_(\\d+)_(\\d+)', filename)\n",
    "    if match:\n",
    "        return match.group(1) + match.group(2)  # Combinar ambos grupos como un único número\n",
    "    return None\n",
    "\n",
    "def calculate_match_percentage(ocr_result, expected_value):\n",
    "    \"\"\"Calcula el porcentaje de coincidencia basado en caracteres correctos detectados, sin importar el orden.\"\"\"\n",
    "    ocr_chars = list(ocr_result)\n",
    "    expected_chars = list(expected_value)\n",
    "    correct_chars = 0\n",
    "\n",
    "    # Contar los caracteres correctos (sin importar el orden)\n",
    "    for char in expected_chars:\n",
    "        if char in ocr_chars:\n",
    "            correct_chars += 1\n",
    "            ocr_chars.remove(char)\n",
    "\n",
    "    total_chars = len(expected_chars)\n",
    "    if total_chars == 0:\n",
    "        return 0\n",
    "\n",
    "    match_percentage = (correct_chars / total_chars) * 100\n",
    "    return match_percentage\n",
    "\n",
    "# Variables para calcular el porcentaje global\n",
    "total_images = 0\n",
    "successful_matches = 0\n",
    "deficient_matches = 0\n",
    "none_type_errors = 0\n",
    "\n",
    "# Factor de ampliación del recorte\n",
    "expansion_factor = 0.2\n",
    "\n",
    "# Procesar las imágenes en el directorio\n",
    "for filename in tqdm(os.listdir(image_dir)):\n",
    "    image_path = os.path.join(image_dir, filename)\n",
    "\n",
    "    # Verificar que sea una imagen\n",
    "    if not filename.lower().endswith(('.png', '.jpg', '.jpeg')):\n",
    "        continue\n",
    "\n",
    "    try:\n",
    "        # Cargar la imagen\n",
    "        image = cv2.imread(image_path)\n",
    "        if image is None:\n",
    "            print(f\"No se pudo cargar la imagen: {image_path}\")\n",
    "            none_type_errors += 1\n",
    "            continue\n",
    "\n",
    "        # Obtener el valor esperado del nombre del archivo\n",
    "        expected_value = extract_value_from_filename(filename)\n",
    "        if expected_value is None:\n",
    "            print(f\"No se encontró un valor esperado en el archivo: {filename}\")\n",
    "            none_type_errors += 1\n",
    "            continue\n",
    "\n",
    "        # Realizar la predicción con YOLO\n",
    "        results = model(image, conf=0.5)\n",
    "        numerical_results = \"\"\n",
    "\n",
    "        # Procesar cada resultado para recortar la zona de interés\n",
    "        for result in results:\n",
    "            masks = result.masks\n",
    "            if masks:\n",
    "                for i, mask in enumerate(masks.data):\n",
    "                    mask = mask.cpu().numpy()\n",
    "                    mask_binary = (mask * 255).astype(np.uint8)\n",
    "                    mask_resized = cv2.resize(mask_binary, (image.shape[1], image.shape[0]))\n",
    "                    mask_3channel = cv2.merge([mask_resized, mask_resized, mask_resized])\n",
    "                    masked_image = cv2.bitwise_and(image, mask_3channel)\n",
    "\n",
    "                    # Obtener el rectángulo delimitador y expandirlo\n",
    "                    x, y, w, h = cv2.boundingRect(mask_resized)\n",
    "                    \n",
    "                    # Calcular el nuevo recorte con el factor de ampliación\n",
    "                    x_exp = max(int(x - w * expansion_factor), 0)\n",
    "                    y_exp = max(int(y - h * expansion_factor), 0)\n",
    "                    w_exp = min(int(w + w * 2 * expansion_factor), image.shape[1] - x_exp)\n",
    "                    h_exp = min(int(h + h * 2 * expansion_factor), image.shape[0] - y_exp)\n",
    "                    \n",
    "                    roi = image[y_exp:y_exp + h_exp, x_exp:x_exp + w_exp]\n",
    "\n",
    "                    # Aplicar el filtro de contraste (1.25) y brillo (2)\n",
    "                    contrast_alpha = 1.25  # Aumentar contraste\n",
    "                    brightness_beta = 2   # Aumentar brillo\n",
    "                    roi_filtered = cv2.convertScaleAbs(roi, alpha=contrast_alpha, beta=brightness_beta)\n",
    "\n",
    "                    # Guardar la imagen filtrada\n",
    "                    filtered_filename = f\"{os.path.splitext(filename)[0]}_mask{i}_filtered.png\"\n",
    "                    filtered_path = os.path.join(filtered_dir, filtered_filename)\n",
    "                    cv2.imwrite(filtered_path, roi_filtered)\n",
    "\n",
    "                    # Realizar OCR\n",
    "                    ocr_result = ocr.ocr(roi_filtered)\n",
    "                    for line in ocr_result[0]:\n",
    "                        text = line[1][0]\n",
    "                        numerical_results += text\n",
    "\n",
    "                    # Limpiar el resultado OCR\n",
    "                    ocr_cleaned = re.sub(r'\\D', '', numerical_results)  # Eliminar caracteres no numéricos\n",
    "\n",
    "                    # Añadir el resultado OCR en un cuadro de texto en la imagen\n",
    "                    if ocr_cleaned:\n",
    "                        font = cv2.FONT_HERSHEY_SIMPLEX\n",
    "                        font_scale = 0.5\n",
    "                        font_color = (0, 255, 0)  # Verde\n",
    "                        thickness = 2\n",
    "                        text_position = (10, 30)  # Coordenadas para el texto\n",
    "\n",
    "                        # Añadir un rectángulo para el fondo del texto\n",
    "                        (text_width, text_height), baseline = cv2.getTextSize(ocr_cleaned, font, font_scale, thickness)\n",
    "                        cv2.rectangle(roi_filtered, (text_position[0] - 5, text_position[1] - text_height - 5),\n",
    "                                      (text_position[0] + text_width + 5, text_position[1] + baseline + 5),\n",
    "                                      (0, 0, 0), cv2.FILLED)\n",
    "\n",
    "                        # Poner el texto en la imagen\n",
    "                        cv2.putText(roi_filtered, ocr_cleaned, text_position, font, font_scale, font_color, thickness)\n",
    "\n",
    "                    # Guardar la imagen recortada con el texto\n",
    "                    cropped_filename = f\"{os.path.splitext(filename)[0]}_mask{i}.png\"\n",
    "                    cropped_path = os.path.join(cropped_dir, cropped_filename)\n",
    "                    cv2.imwrite(cropped_path, roi_filtered)\n",
    "\n",
    "        # Calcular el porcentaje de coincidencia\n",
    "        match_percentage = calculate_match_percentage(ocr_cleaned, expected_value)\n",
    "\n",
    "        # Actualizar contadores globales\n",
    "        total_images += 1\n",
    "        if match_percentage >= 90 :\n",
    "            successful_matches += 1\n",
    "        else:\n",
    "            deficient_matches += 1\n",
    "\n",
    "        # Guardar el resultado en el archivo\n",
    "        with open(result_file, \"a\") as f:\n",
    "            f.write(f\"Archivo: {filename}\\n\")\n",
    "            f.write(f\"Valor esperado: {expected_value}\\n\")\n",
    "            f.write(f\"Valor OCR: {ocr_cleaned}\\n\")\n",
    "            f.write(f\"Porcentaje de coincidencia: {match_percentage:.2f}%\\n\\n\")\n",
    "\n",
    "    except Exception as e:\n",
    "        none_type_errors += 1\n",
    "        with open(result_file, \"a\") as f:\n",
    "            f.write(f\"Error procesando la imagen {filename}: {e}\\n\\n\")\n",
    "\n",
    "# Guardar el total de imágenes procesadas\n",
    "with open(result_file, \"a\") as f:\n",
    "    f.write(f\"\\nTotal de imágenes procesadas: {total_images}\\n\")\n",
    "    f.write(f\"Cantidad de lecturas correctas: {successful_matches}\\n\")\n",
    "    f.write(f\"Cantidad de lecturas deficientes: {deficient_matches}\\n\")\n",
    "    f.write(f\"Cantidad de errores NoneType: {none_type_errors}\\n\")\n"
   ]
  },
  {
   "cell_type": "code",
   "execution_count": null,
   "metadata": {},
   "outputs": [],
   "source": [
    "import os\n",
    "import cv2\n",
    "import numpy as np\n",
    "import re\n",
    "from paddleocr import PaddleOCR\n",
    "from tqdm import tqdm\n",
    "from ultralytics import YOLO  # Asegúrate de que YOLO esté correctamente importado\n",
    "\n",
    "# Definir la ruta del modelo\n",
    "model_path = os.path.join('runs', 'segment', 'train', 'weights', 'best.pt')\n",
    "\n",
    "# Cargar el modelo entrenado\n",
    "model = YOLO(model_path)\n",
    "\n",
    "# Directorio de imágenes\n",
    "image_dir = os.path.join('data', 'images', 'test')\n",
    "\n",
    "# Directorio para guardar las imágenes recortadas\n",
    "cropped_dir = os.path.join('data', 'images', 'cropped')\n",
    "os.makedirs(cropped_dir, exist_ok=True)\n",
    "\n",
    "# Inicializar el modelo PaddleOCR con parámetros ajustados\n",
    "ocr = PaddleOCR(\n",
    "    use_angle_cls=True, \n",
    "    lang='en',\n",
    "    drop_score=0.8\n",
    ")\n",
    "\n",
    "# Ruta del archivo de resultados\n",
    "result_file = \"resultados 90AMP EN TODO FILTRO v2.txt\"\n",
    "\n",
    "# Limpiar o crear el archivo de resultados\n",
    "with open(result_file, \"w\") as f:\n",
    "    f.write(\"Resultados de OCR:\\n\\n\")\n",
    "\n",
    "def extract_value_from_filename(filename):\n",
    "    \"\"\"Extrae el valor compuesto por las dos partes después de 'value_' en el nombre del archivo.\"\"\"\n",
    "    match = re.search(r'value_(\\d+)_(\\d+)', filename)\n",
    "    if match:\n",
    "        return match.group(1) + match.group(2)  # Combinar ambos grupos como un único número\n",
    "    return None\n",
    "\n",
    "def calculate_match_percentage(ocr_result, expected_value):\n",
    "    \"\"\"Calcula el porcentaje de coincidencia basado en caracteres correctos detectados, sin importar el orden.\"\"\"\n",
    "    ocr_chars = list(ocr_result)\n",
    "    expected_chars = list(expected_value)\n",
    "    correct_chars = 0\n",
    "\n",
    "    # Contar los caracteres correctos (sin importar el orden)\n",
    "    for char in expected_chars:\n",
    "        if char in ocr_chars:\n",
    "            correct_chars += 1\n",
    "            ocr_chars.remove(char)\n",
    "\n",
    "    total_chars = len(expected_chars)\n",
    "    if total_chars == 0:\n",
    "        return 0\n",
    "\n",
    "    match_percentage = (correct_chars / total_chars) * 100\n",
    "    return match_percentage\n",
    "\n",
    "# Variables para calcular el porcentaje global\n",
    "total_images = 0\n",
    "successful_matches = 0\n",
    "deficient_matches = 0\n",
    "none_type_errors = 0\n",
    "\n",
    "# Factor de ampliación del recorte\n",
    "expansion_factor = 0.1\n",
    "\n",
    "# Procesar las imágenes en el directorio\n",
    "for filename in tqdm(os.listdir(image_dir)):\n",
    "    image_path = os.path.join(image_dir, filename)\n",
    "\n",
    "    # Verificar que sea una imagen\n",
    "    if not filename.lower().endswith(('.png', '.jpg', '.jpeg')):\n",
    "        continue\n",
    "\n",
    "    try:\n",
    "        # Cargar la imagen\n",
    "        image = cv2.imread(image_path)\n",
    "        if image is None:\n",
    "            print(f\"No se pudo cargar la imagen: {image_path}\")\n",
    "            none_type_errors += 1\n",
    "            continue\n",
    "\n",
    "        # Obtener el valor esperado del nombre del archivo\n",
    "        expected_value = extract_value_from_filename(filename)\n",
    "        if expected_value is None:\n",
    "            print(f\"No se encontró un valor esperado en el archivo: {filename}\")\n",
    "            none_type_errors += 1\n",
    "            continue\n",
    "\n",
    "        # Realizar la predicción con YOLO\n",
    "        results = model(image, conf=0.5)\n",
    "        \n",
    "        # Reiniciar valores para cada imagen\n",
    "        numerical_results = \"\"\n",
    "        ocr_cleaned = \"\"\n",
    "\n",
    "        # Procesar cada resultado para recortar la zona de interés\n",
    "        for result in results:\n",
    "            masks = result.masks\n",
    "            if masks:\n",
    "                for i, mask in enumerate(masks.data):\n",
    "                    mask = mask.cpu().numpy()\n",
    "                    mask_binary = (mask * 255).astype(np.uint8)\n",
    "                    mask_resized = cv2.resize(mask_binary, (image.shape[1], image.shape[0]))\n",
    "                    mask_3channel = cv2.merge([mask_resized, mask_resized, mask_resized])\n",
    "                    masked_image = cv2.bitwise_and(image, mask_3channel)\n",
    "\n",
    "                    # Obtener el rectángulo delimitador y expandirlo\n",
    "                    x, y, w, h = cv2.boundingRect(mask_resized)\n",
    "                    \n",
    "                    # Calcular el nuevo recorte con el factor de ampliación\n",
    "                    x_exp = max(int(x - w * expansion_factor), 0)\n",
    "                    y_exp = max(int(y - h * expansion_factor), 0)\n",
    "                    w_exp = min(int(w + w * 2 * expansion_factor), image.shape[1] - x_exp)\n",
    "                    h_exp = min(int(h + h * 2 * expansion_factor), image.shape[0] - y_exp)\n",
    "                    \n",
    "                    roi = image[y_exp:y_exp + h_exp, x_exp:x_exp + w_exp]\n",
    "\n",
    "                    # Realizar OCR\n",
    "                    ocr_result = ocr.ocr(roi)\n",
    "                    for line in ocr_result[0]:\n",
    "                        text = line[1][0]  # El valor OCR detectado\n",
    "                        numerical_results += text\n",
    "\n",
    "                        # Escribir las coordenadas, el valor OCR y el score en el archivo de resultados\n",
    "                        with open(result_file, \"a\") as f:\n",
    "                            coords = line[0]\n",
    "                            score = line[1][1]\n",
    "                            f.write(f\"Coordenadas: {coords} - Valor OCR: {text} - Score: {score:.2f}\\n\")\n",
    "\n",
    "                    # Limpiar el resultado OCR\n",
    "                    ocr_cleaned = re.sub(r'\\D', '', numerical_results)  # Eliminar caracteres no numéricos\n",
    "\n",
    "                    # Guardar la imagen recortada\n",
    "                    cropped_filename = f\"{os.path.splitext(filename)[0]}_mask{i}.png\"\n",
    "                    cropped_path = os.path.join(cropped_dir, cropped_filename)\n",
    "                    cv2.imwrite(cropped_path, roi)\n",
    "\n",
    "        # Calcular el porcentaje de coincidencia\n",
    "        match_percentage = calculate_match_percentage(ocr_cleaned, expected_value)\n",
    "\n",
    "        # Actualizar contadores globales\n",
    "        total_images += 1\n",
    "        if match_percentage >= 90:\n",
    "            successful_matches += 1\n",
    "        else:\n",
    "            deficient_matches += 1\n",
    "\n",
    "        # Guardar el resultado específico de esta imagen\n",
    "        with open(result_file, \"a\") as f:\n",
    "            f.write(f\"Archivo: {filename}\\n\")\n",
    "            f.write(f\"Valor esperado: {expected_value}\\n\")\n",
    "            f.write(f\"Valor OCR: {ocr_cleaned}\\n\")\n",
    "            f.write(f\"Porcentaje de coincidencia: {match_percentage:.2f}%\\n\\n\")\n",
    "\n",
    "    except Exception as e:\n",
    "        none_type_errors += 1\n",
    "        with open(result_file, \"a\") as f:\n",
    "            f.write(f\"Error procesando la imagen {filename}: {e}\\n\\n\")\n",
    "\n",
    "# Guardar el total de imágenes procesadas\n",
    "with open(result_file, \"a\") as f:\n",
    "    f.write(f\"\\nTotal de imágenes procesadas: {total_images}\\n\")\n",
    "    f.write(f\"Cantidad de lecturas correctas: {successful_matches}\\n\")\n",
    "    f.write(f\"Cantidad de lecturas deficientes: {deficient_matches}\\n\")\n",
    "    f.write(f\"Cantidad de errores NoneType: {none_type_errors}\\n\")\n"
   ]
  }
 ],
 "metadata": {
  "accelerator": "GPU",
  "colab": {
   "gpuType": "T4",
   "provenance": []
  },
  "kernelspec": {
   "display_name": "Python 3",
   "name": "python3"
  },
  "language_info": {
   "codemirror_mode": {
    "name": "ipython",
    "version": 3
   },
   "file_extension": ".py",
   "mimetype": "text/x-python",
   "name": "python",
   "nbconvert_exporter": "python",
   "pygments_lexer": "ipython3",
   "version": "3.12.6"
  }
 },
 "nbformat": 4,
 "nbformat_minor": 0
}
